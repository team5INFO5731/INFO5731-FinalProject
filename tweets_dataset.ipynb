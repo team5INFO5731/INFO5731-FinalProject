{
  "nbformat": 4,
  "nbformat_minor": 0,
  "metadata": {
    "colab": {
      "name": "tweets_dataset.ipynb",
      "provenance": [],
      "collapsed_sections": []
    },
    "kernelspec": {
      "display_name": "Python 3",
      "name": "python3"
    }
  },
  "cells": [
    {
      "cell_type": "markdown",
      "metadata": {
        "id": "bP7DXGEriEqu"
      },
      "source": [
        ""
      ]
    },
    {
      "cell_type": "code",
      "metadata": {
        "id": "in1jooHWiDOD"
      },
      "source": [
        "# packages to store and manipulate data\n",
        "import pandas as pd\n",
        "import numpy as np\n",
        "\n",
        "# plotting packages\n",
        "import matplotlib.pyplot as plt\n",
        "import seaborn as sns\n",
        "\n",
        "# model building package\n",
        "import sklearn\n",
        "\n",
        "# package to clean text\n",
        "import re"
      ],
      "execution_count": null,
      "outputs": []
    },
    {
      "cell_type": "markdown",
      "metadata": {
        "id": "t5TzS-oVnCeZ"
      },
      "source": [
        "#Twitter DataSet"
      ]
    },
    {
      "cell_type": "code",
      "metadata": {
        "id": "Wo1g24qNiI2V"
      },
      "source": [
        "column_name = ['tweets','existence','existence_confidence']\n",
        "tweets_dataset = pd.read_csv('/content/tweets.csv',sep=\",\", encoding='cp1252',names=column_name)"
      ],
      "execution_count": null,
      "outputs": []
    },
    {
      "cell_type": "code",
      "metadata": {
        "colab": {
          "base_uri": "https://localhost:8080/",
          "height": 195
        },
        "id": "NTu0cXUnnTDf",
        "outputId": "07c243a5-1911-4021-fc29-d54ccee106a9"
      },
      "source": [
        "tweets_dataset.head(5)"
      ],
      "execution_count": null,
      "outputs": [
        {
          "output_type": "execute_result",
          "data": {
            "text/html": [
              "<div>\n",
              "<style scoped>\n",
              "    .dataframe tbody tr th:only-of-type {\n",
              "        vertical-align: middle;\n",
              "    }\n",
              "\n",
              "    .dataframe tbody tr th {\n",
              "        vertical-align: top;\n",
              "    }\n",
              "\n",
              "    .dataframe thead th {\n",
              "        text-align: right;\n",
              "    }\n",
              "</style>\n",
              "<table border=\"1\" class=\"dataframe\">\n",
              "  <thead>\n",
              "    <tr style=\"text-align: right;\">\n",
              "      <th></th>\n",
              "      <th>tweets</th>\n",
              "      <th>existence</th>\n",
              "      <th>existence_confidence</th>\n",
              "    </tr>\n",
              "  </thead>\n",
              "  <tbody>\n",
              "    <tr>\n",
              "      <th>0</th>\n",
              "      <td>Global warming report urges governments to act...</td>\n",
              "      <td>Yes</td>\n",
              "      <td>1.0000</td>\n",
              "    </tr>\n",
              "    <tr>\n",
              "      <th>1</th>\n",
              "      <td>Fighting poverty and global warming in Africa ...</td>\n",
              "      <td>Yes</td>\n",
              "      <td>1.0000</td>\n",
              "    </tr>\n",
              "    <tr>\n",
              "      <th>2</th>\n",
              "      <td>Carbon offsets: How a Vatican forest failed to...</td>\n",
              "      <td>Yes</td>\n",
              "      <td>0.8786</td>\n",
              "    </tr>\n",
              "    <tr>\n",
              "      <th>3</th>\n",
              "      <td>Carbon offsets: How a Vatican forest failed to...</td>\n",
              "      <td>Yes</td>\n",
              "      <td>1.0000</td>\n",
              "    </tr>\n",
              "    <tr>\n",
              "      <th>4</th>\n",
              "      <td>URUGUAY: Tools Needed for Those Most Vulnerabl...</td>\n",
              "      <td>Yes</td>\n",
              "      <td>0.8087</td>\n",
              "    </tr>\n",
              "  </tbody>\n",
              "</table>\n",
              "</div>"
            ],
            "text/plain": [
              "                                              tweets  ... existence_confidence\n",
              "0  Global warming report urges governments to act...  ...               1.0000\n",
              "1  Fighting poverty and global warming in Africa ...  ...               1.0000\n",
              "2  Carbon offsets: How a Vatican forest failed to...  ...               0.8786\n",
              "3  Carbon offsets: How a Vatican forest failed to...  ...               1.0000\n",
              "4  URUGUAY: Tools Needed for Those Most Vulnerabl...  ...               0.8087\n",
              "\n",
              "[5 rows x 3 columns]"
            ]
          },
          "metadata": {
            "tags": []
          },
          "execution_count": 5
        }
      ]
    },
    {
      "cell_type": "code",
      "metadata": {
        "colab": {
          "base_uri": "https://localhost:8080/"
        },
        "id": "Vll-TeJcnhRv",
        "outputId": "8590dd8e-9e32-4e96-8b53-ff312936dd0a"
      },
      "source": [
        "tweets_dataset.info()"
      ],
      "execution_count": null,
      "outputs": [
        {
          "output_type": "stream",
          "text": [
            "<class 'pandas.core.frame.DataFrame'>\n",
            "RangeIndex: 999 entries, 0 to 998\n",
            "Data columns (total 3 columns):\n",
            " #   Column                Non-Null Count  Dtype  \n",
            "---  ------                --------------  -----  \n",
            " 0   tweets                999 non-null    object \n",
            " 1   existence             609 non-null    object \n",
            " 2   existence_confidence  996 non-null    float64\n",
            "dtypes: float64(1), object(2)\n",
            "memory usage: 23.5+ KB\n"
          ],
          "name": "stdout"
        }
      ]
    },
    {
      "cell_type": "code",
      "metadata": {
        "colab": {
          "base_uri": "https://localhost:8080/",
          "height": 284
        },
        "id": "cvHQ-AzwoFiL",
        "outputId": "cb7fe654-d831-42ca-c559-aaa469d8a927"
      },
      "source": [
        "tweets_dataset.describe()"
      ],
      "execution_count": null,
      "outputs": [
        {
          "output_type": "execute_result",
          "data": {
            "text/html": [
              "<div>\n",
              "<style scoped>\n",
              "    .dataframe tbody tr th:only-of-type {\n",
              "        vertical-align: middle;\n",
              "    }\n",
              "\n",
              "    .dataframe tbody tr th {\n",
              "        vertical-align: top;\n",
              "    }\n",
              "\n",
              "    .dataframe thead th {\n",
              "        text-align: right;\n",
              "    }\n",
              "</style>\n",
              "<table border=\"1\" class=\"dataframe\">\n",
              "  <thead>\n",
              "    <tr style=\"text-align: right;\">\n",
              "      <th></th>\n",
              "      <th>existence_confidence</th>\n",
              "    </tr>\n",
              "  </thead>\n",
              "  <tbody>\n",
              "    <tr>\n",
              "      <th>count</th>\n",
              "      <td>996.000000</td>\n",
              "    </tr>\n",
              "    <tr>\n",
              "      <th>mean</th>\n",
              "      <td>0.835480</td>\n",
              "    </tr>\n",
              "    <tr>\n",
              "      <th>std</th>\n",
              "      <td>0.164954</td>\n",
              "    </tr>\n",
              "    <tr>\n",
              "      <th>min</th>\n",
              "      <td>0.346700</td>\n",
              "    </tr>\n",
              "    <tr>\n",
              "      <th>25%</th>\n",
              "      <td>0.753000</td>\n",
              "    </tr>\n",
              "    <tr>\n",
              "      <th>50%</th>\n",
              "      <td>0.821550</td>\n",
              "    </tr>\n",
              "    <tr>\n",
              "      <th>75%</th>\n",
              "      <td>1.000000</td>\n",
              "    </tr>\n",
              "    <tr>\n",
              "      <th>max</th>\n",
              "      <td>1.000000</td>\n",
              "    </tr>\n",
              "  </tbody>\n",
              "</table>\n",
              "</div>"
            ],
            "text/plain": [
              "       existence_confidence\n",
              "count            996.000000\n",
              "mean               0.835480\n",
              "std                0.164954\n",
              "min                0.346700\n",
              "25%                0.753000\n",
              "50%                0.821550\n",
              "75%                1.000000\n",
              "max                1.000000"
            ]
          },
          "metadata": {
            "tags": []
          },
          "execution_count": 7
        }
      ]
    },
    {
      "cell_type": "markdown",
      "metadata": {
        "id": "v2yXJvpYpIH0"
      },
      "source": [
        "Analyze the Null values"
      ]
    },
    {
      "cell_type": "code",
      "metadata": {
        "colab": {
          "base_uri": "https://localhost:8080/"
        },
        "id": "6fZZeuJJoHIq",
        "outputId": "6ac544f1-5f2f-4bc3-b9c0-fab8a44dae2e"
      },
      "source": [
        "tweets_dataset.isnull().sum()"
      ],
      "execution_count": null,
      "outputs": [
        {
          "output_type": "execute_result",
          "data": {
            "text/plain": [
              "tweets                    0\n",
              "existence               390\n",
              "existence_confidence      3\n",
              "dtype: int64"
            ]
          },
          "metadata": {
            "tags": []
          },
          "execution_count": 8
        }
      ]
    },
    {
      "cell_type": "markdown",
      "metadata": {
        "id": "GVqdlVqGp8yB"
      },
      "source": [
        "Replace Null Values"
      ]
    },
    {
      "cell_type": "code",
      "metadata": {
        "id": "oIL_QtFVpM-e"
      },
      "source": [
        "tweets_dataset['existence'] = tweets_dataset['existence'].fillna(\"No\")\n",
        "tweets_dataset['existence_confidence'] = tweets_dataset['existence_confidence'].fillna(0.0)"
      ],
      "execution_count": null,
      "outputs": []
    },
    {
      "cell_type": "markdown",
      "metadata": {
        "id": "0zjkD_66p_Ol"
      },
      "source": [
        "Check the null values"
      ]
    },
    {
      "cell_type": "code",
      "metadata": {
        "colab": {
          "base_uri": "https://localhost:8080/"
        },
        "id": "c7gKSGhPpyGQ",
        "outputId": "c6b110d4-7ac5-4ef6-cfc6-c0fb9769dbfe"
      },
      "source": [
        "tweets_dataset.isnull().sum()"
      ],
      "execution_count": null,
      "outputs": [
        {
          "output_type": "execute_result",
          "data": {
            "text/plain": [
              "tweets                  0\n",
              "existence               0\n",
              "existence_confidence    0\n",
              "dtype: int64"
            ]
          },
          "metadata": {
            "tags": []
          },
          "execution_count": 10
        }
      ]
    },
    {
      "cell_type": "markdown",
      "metadata": {
        "id": "HRsUnnBSqFC8"
      },
      "source": [
        "Analyze the outliers"
      ]
    },
    {
      "cell_type": "code",
      "metadata": {
        "colab": {
          "base_uri": "https://localhost:8080/",
          "height": 238
        },
        "id": "c1K2LzJTpy9Q",
        "outputId": "55b657fa-fe90-46b9-a5e2-b31ead46b576"
      },
      "source": [
        "import matplotlib as mat\n",
        "%matplotlib inline\n",
        "tweets_dataset.plot(kind = 'box', subplots = True , layout = (4,4) , sharex = False , figsize = ( 20 , 16 ))\n",
        "mat.pyplot.show(block=False)"
      ],
      "execution_count": null,
      "outputs": [
        {
          "output_type": "display_data",
          "data": {
            "image/png": "[encoded data removed]",
            "text/plain": [
              "<Figure size 1440x1152 with 16 Axes>"
            ]
          },
          "metadata": {
            "tags": []
          }
        }
      ]
    },
    {
      "cell_type": "markdown",
      "metadata": {
        "id": "S6arDonTq7XT"
      },
      "source": [
        "**Find the Number of Retweets**"
      ]
    },
    {
      "cell_type": "code",
      "metadata": {
        "colab": {
          "base_uri": "https://localhost:8080/"
        },
        "id": "kMTk5EBXqrwi",
        "outputId": "7903c14c-7d8c-4a9b-d485-90fc4bdd6a8d"
      },
      "source": [
        "# make a new column to highlight retweets\n",
        "tweets_dataset['is_retweet'] = tweets_dataset['tweets'].apply(lambda x: x[:2]=='RT')\n",
        "tweets_dataset['is_retweet'].sum()  # number of retweets"
      ],
      "execution_count": null,
      "outputs": [
        {
          "output_type": "execute_result",
          "data": {
            "text/plain": [
              "101"
            ]
          },
          "metadata": {
            "tags": []
          },
          "execution_count": 12
        }
      ]
    },
    {
      "cell_type": "markdown",
      "metadata": {
        "id": "IutOq8SvrEZe"
      },
      "source": [
        "**Find the Number of Unique retweets**"
      ]
    },
    {
      "cell_type": "code",
      "metadata": {
        "colab": {
          "base_uri": "https://localhost:8080/"
        },
        "id": "hHaBcFJLq-gW",
        "outputId": "8934aace-cab2-44e1-9bb4-1e7cc2874422"
      },
      "source": [
        " # number of unique retweets\n",
        "tweets_dataset.loc[tweets_dataset['is_retweet']].tweets.unique().size"
      ],
      "execution_count": null,
      "outputs": [
        {
          "output_type": "execute_result",
          "data": {
            "text/plain": [
              "86"
            ]
          },
          "metadata": {
            "tags": []
          },
          "execution_count": 13
        }
      ]
    },
    {
      "cell_type": "markdown",
      "metadata": {
        "id": "58NPcqfNrXSZ"
      },
      "source": [
        "**Top Most repeated retweets**"
      ]
    },
    {
      "cell_type": "code",
      "metadata": {
        "colab": {
          "base_uri": "https://localhost:8080/",
          "height": 343
        },
        "id": "JHtAkXuJrHey",
        "outputId": "d8ab9223-e162-48e5-cd70-ca6a4ac58c18"
      },
      "source": [
        "tweets_dataset.groupby(['tweets']).size().reset_index(name='counts').sort_values('counts', ascending=False).head(10)"
      ],
      "execution_count": null,
      "outputs": [
        {
          "output_type": "execute_result",
          "data": {
            "text/html": [
              "<div>\n",
              "<style scoped>\n",
              "    .dataframe tbody tr th:only-of-type {\n",
              "        vertical-align: middle;\n",
              "    }\n",
              "\n",
              "    .dataframe tbody tr th {\n",
              "        vertical-align: top;\n",
              "    }\n",
              "\n",
              "    .dataframe thead th {\n",
              "        text-align: right;\n",
              "    }\n",
              "</style>\n",
              "<table border=\"1\" class=\"dataframe\">\n",
              "  <thead>\n",
              "    <tr style=\"text-align: right;\">\n",
              "      <th></th>\n",
              "      <th>tweets</th>\n",
              "      <th>counts</th>\n",
              "    </tr>\n",
              "  </thead>\n",
              "  <tbody>\n",
              "    <tr>\n",
              "      <th>663</th>\n",
              "      <td>Take Action @change: Help Protect Wildlife Hab...</td>\n",
              "      <td>14</td>\n",
              "    </tr>\n",
              "    <tr>\n",
              "      <th>237</th>\n",
              "      <td>Fight Climate Change From All Fronts: [link]</td>\n",
              "      <td>8</td>\n",
              "    </tr>\n",
              "    <tr>\n",
              "      <th>613</th>\n",
              "      <td>SCIENCE: Scientists explore the evolution of c...</td>\n",
              "      <td>6</td>\n",
              "    </tr>\n",
              "    <tr>\n",
              "      <th>359</th>\n",
              "      <td>Immigration Reform and Climate Change: A Tale ...</td>\n",
              "      <td>6</td>\n",
              "    </tr>\n",
              "    <tr>\n",
              "      <th>116</th>\n",
              "      <td>CLIMATE CHANGE: Forests Not for Absorbing Carb...</td>\n",
              "      <td>6</td>\n",
              "    </tr>\n",
              "    <tr>\n",
              "      <th>182</th>\n",
              "      <td>Coalition of the Tired of Waiting: Fighting Cl...</td>\n",
              "      <td>6</td>\n",
              "    </tr>\n",
              "    <tr>\n",
              "      <th>130</th>\n",
              "      <td>Carbon offsets: How a Vatican forest failed to...</td>\n",
              "      <td>6</td>\n",
              "    </tr>\n",
              "    <tr>\n",
              "      <th>451</th>\n",
              "      <td>No matter if you believe in global warming or ...</td>\n",
              "      <td>5</td>\n",
              "    </tr>\n",
              "    <tr>\n",
              "      <th>522</th>\n",
              "      <td>RT @Newsweek: Global Warming Kills Forests In ...</td>\n",
              "      <td>5</td>\n",
              "    </tr>\n",
              "    <tr>\n",
              "      <th>701</th>\n",
              "      <td>URUGUAY: Tools Needed for Those Most Vulnerabl...</td>\n",
              "      <td>4</td>\n",
              "    </tr>\n",
              "  </tbody>\n",
              "</table>\n",
              "</div>"
            ],
            "text/plain": [
              "                                                tweets  counts\n",
              "663  Take Action @change: Help Protect Wildlife Hab...      14\n",
              "237       Fight Climate Change From All Fronts: [link]       8\n",
              "613  SCIENCE: Scientists explore the evolution of c...       6\n",
              "359  Immigration Reform and Climate Change: A Tale ...       6\n",
              "116  CLIMATE CHANGE: Forests Not for Absorbing Carb...       6\n",
              "182  Coalition of the Tired of Waiting: Fighting Cl...       6\n",
              "130  Carbon offsets: How a Vatican forest failed to...       6\n",
              "451  No matter if you believe in global warming or ...       5\n",
              "522  RT @Newsweek: Global Warming Kills Forests In ...       5\n",
              "701  URUGUAY: Tools Needed for Those Most Vulnerabl...       4"
            ]
          },
          "metadata": {
            "tags": []
          },
          "execution_count": 14
        }
      ]
    },
    {
      "cell_type": "markdown",
      "metadata": {
        "id": "UCtbEnZLrsRc"
      },
      "source": [
        "**Count the number of times each tweet appeared**"
      ]
    },
    {
      "cell_type": "code",
      "metadata": {
        "colab": {
          "base_uri": "https://localhost:8080/",
          "height": 279
        },
        "id": "GQR1cMa3rWSe",
        "outputId": "af9da76e-4e54-4abd-e070-9f554bcdd40c"
      },
      "source": [
        "counts = tweets_dataset.groupby(['tweets']).size().reset_index(name='counts').counts\n",
        "\n",
        "# define bins for histogram\n",
        "my_bins = np.arange(0,counts.max()+2, 1)-0.5\n",
        "\n",
        "# plot histogram of tweet counts\n",
        "plt.figure()\n",
        "plt.hist(counts, bins = my_bins)\n",
        "plt.xlabels = np.arange(1,counts.max()+1, 1)\n",
        "plt.xlabel('copies of each tweet')\n",
        "plt.ylabel('frequency')\n",
        "plt.yscale('log', nonposy='clip')\n",
        "plt.show()"
      ],
      "execution_count": null,
      "outputs": [
        {
          "output_type": "display_data",
          "data": {
            "image/png": "[encoded data removed]",
            "text/plain": [
              "<Figure size 432x288 with 1 Axes>"
            ]
          },
          "metadata": {
            "tags": []
          }
        }
      ]
    },
    {
      "cell_type": "code",
      "metadata": {
        "id": "ZMGzKwoSrnFG"
      },
      "source": [
        "def find_retweeted(tweets):\n",
        "    '''This function will extract the twitter handles of retweed people'''\n",
        "    return re.findall('(?<=RT\\s)(@[A-Za-z]+[A-Za-z0-9-_]+)', tweets)\n",
        "\n",
        "def find_mentioned(tweets):\n",
        "    '''This function will extract the twitter handles of people mentioned in the tweet'''\n",
        "    return re.findall('(?<!RT\\s)(@[A-Za-z]+[A-Za-z0-9-_]+)', tweets)  \n",
        "\n",
        "def find_hashtags(tweets):\n",
        "    '''This function will extract hashtags'''\n",
        "    return re.findall('(#[A-Za-z]+[A-Za-z0-9-_]+)', tweets)   "
      ],
      "execution_count": null,
      "outputs": []
    },
    {
      "cell_type": "code",
      "metadata": {
        "id": "2xlNVjGWr22r"
      },
      "source": [
        "# make new columns for retweeted usernames, mentioned usernames and hashtags\n",
        "tweets_dataset['retweeted'] = tweets_dataset[\"tweets\"].apply(lambda x : find_retweeted(x))\n",
        "tweets_dataset['mentioned'] = tweets_dataset[\"tweets\"].apply(lambda x : find_mentioned(x))\n",
        "tweets_dataset['hashtags'] = tweets_dataset[\"tweets\"].apply(lambda x : find_hashtags(x))"
      ],
      "execution_count": null,
      "outputs": []
    },
    {
      "cell_type": "code",
      "metadata": {
        "colab": {
          "base_uri": "https://localhost:8080/",
          "height": 343
        },
        "id": "LpX1Rcucr5hu",
        "outputId": "e776f69b-5858-457e-b40c-726d0908d03e"
      },
      "source": [
        "tweets_dataset.head(10)"
      ],
      "execution_count": null,
      "outputs": [
        {
          "output_type": "execute_result",
          "data": {
            "text/html": [
              "<div>\n",
              "<style scoped>\n",
              "    .dataframe tbody tr th:only-of-type {\n",
              "        vertical-align: middle;\n",
              "    }\n",
              "\n",
              "    .dataframe tbody tr th {\n",
              "        vertical-align: top;\n",
              "    }\n",
              "\n",
              "    .dataframe thead th {\n",
              "        text-align: right;\n",
              "    }\n",
              "</style>\n",
              "<table border=\"1\" class=\"dataframe\">\n",
              "  <thead>\n",
              "    <tr style=\"text-align: right;\">\n",
              "      <th></th>\n",
              "      <th>tweets</th>\n",
              "      <th>existence</th>\n",
              "      <th>existence_confidence</th>\n",
              "      <th>is_retweet</th>\n",
              "      <th>retweeted</th>\n",
              "      <th>mentioned</th>\n",
              "      <th>hashtags</th>\n",
              "    </tr>\n",
              "  </thead>\n",
              "  <tbody>\n",
              "    <tr>\n",
              "      <th>0</th>\n",
              "      <td>Global warming report urges governments to act...</td>\n",
              "      <td>Yes</td>\n",
              "      <td>1.0000</td>\n",
              "      <td>False</td>\n",
              "      <td>[]</td>\n",
              "      <td>[]</td>\n",
              "      <td>[]</td>\n",
              "    </tr>\n",
              "    <tr>\n",
              "      <th>1</th>\n",
              "      <td>Fighting poverty and global warming in Africa ...</td>\n",
              "      <td>Yes</td>\n",
              "      <td>1.0000</td>\n",
              "      <td>False</td>\n",
              "      <td>[]</td>\n",
              "      <td>[]</td>\n",
              "      <td>[]</td>\n",
              "    </tr>\n",
              "    <tr>\n",
              "      <th>2</th>\n",
              "      <td>Carbon offsets: How a Vatican forest failed to...</td>\n",
              "      <td>Yes</td>\n",
              "      <td>0.8786</td>\n",
              "      <td>False</td>\n",
              "      <td>[]</td>\n",
              "      <td>[]</td>\n",
              "      <td>[]</td>\n",
              "    </tr>\n",
              "    <tr>\n",
              "      <th>3</th>\n",
              "      <td>Carbon offsets: How a Vatican forest failed to...</td>\n",
              "      <td>Yes</td>\n",
              "      <td>1.0000</td>\n",
              "      <td>False</td>\n",
              "      <td>[]</td>\n",
              "      <td>[]</td>\n",
              "      <td>[]</td>\n",
              "    </tr>\n",
              "    <tr>\n",
              "      <th>4</th>\n",
              "      <td>URUGUAY: Tools Needed for Those Most Vulnerabl...</td>\n",
              "      <td>Yes</td>\n",
              "      <td>0.8087</td>\n",
              "      <td>False</td>\n",
              "      <td>[]</td>\n",
              "      <td>[]</td>\n",
              "      <td>[]</td>\n",
              "    </tr>\n",
              "    <tr>\n",
              "      <th>5</th>\n",
              "      <td>RT @sejorg: RT @JaymiHeimbuch: Ocean Saltiness...</td>\n",
              "      <td>Yes</td>\n",
              "      <td>1.0000</td>\n",
              "      <td>True</td>\n",
              "      <td>[@sejorg, @JaymiHeimbuch]</td>\n",
              "      <td>[]</td>\n",
              "      <td>[]</td>\n",
              "    </tr>\n",
              "    <tr>\n",
              "      <th>6</th>\n",
              "      <td>Global warming evidence all around us|A messag...</td>\n",
              "      <td>Yes</td>\n",
              "      <td>1.0000</td>\n",
              "      <td>False</td>\n",
              "      <td>[]</td>\n",
              "      <td>[]</td>\n",
              "      <td>[]</td>\n",
              "    </tr>\n",
              "    <tr>\n",
              "      <th>7</th>\n",
              "      <td>Migratory Birds' New Climate Change Strategy: ...</td>\n",
              "      <td>Yes</td>\n",
              "      <td>1.0000</td>\n",
              "      <td>False</td>\n",
              "      <td>[]</td>\n",
              "      <td>[]</td>\n",
              "      <td>[]</td>\n",
              "    </tr>\n",
              "    <tr>\n",
              "      <th>8</th>\n",
              "      <td>Southern Africa: Competing for Limpopo Water: ...</td>\n",
              "      <td>Yes</td>\n",
              "      <td>1.0000</td>\n",
              "      <td>False</td>\n",
              "      <td>[]</td>\n",
              "      <td>[]</td>\n",
              "      <td>[]</td>\n",
              "    </tr>\n",
              "    <tr>\n",
              "      <th>9</th>\n",
              "      <td>Global warming to impact wheat, rice productio...</td>\n",
              "      <td>Yes</td>\n",
              "      <td>1.0000</td>\n",
              "      <td>False</td>\n",
              "      <td>[]</td>\n",
              "      <td>[]</td>\n",
              "      <td>[]</td>\n",
              "    </tr>\n",
              "  </tbody>\n",
              "</table>\n",
              "</div>"
            ],
            "text/plain": [
              "                                              tweets  ... hashtags\n",
              "0  Global warming report urges governments to act...  ...       []\n",
              "1  Fighting poverty and global warming in Africa ...  ...       []\n",
              "2  Carbon offsets: How a Vatican forest failed to...  ...       []\n",
              "3  Carbon offsets: How a Vatican forest failed to...  ...       []\n",
              "4  URUGUAY: Tools Needed for Those Most Vulnerabl...  ...       []\n",
              "5  RT @sejorg: RT @JaymiHeimbuch: Ocean Saltiness...  ...       []\n",
              "6  Global warming evidence all around us|A messag...  ...       []\n",
              "7  Migratory Birds' New Climate Change Strategy: ...  ...       []\n",
              "8  Southern Africa: Competing for Limpopo Water: ...  ...       []\n",
              "9  Global warming to impact wheat, rice productio...  ...       []\n",
              "\n",
              "[10 rows x 7 columns]"
            ]
          },
          "metadata": {
            "tags": []
          },
          "execution_count": 18
        }
      ]
    },
    {
      "cell_type": "code",
      "metadata": {
        "id": "z183MfBbsb20"
      },
      "source": [
        "# take the rows from the hashtag columns where there are actually hashtags\n",
        "hashtags_list_df = tweets_dataset.loc[tweets_dataset.hashtags.apply(lambda hashtags_list: hashtags_list !=[]),['hashtags']]"
      ],
      "execution_count": null,
      "outputs": []
    },
    {
      "cell_type": "code",
      "metadata": {
        "colab": {
          "base_uri": "https://localhost:8080/",
          "height": 195
        },
        "id": "keC27I5Mssg9",
        "outputId": "32a788f0-5c48-4e7c-c9c9-9e11d15ae954"
      },
      "source": [
        "hashtags_list_df.head(5)"
      ],
      "execution_count": null,
      "outputs": [
        {
          "output_type": "execute_result",
          "data": {
            "text/html": [
              "<div>\n",
              "<style scoped>\n",
              "    .dataframe tbody tr th:only-of-type {\n",
              "        vertical-align: middle;\n",
              "    }\n",
              "\n",
              "    .dataframe tbody tr th {\n",
              "        vertical-align: top;\n",
              "    }\n",
              "\n",
              "    .dataframe thead th {\n",
              "        text-align: right;\n",
              "    }\n",
              "</style>\n",
              "<table border=\"1\" class=\"dataframe\">\n",
              "  <thead>\n",
              "    <tr style=\"text-align: right;\">\n",
              "      <th></th>\n",
              "      <th>hashtags</th>\n",
              "    </tr>\n",
              "  </thead>\n",
              "  <tbody>\n",
              "    <tr>\n",
              "      <th>12</th>\n",
              "      <td>[#Climate, #population]</td>\n",
              "    </tr>\n",
              "    <tr>\n",
              "      <th>16</th>\n",
              "      <td>[#EarthDay]</td>\n",
              "    </tr>\n",
              "    <tr>\n",
              "      <th>26</th>\n",
              "      <td>[#ac]</td>\n",
              "    </tr>\n",
              "    <tr>\n",
              "      <th>31</th>\n",
              "      <td>[#tcot]</td>\n",
              "    </tr>\n",
              "    <tr>\n",
              "      <th>36</th>\n",
              "      <td>[#tornadocot, #ocra, #sgp, #gop, #ucot, #tlot,...</td>\n",
              "    </tr>\n",
              "  </tbody>\n",
              "</table>\n",
              "</div>"
            ],
            "text/plain": [
              "                                             hashtags\n",
              "12                            [#Climate, #population]\n",
              "16                                        [#EarthDay]\n",
              "26                                              [#ac]\n",
              "31                                            [#tcot]\n",
              "36  [#tornadocot, #ocra, #sgp, #gop, #ucot, #tlot,..."
            ]
          },
          "metadata": {
            "tags": []
          },
          "execution_count": 20
        }
      ]
    },
    {
      "cell_type": "code",
      "metadata": {
        "id": "jnquIgt9stiA"
      },
      "source": [
        "# create dataframe where each use of hashtag gets its own row\n",
        "flattened_hashtags_df = pd.DataFrame([hashtag for hashtags in hashtags_list_df.hashtags for hashtag in hashtags],columns=['hashtag'])"
      ],
      "execution_count": null,
      "outputs": []
    },
    {
      "cell_type": "code",
      "metadata": {
        "colab": {
          "base_uri": "https://localhost:8080/",
          "height": 195
        },
        "id": "IZu6IMXMs_gP",
        "outputId": "feb48a8d-836f-49ca-e334-a4ba45f6d1e6"
      },
      "source": [
        "flattened_hashtags_df.head(5)"
      ],
      "execution_count": null,
      "outputs": [
        {
          "output_type": "execute_result",
          "data": {
            "text/html": [
              "<div>\n",
              "<style scoped>\n",
              "    .dataframe tbody tr th:only-of-type {\n",
              "        vertical-align: middle;\n",
              "    }\n",
              "\n",
              "    .dataframe tbody tr th {\n",
              "        vertical-align: top;\n",
              "    }\n",
              "\n",
              "    .dataframe thead th {\n",
              "        text-align: right;\n",
              "    }\n",
              "</style>\n",
              "<table border=\"1\" class=\"dataframe\">\n",
              "  <thead>\n",
              "    <tr style=\"text-align: right;\">\n",
              "      <th></th>\n",
              "      <th>hashtag</th>\n",
              "    </tr>\n",
              "  </thead>\n",
              "  <tbody>\n",
              "    <tr>\n",
              "      <th>0</th>\n",
              "      <td>#Climate</td>\n",
              "    </tr>\n",
              "    <tr>\n",
              "      <th>1</th>\n",
              "      <td>#population</td>\n",
              "    </tr>\n",
              "    <tr>\n",
              "      <th>2</th>\n",
              "      <td>#EarthDay</td>\n",
              "    </tr>\n",
              "    <tr>\n",
              "      <th>3</th>\n",
              "      <td>#ac</td>\n",
              "    </tr>\n",
              "    <tr>\n",
              "      <th>4</th>\n",
              "      <td>#tcot</td>\n",
              "    </tr>\n",
              "  </tbody>\n",
              "</table>\n",
              "</div>"
            ],
            "text/plain": [
              "       hashtag\n",
              "0     #Climate\n",
              "1  #population\n",
              "2    #EarthDay\n",
              "3          #ac\n",
              "4        #tcot"
            ]
          },
          "metadata": {
            "tags": []
          },
          "execution_count": 22
        }
      ]
    },
    {
      "cell_type": "markdown",
      "metadata": {
        "id": "-h0yef0ztKRv"
      },
      "source": [
        "**Find the number of unique hash tags**"
      ]
    },
    {
      "cell_type": "code",
      "metadata": {
        "colab": {
          "base_uri": "https://localhost:8080/"
        },
        "id": "yFOZe1YbtDpx",
        "outputId": "173a8619-ca51-42d3-b107-7663ab514379"
      },
      "source": [
        "flattened_hashtags_df['hashtag'].unique().size"
      ],
      "execution_count": null,
      "outputs": [
        {
          "output_type": "execute_result",
          "data": {
            "text/plain": [
              "81"
            ]
          },
          "metadata": {
            "tags": []
          },
          "execution_count": 23
        }
      ]
    },
    {
      "cell_type": "code",
      "metadata": {
        "id": "vT2YnpD5tP-N"
      },
      "source": [
        "# count of appearances of each hashtag\n",
        "popular_hashtags = flattened_hashtags_df.groupby('hashtag').size().reset_index(name='counts').sort_values('counts', ascending=False).reset_index(drop=True)"
      ],
      "execution_count": null,
      "outputs": []
    },
    {
      "cell_type": "code",
      "metadata": {
        "colab": {
          "base_uri": "https://localhost:8080/",
          "height": 402
        },
        "id": "pxQa2oJ6uVBQ",
        "outputId": "12bbeb47-4cb3-428f-ce0b-6a71ffeef8c3"
      },
      "source": [
        "popular_hashtags"
      ],
      "execution_count": null,
      "outputs": [
        {
          "output_type": "execute_result",
          "data": {
            "text/html": [
              "<div>\n",
              "<style scoped>\n",
              "    .dataframe tbody tr th:only-of-type {\n",
              "        vertical-align: middle;\n",
              "    }\n",
              "\n",
              "    .dataframe tbody tr th {\n",
              "        vertical-align: top;\n",
              "    }\n",
              "\n",
              "    .dataframe thead th {\n",
              "        text-align: right;\n",
              "    }\n",
              "</style>\n",
              "<table border=\"1\" class=\"dataframe\">\n",
              "  <thead>\n",
              "    <tr style=\"text-align: right;\">\n",
              "      <th></th>\n",
              "      <th>hashtag</th>\n",
              "      <th>counts</th>\n",
              "    </tr>\n",
              "  </thead>\n",
              "  <tbody>\n",
              "    <tr>\n",
              "      <th>0</th>\n",
              "      <td>#climate</td>\n",
              "      <td>14</td>\n",
              "    </tr>\n",
              "    <tr>\n",
              "      <th>1</th>\n",
              "      <td>#Climate</td>\n",
              "      <td>7</td>\n",
              "    </tr>\n",
              "    <tr>\n",
              "      <th>2</th>\n",
              "      <td>#tcot</td>\n",
              "      <td>7</td>\n",
              "    </tr>\n",
              "    <tr>\n",
              "      <th>3</th>\n",
              "      <td>#p2</td>\n",
              "      <td>6</td>\n",
              "    </tr>\n",
              "    <tr>\n",
              "      <th>4</th>\n",
              "      <td>#green</td>\n",
              "      <td>5</td>\n",
              "    </tr>\n",
              "    <tr>\n",
              "      <th>...</th>\n",
              "      <td>...</td>\n",
              "      <td>...</td>\n",
              "    </tr>\n",
              "    <tr>\n",
              "      <th>76</th>\n",
              "      <td>#Maine</td>\n",
              "      <td>1</td>\n",
              "    </tr>\n",
              "    <tr>\n",
              "      <th>77</th>\n",
              "      <td>#Keston</td>\n",
              "      <td>1</td>\n",
              "    </tr>\n",
              "    <tr>\n",
              "      <th>78</th>\n",
              "      <td>#Indigenous</td>\n",
              "      <td>1</td>\n",
              "    </tr>\n",
              "    <tr>\n",
              "      <th>79</th>\n",
              "      <td>#IRI</td>\n",
              "      <td>1</td>\n",
              "    </tr>\n",
              "    <tr>\n",
              "      <th>80</th>\n",
              "      <td>#update</td>\n",
              "      <td>1</td>\n",
              "    </tr>\n",
              "  </tbody>\n",
              "</table>\n",
              "<p>81 rows × 2 columns</p>\n",
              "</div>"
            ],
            "text/plain": [
              "        hashtag  counts\n",
              "0      #climate      14\n",
              "1      #Climate       7\n",
              "2         #tcot       7\n",
              "3           #p2       6\n",
              "4        #green       5\n",
              "..          ...     ...\n",
              "76       #Maine       1\n",
              "77      #Keston       1\n",
              "78  #Indigenous       1\n",
              "79         #IRI       1\n",
              "80      #update       1\n",
              "\n",
              "[81 rows x 2 columns]"
            ]
          },
          "metadata": {
            "tags": []
          },
          "execution_count": 25
        }
      ]
    },
    {
      "cell_type": "code",
      "metadata": {
        "colab": {
          "base_uri": "https://localhost:8080/",
          "height": 279
        },
        "id": "CrqSpaRBuWiB",
        "outputId": "1218ff27-7897-4706-ab86-329d94726393"
      },
      "source": [
        "# number of times each hashtag appears\n",
        "counts = flattened_hashtags_df.groupby(['hashtag']).size().reset_index(name='counts').counts\n",
        "\n",
        "# define bins for histogram                              \n",
        "my_bins = np.arange(0,counts.max()+2, 5)-0.5\n",
        "\n",
        "# plot histogram of tweet counts\n",
        "plt.figure()\n",
        "plt.hist(counts, bins = my_bins)\n",
        "plt.xlabels = np.arange(1,counts.max()+1, 1)\n",
        "plt.xlabel('hashtag number of appearances')\n",
        "plt.ylabel('frequency')\n",
        "plt.yscale('log', nonposy='clip')\n",
        "plt.show()"
      ],
      "execution_count": null,
      "outputs": [
        {
          "output_type": "display_data",
          "data": {
            "image/png": "[encoded data removed]",
            "text/plain": [
              "<Figure size 432x288 with 1 Axes>"
            ]
          },
          "metadata": {
            "tags": []
          }
        }
      ]
    },
    {
      "cell_type": "code",
      "metadata": {
        "id": "Z0rtNO2Ju2MX"
      },
      "source": [
        "# take hashtags which appear at least this amount of times\n",
        "min_appearance = 3\n",
        "# find popular hashtags - make into python set for efficiency\n",
        "popular_hashtags_set = set(popular_hashtags[popular_hashtags.counts>=min_appearance]['hashtag'])"
      ],
      "execution_count": null,
      "outputs": []
    },
    {
      "cell_type": "code",
      "metadata": {
        "id": "hDqq22ppu7i4"
      },
      "source": [
        "# make a new column with only the popular hashtags\n",
        "hashtags_list_df['popular_hashtags'] = hashtags_list_df.hashtags.apply(lambda hashtag_list: [hashtag for hashtag in hashtag_list if hashtag in popular_hashtags_set])\n",
        "# drop rows without popular hashtag\n",
        "popular_hashtags_list_df = hashtags_list_df.loc[hashtags_list_df.popular_hashtags.apply(lambda hashtag_list: hashtag_list !=[])]"
      ],
      "execution_count": null,
      "outputs": []
    },
    {
      "cell_type": "code",
      "metadata": {
        "id": "73ahFdX2vE_W"
      },
      "source": [
        "# make new dataframe\n",
        "hashtag_vector_df = popular_hashtags_list_df.loc[:, ['popular_hashtags']]\n",
        "\n",
        "for hashtag in popular_hashtags_set:\n",
        "    # make columns to encode presence of hashtags\n",
        "    hashtag_vector_df['{}'.format(hashtag)] = hashtag_vector_df.popular_hashtags.apply(lambda hashtag_list: int(hashtag in hashtag_list))"
      ],
      "execution_count": null,
      "outputs": []
    },
    {
      "cell_type": "code",
      "metadata": {
        "id": "TwDlEISevRI1"
      },
      "source": [
        "hashtag_matrix = hashtag_vector_df.drop('popular_hashtags', axis=1)"
      ],
      "execution_count": null,
      "outputs": []
    },
    {
      "cell_type": "code",
      "metadata": {
        "colab": {
          "base_uri": "https://localhost:8080/",
          "height": 592
        },
        "id": "8z0cxW_JvLn_",
        "outputId": "1ae5fbbe-c421-4568-dd6b-5ba3ea20c3fb"
      },
      "source": [
        "# calculate the correlation matrix\n",
        "correlations = hashtag_vector_df.corr()\n",
        "\n",
        "# plot the correlation matrix\n",
        "plt.figure(figsize=(10,10))\n",
        "sns.heatmap(correlations,\n",
        "    cmap='RdBu',\n",
        "    vmin=-1,\n",
        "    vmax=1,\n",
        "    square = True,\n",
        "    cbar_kws={'label':'correlation'})\n",
        "plt.show()"
      ],
      "execution_count": null,
      "outputs": [
        {
          "output_type": "display_data",
          "data": {
            "image/png": "[encoded data removed]",
            "text/plain": [
              "<Figure size 720x720 with 2 Axes>"
            ]
          },
          "metadata": {
            "tags": []
          }
        }
      ]
    },
    {
      "cell_type": "code",
      "metadata": {
        "id": "zfKrPWMSvOQE"
      },
      "source": [
        "def remove_links(tweet):\n",
        "    '''Takes a string and removes web links from it'''\n",
        "    tweet = re.sub(r'http\\S+', '', tweet) # remove http links\n",
        "    tweet = re.sub(r'bit.ly/\\S+', '', tweet) # rempve bitly links\n",
        "    tweet = tweet.strip('[link]') # remove [links]\n",
        "    return tweet\n",
        "\n",
        "def remove_users(tweet):\n",
        "    '''Takes a string and removes retweet and @user information'''\n",
        "    tweet = re.sub('(RT\\s@[A-Za-z]+[A-Za-z0-9-_]+)', '', tweet) # remove retweet\n",
        "    tweet = re.sub('(@[A-Za-z]+[A-Za-z0-9-_]+)', '', tweet) # remove tweeted at\n",
        "    return tweet"
      ],
      "execution_count": null,
      "outputs": []
    },
    {
      "cell_type": "code",
      "metadata": {
        "id": "5Z-ukNhzwEMN"
      },
      "source": [
        "import nltk\n",
        "from nltk.tokenize import RegexpTokenizer\n",
        "from nltk.corpus import stopwords"
      ],
      "execution_count": null,
      "outputs": []
    },
    {
      "cell_type": "code",
      "metadata": {
        "colab": {
          "base_uri": "https://localhost:8080/"
        },
        "id": "ugA7-jabwL56",
        "outputId": "fde25359-a12c-4bc3-d986-e7562cefb00d"
      },
      "source": [
        "nltk.download('stopwords')\n",
        "  "
      ],
      "execution_count": null,
      "outputs": [
        {
          "output_type": "stream",
          "text": [
            "[nltk_data] Downloading package stopwords to /root/nltk_data...\n",
            "[nltk_data]   Unzipping corpora/stopwords.zip.\n"
          ],
          "name": "stdout"
        },
        {
          "output_type": "execute_result",
          "data": {
            "text/plain": [
              "True"
            ]
          },
          "metadata": {
            "tags": []
          },
          "execution_count": 34
        }
      ]
    },
    {
      "cell_type": "code",
      "metadata": {
        "id": "8eiSsG5dwF25"
      },
      "source": [
        "my_stopwords = nltk.corpus.stopwords.words('english')\n",
        "word_rooter = nltk.stem.snowball.PorterStemmer(ignore_stopwords=False).stem\n",
        "my_punctuation = '!\"$%&\\'()*+,-./:;<=>?[\\\\]^_`{|}~•@'\n",
        "\n",
        "# cleaning master function\n",
        "def clean_tweet(tweet, bigrams=False):\n",
        "    tweet = remove_users(tweet)\n",
        "    tweet = remove_links(tweet)\n",
        "    tweet = tweet.lower() # lower case\n",
        "    tweet = re.sub('['+my_punctuation + ']+', ' ', tweet) # strip punctuation\n",
        "    tweet = re.sub('\\s+', ' ', tweet) #remove double spacing\n",
        "    tweet = re.sub('([0-9]+)', '', tweet) # remove numbers\n",
        "    tweet_token_list = [word for word in tweet.split(' ')\n",
        "                            if word not in my_stopwords] # remove stopwords\n",
        "\n",
        "    tweet_token_list = [word_rooter(word) if '#' not in word else word\n",
        "                        for word in tweet_token_list] # apply word rooter\n",
        "    if bigrams:\n",
        "        tweet_token_list = tweet_token_list+[tweet_token_list[i]+'_'+tweet_token_list[i+1]\n",
        "                                            for i in range(len(tweet_token_list)-1)]\n",
        "    tweet = ' '.join(tweet_token_list)\n",
        "    return tweet"
      ],
      "execution_count": null,
      "outputs": []
    },
    {
      "cell_type": "code",
      "metadata": {
        "id": "FiAQWRrlwMTz"
      },
      "source": [
        "tweets_dataset['clean_tweet'] = tweets_dataset[\"tweets\"].apply(lambda x : clean_tweet(x))"
      ],
      "execution_count": null,
      "outputs": []
    },
    {
      "cell_type": "code",
      "metadata": {
        "colab": {
          "base_uri": "https://localhost:8080/",
          "height": 279
        },
        "id": "7jjetgctwOxN",
        "outputId": "24a8cb09-aa2e-4ec4-b987-c7e81d23be92"
      },
      "source": [
        "tweets_dataset.head(5)"
      ],
      "execution_count": null,
      "outputs": [
        {
          "output_type": "execute_result",
          "data": {
            "text/html": [
              "<div>\n",
              "<style scoped>\n",
              "    .dataframe tbody tr th:only-of-type {\n",
              "        vertical-align: middle;\n",
              "    }\n",
              "\n",
              "    .dataframe tbody tr th {\n",
              "        vertical-align: top;\n",
              "    }\n",
              "\n",
              "    .dataframe thead th {\n",
              "        text-align: right;\n",
              "    }\n",
              "</style>\n",
              "<table border=\"1\" class=\"dataframe\">\n",
              "  <thead>\n",
              "    <tr style=\"text-align: right;\">\n",
              "      <th></th>\n",
              "      <th>tweets</th>\n",
              "      <th>existence</th>\n",
              "      <th>existence_confidence</th>\n",
              "      <th>is_retweet</th>\n",
              "      <th>retweeted</th>\n",
              "      <th>mentioned</th>\n",
              "      <th>hashtags</th>\n",
              "      <th>clean_tweet</th>\n",
              "    </tr>\n",
              "  </thead>\n",
              "  <tbody>\n",
              "    <tr>\n",
              "      <th>0</th>\n",
              "      <td>Global warming report urges governments to act...</td>\n",
              "      <td>Yes</td>\n",
              "      <td>1.0000</td>\n",
              "      <td>False</td>\n",
              "      <td>[]</td>\n",
              "      <td>[]</td>\n",
              "      <td>[]</td>\n",
              "      <td>global warm report urg govern act brussel belg...</td>\n",
              "    </tr>\n",
              "    <tr>\n",
              "      <th>1</th>\n",
              "      <td>Fighting poverty and global warming in Africa ...</td>\n",
              "      <td>Yes</td>\n",
              "      <td>1.0000</td>\n",
              "      <td>False</td>\n",
              "      <td>[]</td>\n",
              "      <td>[]</td>\n",
              "      <td>[]</td>\n",
              "      <td>fight poverti global warm africa</td>\n",
              "    </tr>\n",
              "    <tr>\n",
              "      <th>2</th>\n",
              "      <td>Carbon offsets: How a Vatican forest failed to...</td>\n",
              "      <td>Yes</td>\n",
              "      <td>0.8786</td>\n",
              "      <td>False</td>\n",
              "      <td>[]</td>\n",
              "      <td>[]</td>\n",
              "      <td>[]</td>\n",
              "      <td>carbon offset vatican forest fail reduc global...</td>\n",
              "    </tr>\n",
              "    <tr>\n",
              "      <th>3</th>\n",
              "      <td>Carbon offsets: How a Vatican forest failed to...</td>\n",
              "      <td>Yes</td>\n",
              "      <td>1.0000</td>\n",
              "      <td>False</td>\n",
              "      <td>[]</td>\n",
              "      <td>[]</td>\n",
              "      <td>[]</td>\n",
              "      <td>carbon offset vatican forest fail reduc global...</td>\n",
              "    </tr>\n",
              "    <tr>\n",
              "      <th>4</th>\n",
              "      <td>URUGUAY: Tools Needed for Those Most Vulnerabl...</td>\n",
              "      <td>Yes</td>\n",
              "      <td>0.8087</td>\n",
              "      <td>False</td>\n",
              "      <td>[]</td>\n",
              "      <td>[]</td>\n",
              "      <td>[]</td>\n",
              "      <td>uruguay tool need vulner climat chang</td>\n",
              "    </tr>\n",
              "  </tbody>\n",
              "</table>\n",
              "</div>"
            ],
            "text/plain": [
              "                                              tweets  ...                                        clean_tweet\n",
              "0  Global warming report urges governments to act...  ...  global warm report urg govern act brussel belg...\n",
              "1  Fighting poverty and global warming in Africa ...  ...                  fight poverti global warm africa \n",
              "2  Carbon offsets: How a Vatican forest failed to...  ...  carbon offset vatican forest fail reduc global...\n",
              "3  Carbon offsets: How a Vatican forest failed to...  ...  carbon offset vatican forest fail reduc global...\n",
              "4  URUGUAY: Tools Needed for Those Most Vulnerabl...  ...             uruguay tool need vulner climat chang \n",
              "\n",
              "[5 rows x 8 columns]"
            ]
          },
          "metadata": {
            "tags": []
          },
          "execution_count": 37
        }
      ]
    },
    {
      "cell_type": "code",
      "metadata": {
        "id": "F1EtClg0waLn"
      },
      "source": [
        "from sklearn.feature_extraction.text import CountVectorizer\n",
        "\n",
        "# the vectorizer object will be used to transform text to vector form\n",
        "vectorizer = CountVectorizer(max_df=0.9, min_df=25, token_pattern='\\w+|\\$[\\d\\.]+|\\S+')\n",
        "\n",
        "# apply transformation\n",
        "tf = vectorizer.fit_transform(tweets_dataset['clean_tweet']).toarray()\n",
        "\n",
        "# tf_feature_names tells us what word each column in the matric represents\n",
        "tf_feature_names = vectorizer.get_feature_names()"
      ],
      "execution_count": null,
      "outputs": []
    },
    {
      "cell_type": "code",
      "metadata": {
        "id": "6v2uRyGlFSSc"
      },
      "source": [
        "import sys\n",
        "sys.path.insert(1,'/content/')"
      ],
      "execution_count": null,
      "outputs": []
    },
    {
      "cell_type": "markdown",
      "metadata": {
        "id": "C9-VUCGPEySE"
      },
      "source": [
        "#**Implement `LATENT DIRICHLET ALLOCATION` model for tweets**"
      ]
    },
    {
      "cell_type": "code",
      "metadata": {
        "id": "flltC5A5w70a"
      },
      "source": [
        "import AlgorithmLDA as lda_ul"
      ],
      "execution_count": null,
      "outputs": []
    },
    {
      "cell_type": "code",
      "metadata": {
        "id": "MPXMgrwt4-kV"
      },
      "source": [
        "result = lda_ul.LDA_MODEL(10,tf,tf_feature_names,10)"
      ],
      "execution_count": null,
      "outputs": []
    },
    {
      "cell_type": "code",
      "metadata": {
        "colab": {
          "base_uri": "https://localhost:8080/",
          "height": 397
        },
        "id": "3_BmXHLC7tCq",
        "outputId": "097a2398-544c-4370-c2d8-4b91c652a825"
      },
      "source": [
        "result"
      ],
      "execution_count": null,
      "outputs": [
        {
          "output_type": "execute_result",
          "data": {
            "text/html": [
              "<div>\n",
              "<style scoped>\n",
              "    .dataframe tbody tr th:only-of-type {\n",
              "        vertical-align: middle;\n",
              "    }\n",
              "\n",
              "    .dataframe tbody tr th {\n",
              "        vertical-align: top;\n",
              "    }\n",
              "\n",
              "    .dataframe thead th {\n",
              "        text-align: right;\n",
              "    }\n",
              "</style>\n",
              "<table border=\"1\" class=\"dataframe\">\n",
              "  <thead>\n",
              "    <tr style=\"text-align: right;\">\n",
              "      <th></th>\n",
              "      <th>Topic 0 words</th>\n",
              "      <th>Topic 0 weights</th>\n",
              "      <th>Topic 1 words</th>\n",
              "      <th>Topic 1 weights</th>\n",
              "      <th>Topic 2 words</th>\n",
              "      <th>Topic 2 weights</th>\n",
              "      <th>Topic 3 words</th>\n",
              "      <th>Topic 3 weights</th>\n",
              "      <th>Topic 4 words</th>\n",
              "      <th>Topic 4 weights</th>\n",
              "      <th>Topic 5 words</th>\n",
              "      <th>Topic 5 weights</th>\n",
              "      <th>Topic 6 words</th>\n",
              "      <th>Topic 6 weights</th>\n",
              "      <th>Topic 7 words</th>\n",
              "      <th>Topic 7 weights</th>\n",
              "      <th>Topic 8 words</th>\n",
              "      <th>Topic 8 weights</th>\n",
              "      <th>Topic 9 words</th>\n",
              "      <th>Topic 9 weights</th>\n",
              "    </tr>\n",
              "  </thead>\n",
              "  <tbody>\n",
              "    <tr>\n",
              "      <th>0</th>\n",
              "      <td>chang</td>\n",
              "      <td>65.1</td>\n",
              "      <td>report</td>\n",
              "      <td>55.1</td>\n",
              "      <td>climat</td>\n",
              "      <td>117.9</td>\n",
              "      <td>green</td>\n",
              "      <td>34.1</td>\n",
              "      <td>chang</td>\n",
              "      <td>56.5</td>\n",
              "      <td>could</td>\n",
              "      <td>46.1</td>\n",
              "      <td>climat</td>\n",
              "      <td>356.8</td>\n",
              "      <td>global</td>\n",
              "      <td>65.6</td>\n",
              "      <td>global</td>\n",
              "      <td>344.6</td>\n",
              "      <td>à</td>\n",
              "      <td>121.1</td>\n",
              "    </tr>\n",
              "    <tr>\n",
              "      <th>1</th>\n",
              "      <td>climat</td>\n",
              "      <td>62.3</td>\n",
              "      <td>global</td>\n",
              "      <td>40.3</td>\n",
              "      <td>chang</td>\n",
              "      <td>104.1</td>\n",
              "      <td>april</td>\n",
              "      <td>26.1</td>\n",
              "      <td>climat</td>\n",
              "      <td>55.3</td>\n",
              "      <td>energi</td>\n",
              "      <td>38.1</td>\n",
              "      <td>chang</td>\n",
              "      <td>352.9</td>\n",
              "      <td>warm</td>\n",
              "      <td>64.8</td>\n",
              "      <td>warm</td>\n",
              "      <td>330.3</td>\n",
              "      <td>climat</td>\n",
              "      <td>43.1</td>\n",
              "    </tr>\n",
              "    <tr>\n",
              "      <th>2</th>\n",
              "      <td>fight</td>\n",
              "      <td>48.1</td>\n",
              "      <td>warm</td>\n",
              "      <td>37.4</td>\n",
              "      <td>bill</td>\n",
              "      <td>67.1</td>\n",
              "      <td>warm</td>\n",
              "      <td>23.9</td>\n",
              "      <td>day</td>\n",
              "      <td>32.1</td>\n",
              "      <td>world</td>\n",
              "      <td>0.1</td>\n",
              "      <td>take</td>\n",
              "      <td>24.2</td>\n",
              "      <td>volcano</td>\n",
              "      <td>35.1</td>\n",
              "      <td>effect</td>\n",
              "      <td>28.9</td>\n",
              "      <td>chang</td>\n",
              "      <td>41.9</td>\n",
              "    </tr>\n",
              "    <tr>\n",
              "      <th>3</th>\n",
              "      <td>immigr</td>\n",
              "      <td>40.1</td>\n",
              "      <td>u</td>\n",
              "      <td>34.2</td>\n",
              "      <td>graham</td>\n",
              "      <td>33.1</td>\n",
              "      <td>global</td>\n",
              "      <td>23.9</td>\n",
              "      <td>earth</td>\n",
              "      <td>28.8</td>\n",
              "      <td>us</td>\n",
              "      <td>0.1</td>\n",
              "      <td>us</td>\n",
              "      <td>20.6</td>\n",
              "      <td>scientist</td>\n",
              "      <td>27.1</td>\n",
              "      <td>caus</td>\n",
              "      <td>23.9</td>\n",
              "      <td>trial</td>\n",
              "      <td>15.4</td>\n",
              "    </tr>\n",
              "    <tr>\n",
              "      <th>4</th>\n",
              "      <td>legisl</td>\n",
              "      <td>20.1</td>\n",
              "      <td>new</td>\n",
              "      <td>20.1</td>\n",
              "      <td>senat</td>\n",
              "      <td>30.8</td>\n",
              "      <td>help</td>\n",
              "      <td>4.1</td>\n",
              "      <td>allergi</td>\n",
              "      <td>24.6</td>\n",
              "      <td>chang</td>\n",
              "      <td>0.1</td>\n",
              "      <td>new</td>\n",
              "      <td>20.1</td>\n",
              "      <td>help</td>\n",
              "      <td>26.1</td>\n",
              "      <td>say</td>\n",
              "      <td>15.4</td>\n",
              "      <td>clinic</td>\n",
              "      <td>15.4</td>\n",
              "    </tr>\n",
              "    <tr>\n",
              "      <th>5</th>\n",
              "      <td>april</td>\n",
              "      <td>4.1</td>\n",
              "      <td>get</td>\n",
              "      <td>13.0</td>\n",
              "      <td>live</td>\n",
              "      <td>18.1</td>\n",
              "      <td>caus</td>\n",
              "      <td>0.2</td>\n",
              "      <td>get</td>\n",
              "      <td>16.2</td>\n",
              "      <td>u</td>\n",
              "      <td>0.1</td>\n",
              "      <td>action</td>\n",
              "      <td>19.2</td>\n",
              "      <td>carbon</td>\n",
              "      <td>14.3</td>\n",
              "      <td>us</td>\n",
              "      <td>12.6</td>\n",
              "      <td>world</td>\n",
              "      <td>3.1</td>\n",
              "    </tr>\n",
              "    <tr>\n",
              "      <th>6</th>\n",
              "      <td>u</td>\n",
              "      <td>0.2</td>\n",
              "      <td>effect</td>\n",
              "      <td>2.3</td>\n",
              "      <td>carbon</td>\n",
              "      <td>15.9</td>\n",
              "      <td>u</td>\n",
              "      <td>0.1</td>\n",
              "      <td>clinic</td>\n",
              "      <td>15.8</td>\n",
              "      <td>climat</td>\n",
              "      <td>0.1</td>\n",
              "      <td>say</td>\n",
              "      <td>10.8</td>\n",
              "      <td>action</td>\n",
              "      <td>11.0</td>\n",
              "      <td>world</td>\n",
              "      <td>11.3</td>\n",
              "      <td>take</td>\n",
              "      <td>1.1</td>\n",
              "    </tr>\n",
              "    <tr>\n",
              "      <th>7</th>\n",
              "      <td>senat</td>\n",
              "      <td>0.1</td>\n",
              "      <td>allergi</td>\n",
              "      <td>0.1</td>\n",
              "      <td>world</td>\n",
              "      <td>12.8</td>\n",
              "      <td>climat</td>\n",
              "      <td>0.1</td>\n",
              "      <td>trial</td>\n",
              "      <td>15.8</td>\n",
              "      <td>warm</td>\n",
              "      <td>0.1</td>\n",
              "      <td>senat</td>\n",
              "      <td>1.4</td>\n",
              "      <td>take</td>\n",
              "      <td>2.0</td>\n",
              "      <td>allergi</td>\n",
              "      <td>8.6</td>\n",
              "      <td>new</td>\n",
              "      <td>0.1</td>\n",
              "    </tr>\n",
              "    <tr>\n",
              "      <th>8</th>\n",
              "      <td>get</td>\n",
              "      <td>0.1</td>\n",
              "      <td>say</td>\n",
              "      <td>0.1</td>\n",
              "      <td>legisl</td>\n",
              "      <td>11.1</td>\n",
              "      <td>fight</td>\n",
              "      <td>0.1</td>\n",
              "      <td>world</td>\n",
              "      <td>4.3</td>\n",
              "      <td>global</td>\n",
              "      <td>0.1</td>\n",
              "      <td>immigr</td>\n",
              "      <td>0.1</td>\n",
              "      <td>caus</td>\n",
              "      <td>1.2</td>\n",
              "      <td>live</td>\n",
              "      <td>7.1</td>\n",
              "      <td>global</td>\n",
              "      <td>0.1</td>\n",
              "    </tr>\n",
              "    <tr>\n",
              "      <th>9</th>\n",
              "      <td>bill</td>\n",
              "      <td>0.1</td>\n",
              "      <td>climat</td>\n",
              "      <td>0.1</td>\n",
              "      <td>say</td>\n",
              "      <td>6.1</td>\n",
              "      <td>say</td>\n",
              "      <td>0.1</td>\n",
              "      <td>u</td>\n",
              "      <td>0.1</td>\n",
              "      <td>senat</td>\n",
              "      <td>0.1</td>\n",
              "      <td>caus</td>\n",
              "      <td>0.1</td>\n",
              "      <td>earth</td>\n",
              "      <td>0.4</td>\n",
              "      <td>report</td>\n",
              "      <td>0.1</td>\n",
              "      <td>effect</td>\n",
              "      <td>0.1</td>\n",
              "    </tr>\n",
              "  </tbody>\n",
              "</table>\n",
              "</div>"
            ],
            "text/plain": [
              "  Topic 0 words Topic 0 weights  ... Topic 9 words Topic 9 weights\n",
              "0         chang            65.1  ...             à           121.1\n",
              "1        climat            62.3  ...        climat            43.1\n",
              "2         fight            48.1  ...         chang            41.9\n",
              "3        immigr            40.1  ...         trial            15.4\n",
              "4        legisl            20.1  ...        clinic            15.4\n",
              "5         april             4.1  ...         world             3.1\n",
              "6             u             0.2  ...          take             1.1\n",
              "7         senat             0.1  ...           new             0.1\n",
              "8           get             0.1  ...        global             0.1\n",
              "9          bill             0.1  ...        effect             0.1\n",
              "\n",
              "[10 rows x 20 columns]"
            ]
          },
          "metadata": {
            "tags": []
          },
          "execution_count": 42
        }
      ]
    },
    {
      "cell_type": "markdown",
      "metadata": {
        "id": "SQdhxHnqG3Pq"
      },
      "source": [
        "# **Implement `Latent Semantic Analysis` model for tweets**"
      ]
    },
    {
      "cell_type": "code",
      "metadata": {
        "colab": {
          "base_uri": "https://localhost:8080/"
        },
        "id": "DgEM1hgzGHZb",
        "outputId": "25faa8b0-d10f-4fdd-ce33-d805042a0cd1"
      },
      "source": [
        "tf.shape"
      ],
      "execution_count": null,
      "outputs": [
        {
          "output_type": "execute_result",
          "data": {
            "text/plain": [
              "(999, 36)"
            ]
          },
          "metadata": {
            "tags": []
          },
          "execution_count": 43
        }
      ]
    },
    {
      "cell_type": "code",
      "metadata": {
        "id": "ICQjUkaCeoG8"
      },
      "source": [
        "import AlgorithmLSA as lsa"
      ],
      "execution_count": null,
      "outputs": []
    },
    {
      "cell_type": "code",
      "metadata": {
        "colab": {
          "base_uri": "https://localhost:8080/",
          "height": 308
        },
        "id": "Jsq6l4Hjolmt",
        "outputId": "82c0f076-892d-4fe2-e220-b0998478fd39"
      },
      "source": [
        "lsa.LSA_MODEL(tf,vectorizer)"
      ],
      "execution_count": null,
      "outputs": [
        {
          "output_type": "execute_result",
          "data": {
            "text/html": [
              "<div>\n",
              "<style scoped>\n",
              "    .dataframe tbody tr th:only-of-type {\n",
              "        vertical-align: middle;\n",
              "    }\n",
              "\n",
              "    .dataframe tbody tr th {\n",
              "        vertical-align: top;\n",
              "    }\n",
              "\n",
              "    .dataframe thead th {\n",
              "        text-align: right;\n",
              "    }\n",
              "</style>\n",
              "<table border=\"1\" class=\"dataframe\">\n",
              "  <thead>\n",
              "    <tr style=\"text-align: right;\">\n",
              "      <th></th>\n",
              "      <th>Topic 0</th>\n",
              "      <th>Topic 0 weights</th>\n",
              "      <th>Topic 1</th>\n",
              "      <th>Topic 1 weights</th>\n",
              "      <th>Topic 2</th>\n",
              "      <th>Topic 2 weights</th>\n",
              "      <th>Topic 3</th>\n",
              "      <th>Topic 3 weights</th>\n",
              "      <th>Topic 4</th>\n",
              "      <th>Topic 4 weights</th>\n",
              "      <th>Topic 5</th>\n",
              "      <th>Topic 5 weights</th>\n",
              "      <th>Topic 6</th>\n",
              "      <th>Topic 6 weights</th>\n",
              "      <th>Topic 7</th>\n",
              "      <th>Topic 7 weights</th>\n",
              "      <th>Topic 8</th>\n",
              "      <th>Topic 8 weights</th>\n",
              "      <th>Topic 9</th>\n",
              "      <th>Topic 9 weights</th>\n",
              "      <th>Topic 10</th>\n",
              "      <th>Topic 10 weights</th>\n",
              "      <th>Topic 11</th>\n",
              "      <th>Topic 11 weights</th>\n",
              "      <th>Topic 12</th>\n",
              "      <th>Topic 12 weights</th>\n",
              "      <th>Topic 13</th>\n",
              "      <th>Topic 13 weights</th>\n",
              "      <th>Topic 14</th>\n",
              "      <th>Topic 14 weights</th>\n",
              "      <th>Topic 15</th>\n",
              "      <th>Topic 15 weights</th>\n",
              "      <th>Topic 16</th>\n",
              "      <th>Topic 16 weights</th>\n",
              "      <th>Topic 17</th>\n",
              "      <th>Topic 17 weights</th>\n",
              "      <th>Topic 18</th>\n",
              "      <th>Topic 18 weights</th>\n",
              "      <th>Topic 19</th>\n",
              "      <th>Topic 19 weights</th>\n",
              "    </tr>\n",
              "  </thead>\n",
              "  <tbody>\n",
              "    <tr>\n",
              "      <th>0</th>\n",
              "      <td>climat</td>\n",
              "      <td>0.670762</td>\n",
              "      <td>global</td>\n",
              "      <td>0.679229</td>\n",
              "      <td>à</td>\n",
              "      <td>0.956164</td>\n",
              "      <td>bill</td>\n",
              "      <td>0.822907</td>\n",
              "      <td>report</td>\n",
              "      <td>0.824596</td>\n",
              "      <td>action</td>\n",
              "      <td>0.515462</td>\n",
              "      <td>legisl</td>\n",
              "      <td>0.434135</td>\n",
              "      <td>day</td>\n",
              "      <td>0.495783</td>\n",
              "      <td>climat</td>\n",
              "      <td>0.400045</td>\n",
              "      <td>energi</td>\n",
              "      <td>0.560816</td>\n",
              "      <td>could</td>\n",
              "      <td>0.410640</td>\n",
              "      <td>fight</td>\n",
              "      <td>0.601938</td>\n",
              "      <td>new</td>\n",
              "      <td>0.503380</td>\n",
              "      <td>new</td>\n",
              "      <td>0.520234</td>\n",
              "      <td>effect</td>\n",
              "      <td>0.539145</td>\n",
              "      <td>senat</td>\n",
              "      <td>0.442924</td>\n",
              "      <td>volcano</td>\n",
              "      <td>0.536571</td>\n",
              "      <td>allergi</td>\n",
              "      <td>0.458756</td>\n",
              "      <td>green</td>\n",
              "      <td>0.603083</td>\n",
              "      <td>us</td>\n",
              "      <td>0.533129</td>\n",
              "    </tr>\n",
              "    <tr>\n",
              "      <th>1</th>\n",
              "      <td>chang</td>\n",
              "      <td>0.641420</td>\n",
              "      <td>warm</td>\n",
              "      <td>0.652083</td>\n",
              "      <td>clinic</td>\n",
              "      <td>0.171917</td>\n",
              "      <td>graham</td>\n",
              "      <td>0.371754</td>\n",
              "      <td>u</td>\n",
              "      <td>0.239742</td>\n",
              "      <td>help</td>\n",
              "      <td>0.471056</td>\n",
              "      <td>immigr</td>\n",
              "      <td>0.420407</td>\n",
              "      <td>earth</td>\n",
              "      <td>0.424503</td>\n",
              "      <td>scientist</td>\n",
              "      <td>0.222514</td>\n",
              "      <td>fight</td>\n",
              "      <td>0.344248</td>\n",
              "      <td>climat</td>\n",
              "      <td>0.410493</td>\n",
              "      <td>report</td>\n",
              "      <td>0.216629</td>\n",
              "      <td>clinic</td>\n",
              "      <td>0.307107</td>\n",
              "      <td>earth</td>\n",
              "      <td>0.325618</td>\n",
              "      <td>allergi</td>\n",
              "      <td>0.145399</td>\n",
              "      <td>say</td>\n",
              "      <td>0.228231</td>\n",
              "      <td>get</td>\n",
              "      <td>0.327141</td>\n",
              "      <td>green</td>\n",
              "      <td>0.327759</td>\n",
              "      <td>senat</td>\n",
              "      <td>0.375639</td>\n",
              "      <td>u</td>\n",
              "      <td>0.322524</td>\n",
              "    </tr>\n",
              "    <tr>\n",
              "      <th>2</th>\n",
              "      <td>global</td>\n",
              "      <td>0.226609</td>\n",
              "      <td>could</td>\n",
              "      <td>0.041383</td>\n",
              "      <td>trial</td>\n",
              "      <td>0.171917</td>\n",
              "      <td>senat</td>\n",
              "      <td>0.232490</td>\n",
              "      <td>allergi</td>\n",
              "      <td>0.219577</td>\n",
              "      <td>take</td>\n",
              "      <td>0.450535</td>\n",
              "      <td>senat</td>\n",
              "      <td>0.240372</td>\n",
              "      <td>clinic</td>\n",
              "      <td>0.325964</td>\n",
              "      <td>say</td>\n",
              "      <td>0.146989</td>\n",
              "      <td>earth</td>\n",
              "      <td>0.193189</td>\n",
              "      <td>allergi</td>\n",
              "      <td>0.277939</td>\n",
              "      <td>legisl</td>\n",
              "      <td>0.156010</td>\n",
              "      <td>trial</td>\n",
              "      <td>0.307107</td>\n",
              "      <td>day</td>\n",
              "      <td>0.269851</td>\n",
              "      <td>chang</td>\n",
              "      <td>0.106571</td>\n",
              "      <td>carbon</td>\n",
              "      <td>0.211186</td>\n",
              "      <td>allergi</td>\n",
              "      <td>0.178086</td>\n",
              "      <td>carbon</td>\n",
              "      <td>0.260390</td>\n",
              "      <td>effect</td>\n",
              "      <td>0.296652</td>\n",
              "      <td>april</td>\n",
              "      <td>0.318530</td>\n",
              "    </tr>\n",
              "    <tr>\n",
              "      <th>3</th>\n",
              "      <td>warm</td>\n",
              "      <td>0.207217</td>\n",
              "      <td>effect</td>\n",
              "      <td>0.041324</td>\n",
              "      <td>effect</td>\n",
              "      <td>0.038215</td>\n",
              "      <td>immigr</td>\n",
              "      <td>0.145985</td>\n",
              "      <td>say</td>\n",
              "      <td>0.167174</td>\n",
              "      <td>day</td>\n",
              "      <td>0.199493</td>\n",
              "      <td>action</td>\n",
              "      <td>0.232667</td>\n",
              "      <td>trial</td>\n",
              "      <td>0.325964</td>\n",
              "      <td>us</td>\n",
              "      <td>0.137169</td>\n",
              "      <td>u</td>\n",
              "      <td>0.162099</td>\n",
              "      <td>u</td>\n",
              "      <td>0.271460</td>\n",
              "      <td>help</td>\n",
              "      <td>0.142317</td>\n",
              "      <td>fight</td>\n",
              "      <td>0.306296</td>\n",
              "      <td>green</td>\n",
              "      <td>0.163174</td>\n",
              "      <td>day</td>\n",
              "      <td>0.103138</td>\n",
              "      <td>us</td>\n",
              "      <td>0.210235</td>\n",
              "      <td>scientist</td>\n",
              "      <td>0.104687</td>\n",
              "      <td>april</td>\n",
              "      <td>0.233755</td>\n",
              "      <td>live</td>\n",
              "      <td>0.146729</td>\n",
              "      <td>chang</td>\n",
              "      <td>0.133033</td>\n",
              "    </tr>\n",
              "    <tr>\n",
              "      <th>4</th>\n",
              "      <td>à</td>\n",
              "      <td>0.116840</td>\n",
              "      <td>volcano</td>\n",
              "      <td>0.037100</td>\n",
              "      <td>day</td>\n",
              "      <td>0.026323</td>\n",
              "      <td>legisl</td>\n",
              "      <td>0.079802</td>\n",
              "      <td>new</td>\n",
              "      <td>0.116785</td>\n",
              "      <td>earth</td>\n",
              "      <td>0.192610</td>\n",
              "      <td>report</td>\n",
              "      <td>0.232599</td>\n",
              "      <td>energi</td>\n",
              "      <td>0.189619</td>\n",
              "      <td>live</td>\n",
              "      <td>0.127361</td>\n",
              "      <td>could</td>\n",
              "      <td>0.148013</td>\n",
              "      <td>scientist</td>\n",
              "      <td>0.138895</td>\n",
              "      <td>effect</td>\n",
              "      <td>0.138222</td>\n",
              "      <td>energi</td>\n",
              "      <td>0.265818</td>\n",
              "      <td>world</td>\n",
              "      <td>0.147808</td>\n",
              "      <td>u</td>\n",
              "      <td>0.096001</td>\n",
              "      <td>get</td>\n",
              "      <td>0.167354</td>\n",
              "      <td>report</td>\n",
              "      <td>0.104592</td>\n",
              "      <td>u</td>\n",
              "      <td>0.198035</td>\n",
              "      <td>could</td>\n",
              "      <td>0.129279</td>\n",
              "      <td>volcano</td>\n",
              "      <td>0.130382</td>\n",
              "    </tr>\n",
              "    <tr>\n",
              "      <th>5</th>\n",
              "      <td>bill</td>\n",
              "      <td>0.086650</td>\n",
              "      <td>à</td>\n",
              "      <td>0.034717</td>\n",
              "      <td>scientist</td>\n",
              "      <td>0.019114</td>\n",
              "      <td>climat</td>\n",
              "      <td>0.050723</td>\n",
              "      <td>caus</td>\n",
              "      <td>0.116065</td>\n",
              "      <td>bill</td>\n",
              "      <td>0.165958</td>\n",
              "      <td>april</td>\n",
              "      <td>0.186696</td>\n",
              "      <td>world</td>\n",
              "      <td>0.107158</td>\n",
              "      <td>energi</td>\n",
              "      <td>0.081046</td>\n",
              "      <td>day</td>\n",
              "      <td>0.136662</td>\n",
              "      <td>trial</td>\n",
              "      <td>0.127839</td>\n",
              "      <td>u</td>\n",
              "      <td>0.126546</td>\n",
              "      <td>green</td>\n",
              "      <td>0.185655</td>\n",
              "      <td>climat</td>\n",
              "      <td>0.130410</td>\n",
              "      <td>earth</td>\n",
              "      <td>0.070928</td>\n",
              "      <td>allergi</td>\n",
              "      <td>0.164591</td>\n",
              "      <td>chang</td>\n",
              "      <td>0.097942</td>\n",
              "      <td>get</td>\n",
              "      <td>0.153209</td>\n",
              "      <td>u</td>\n",
              "      <td>0.090422</td>\n",
              "      <td>day</td>\n",
              "      <td>0.084276</td>\n",
              "    </tr>\n",
              "    <tr>\n",
              "      <th>6</th>\n",
              "      <td>graham</td>\n",
              "      <td>0.043162</td>\n",
              "      <td>caus</td>\n",
              "      <td>0.024443</td>\n",
              "      <td>take</td>\n",
              "      <td>0.012246</td>\n",
              "      <td>à</td>\n",
              "      <td>0.042159</td>\n",
              "      <td>bill</td>\n",
              "      <td>0.106117</td>\n",
              "      <td>could</td>\n",
              "      <td>0.162942</td>\n",
              "      <td>climat</td>\n",
              "      <td>0.175925</td>\n",
              "      <td>live</td>\n",
              "      <td>0.096921</td>\n",
              "      <td>action</td>\n",
              "      <td>0.072581</td>\n",
              "      <td>à</td>\n",
              "      <td>0.120692</td>\n",
              "      <td>clinic</td>\n",
              "      <td>0.127839</td>\n",
              "      <td>april</td>\n",
              "      <td>0.120158</td>\n",
              "      <td>senat</td>\n",
              "      <td>0.162235</td>\n",
              "      <td>volcano</td>\n",
              "      <td>0.129832</td>\n",
              "      <td>warm</td>\n",
              "      <td>0.052180</td>\n",
              "      <td>immigr</td>\n",
              "      <td>0.157250</td>\n",
              "      <td>immigr</td>\n",
              "      <td>0.085710</td>\n",
              "      <td>live</td>\n",
              "      <td>0.153166</td>\n",
              "      <td>volcano</td>\n",
              "      <td>0.087247</td>\n",
              "      <td>bill</td>\n",
              "      <td>0.051348</td>\n",
              "    </tr>\n",
              "  </tbody>\n",
              "</table>\n",
              "</div>"
            ],
            "text/plain": [
              "  Topic 0  Topic 0 weights  ... Topic 19  Topic 19 weights\n",
              "0  climat         0.670762  ...       us          0.533129\n",
              "1   chang         0.641420  ...        u          0.322524\n",
              "2  global         0.226609  ...    april          0.318530\n",
              "3    warm         0.207217  ...    chang          0.133033\n",
              "4       à         0.116840  ...  volcano          0.130382\n",
              "5    bill         0.086650  ...      day          0.084276\n",
              "6  graham         0.043162  ...     bill          0.051348\n",
              "\n",
              "[7 rows x 40 columns]"
            ]
          },
          "metadata": {
            "tags": []
          },
          "execution_count": 45
        }
      ]
    },
    {
      "cell_type": "markdown",
      "metadata": {
        "id": "7WMh72RzqnXD"
      },
      "source": [
        "#**LABELLED LDA**"
      ]
    },
    {
      "cell_type": "markdown",
      "metadata": {
        "id": "-MJPm9JjsdZX"
      },
      "source": [
        "**We need to set labels for each type of data in the tweets**\n",
        "\n",
        "**For the analysis we are considering we are manually inserting the labels for a sample of 100 tweets**"
      ]
    },
    {
      "cell_type": "code",
      "metadata": {
        "id": "r4OJjJVLsX7o"
      },
      "source": [
        "labelled_lda = tweets_dataset[[\"clean_tweet\"]].head(100)"
      ],
      "execution_count": null,
      "outputs": []
    },
    {
      "cell_type": "code",
      "metadata": {
        "id": "Rnu37pbIs8vv"
      },
      "source": [
        "labelled_lda.to_csv(\"/content/op.csv\")"
      ],
      "execution_count": null,
      "outputs": []
    },
    {
      "cell_type": "code",
      "metadata": {
        "id": "k6iDZ-0ztFgj"
      },
      "source": [
        "labelled_lda = pd.read_csv(\"/content/labelled_lda_tweets.csv\")"
      ],
      "execution_count": null,
      "outputs": []
    },
    {
      "cell_type": "code",
      "metadata": {
        "id": "T-JDqfoHxqd_"
      },
      "source": [
        "import AlgorithmLLDA as llda"
      ],
      "execution_count": null,
      "outputs": []
    },
    {
      "cell_type": "code",
      "metadata": {
        "colab": {
          "base_uri": "https://localhost:8080/",
          "height": 402
        },
        "id": "GI0rZJqXve8W",
        "outputId": "f7c0867a-988a-45d5-d942-361966432029"
      },
      "source": [
        "labelled_lda"
      ],
      "execution_count": null,
      "outputs": [
        {
          "output_type": "execute_result",
          "data": {
            "text/html": [
              "<div>\n",
              "<style scoped>\n",
              "    .dataframe tbody tr th:only-of-type {\n",
              "        vertical-align: middle;\n",
              "    }\n",
              "\n",
              "    .dataframe tbody tr th {\n",
              "        vertical-align: top;\n",
              "    }\n",
              "\n",
              "    .dataframe thead th {\n",
              "        text-align: right;\n",
              "    }\n",
              "</style>\n",
              "<table border=\"1\" class=\"dataframe\">\n",
              "  <thead>\n",
              "    <tr style=\"text-align: right;\">\n",
              "      <th></th>\n",
              "      <th>clean_tweet</th>\n",
              "      <th>Labels</th>\n",
              "    </tr>\n",
              "  </thead>\n",
              "  <tbody>\n",
              "    <tr>\n",
              "      <th>0</th>\n",
              "      <td>global warm report urg govern act brussel belg...</td>\n",
              "      <td>global warming</td>\n",
              "    </tr>\n",
              "    <tr>\n",
              "      <th>1</th>\n",
              "      <td>fight poverti global warm africa</td>\n",
              "      <td>global warming</td>\n",
              "    </tr>\n",
              "    <tr>\n",
              "      <th>2</th>\n",
              "      <td>carbon offset vatican forest fail reduc global...</td>\n",
              "      <td>Carbon</td>\n",
              "    </tr>\n",
              "    <tr>\n",
              "      <th>3</th>\n",
              "      <td>carbon offset vatican forest fail reduc global...</td>\n",
              "      <td>Carbon</td>\n",
              "    </tr>\n",
              "    <tr>\n",
              "      <th>4</th>\n",
              "      <td>uruguay tool need vulner climat chang</td>\n",
              "      <td>climate</td>\n",
              "    </tr>\n",
              "    <tr>\n",
              "      <th>...</th>\n",
              "      <td>...</td>\n",
              "      <td>...</td>\n",
              "    </tr>\n",
              "    <tr>\n",
              "      <th>95</th>\n",
              "      <td>plant effect way tackl global warm washington ...</td>\n",
              "      <td>global warming</td>\n",
              "    </tr>\n",
              "    <tr>\n",
              "      <th>96</th>\n",
              "      <td>climat chang sustain key driver futur econom d...</td>\n",
              "      <td>climate</td>\n",
              "    </tr>\n",
              "    <tr>\n",
              "      <th>97</th>\n",
              "      <td>freder hagu #pen climat chang alarm bell whole...</td>\n",
              "      <td>climate</td>\n",
              "    </tr>\n",
              "    <tr>\n",
              "      <th>98</th>\n",
              "      <td>us gener say climat chang threaten america sec...</td>\n",
              "      <td>climate</td>\n",
              "    </tr>\n",
              "    <tr>\n",
              "      <th>99</th>\n",
              "      <td>even gener know climat chang go screw us</td>\n",
              "      <td>climate</td>\n",
              "    </tr>\n",
              "  </tbody>\n",
              "</table>\n",
              "<p>100 rows × 2 columns</p>\n",
              "</div>"
            ],
            "text/plain": [
              "                                          clean_tweet          Labels\n",
              "0   global warm report urg govern act brussel belg...  global warming\n",
              "1                   fight poverti global warm africa   global warming\n",
              "2   carbon offset vatican forest fail reduc global...         Carbon \n",
              "3   carbon offset vatican forest fail reduc global...         Carbon \n",
              "4              uruguay tool need vulner climat chang          climate\n",
              "..                                                ...             ...\n",
              "95  plant effect way tackl global warm washington ...  global warming\n",
              "96  climat chang sustain key driver futur econom d...         climate\n",
              "97  freder hagu #pen climat chang alarm bell whole...         climate\n",
              "98  us gener say climat chang threaten america sec...         climate\n",
              "99          even gener know climat chang go screw us          climate\n",
              "\n",
              "[100 rows x 2 columns]"
            ]
          },
          "metadata": {
            "tags": []
          },
          "execution_count": 51
        }
      ]
    },
    {
      "cell_type": "code",
      "metadata": {
        "id": "ge0kzHZ2M907"
      },
      "source": [
        "#create a list of tuples\n",
        "\n",
        "required_list = list()\n",
        "for i in labelled_lda.values:\n",
        "  res = tuple()\n",
        "  res = res + (i[0],)\n",
        "  res = res + ([i[1]],)\n",
        "  required_list.append(res)"
      ],
      "execution_count": null,
      "outputs": []
    },
    {
      "cell_type": "code",
      "metadata": {
        "id": "hsbfa1NzRx5X"
      },
      "source": [
        "llda_model = llda.LldaModel(labeled_documents=required_list, alpha_vector=0.01)"
      ],
      "execution_count": null,
      "outputs": []
    },
    {
      "cell_type": "code",
      "metadata": {
        "id": "EKtxM5DeU6Z-"
      },
      "source": [
        "arrayof_labels = tweets_dataset[[\"clean_tweet\"]].values[100:500]"
      ],
      "execution_count": null,
      "outputs": []
    },
    {
      "cell_type": "code",
      "metadata": {
        "id": "XNWMndFefG5l"
      },
      "source": [
        "arrayof_labels = [i[0] for i in arrayof_labels]"
      ],
      "execution_count": null,
      "outputs": []
    },
    {
      "cell_type": "code",
      "metadata": {
        "colab": {
          "base_uri": "https://localhost:8080/"
        },
        "id": "YuGKkVFQVcT5",
        "outputId": "ceabb3f6-2fa8-462c-c31f-707f2e809631"
      },
      "source": [
        "len(arrayof_labels)"
      ],
      "execution_count": null,
      "outputs": [
        {
          "output_type": "execute_result",
          "data": {
            "text/plain": [
              "400"
            ]
          },
          "metadata": {
            "tags": []
          },
          "execution_count": 56
        }
      ]
    },
    {
      "cell_type": "code",
      "metadata": {
        "id": "it2BacGqSyAM"
      },
      "source": [
        "df = pd.DataFrame()\n",
        "df[\"Reviews\"]= arrayof_labels\n",
        "global_warming = list()\n",
        "common_topic = list()\n",
        "award = list()\n",
        "africa = list()\n",
        "article = list()\n",
        "india = list()\n",
        "climate = list()\n",
        "research = list()\n",
        "human = list()\n",
        "carbon = list()\n",
        "country = list()\n",
        "california = list()\n",
        "arizona = list()\n",
        "mississipi = list()\n",
        "for i in arrayof_labels:\n",
        "  topics = llda_model.inference(document=i, iteration=100, times=10)\n",
        "  for j in topics:\n",
        "    if(j[0]==\"global warming\"):\n",
        "      global_warming.append(j[1])\n",
        "    elif(j[0]==\"common_topic\"):\n",
        "      common_topic.append(j[1])\n",
        "    elif(j[0]==\"award\"):\n",
        "      award.append(j[1])\n",
        "    elif(j[0]==\"africa\"):\n",
        "      africa.append(j[1])\n",
        "    elif(j[0]==\"article\"):\n",
        "      article.append(j[1])\n",
        "    elif(j[0]==\"india\"):\n",
        "      india.append(j[1])\n",
        "    elif(j[0]==\"climate\"):\n",
        "      climate.append(j[1])\n",
        "    elif(j[0]==\"research\"):\n",
        "      research.append(j[1])\n",
        "    elif(j[0]==\"human\"):\n",
        "      human.append(j[1])\n",
        "    elif(j[0]==\"Carbon \"):\n",
        "      carbon.append(j[1])\n",
        "    elif(j[0]==\"country\"):\n",
        "      country.append(j[1])\n",
        "    elif(j[0]==\"california\"):\n",
        "      california.append(j[1])\n",
        "    elif(j[0]==\"arizona \"):\n",
        "      arizona.append(j[1])\n",
        "    else:\n",
        "      mississipi.append(j[1])\n",
        "\n",
        "df[\"global warming\"] = global_warming\n",
        "df[\"common_topic\"] = common_topic"
      ],
      "execution_count": null,
      "outputs": []
    },
    {
      "cell_type": "code",
      "metadata": {
        "id": "OYmisw4ZS1fV"
      },
      "source": [
        "df[\"award\"]= award\n",
        "df[\"africa\"] = africa\n",
        "df[\"article\"] = article\n",
        "df[\"india\"] = india\n",
        "df[\"climate\"] = climate\n",
        "df[\"research\"] = research\n",
        "df[\"human\"] = human\n",
        "df[\"carbon\"] = carbon\n",
        "df[\"country\"] = country\n",
        "df[\"california\"] = california\n",
        "df[\"arizona\"] = arizona\n",
        "df[\"mississipi\"] = mississipi"
      ],
      "execution_count": null,
      "outputs": []
    },
    {
      "cell_type": "code",
      "metadata": {
        "colab": {
          "base_uri": "https://localhost:8080/",
          "height": 736
        },
        "id": "QQNYqIYYqAo9",
        "outputId": "93a4a6b1-0009-45d3-bf80-76364096c8e3"
      },
      "source": [
        "df.head(5)"
      ],
      "execution_count": null,
      "outputs": [
        {
          "output_type": "execute_result",
          "data": {
            "text/html": [
              "<div>\n",
              "<style scoped>\n",
              "    .dataframe tbody tr th:only-of-type {\n",
              "        vertical-align: middle;\n",
              "    }\n",
              "\n",
              "    .dataframe tbody tr th {\n",
              "        vertical-align: top;\n",
              "    }\n",
              "\n",
              "    .dataframe thead th {\n",
              "        text-align: right;\n",
              "    }\n",
              "</style>\n",
              "<table border=\"1\" class=\"dataframe\">\n",
              "  <thead>\n",
              "    <tr style=\"text-align: right;\">\n",
              "      <th></th>\n",
              "      <th>Reviews</th>\n",
              "      <th>global warming</th>\n",
              "      <th>common_topic</th>\n",
              "      <th>award</th>\n",
              "      <th>africa</th>\n",
              "      <th>article</th>\n",
              "      <th>india</th>\n",
              "      <th>climate</th>\n",
              "      <th>research</th>\n",
              "      <th>human</th>\n",
              "      <th>carbon</th>\n",
              "      <th>country</th>\n",
              "      <th>california</th>\n",
              "      <th>arizona</th>\n",
              "      <th>mississipi</th>\n",
              "    </tr>\n",
              "  </thead>\n",
              "  <tbody>\n",
              "    <tr>\n",
              "      <th>0</th>\n",
              "      <td>govern report say global warm may caus cancer ...</td>\n",
              "      <td>0.937870</td>\n",
              "      <td>0.030572</td>\n",
              "      <td>0.010848</td>\n",
              "      <td>0.000986</td>\n",
              "      <td>0.010848</td>\n",
              "      <td>0.000986</td>\n",
              "      <td>0.000986</td>\n",
              "      <td>0.000986</td>\n",
              "      <td>0.000986</td>\n",
              "      <td>0.000986</td>\n",
              "      <td>0.000986</td>\n",
              "      <td>0.000986</td>\n",
              "      <td>0.000986</td>\n",
              "      <td>0.000986</td>\n",
              "    </tr>\n",
              "    <tr>\n",
              "      <th>1</th>\n",
              "      <td>climat chang increas heat wave flood epa</td>\n",
              "      <td>0.002415</td>\n",
              "      <td>0.268116</td>\n",
              "      <td>0.002415</td>\n",
              "      <td>0.026570</td>\n",
              "      <td>0.026570</td>\n",
              "      <td>0.002415</td>\n",
              "      <td>0.654589</td>\n",
              "      <td>0.002415</td>\n",
              "      <td>0.002415</td>\n",
              "      <td>0.002415</td>\n",
              "      <td>0.002415</td>\n",
              "      <td>0.002415</td>\n",
              "      <td>0.002415</td>\n",
              "      <td>0.002415</td>\n",
              "    </tr>\n",
              "    <tr>\n",
              "      <th>2</th>\n",
              "      <td>plant remain effect way tackl global warm</td>\n",
              "      <td>0.017915</td>\n",
              "      <td>0.962541</td>\n",
              "      <td>0.001629</td>\n",
              "      <td>0.001629</td>\n",
              "      <td>0.001629</td>\n",
              "      <td>0.001629</td>\n",
              "      <td>0.001629</td>\n",
              "      <td>0.001629</td>\n",
              "      <td>0.001629</td>\n",
              "      <td>0.001629</td>\n",
              "      <td>0.001629</td>\n",
              "      <td>0.001629</td>\n",
              "      <td>0.001629</td>\n",
              "      <td>0.001629</td>\n",
              "    </tr>\n",
              "    <tr>\n",
              "      <th>3</th>\n",
              "      <td>far class gotten heat discuss global climat ch...</td>\n",
              "      <td>0.213355</td>\n",
              "      <td>0.750814</td>\n",
              "      <td>0.001629</td>\n",
              "      <td>0.001629</td>\n",
              "      <td>0.001629</td>\n",
              "      <td>0.017915</td>\n",
              "      <td>0.001629</td>\n",
              "      <td>0.001629</td>\n",
              "      <td>0.001629</td>\n",
              "      <td>0.001629</td>\n",
              "      <td>0.001629</td>\n",
              "      <td>0.001629</td>\n",
              "      <td>0.001629</td>\n",
              "      <td>0.001629</td>\n",
              "    </tr>\n",
              "    <tr>\n",
              "      <th>4</th>\n",
              "      <td>global warm kill forest colorado</td>\n",
              "      <td>0.003185</td>\n",
              "      <td>0.003185</td>\n",
              "      <td>0.003185</td>\n",
              "      <td>0.003185</td>\n",
              "      <td>0.003185</td>\n",
              "      <td>0.035032</td>\n",
              "      <td>0.003185</td>\n",
              "      <td>0.003185</td>\n",
              "      <td>0.003185</td>\n",
              "      <td>0.926752</td>\n",
              "      <td>0.003185</td>\n",
              "      <td>0.003185</td>\n",
              "      <td>0.003185</td>\n",
              "      <td>0.003185</td>\n",
              "    </tr>\n",
              "  </tbody>\n",
              "</table>\n",
              "</div>"
            ],
            "text/plain": [
              "                                             Reviews  ...  mississipi\n",
              "0  govern report say global warm may caus cancer ...  ...    0.000986\n",
              "1          climat chang increas heat wave flood epa   ...    0.002415\n",
              "2         plant remain effect way tackl global warm   ...    0.001629\n",
              "3  far class gotten heat discuss global climat ch...  ...    0.001629\n",
              "4                  global warm kill forest colorado   ...    0.003185\n",
              "\n",
              "[5 rows x 15 columns]"
            ]
          },
          "metadata": {
            "tags": []
          },
          "execution_count": 59
        }
      ]
    },
    {
      "cell_type": "markdown",
      "metadata": {
        "id": "5y4PW5-1Wyn0"
      },
      "source": [
        "#**BI TERM TOPIC MODEL ALGORITHM**\n",
        "\n"
      ]
    },
    {
      "cell_type": "code",
      "metadata": {
        "colab": {
          "base_uri": "https://localhost:8080/"
        },
        "id": "OkNTH747so0G",
        "outputId": "873769e5-d6dd-4e23-dcf2-a0e986a7d3ea"
      },
      "source": [
        "!pip install biterm"
      ],
      "execution_count": null,
      "outputs": [
        {
          "output_type": "stream",
          "text": [
            "Collecting biterm\n",
            "\u001b[?25l  Downloading https://files.pythonhosted.org/packages/36/ca/5a43511e6ea8ca02cc9e8be1b8898ad79b140c055d4400342dc210ba23bb/biterm-0.1.5.tar.gz (79kB)\n",
            "\r\u001b[K     |████▏                           | 10kB 16.6MB/s eta 0:00:01\r\u001b[K     |████████▎                       | 20kB 11.3MB/s eta 0:00:01\r\u001b[K     |████████████▍                   | 30kB 8.1MB/s eta 0:00:01\r\u001b[K     |████████████████▌               | 40kB 7.0MB/s eta 0:00:01\r\u001b[K     |████████████████████▋           | 51kB 4.4MB/s eta 0:00:01\r\u001b[K     |████████████████████████▊       | 61kB 5.0MB/s eta 0:00:01\r\u001b[K     |████████████████████████████▉   | 71kB 5.1MB/s eta 0:00:01\r\u001b[K     |████████████████████████████████| 81kB 3.7MB/s \n",
            "\u001b[?25hRequirement already satisfied: numpy in /usr/local/lib/python3.6/dist-packages (from biterm) (1.18.5)\n",
            "Requirement already satisfied: tqdm in /usr/local/lib/python3.6/dist-packages (from biterm) (4.41.1)\n",
            "Requirement already satisfied: cython in /usr/local/lib/python3.6/dist-packages (from biterm) (0.29.21)\n",
            "Requirement already satisfied: nltk in /usr/local/lib/python3.6/dist-packages (from biterm) (3.2.5)\n",
            "Requirement already satisfied: six in /usr/local/lib/python3.6/dist-packages (from nltk->biterm) (1.15.0)\n",
            "Building wheels for collected packages: biterm\n",
            "  Building wheel for biterm (setup.py) ... \u001b[?25l\u001b[?25hdone\n",
            "  Created wheel for biterm: filename=biterm-0.1.5-cp36-cp36m-linux_x86_64.whl size=195418 sha256=5fb0cb0da85e9c40bdac03e2f5baf1aac86a411fdc1cc87d1092072a80651998\n",
            "  Stored in directory: /root/.cache/pip/wheels/86/04/10/231fb1d39d86ab58c2683fd3d4fe8415a5bc284ba8a20fd638\n",
            "Successfully built biterm\n",
            "Installing collected packages: biterm\n",
            "Successfully installed biterm-0.1.5\n"
          ],
          "name": "stdout"
        }
      ]
    },
    {
      "cell_type": "code",
      "metadata": {
        "id": "z5b2nabjdjiY"
      },
      "source": [
        "import AlgorithmBITERM as biterm"
      ],
      "execution_count": null,
      "outputs": []
    },
    {
      "cell_type": "code",
      "metadata": {
        "colab": {
          "base_uri": "https://localhost:8080/"
        },
        "id": "uCVvlk-sdm4b",
        "outputId": "42a5a47a-810c-4104-be9b-09bc87e7056f"
      },
      "source": [
        "topics= biterm.BITERM_MODEL(tf,vectorizer)"
      ],
      "execution_count": null,
      "outputs": [
        {
          "output_type": "stream",
          "text": [
            "100%|██████████| 100/100 [00:15<00:00,  6.30it/s]\n",
            "/content/AlgorithmBITERM.py:8: RuntimeWarning: invalid value encountered in true_divide\n",
            "  topics = btm.fit_transform(biterms, iterations=100)\n"
          ],
          "name": "stderr"
        }
      ]
    },
    {
      "cell_type": "code",
      "metadata": {
        "colab": {
          "base_uri": "https://localhost:8080/"
        },
        "id": "GKolrLL8rHug",
        "outputId": "3f733fb4-bfa9-468e-a4d4-2353b5f095a1"
      },
      "source": [
        "topics[0]"
      ],
      "execution_count": null,
      "outputs": [
        {
          "output_type": "execute_result",
          "data": {
            "text/plain": [
              "array([2.39932210e-01, 1.96595783e-01, 2.08071053e-01, 1.09647136e-06,\n",
              "       1.93959615e-06, 1.69028232e-02, 1.78074150e-08, 3.09537899e-06,\n",
              "       1.94498525e-06, 2.74915359e-08, 5.51558343e-03, 1.51342378e-04,\n",
              "       7.55696870e-05, 2.42146828e-01, 5.14171205e-08, 2.23533234e-08,\n",
              "       5.42618022e-08, 2.63114345e-08, 9.05934883e-02, 7.04322470e-06])"
            ]
          },
          "metadata": {
            "tags": []
          },
          "execution_count": 96
        }
      ]
    },
    {
      "cell_type": "code",
      "metadata": {
        "id": "RFmjTZOlaMXY"
      },
      "source": [
        "texts= tweets_dataset['clean_tweet'].values"
      ],
      "execution_count": null,
      "outputs": []
    },
    {
      "cell_type": "code",
      "metadata": {
        "colab": {
          "base_uri": "https://localhost:8080/"
        },
        "id": "2E4LaGosZ_3O",
        "outputId": "ac2effe2-4958-404f-a11f-17a0b816ccbb"
      },
      "source": [
        "for i in range(len(topics)):\n",
        "        print(\"{} (topic: {})\".format(texts[i], topics[i].argmax()))\n",
        "        "
      ],
      "execution_count": null,
      "outputs": [
        {
          "output_type": "stream",
          "text": [
            "global warm report urg govern act brussel belgium ap world face increas hunger  (topic: 13)\n",
            "fight poverti global warm africa  (topic: 18)\n",
            "carbon offset vatican forest fail reduc global warm  (topic: 2)\n",
            "carbon offset vatican forest fail reduc global warm  (topic: 2)\n",
            "uruguay tool need vulner climat chang  (topic: 0)\n",
            " ocean salti show global warm intensifi water cycl  (topic: 2)\n",
            "global warm evid around us messag global warm denier doubter look around  (topic: 18)\n",
            "migratori bird new climat chang strategi stay home  (topic: 0)\n",
            "southern africa compet limpopo water climat chang bring higher temperatur south  (topic: 0)\n",
            "global warm impact wheat rice product india ludhiana apr  scarciti water seriou  (topic: 2)\n",
            "solv global warm thing  (topic: 2)\n",
            "blog preliminari analysi suggest natur ga could contribut far global warm previous  (topic: 1)\n",
            "ecoton #climate chang #population perspect  (topic: 0)\n",
            "climat chang blame coastal whale migrat dwindl à ventura counti  (topic: 0)\n",
            "spring storm season start littl late year must global warm  (topic: 2)\n",
            "govern report say global warm may caus cancer mental ill cnsnew com  (topic: 13)\n",
            "#earthday global warm could affect patient symptom  (topic: 1)\n",
            "wait idea natur climat chang human induc global warm  (topic: 0)\n",
            "epa issu report u climat chang indic warm measur effect across ecosystem  (topic: 0)\n",
            "qut research track climat chang  (topic: 0)\n",
            "global warm ocean chemistri chang faster   year carbon  (topic: 2)\n",
            "topographi mountain could complic rate global warm sciencedaili apr   à new studi concl  (topic: 1)\n",
            "soar mercuri blame global warm agartala apr  environmentalist attribut  (topic: 2)\n",
            " leader nation indigen women org climat chang abt climat abt r live  (topic: 16)\n",
            " report increas sediment upper atmosph could reduc global warm effect reduc su (topic: 1)\n",
            "effect global warm à youtub à effect global warm stat back news today ama  (topic: 1)\n",
            "global climat chang warm #ac read www associatedcont com articl  global climat chang global warm htm (topic: 0)\n",
            "preliminari analysi suggest natur ga could contribut far global warm previous thought  (topic: 1)\n",
            "scienc scientist explor evolut climat chang  (topic: 9)\n",
            "eaarth global warm stay deal  (topic: 2)\n",
            "allergi wors ever blame global warm  (topic: 1)\n",
            " good auth tht global warm also caus toe fungu r fortun tht thr global warm #tcot (topic: 13)\n",
            "illeg war myth global warm main campaign platform elect illeg  (topic: 2)\n",
            "scientif commun scame global green gov warm scam  (topic: 13)\n",
            "truli fat ass gore get scam artist award decad global warm energi credit worth close billion  (topic: 0)\n",
            " degre nyc pleas urin next liber global warm climat chang scum see  (topic: 0)\n",
            " hey al gore see tornado race across mississippi much global warm #tornadocot #ocra #sgp #gop #ucot #tlot #p #tycot (topic: 2)\n",
            "#justinbiebersucks global warm farc (topic: 2)\n",
            "one stop book stop confirm global warm settl à scam wnd com sussman book  (topic: 2)\n",
            "rationalist believ alien exist global warm caus human might well believ jesu miracl angel fairi #tcot #p (topic: 13)\n",
            "air ban led flaw comput model global warm come mind  (topic: 2)\n",
            "proof climat chang  ft killer tsunami creat peruvian lake glacier fractur fall lake  (topic: 0)\n",
            " real scienc algor climat chang scienc hack man made global warm hoax gore pa (topic: 0)\n",
            " anti global warm scientist wrong stranger natur magazin academ journal int  (topic: 2)\n",
            "global warm baloney accord expert nasa differ weather climat measur  (topic: 13)\n",
            "comput forens expert still idiot beliv global warm true  (topic: 2)\n",
            "liber looney toon global warm alarmist come home artic frost bite gather com wont learn huh lo  (topic: 2)\n",
            "despit climateg left invest heavili global warm hysteria new way  impos nat l intern control human freedom  (topic: 13)\n",
            "global warm tube explan enjoy #ipcc #teaparty  (topic: 2)\n",
            "immigr reform climat chang tale two issu senat  (topic: 6)\n",
            "memo white hous correspond dinner want green report climat chang never  (topic: 13)\n",
            "view global warm vari three countri angu reid global monitor peopl three countri hold  (topic: 2)\n",
            "scenario challeng california climat chang law sourc reuter peter henderson san francisco april   (topic: 6)\n",
            "climat lindsay graham support climat chang legisl chang today lindsey graham  (topic: 0)\n",
            "arizona immigr law climat chang legisl stall issu congress focu poll  (topic: 6)\n",
            "graham exit talk put climat chang bill limbo climat chang bill schedul unveil  (topic: 15)\n",
            "us climat chang bill stall senat  (topic: 6)\n",
            "peopl world grand rapid mich oppon climat chang legisl typic argu regul globa  (topic: 0)\n",
            "cnnbrk sen graham move imperil dem push immigr climat chang bill  (topic: 15)\n",
            "cafe scientifiqu present global warm talk film april cafe scientifiqu present  (topic: 1)\n",
            "check video busi climat chang confer   (topic: 0)\n",
            "brilliant tip valentin day scream à à climat chang clinic trial collagen cliniqu clip  (topic: 8)\n",
            "usa climat chang polici updat april    (topic: 6)\n",
            " press releas april  climat chang negoti agre intensifi  (topic: 6)\n",
            " global warm clearli  (topic: 2)\n",
            "postpartisan harri reid hapless play immigr climat chang  (topic: 6)\n",
            "foe california global warm law pour money campaign delay  (topic: 2)\n",
            "earth day live chat carol browner director offic energi climat chang polici obama admin  (topic: 5)\n",
            "klein   chanc senat pass climat chang bill year  (topic: 15)\n",
            " ye heard least one person make connect volcano global warm  (topic: 2)\n",
            " nasa chang fact guess thought wouldnt notic #global warm #climate chang #eco  (topic: 0)\n",
            "religi spin climat chang  (topic: 0)\n",
            "environment group prais basic meet climat chang environment group give qualifi prais  (topic: 0)\n",
            "third american believ global warm human caus bob elli april th  good news  (topic: 13)\n",
            "global warm heart earth day thousand perhap million consciou action  (topic: 18)\n",
            "climat data suggest global warm assumpt  (topic: 13)\n",
            "global warm fiction fact denier claim either global warm due  (topic: 2)\n",
            " b cast interview minnesotan global warm fight youtub takedown  (topic: 18)\n",
            "oppon ramp effort delay calif global warm law  (topic: 2)\n",
            "mani awar world peopl confer climat chang earth right bolivia #earthweek #indigenous #stnations (topic: 0)\n",
            "sorri abl accept invit panelist bolivia climat chang talk  (topic: 0)\n",
            " climat scientist sue newspap poison global warm debat  (topic: 2)\n",
            "rt sharifkoudd indigen group across bolivia arriv world peopl confer climat chang  (topic: 0)\n",
            "recycl water meat global warm peanut rare grape  (topic: 2)\n",
            "great articl  (topic: 0)\n",
            "cuccinelli file motion forc epa reopen global warm find virginia attorney gener ken cuccinelli ha  (topic: 2)\n",
            "blankenship mine safeti regul silli global warm  (topic: 2)\n",
            "bring back hair nanogen nanofib climat chang clinic trial collagen  (topic: 8)\n",
            "street corner global warm counsel urgh certain element item sunday washington post à five myth  (topic: 2)\n",
            "religi take climat chang  (topic: 17)\n",
            "readi climat chang pli environment regul commerci implic   (topic: 0)\n",
            "live tonight fellow heather roger join climat chang expert jame hansen discuss real solut climat  (topic: 16)\n",
            "plan b california brace climat chang  (topic: 0)\n",
            "plant effect way tackl global warm washington apr  plant leav account less one per  (topic: 1)\n",
            "   degre nyc shiiiiiitttt fuck glodman sach obama better get plan  global warm (topic: 2)\n",
            "plant effect way tackl global warm washington apr  plant leav account less one per  (topic: 1)\n",
            "climat chang sustain key driver futur econom develop listen  (topic: 0)\n",
            "freder hagu #pen climat chang alarm bell whole blink discotech (topic: 0)\n",
            "us gener say climat chang threaten america secur pentagon made well known consid  (topic: 9)\n",
            "even gener know climat chang go screw us  (topic: 9)\n",
            "govern report say global warm may caus cancer mental ill  (topic: 13)\n",
            " climat chang increas heat wave flood epa  (topic: 0)\n",
            " plant remain effect way tackl global warm  (topic: 1)\n",
            "far class gotten heat discuss global climat chang denier w student noth fault  (topic: 0)\n",
            " global warm kill forest colorado  (topic: 2)\n",
            "epa confirm climat chang anoth display sea chang occur us environment p  (topic: 9)\n",
            "must see place disappear europ pic global warm predict prove true foll  (topic: 2)\n",
            " combat climat chang lesson world à indigen peopl  (topic: 0)\n",
            " live ct pleas support climat bill strong action climat chang  (topic: 0)\n",
            " indigen tradit use fight climat chang  (topic: 14)\n",
            " jame hansen heather roger green gone wrong fals hope real solut climat chang pm    (topic: 13)\n",
            "climat chang forest absorb carbon say activist  (topic: 9)\n",
            "climat chang forest absorb carbon say activist  (topic: 9)\n",
            "climat chang forest absorb carbon say activist  (topic: 9)\n",
            "climat chang melt two glacier bill mont glacier nation park lost two namesak  (topic: 15)\n",
            "climat chang forest absorb carbon say activist  (topic: 9)\n",
            "climat chang forest absorb carbon say activist  (topic: 9)\n",
            "climat chang forest absorb carbon  (topic: 9)\n",
            " beauti fall weather morn new york thank climat chang bleh  (topic: 0)\n",
            "beauti fall weather morn new york thank climat chang bleh  (topic: 0)\n",
            "climat chang threaten japan cherri blossom environ familiar cultur japan  (topic: 0)\n",
            "wed podcast mountain vs valley temp stretch apart climat chang  (topic: 0)\n",
            "mountain vs valley temp stretch apart climat chang  (topic: 0)\n",
            "climat chang forest absorb carbon say activist  (topic: 9)\n",
            "global warm report urg govern act brussel belgium ap world face increas hunger  (topic: 13)\n",
            "arctic rain april sign global warm canadian arctic hit rain sign  (topic: 1)\n",
            "arctic rain april sign global warm canadian arctic hit rain sign  (topic: 1)\n",
            " global warm kill forest colorado  (topic: 2)\n",
            "microb contribut less global warm new conn  (topic: 13)\n",
            "microb contribut less global warm new conn  (topic: 13)\n",
            "south asian nation fight climat chang foreign minist eight south asian nation met seclud h  (topic: 14)\n",
            "climat chang increas heat wave flood washington reuter death heat wave properti damag  (topic: 0)\n",
            "jame hansen heather roger green gone wrong fals hope real solut climat chang pm    (topic: 13)\n",
            "love frog leap serious climat chang mean wine industri via  (topic: 0)\n",
            "report save whale save us global warm  (topic: 13)\n",
            " contribut organ agricultur climat chang mitig  (topic: 0)\n",
            "arctic beauti black white alaska effect global warm slide show toward end wor  (topic: 1)\n",
            "#epa report document real impact #climate chang   indic studi  (topic: 0)\n",
            "#canadian #ceos keen #green global counterpart prepar impact climat chang  (topic: 0)\n",
            " ask g g support #biochar fight climat chang food shortag check huffpo post  (topic: 14)\n",
            " whale doodoo could help fight #climate chang sure  (topic: 0)\n",
            "global warm scienc good news soil releas less carbon though world warm  (topic: 2)\n",
            "april th phoenix  á weather might snow new york today hmmmm global warm much  (topic: 13)\n",
            "higher temperatur sea level due global warm kuala lumpur malaysia averag temperatur risen    (topic: 2)\n",
            "higher temperatur sea level due global warm kuala lumpur malaysia averag temperatur risen    (topic: 2)\n",
            "west mediterranean countri unit climat chang afp  (topic: 0)\n",
            "cleaner air could speed global warm hugh picken write \\scientist estim us clean air act cut  (topic: 13)\n",
            "  busi creat new ad climat chang action  (topic: 0)\n",
            "person # snow  degre day weather even surpris anymor person # global warm win  (topic: 18)\n",
            "heard interest report report understand climat chang climat variabl influenc human evolut dispersa (topic: 0)\n",
            " global warm kill forest colorado  (topic: 2)\n",
            " alaska effect global warm pic  (topic: 1)\n",
            "new blog post mandat energi benchmark next step citi address #climate chang  (topic: 0)\n",
            "realdocwatson global warm go antarctica stake claim like florida year  (topic: 2)\n",
            "much troubl global warm mean agricultur ask wine industri  (topic: 2)\n",
            "arctic beauti black white alaska effect global warm slide show  (topic: 1)\n",
            "climat chang pari alp european place peril photo  (topic: 0)\n",
            "climat chang chang elector map nation ocean atmospher administr known  (topic: 0)\n",
            "report cleaner air could actual intensifi global warm much world mark earth day past week environment  (topic: 18)\n",
            " global warm kill forest colorado  (topic: 2)\n",
            "global warm threat tim blair round latest news wild frontier global  (topic: 2)\n",
            "kuna indian prepar reloc tradit home sink due climat chang  (topic: 0)\n",
            "global warm kill california wine buzz dr kimberley cahil present climat chang califor  (topic: 0)\n",
            " uncajo plz rt #digg climat hate polit climat chang denial h  (topic: 0)\n",
            "global warm ocean chemistri chang faster   year carbon  (topic: 2)\n",
            "global warm ocean chemistri chang faster   year carbon  (topic: 2)\n",
            "good go douch sure climat chang backass world graham move imperil obama agenda  (topic: 0)\n",
            "ski resort fight global warm salt lake citi ap ski resort across u use thanksgiv  (topic: 0)\n",
            "ski resort fight global warm salt lake citi ap ski resort across u use thanksgiv  (topic: 0)\n",
            "bat bird lizard fight climat chang eat insect bird bat lizard may play import  (topic: 14)\n",
            " make green cloud comput contribut climat chang  (topic: 13)\n",
            " climat chang favor invas speci indigen one  plant thoreau saw extinct  (topic: 0)\n",
            "scari climat chang alter u season spring  day earli  (topic: 0)\n",
            " pre evo moral climat chang lesson indigen peopl  (topic: 0)\n",
            " global warm kill forest colorado  (topic: 2)\n",
            "mediaglob report special tip point earth day event scienc art mobil fight climat chang  (topic: 5)\n",
            "review yesterday discuss  (topic: 0)\n",
            "global warm kill forest colorado  (topic: 2)\n",
            "combat climat chang lesson world indigen peopl arriv unit nation climat  (topic: 0)\n",
            "africa meteorolog servic gear climat chang contin vulner climat c  (topic: 0)\n",
            "gecko  first step greener live seem daunt climat chang carbon credit mention  (topic: 9)\n",
            "china key fix global warm rapid expans come sizabl environment impact world  (topic: 2)\n",
            "china key fix global warm rapid expans come sizabl environment impact world  (topic: 2)\n",
            "pb go green new york examin new yorker confront climat chang check local list  (topic: 13)\n",
            "offici nasa report sun caus climat chang  (topic: 13)\n",
            " well crazi coal ceo call mine safeti rule silli global warm  (topic: 2)\n",
            " impact climat chang extend human health  (topic: 0)\n",
            "impact climat chang extend human health  (topic: 0)\n",
            "good news bad news climat chang rebecca solnit  (topic: 0)\n",
            "alpha phi alpha take climat chang energi effici  (topic: 0)\n",
            "gecko  first step greener live seem daunt climat chang carbon credit mention  (topic: 9)\n",
            "natur variabl explain global warm climat scientist tell popular tv meteorologist  (topic: 2)\n",
            "rebecca solnit  degre insepar good news bad news climat chang  (topic: 0)\n",
            "watch video climat chang threaten sacr tibetan mountain includ land known shangri la  (topic: 0)\n",
            "african meteorolog servic gear climat chang america gov #iri  (topic: 0)\n",
            "economist say climat chang bad economi  (topic: 9)\n",
            "economist say climat chang bad economi  (topic: 9)\n",
            "report allergi season get wors climat chang time com  (topic: 0)\n",
            "à kill bill à save climat chang account act  (topic: 0)\n",
            " #climate chang make farmer pastoralist #ethiopia increasingli vulner  (topic: 0)\n",
            "deni hay founder earth day compar global climat chang irish famin irishcentr news weather polit  (topic: 5)\n",
            " #climate chang make farmer pastoralist #ethiopia increasingli vulner  (topic: 0)\n",
            "#earthday awar consum wast treat place  see global warm effect (topic: 1)\n",
            "earth day ben verwaayen curb climat chang  (topic: 5)\n",
            "health u industri nation alreadi feel impact climat chang report  (topic: 0)\n",
            "health u industri nation alreadi feel impact climat chang report  (topic: 0)\n",
            "health u industri nation alreadi feel impact climat chang report  (topic: 0)\n",
            "health u industri nation alreadi feel impact climat chang report  (topic: 0)\n",
            "gecko  first step greener live seem daunt climat chang carbon credit mention  (topic: 9)\n",
            " first step greener live seem daunt climat chang carbon credit mention biofuel  (topic: 9)\n",
            "climat chang could rais cost u allergi reuter  (topic: 0)\n",
            "treat climat chang curabl diseas bioethicist intern law expert met asilomar later la  (topic: 0)\n",
            "treat climat chang curabl diseas bioethicist intern law expert met asilomar later la  (topic: 0)\n",
            "well crazi coal ceo call mine safeti rule silli global warm  (topic: 2)\n",
            "militari lead fight climat chang  (topic: 14)\n",
            "militari lead fight climat chang u militari govern largest fuel buyer lead th  (topic: 0)\n",
            " first step greener live seem daunt climat chang carbon credit mention biofuel  (topic: 9)\n",
            "swedish expert say co main caus global warm swedish climat expert dr fred goldberg said  (topic: 13)\n",
            "fight poverti global warm africa  (topic: 18)\n",
            " treat climat chang curabl diseas wire scienc wire com #green  (topic: 0)\n",
            " (topic: 0)\n",
            "thursday pb go green new york examin new yorker confront climat chang check local list  (topic: 13)\n",
            "un à global cooper prevent runaway climat chang secretari à unit nation seek dialogu  (topic: 0)\n",
            "carbon offset vatican forest fail reduc global warm  (topic: 2)\n",
            "carbon offset vatican forest fail reduc global warm  (topic: 2)\n",
            "rt import event struggl climat chang nigerian environmentalist nnimmo bassey  (topic: 0)\n",
            "militari lead fight climat chang pew  (topic: 14)\n",
            "report identifi  diseas health issu affctd climat chang u incld mental health evryth stake  (topic: 0)\n",
            "earth day resourc cope climat chang  (topic: 5)\n",
            "ocean salti show global warm intensifi water cycl  (topic: 2)\n",
            "ocean salti show global warm intensifi water cycl  (topic: 2)\n",
            "fedel bauccio combat climat chang one meal time week american celebr th anniv  (topic: 0)\n",
            " support world peopl conf climat chang cochabamba bolivia watch live  (topic: 0)\n",
            "barrett better lot small protocol climat chang push one comprehens one (topic: 0)\n",
            "topographi mountain could complic rate global warm  (topic: 1)\n",
            " support world peopl confer climat chang cochabamba bolivia watch live  (topic: 0)\n",
            "mani global issu requir univers co oper address e g smallpox ozon layer climat chang (topic: 0)\n",
            " bolivia presid global warm  (topic: 2)\n",
            " boil point contain spill climat chang indian subcontin à  (topic: 0)\n",
            "link eyjafjallaj kull climat chang warm world could trigger earthquak landslid  (topic: 0)\n",
            "uruguay tool need vulner climat chang  (topic: 0)\n",
            "uruguay tool need vulner climat chang  (topic: 0)\n",
            "uruguay tool need vulner climat chang  (topic: 0)\n",
            "carbon offset vatican forest fail reduc global warm  (topic: 2)\n",
            "carbon offset vatican forest fail reduc global warm  (topic: 2)\n",
            "ethiopia climat chang increas poverti vulner  (topic: 0)\n",
            "ethiopia climat chang increas poverti vulner small scale farmer pastoralist  (topic: 0)\n",
            " import event struggl climat chang nigerian environmentalist nnimmo bassey à  (topic: 0)\n",
            "import event struggl climat chang nigerian environmentalist nnimmo bassey à  (topic: 0)\n",
            " ocean salti show global warm intensifi water cycl  (topic: 2)\n",
            " background china major polici tackl climat chang sinc year   (topic: 0)\n",
            "uw biologist link earli bloom global warm associ press april     et steven point  (topic: 1)\n",
            "uw biologist link earli bloom global warm associ press april     et steven point  (topic: 1)\n",
            "global warm evid around us messag global warm denier doubter look around  (topic: 18)\n",
            "global warm evid around us messag global warm denier doubter look around  (topic: 18)\n",
            "global warm evid around us messag global warm denier doubter look around  (topic: 18)\n",
            "global warm make iceland volcano angri melt glacier around world could trigger global  (topic: 2)\n",
            "global warm make iceland volcano angri melt glacier around world could trigger global  (topic: 2)\n",
            "climat chang could nyc get katrina like flood warmer wetter futur sea level rise  feet yr  (topic: 0)\n",
            "climat chang geologist drill antarctica find troubl sign  ice sheet futur à melt could come fast  (topic: 0)\n",
            "either capit die mother earth evo moral claim peopl world confer climat chang  (topic: 0)\n",
            " yet anoth gift global warm increas allergi attack  (topic: 1)\n",
            "africa time bomb await africa doubt climat chang environment issu ha  (topic: 0)\n",
            "buy carbon offset may eas eco guilt global warm  (topic: 2)\n",
            " eye #cochabamba alrdi suffer global warm havechancetospeakout  (topic: 2)\n",
            " #ecomonday discuss climat chang invas speci recommend  (topic: 0)\n",
            "migratori bird new climat chang strategi stay home  (topic: 0)\n",
            "ocean floor popul organ despit littl oxygen global warm caus oxygen deplet reduc biodivers (topic: 13)\n",
            "join us discuss earth day   climat chang food secur irrevers destini  (topic: 5)\n",
            " new york citi new waterfront plan take climat chang consider  (topic: 17)\n",
            "pat mooney danger geoengin manipul planet combat climat chang  (topic: 0)\n",
            "season allergi get wors climat chang  (topic: 0)\n",
            "believ global warm peep think believ god instead  (topic: 2)\n",
            "season allergi get wors climat chang  (topic: 0)\n",
            "season allergi get wors climat chang  (topic: 0)\n",
            " advis everyon think global warm dead buy oceanfront properti live see ya  (topic: 2)\n",
            "global warm melt ice cap could help trigger volcan erupt  (topic: 1)\n",
            "mari ellen hart john hart address climat chang win war sustain heart clim  (topic: 0)\n",
            " state dept declar global warm unequivoc primarili human induc  (topic: 2)\n",
            "increasingli corpor conclud climat chang real bet climat chang wire com  (topic: 0)\n",
            "right richard branson #earthday messag  biz get ur hous order fight global warm #green #eco  (topic: 0)\n",
            "#meat wise cynthia bateman meat wise monday anim agricultur make global warm wors  (topic: 2)\n",
            "global warm melt ice cap could help trigger volcan erupt  (topic: 1)\n",
            "state dept declar global warm unequivoc primarili human induc  (topic: 2)\n",
            "global warm melt ice cap could trigger volcan erupt  (topic: 1)\n",
            " hey came kind idea fix global warm love environment class sigh  (topic: 2)\n",
            "overview green car revolut go green increas awar threat global warm  (topic: 13)\n",
            "southern africa compet limpopo water climat chang bring higher temperatur south  (topic: 0)\n",
            "nd erupt hekla iceland let call  year earth struck back global warm oil spill  (topic: 18)\n",
            " climat chang place see disappear à america photo  (topic: 0)\n",
            " bishop lane #episcopal dio #maine climat chang import issu time #bangor daili nw  (topic: 0)\n",
            " case wonder impact volcano iceland climat chang  (topic: 13)\n",
            "cool global warm bad enough without heat thing interest honest discuss  (topic: 2)\n",
            " climat chang migrat pattern chang  billion bird  (topic: 0)\n",
            " climat chang place see disappear à america photo  (topic: 0)\n",
            "volcan ash cloud global warm may trigger volcano climat chang could spark hazard  (topic: 13)\n",
            "volcan ash cloud global warm may trigger volcano climat chang could spark hazard  (topic: 13)\n",
            "brief global cool volcano via wonder get stratospher slow improv global warm  (topic: 2)\n",
            "climat chang ing allergi  (topic: 0)\n",
            " climat chang place see disappear à america photo  (topic: 0)\n",
            "obama say china wait climat chang sydney afp april   us presid barack obama thursd  (topic: 13)\n",
            " climat chang denier bobbi jindal mock volcano warn read paper late start think (topic: 13)\n",
            " cara mert #tedxvolcano strand weekend get sneak preview climat chang adapt  (topic: 0)\n",
            "larri brilliant #tedxvolcano fight scienc singl import thing face climat chang #socmedia  (topic: 14)\n",
            "larri brilliant tedxvolcano fight scienc singl import thing face climat chang #socent #gree (topic: 14)\n",
            "damn man ash cloud europ crazi say due global warm volcano activ get crazi (topic: 2)\n",
            " larri brilliant #tedxvolcano climat chang exacerb crise age climat scienc attack  (topic: 0)\n",
            " climat chang place see disappear à america photo  (topic: 0)\n",
            "global warm impact wheat rice product india ludhiana apr  scarciti water seriou  (topic: 2)\n",
            "global warm caus volcano erupt jonah goldberg reuter oslo reuter thaw iceland  (topic: 13)\n",
            "global warm impact wheat rice product india ludhiana apr  scarciti water seriou  (topic: 2)\n",
            " bring indigen voic convers climat chang  (topic: 0)\n",
            "climat chang volcan activ ice cap thaw may awaken iceland volcano  (topic: 13)\n",
            " à rain amazon south america à climat chang affect entir planet à interview nikola kozloff vid  (topic: 0)\n",
            "climat chang place see disappear à america photo  (topic: 0)\n",
            " hmmm rather buri lede iceland glacier melt global warm volcano go  (topic: 2)\n",
            "sure consensu scientist warn climat chang lead volcano crise due melt ice  (topic: 13)\n",
            "wish cochabamba peopl world confer climat chang right mother earth  (topic: 0)\n",
            "feel alreadi climat chang make season allergi wors near record high spring  (topic: 0)\n",
            " climat chang make season allergi wors near record high spring  (topic: 0)\n",
            "like iceland volcan erupt disrupt air travel climat chang glacier thaw  (topic: 0)\n",
            "cochabamba summit offer new approach combat climat chang  (topic: 0)\n",
            "climat chang make sneez  (topic: 0)\n",
            "environ climat chang someth simpl remind comput user power workin  (topic: 0)\n",
            "professor perspect reason concern climat chang spring connecticut bring renew  (topic: 0)\n",
            "need switch renew energi climat scientist long warn us global warm acceler  (topic: 18)\n",
            "need switch renew energi climat scientist long warn us global warm acceler  (topic: 18)\n",
            "climat chang culprit chart pollen count  (topic: 0)\n",
            "coalit tire wait fight climat chang ground level  (topic: 14)\n",
            "allergi season worsen climat chang report new report releas wednesday nation wildlif  (topic: 0)\n",
            "coalit tire wait fight climat chang ground level  (topic: 14)\n",
            "author nikola kozloff rain amazon south america climat chang affect entir planet  (topic: 0)\n",
            "solv global warm thing  (topic: 2)\n",
            "coalit tire wait fight climat chang ground level  (topic: 14)\n",
            "coalit tire wait fight climat chang ground level  (topic: 14)\n",
            "coalit tire wait fight climat chang ground level  (topic: 14)\n",
            "solv global warm thing  (topic: 2)\n",
            "solv global warm thing  (topic: 2)\n",
            "report allergi season get wors climat chang time com  (topic: 0)\n",
            "cute mention global warm denialist send link finnish newspap articl purportedli refut  (topic: 2)\n",
            "nation energi industri necessari fight global warm  (topic: 18)\n",
            "blog preliminari analysi suggest natur ga could contribut far global warm previous  (topic: 1)\n",
            "iceland volcano like slow global warm vast cloud intensifi volcan erupt iceland  (topic: 2)\n",
            "iceland volcano like slow global warm vast cloud intensifi volcan erupt iceland  (topic: 2)\n",
            "read allergi wors ever blame global warm  (topic: 1)\n",
            "bn redd forest conserv partnership curb climat chang leav env l group indigen popul  (topic: 0)\n",
            " rd tbagger think climat chang seriou problem said ignor  (topic: 0)\n",
            "miss heat may affect futur climat chang  (topic: 0)\n",
            "climat chang build green economi  (topic: 13)\n",
            "climat chang threaten glacier nation park montana economi examin com  (topic: 0)\n",
            "new york climat chang could rais cost allergi  (topic: 0)\n",
            "ecoton #climate chang #population perspect  (topic: 0)\n",
            "climat chang blame coastal whale migrat dwindl à ventura counti  (topic: 0)\n",
            "think allergi bad wait climat chang kick michig  (topic: 0)\n",
            "exclus climat chang could rais cost u allergi reuter  (topic: 0)\n",
            "spring storm season start littl late year must global warm  (topic: 2)\n",
            "kenya extrem weather test pastoralist percept effect climat chang drought  (topic: 14)\n",
            "climat chang climat live treehugg  (topic: 16)\n",
            " major leagu basebal team throw curv climat chang denier  (topic: 0)\n",
            "climat chang  endang place save newsweek  (topic: 0)\n",
            "tip day plant one tree birthday plant absorb co help reduc global warm  (topic: 18)\n",
            "unit state must lead climat chang à kerri climat energi bill multipl benefit #green  (topic: 0)\n",
            "green net internet comput fight climat chang  (topic: 14)\n",
            "  busi creat new ad climat chang action cleantechnica  (topic: 0)\n",
            "green net internet comput fight climat chang internet softwar comput  (topic: 14)\n",
            "leak u document call à global regim à tackl climat chang  (topic: 0)\n",
            "climat chang  endang place save newsweek  (topic: 0)\n",
            "reinvent citi stop climat chang  (topic: 0)\n",
            "climat chang continu melt glacier nation park icon nation p  (topic: 0)\n",
            "climat chang  endang place save newsweek  (topic: 0)\n",
            "climat chang  endang place save newsweek  (topic: 0)\n",
            "abu dhabi face climat chang flood threat expert cultur societi arabia  (topic: 0)\n",
            "china activ seriou tackl climat chang say vice presid humani  (topic: 9)\n",
            "us china activ seriou tackl climat chang say vic  (topic: 9)\n",
            "studi se asia hit hard climat chang  (topic: 0)\n",
            "take action help protect wildlif habitat climat chang  (topic: 17)\n",
            "obama china must act soon climat chang  (topic: 0)\n",
            "capit à end climat chang climat chang end capit #degrowth  (topic: 0)\n",
            "take action help protect wildlif habitat climat chang  (topic: 17)\n",
            "take action help protect wildlif habitat climat chang  (topic: 17)\n",
            "take action help protect wildlif habitat climat chang  (topic: 17)\n",
            "demand congress take action climat chang pl sign petit  (topic: 17)\n",
            "take action help protect wildlif habitat climat chang  (topic: 17)\n",
            "take action help protect wildlif habitat climat chang  (topic: 17)\n",
            "carbon age kill us climat chang legisl  (topic: 9)\n",
            "obama say tv interview allow china wait tackl climat chang  (topic: 9)\n",
            "take action help protect wildlif habitat climat chang  (topic: 17)\n",
            "take action help protect wildlif habitat climat chang  (topic: 17)\n",
            "govern claim global warm may caus cancer  (topic: 13)\n",
            "govern claim global warm may caus cancer  (topic: 13)\n",
            "protect wildlif habitat climat chang  (topic: 0)\n",
            "take action help protect wildlif habitat climat chang  (topic: 17)\n",
            "plan b california brace climat chang  (topic: 0)\n",
            "take action help protect wildlif habitat climat chang  (topic: 17)\n",
            "nine scenario immin apocalyps à one global warm  (topic: 2)\n",
            "capit à end climat chang climat chang end capit #degrowth  (topic: 0)\n",
            "dc ft work greenpeac stop global warm   hr get involv call    greenpeac  (topic: 2)\n",
            "take action help protect wildlif habitat climat chang  (topic: 17)\n",
            "take action help protect wildlif habitat climat chang  (topic: 17)\n",
            " (topic: 0)\n",
            "take action help protect wildlif habitat climat chang  (topic: 17)\n",
            "take action help protect wildlif habitat climat chang  (topic: 17)\n",
            "govern report say global warm may caus cancer mental ill cnsnew com  (topic: 13)\n",
            "sec warn public held compani advis investor risk #climate chang  (topic: 0)\n",
            "save whale save us global warm  (topic: 18)\n",
            "al gore #ira snake come aisl long debat dawdl climat chang  (topic: 0)\n",
            "leader climat chang alway put back burner  (topic: 0)\n",
            " grape wrath much troubl #climate chang mean agricultur  (topic: 0)\n",
            "got allergi jonah goldberg blame global warm time magazin allergi wors ever blame  (topic: 1)\n",
            "climat chang allergi get wors  (topic: 0)\n",
            "watch pb dim sun #npr could cleaner air actual intensifi global warm  (topic: 1)\n",
            " peopl poor countri  time like affect disast caus climat chang develop world (topic: 13)\n",
            "got allergi jonah goldberg blame global warm time magazin allergi wors ever blame  (topic: 1)\n",
            "itali phd programm scienc manag climat chang phd programm scienc manag c  (topic: 0)\n",
            "oxfam climat chang devast rural ethiopian commun  (topic: 0)\n",
            "alexi believ put price global warm pollut spur develop altern technolog #p #ilse (topic: 2)\n",
            "go green olymp athlet push climat chang action  (topic: 17)\n",
            "dc ft work greenpeac stop global warm   hr get involv call    greenpeac  (topic: 2)\n",
            "health effect big deal impact climat chang extend human health  (topic: 14)\n",
            "climat chang caus chang ocean chemistri unpreced rate  (topic: 13)\n",
            "global warm good  (topic: 2)\n",
            "allergi wors ever blame global warm time com  (topic: 1)\n",
            " bat bird lizard fight #climate chang wire  (topic: 14)\n",
            "#earthday global warm could affect patient symptom  (topic: 1)\n",
            "sign #earthday petit take action climat chang via  (topic: 17)\n",
            "treat climat chang curabl diseas  (topic: 0)\n",
            "global warm believ vallejo time herald editori global warm keep debat honest  (topic: 2)\n",
            "see ccx member motorola work part solut address climat chang challeng  (topic: 0)\n",
            " bolivian presid blame capit global warm  (topic: 2)\n",
            "interest point macro prob like global warm never solv politician need solv immedi prob electio (topic: 2)\n",
            " yet anoth gift global warm increas allergi attack  (topic: 1)\n",
            "global climat chang effect mid contin download view anim  (topic: 14)\n",
            "readi climat chang let lawmak know tell sign petit drop hint  (topic: 0)\n",
            "umc expand climat chang polici carbon emiss reduct goal  (topic: 9)\n",
            " state dept declar global warm unequivoc primarili human induc  (topic: 2)\n",
            "allergi wors ever blame global warm thank unusu cold snowi winter follow earl  (topic: 1)\n",
            "ridicul give climat chang denier natur show keep sarah palin #discovery  (topic: 0)\n",
            "report #allergy season get wors #climate chang read realli suck  (topic: 0)\n",
            "coda automot laud innov technolog effort combat climat chang air pollut  (topic: 0)\n",
            "report claim climat chang blame increas allergi  (topic: 0)\n",
            "report claim climat chang blame increas allergi  (topic: 0)\n",
            "tulip mid april chicago love global warm  (topic: 1)\n",
            "global warm make allergi wors  million american hit asthma hardest wwf climatewir #globalwarming (topic: 1)\n",
            " degre april eh hellooo global warm nice meet u (topic: 1)\n",
            "rejoic ny time mention crop wild rel articl adapt agricultur climat chang  (topic: 0)\n",
            "u document call à global regim à tackl climat chang  (topic: 0)\n",
            "u document call à global regim à tackl climat chang  (topic: 0)\n",
            " two glacier gone namesak nat park due global warm usg report  (topic: 1)\n",
            " feel heat come climat chang erwin jackson climat institut  (topic: 0)\n",
            "uk lead way rt citi schumach colleg mobilis democraci tackl climat chang  (topic: 0)\n",
            "exclus climat chang could rais cost u allergi  (topic: 0)\n",
            " harvard mit receiv  million studi health environment impact climat chang  (topic: 0)\n",
            "sen kerri write hill today u must lead climat chang  (topic: 0)\n",
            "fight climat chang front  (topic: 14)\n",
            "fight climat chang front  (topic: 14)\n",
            "exclus climat chang could rais cost u allergi  (topic: 0)\n",
            "fight climat chang front  (topic: 14)\n",
            "fight climat chang front  (topic: 14)\n",
            "fight climat chang front  (topic: 14)\n",
            "fight climat chang front  (topic: 14)\n",
            " cloth industri start global warm first place yvon chouinard patagonia #fortunegree (topic: 2)\n",
            "fight climat chang front  (topic: 14)\n",
            "fight climat chang front  (topic: 14)\n",
            "filmmak travel globe find peopl fight climat chang  (topic: 14)\n",
            "filmmak travel globe find peopl fight climat chang filmmak travel globe find peopl  (topic: 14)\n",
            "rejoic ny time mention crop wild rel articl adapt agricultur climat chang  (topic: 0)\n",
            "effort remak america energi futur fight global warm could harm spur gulf #oilspill  (topic: 0)\n",
            "would catastroph climat chang chang averag person life think  unemploy everi planet sever decad (topic: 0)\n",
            "arctic ice loss acceler global warm research topnew new zealand global warm may get wors tha  (topic: 0)\n",
            "#california take lead #climate chang  (topic: 17)\n",
            "plant effect way tackl global warm washington apr  ani plant leav account less one  (topic: 1)\n",
            "namibia govt get activ climat chang  (topic: 0)\n",
            "plant effect way tackl global warm  (topic: 1)\n",
            "wait idea natur climat chang human induc global warm  (topic: 0)\n",
            "read us gener say climat chang threaten america secur  (topic: 9)\n",
            "glacial melt global warm could unplug volcano earthweek diari planet erupt glacial vol  (topic: 1)\n",
            " us militari gener admir climat chang threaten  (topic: 9)\n",
            "shore drill threaten wildlif contribut climat chang urg obama expand drill  (topic: 0)\n",
            "allgov news global warm bad à frozen reach canada warmer temperatur  (topic: 2)\n",
            "govern report say global warm may caus cancer mental ill new govern report say global warmin  (topic: 13)\n",
            "global warm pick steam obama top scienc advis say john p holdren obama top scienc advis di  (topic: 13)\n",
            " lyme diseas alreadi cost gt   billion year climat chang could make even pricier  (topic: 0)\n",
            "whale excrement check global warm topnew unit state new research carri australian antarc  (topic: 13)\n",
            "govern report say global warm caus cancer mental ill cnsnew com matt cover staff writer cn  (topic: 13)\n",
            "epa issu report u climat chang indic warm measur effect across ecosystem  (topic: 0)\n",
            "report save whale save us global warm need proof global warm probl  (topic: 13)\n",
            " wine grape becom best earli warn system effect global warm  (topic: 1)\n",
            "wine grape becom best earli warn system effect global warm  (topic: 1)\n",
            "epa climat chang indic report show evid global warm around us  (topic: 13)\n",
            "epa climat chang indic report show evid global warm natur resourc defens counc  (topic: 0)\n",
            "exclus climat chang could rais cost u allergi  (topic: 0)\n",
            "sy husin want know effect global warm malaysia  (topic: 1)\n",
            "cleaner air could speed global warm  (topic: 1)\n",
            "whale poo fight global warm rob mayeda lori preuitt star trek iv voyag home mani convinc  (topic: 18)\n",
            "exclus climat chang could rais cost u allergi  (topic: 0)\n",
            "new fact support global warm case recent letter writer charl kesner either touch reliabl ne  (topic: 13)\n",
            "qut research track climat chang  (topic: 0)\n",
            "studi climat chang threaten health  (topic: 0)\n",
            " slideshow alaska effect global warm  (topic: 1)\n",
            "vino verita delic wine grape becom best earli warn system effect global warm  (topic: 1)\n",
            "conserv intern give gift help prevent climat chang provid habitat endang speci  (topic: 17)\n",
            "conserv intern give gift help prevent climat chang provid habitat endang speci  (topic: 17)\n",
            "climat chang real climat chang consequ us  (topic: 9)\n",
            "global warm contribut rapidli increas ocean acidif us nation research council warn last  (topic: 18)\n",
            "global warm threaten ca mau provinc ca mau à southernmost provinc ca mau among local v  (topic: 2)\n",
            "global warm mean local storm  (topic: 2)\n",
            "could cleaner air actual intensifi global warm npr staff much world mark earth day past w  (topic: 18)\n",
            "renew energi advanc à ocean salti show global warm pull data   million salin  (topic: 0)\n",
            "key fix global warm china magazin late novemb  us energi secretari steven chu  (topic: 18)\n",
            "global warm ocean chemistri chang faster   year carbon  (topic: 2)\n",
            "topographi mountain could complic rate global warm sciencedaili apr   à new studi concl  (topic: 1)\n",
            "soar mercuri blame global warm agartala apr  environmentalist attribut  (topic: 2)\n",
            "africa monitor chang climat gather environment crisi present global warm  (topic: 0)\n",
            "volcan ash bad plane help reduc global warm  (topic: 1)\n",
            "ocean current still strong despit global warm research nasa discov ocean current  (topic: 2)\n",
            "ocean current still strong despit global warm research nasa discov ocean current  (topic: 2)\n",
            "long distanc journey fashion global warm may caus evolutionari chang bird migrat sourc  (topic: 13)\n",
            "funniest conserv comment day climat chang due increas heat earth core  (topic: 5)\n",
            "scientist say global warm affect marin life narragansett bay rhode island winter flounder longer  (topic: 2)\n",
            "red architect theimer global warm doubter stupid jame theimer known local environment  (topic: 2)\n",
            "indonesia tree program look reduc global warm plant tree one way help maintain natur pre  (topic: 1)\n",
            "earth day report climat chang endang health  (topic: 5)\n",
            "global climat chang global warm  (topic: 0)\n",
            "#cubeyond wlliam lau say climat chang happen must deal matter caus #chapmanu (topic: 13)\n",
            "chew focu way global warm caus redistribut plant anim speci  (topic: 13)\n",
            "militari lead fight climat chang pew  (topic: 14)\n",
            "royal societi stunner hazard geospher activ global warm link period except climat chan  (topic: 13)\n",
            "fight poverti global warm africa marc gunther       comment  view rare  (topic: 18)\n",
            "militari lead fight climat chang pew reuter  (topic: 14)\n",
            "spring come  day earlier u due climat chang  (topic: 0)\n",
            "nasa launch climat chang supercomput  (topic: 0)\n",
            " excel take even environment econom limit climat chang polici option link #climate #agw (topic: 17)\n",
            "key fix global warm china  (topic: 2)\n",
            " tonight   discuss climat chang women children famili commun  (topic: 0)\n",
            "babi boomer must tackl global warm anonym babi boomer enjoy peac larg  (topic: 2)\n",
            "#ocean salti show #global warm intensifi water cycl treehugg  (topic: 0)\n",
            "daniel c esti climat chang plan b bring greenhous ga emiss cap trade system tr  (topic: 0)\n",
            "militari lead fight climat chang pew washington reuter u militari govern larg  (topic: 0)\n",
            "global warm implic shorten bird migrat scienc codex global warm implic shorten bird  (topic: 2)\n",
            "nasa à gift earth climat chang supercomput  (topic: 0)\n",
            "daniel c esti climat chang plan b bring greenhous ga emiss cap trade system tr  (topic: 0)\n",
            "uw biologist link earli bloom global warm  (topic: 2)\n",
            "uw biologist link earli bloom global warm research say plant central wisconsin flower ear  (topic: 13)\n",
            "bolivian presid blame capit global warm environ news servic cochabamba bolivia april    (topic: 1)\n",
            "uruguay tool need vulner climat chang global geopolit net site ip acosta  (topic: 0)\n",
            "explos idea volcano cure global warm  (topic: 2)\n",
            " leader nation indigen women org climat chang abt climat abt r live  (topic: 16)\n",
            "see chang happen  part seri citi climat chang bbc worldnew  (topic: 0)\n",
            "carbon offset vatican forest fail reduc global warm christian scienc monitor scheme c  (topic: 2)\n",
            "buy carbon offset may eas eco guilt global warm  (topic: 2)\n",
            "pat mooney danger geoengin manipul planet combat climat chang  (topic: 0)\n",
            "iceland volcano impact global warm green transport bird alisa opar nasa satellit captur  (topic: 13)\n",
            "bird southern england suffer global warm  (topic: 2)\n",
            "video get focu back climat chang  (topic: 0)\n",
            "volcan ash cloud global warm may trigger volcano  (topic: 2)\n",
            "global warm blame european air traffic collaps financi global warm alter european w  (topic: 2)\n",
            "republican oppos global warm environment realli make sens oppos effort red  (topic: 2)\n",
            "safe secur nuclear energi must part climat chang solut  (topic: 0)\n",
            "global warm à eyjafjoel volcano trigger global warm  (topic: 2)\n",
            "state dept declar global warm unequivoc primarili human induc  (topic: 2)\n",
            "th us climat action report releas global warm unequivoc  (topic: 13)\n",
            "global warm melt ice cap could help trigger volcan erupt  (topic: 1)\n",
            "photo dare someon tell us climat chang real  (topic: 9)\n",
            "th us climat action report releas global warm unequivoc treehugg brian merchant brooklyn ne  (topic: 13)\n",
            "sinc man mother natur end global warm volcano earthquak #hekla #icelandic (topic: 2)\n",
            "blame volcano troubl sun global warm  (topic: 2)\n",
            "hot health remind global warm debat nearli scientist politician agre tha  (topic: 2)\n",
            "sinc man mother earth end global warm volcano earthquak #ashtag #hekla #icelandic (topic: 13)\n",
            " joe romm climat chang bfd quot joe biden  (topic: 0)\n",
            "reinvent citi stop climat chang green live idea  (topic: 16)\n",
            " major leagu basebal team throw curv climat chang denier cleantechnica  (topic: 0)\n",
            "cst lack air pollut bad global warm à pirat  (topic: 2)\n",
            "rt estim  billion bird chang migrat habit last decad due global warm  (topic: 0)\n",
            "global warm melt ice influenc magmat system told reuter  (topic: 2)\n",
            " report increas sediment upper atmosph could reduc global warm effect reduc su (topic: 1)\n",
            "volcan ash good thing block sun heat lessen air travel bye bye global warm #fb (topic: 2)\n",
            "cleaner air could speed global warm air pollut news  (topic: 1)\n",
            "leak u document call global regim tackl climat chang  (topic: 0)\n",
            "cleaner air could speed global warm aerosol pollut downsw help keep  (topic: 1)\n",
            "cleaner air could speed global warm aerosol pollut downsw help keep  (topic: 1)\n",
            "cleaner air could speed global warm  (topic: 1)\n",
            "cleaner air could speed global warm  (topic: 1)\n",
            "cleaner air could speed global warm  (topic: 1)\n",
            "effect global warm à youtub à effect global warm stat back news today ama  (topic: 1)\n",
            "global climat chang warm #ac read www associatedcont com articl  global climat chang global warm htm (topic: 0)\n",
            "global warm today à blog archiv à tackl global way present reduc greenhou  (topic: 2)\n",
            "coda automot laud effort combat climat chang air pollut  (topic: 0)\n",
            "ocean salti get weird à blame global warm indypost blog studi conduct scientist austral  (topic: 2)\n",
            "scienc scientist explor evolut climat chang  (topic: 9)\n",
            "preliminari analysi suggest natur ga could contribut far global warm previous thought  (topic: 1)\n",
            "scienc scientist explor evolut climat chang  (topic: 9)\n",
            "coalit tire wait fight climat chang ground level  (topic: 14)\n",
            "usc prof dan mazmanian money need adapt climat chang state press social justic issu #usc #sppd #kesto (topic: 0)\n",
            "iceland volcano unlik slow global warm scientist  (topic: 2)\n",
            "scienc scientist explor evolut climat chang  (topic: 9)\n",
            "iceland volcano unlik slow global warm scientist afp pari à big volcan erupt cool  (topic: 2)\n",
            "global warm may make cricket bat histori london cricket face bizarr threat follow european unio  (topic: 2)\n",
            "volcano unlik slow global warm richard ingham afpapril     eumesat satellit imag  (topic: 2)\n",
            "scienc scientist explor evolut climat chang  (topic: 9)\n",
            "fifti year ago teach preach global warm catastroph effect climat  (topic: 1)\n",
            "scienc scientist explor evolut climat chang  (topic: 9)\n",
            "presid barack obama say world cannot wait china commit tackl global warm  (topic: 13)\n",
            "obama china must act climat chang  (topic: 0)\n",
            "renew energi possibl solut global warm milton takei univers alumnu  deal  (topic: 18)\n",
            "effect global warm à youtub à impact climat chang mani predict effect en  (topic: 1)\n",
            "plz hlp fight global warm read post abt effect global warm  (topic: 1)\n",
            "un battl poverti global warm newkerala com onlin news un battl poverti global warm new  (topic: 13)\n",
            "eaarth global warm stay deal  (topic: 2)\n",
            "allergi wors ever blame global warm  (topic: 1)\n",
            "germani import partner us trade well fight climat chang  (topic: 9)\n",
            "global warm like worsen allergi main accord new report releas today nationa  (topic: 0)\n",
            "subtropoli u creativ solut global warm  feet ground  (topic: 1)\n",
            "global warm unemploy choos disast max jacob compani produc greenhous gase  (topic: 2)\n",
            "one explain extrem cold weather experienc winter one exampl global warm  (topic: 2)\n",
            " chang giant #glacier fall peru caus deadli tsunami  (topic: 13)\n",
            "green cement made rice may help tackl global warm london april  increas rise  (topic: 13)\n",
            "feel shift conscious k busi creat new ad climat chang action  (topic: 0)\n",
            "   busi creat new ad climat chang action cleantechnica  (topic: 0)\n",
            "global warm threaten armenia c higher temperatur  (topic: 2)\n",
            "climat chang deadli scientist suspect global warm may contribut strang death arctic bird  (topic: 2)\n",
            "green cement made rice may help tackl global warm london april  ani increas rise  (topic: 13)\n",
            " à green à cement made rice may help tackl global warm  (topic: 1)\n",
            "global warm point return global warm reach point return studi publish th  (topic: 2)\n",
            "world famou place endang global warm climatologist predict global warm right  (topic: 2)\n",
            "green cement made rice may help tackl global warm london april  increas rise  (topic: 13)\n",
            "latest weapon global warm fight à green cement made rice fiona macleod ruairi creaney scienti  (topic: 18)\n",
            "latest weapon global warm fight à green cement made rice  (topic: 18)\n",
            "cope global warm save util bill dealman view post dealman actual  (topic: 0)\n",
            "climat chang build green economi paul krugman nytim com  (topic: 13)\n",
            "clean technolog industri forecast strong due global warm concern april   mmd newswir  (topic: 1)\n",
            "porou materi reduc climat chang  (topic: 0)\n",
            "celebr earth day sign declar energi independ show senat demand action climat chang  (topic: 5)\n",
            "top u vacat spot becom endang landscap threaten global warm mine weather environment hazard populatio (topic: 1)\n",
            " leader fail address gravest threat world ever face pressur politician climat chang work  (topic: 0)\n",
            "glacier nation park lose two glacier due global warm thaindian com meena kar montana apr   (topic: 2)\n",
            "plant effect tackl global warm siliconindia account sign forgot password reset  (topic: 1)\n",
            "plant effect tackl global warm siliconindia account sign forgot password reset  (topic: 1)\n",
            "climat chang affect subterranean ecosystem chang ground higher concentr carbon  (topic: 9)\n",
            " gulf coast spill better give climat chang legisl momentum bigger tragedi even awar yet  (topic: 6)\n",
            "spill coal mine tragedi need alt energi gulf coast spill better give climat chang legisl momentum  (topic: 0)\n",
            "gulf coast spill better give climat chang legisl momentum bigger tragedi even awar yet #p (topic: 6)\n",
            "live green gone wrong fals hope real solut climat chang  (topic: 16)\n",
            " good auth tht global warm also caus toe fungu r fortun tht thr global warm #tcot (topic: 13)\n",
            "illeg war myth global warm main campaign platform elect illeg  (topic: 2)\n",
            " happen spring global warm care read live coldest winter ever fu (topic: 2)\n",
            "scientif commun scame global green gov warm scam  (topic: 13)\n",
            "truli fat ass gore get scam artist award decad global warm energi credit worth close billion  (topic: 0)\n",
            "hide declin global warm nut job current polici epic scam lie world #climategate #tcot #p (topic: 2)\n",
            " degre nyc pleas urin next liber global warm climat chang scum see  (topic: 0)\n",
            " hey al gore see tornado race across mississippi much global warm #tornadocot #ocra #sgp #gop #ucot #tlot #p #tycot (topic: 2)\n",
            "#justinbiebersucks global warm farc (topic: 2)\n",
            "one stop book stop confirm global warm settl à scam wnd com sussman book  (topic: 2)\n",
            "boycott siemen buy global warm climat chang advertis #tcot #sgp #teaparty (topic: 0)\n",
            "climat chang scam #wordslibshate (topic: 0)\n",
            "global warm vostok antarctica sit f windchil f  (topic: 2)\n",
            "global warm vostok antarctica sit f low forecast f  (topic: 2)\n",
            " scam anoth warmist rescu arctic cold global warm activist transport  (topic: 2)\n",
            "upset volcano caus global warm #climategate (topic: 13)\n",
            "rationalist believ alien exist global warm caus human might well believ jesu miracl angel fairi #tcot #p (topic: 13)\n",
            " hmmm global warm fraud  (topic: 2)\n",
            "air ban led flaw comput model global warm come mind  (topic: 2)\n",
            "monster chiller horror global warm  (topic: 2)\n",
            "proof climat chang  ft killer tsunami creat peruvian lake glacier fractur fall lake  (topic: 0)\n",
            "cow fart exoner global warm  (topic: 2)\n",
            "cow fart exoner global warm  (topic: 2)\n",
            " real scienc algor climat chang scienc hack man made global warm hoax gore pa (topic: 0)\n",
            " anti global warm scientist wrong stranger natur magazin academ journal int  (topic: 2)\n",
            " get headach grandson tell argu w teacher global warm big hoax one threaten flunk  (topic: 2)\n",
            " global warm like goldman exec full sh (topic: 2)\n",
            "global warm baloney accord expert nasa differ weather climat measur  (topic: 13)\n",
            "voic fraud global warm tim michael case traci sinc earli public school syst  (topic: 2)\n",
            "comput forens expert still idiot beliv global warm true  (topic: 2)\n",
            "liber looney toon global warm alarmist come home artic frost bite gather com wont learn huh lo  (topic: 2)\n",
            "dear global warm peopl  degre ca   heat content messag copyright properti author  (topic: 2)\n",
            "freez still southern california global warm fanat come visit wear hat glove jacket  (topic: 2)\n",
            " target bullshit even better climat chang hoax gore climat chang bullshit #leadersdebate #fact (topic: 0)\n",
            "climat chang fraud scandal solar power spain  (topic: 0)\n",
            "climat chang fraud global warm ethanol ddt  (topic: 0)\n",
            "despit climateg left invest heavili global warm hysteria new way  impos nat l intern control human freedom  (topic: 13)\n",
            " obama  minut earth day video fail mention global warm hoax  (topic: 18)\n",
            "#alms let polit suggest watch motorsport lectur imaginari global warm #nascar (topic: 2)\n",
            "someon go tell climat chang crowd go hang read  (topic: 0)\n",
            "gagnon like liber dupe global warm socialist propaganda  (topic: 2)\n",
            "believ global warm intern conspiraci perpetr ge order sell air condition (topic: 2)\n",
            "un process danger unless world agre climat chang telegraph  (topic: 0)\n",
            "virginia governor believ global warm  (topic: 2)\n",
            " call bluff climat chang  (topic: 0)\n",
            "reid graham climat chang  (topic: 15)\n",
            "know climat chang test knowledg follow  question  (topic: 0)\n",
            " shell climat chang #sponsorship caus blogospher meltdown  (topic: 13)\n",
            "know climat chang test knowledg follow  question  (topic: 0)\n",
            "global warm tube explan enjoy #ipcc #teaparty  (topic: 2)\n",
            "funni time oil spill gulf new az law push climat chang bill away drawn forth immigr reform  (topic: 0)\n",
            "announc spr princip jeff gracer moder panel climat chang new york citi à  (topic: 0)\n",
            "tom switzer australia chang climat chang climat  (topic: 0)\n",
            "kindl controversi hansen mckibben revkin lomborg climat chang guru met nyc pm thur     (topic: 0)\n",
            "upload youtub video maximsnewsnetwork energi climat chang u n ban ki moon untv  (topic: 0)\n",
            "climat chang tube anim like #ipcc #gop  (topic: 0)\n",
            " reid set move climat chang bill immigr  (topic: 6)\n",
            "ask man  question discov answer want climat chang clinic trial collag  (topic: 8)\n",
            "attend secretari gener à press confer present report advisori group energi climat chang (topic: 0)\n",
            "meet dr sultan al jaber assist foreign minist unit arab emir special envoy energi climat chang (topic: 0)\n",
            "remov mole scream à à climat chang clinic trial collagen cliniqu clip art  (topic: 8)\n",
            "make remark launch report advisori group energi climat chang agecc à energi develop  (topic: 0)\n",
            "immigr reform climat chang tale two issu senat  (topic: 6)\n",
            "immigr reform climat chang tale two issu senat  (topic: 6)\n",
            "discuss indigen women climat chang un  (topic: 0)\n",
            "politico stori state play dc climat chang #immigration  (topic: 0)\n",
            "choic à chang world one might  (topic: 0)\n",
            "new school climat chang panel heritag david kreutzer ask audienc wait  min throw water bottl (topic: 0)\n",
            "immigr reform climat chang tale two issu senat  (topic: 6)\n",
            "immigr reform climat chang tale two issu senat  (topic: 6)\n",
            "memo white hous correspond dinner want green report climat chang never  (topic: 13)\n",
            "geolog societi america posit statement climat chang  (topic: 0)\n",
            "global warm dirt carbon peril model wrong say boffin greenhous experi show reduc greenhous  (topic: 2)\n",
            "climat chang deal sight say lead economi south cape town apr  ip environ minist  (topic: 9)\n",
            "senior technic advisor commun climat chang environ develop new york #jobs  (topic: 0)\n",
            "survey gaug opinion global warm dan reiland uw eau clair student display poster monday afternoon  (topic: 2)\n",
            "survey gaug opinion global warm dan reiland uw eau clair student display poster monday afternoon  (topic: 2)\n",
            "view global warm vari three countri angu reid global monitor peopl three countri hold  (topic: 2)\n",
            "view global warm vari three countri angu reid global monitor peopl three countri hold  (topic: 2)\n",
            "choic à chang world one might  (topic: 0)\n",
            "connecticut buy global warm senat candid one might assum regardless  (topic: 0)\n",
            "connecticut buy global warm senat candid one might assum regardless  (topic: 0)\n",
            " legisl steamrol kathryn jean lopez april  bloomberg immigr climat chang legisl  (topic: 6)\n",
            " afx uk focu      scenario challeng california climat chang law peter henderson  (topic: 0)\n",
            "true larri shapiro astut immigr reform get traction climat chang senat  (topic: 0)\n",
            "scenario challeng california climat chang law sourc reuter peter henderson san francisco april   (topic: 6)\n",
            "climat lindsay graham support climat chang legisl chang today lindsey graham  (topic: 0)\n",
            "arizona immigr law climat chang legisl stall issu congress focu poll  (topic: 6)\n",
            "next capitol hill #immigration #climate chang  (topic: 0)\n",
            "#pr noon foxnew com gene koprowski seek expert audit ipcc climat chang report  (topic: 0)\n",
            "climat chang bill stall amid epic immigr sorti  (topic: 6)\n",
            "cnn graham exit put climat chang bill limbo climat chang bill schedul unveil  (topic: 15)\n",
            "graham exit put climat chang bill limbo  (topic: 15)\n",
            "legisl steamrol kathryn jean lopez april  bloomberg immigr climat chang legisl  (topic: 6)\n",
            "watch gt gt sting wife talk cnn climat chang  (topic: 0)\n",
            "graham exit put climat chang bill limbo  (topic: 15)\n",
            "reflect rebel climat chang social justic toward familiar imag green capit  (topic: 13)\n",
            "legisl steamrol kathryn jean lopez april  bloomberg immigr climat chang legisl  (topic: 6)\n",
            "legisl steamrol kathryn jean lopez april  bloomberg immigr climat chang legisl  (topic: 6)\n",
            "cnnbrk graham exit talk put climat chang bill limbo  (topic: 15)\n",
            "climat scientist get hate mail abus e mail brim accus fabric global warm data flood  (topic: 2)\n",
            "gop graham put kibosh climat bill even industri friendli senat global warm legislatio  (topic: 0)\n",
            "graham exit put climat chang bill limbo climat chang bill schedul unveil news  (topic: 15)\n",
            "graham exit talk put climat chang bill limbo climat chang bill schedul unveil  (topic: 15)\n",
            "graham exit talk put climat chang bill limbo climat chang bill schedul unveil  (topic: 15)\n",
            "graham exit talk put climat chang bill limbo  (topic: 15)\n",
            "obama polit push immigr reform sidelin climat chang news issu blog regularli  (topic: 6)\n",
            "tea parti differ climat chang realli hit come instruct chines go green tea  (topic: 13)\n",
            "us climat chang bill stall senat  (topic: 6)\n",
            "gawker logic report lindsey graham climat chang bill flip flop polidick  (topic: 0)\n",
            "logic report lindsey graham climat chang bill flip flop polidick  (topic: 0)\n",
            "pass legisl kill climat chang bill  (topic: 6)\n",
            "portfolio light deliv broad assort light home climat chang clinic trial collag  (topic: 8)\n",
            "new delay senat climat chang bill  (topic: 0)\n",
            "sunday word energi lawmak decid delay unveil bipartisan climat chang energi b  (topic: 0)\n",
            "decis time à uk elect climat chang  (topic: 0)\n",
            "peopl world grand rapid mich oppon climat chang legisl typic argu regul globa  (topic: 0)\n",
            "graham threaten pull energi bill sponsorship senat lindsey graham central architect climat chang  (topic: 0)\n",
            "cnnbrk sen graham move imperil dem push immigr climat chang bill  (topic: 15)\n",
            "cafe scientifiqu present global warm talk film april cafe scientifiqu present  (topic: 1)\n",
            "survey find us give climat chang new survey conduct hsbc find citi aro  (topic: 13)\n",
            "cafe scientifiqu present global warm talk film april cafe scientifiqu present  (topic: 1)\n",
            "best core exercis plank back extens gaiam blog affirm burn calori chang climat chang diet energi  (topic: 0)\n",
            "alexia park global warm heart earth day thousand consciou action took place  (topic: 18)\n",
            "alexia park global warm heart  (topic: 2)\n",
            "alexia park global warm heart earth day thousand consciou action took place  (topic: 18)\n",
            "alexia park global warm heart earth day thousand perhap million consc  (topic: 18)\n",
            "alexia park global warm heart earth day thousand perhap million consc  (topic: 18)\n",
            "survey find us give shit climat chang  (topic: 9)\n",
            " start talk climat chang  (topic: 0)\n",
            "webb tout global warm depart littl rock arkansa lawmak author legisl creat  (topic: 0)\n",
            "webb tout global warm depart littl rock arkansa lawmak author legisl creat  (topic: 0)\n",
            "climat bill drop monday long await senat climat chang bill broker senat ker  (topic: 15)\n",
            " sebastian copeland premier climat chang right #tribeca (topic: 0)\n",
            "climatologist meteorologist divid global warm  (topic: 2)\n",
            "climat scienc chines whisper book separ global warm fact fiction cultur shock  (topic: 13)\n",
            "blankenship call effort mine safeti regul silli global warm  (topic: 2)\n",
            " miss report u news group work togeth climat chang project  (topic: 0)\n",
            "sarah palin climat chang  (topic: 0)\n",
            "blankenship call effort mine safeti regul silli global warm labor day anti union  (topic: 18)\n",
            "#global warm vs shangri la  (topic: 0)\n",
            "climat top coal exec testifi global warm panel  (topic: 13)\n",
            "watersisweb integr region water manag climat chang document clearinghous  (topic: 0)\n",
            "climat top coal exec testifi global warm panel  (topic: 13)\n",
            "immigr climat chang  (topic: 6)\n",
            " year sceptic stole run climat chang australian busi could show politician  (topic: 0)\n",
            "check video busi climat chang confer   (topic: 0)\n",
            " video larri brilliant volcano climat chang bo bo  (topic: 13)\n",
            "earth day  polit final erupt  (topic: 5)\n",
            "paul rogat loeb soul citizen jesu climat chang journey evangel leader rich cizik  (topic: 0)\n",
            "climat chang bill avoid cap trade tag u senat april  bloomberg tea parti activist  (topic: 0)\n",
            "climat top coal exec testifi global warm panel  (topic: 13)\n",
            " us climat chang negoti plan reveal  (topic: 9)\n",
            "overheard carol browner assist presid energi climat chang mention  (topic: 0)\n",
            "maria rodal climat chang exist even matter amaz realli mani differ view  (topic: 0)\n",
            "maria rodal climat chang exist even matter amaz realli mani differ view  (topic: 0)\n",
            "stay glu fit plan scream à à climat chang clinic trial collagen cliniqu clip ar  (topic: 8)\n",
            "media ted discours climat chang focu polit subject di engag  (topic: 0)\n",
            " american media put much climat chang watch grit take  (topic: 17)\n",
            "american media put much climat chang watch grit take  (topic: 17)\n",
            " go big health care democrat still plan legisl bank reform climat chang immigr  (topic: 6)\n",
            " go big health care democrat still plan legisl bank reform climat chang immigr  (topic: 6)\n",
            " go big health care democrat still plan legisl bank reform climat chang immigr  (topic: 6)\n",
            "go big health care democrat still plan legisl bank reform climat chang immigr  (topic: 6)\n",
            "superb valentin day gift kitchen scream à à climat chang clinic trial collagen cli  (topic: 8)\n",
            "john fugelsang climat chang coal goe shop gun advoc ralli week support rig  (topic: 0)\n",
            " global warm result  (topic: 2)\n",
            "climat chang report project involv slate wire pb cir atlant mother jone  (topic: 0)\n",
            "skirmish renew u n global warm confer climat talk nearli ground halt began  (topic: 0)\n",
            "skirmish renew u n global warm confer climat talk nearli ground halt began  (topic: 0)\n",
            "simpl tip shop groov tungsten ring onlin climat chang clinic trial collagen c  (topic: 8)\n",
            "labour polici environ climat chang energi polici labour environ energi climat chang p  (topic: 0)\n",
            "u n climat panel get f audit unit nation landmark climat chang report gave   c  (topic: 0)\n",
            "climat chang ident  (topic: 0)\n",
            "climat chang ident  (topic: 0)\n",
            "brilliant tip valentin day scream à à climat chang clinic trial collagen cliniqu clip  (topic: 8)\n",
            "via kevin drum capit climat chang climat desk clive thompson write althoug  (topic: 0)\n",
            " peopl world referendum climat chang  (topic: 0)\n",
            "climat chang evil twin  (topic: 0)\n",
            " itz cold could put bodi togeth n start global warm  (topic: 1)\n",
            "retro video game consol valentin day gift scream à à climat chang clinic trial collag  (topic: 8)\n",
            "iceland volcano chang climat volcano caus chang earth climat recent eruptio  (topic: 13)\n",
            "tip adopt canin scream à à climat chang clinic trial collagen cliniqu clip art cl  (topic: 8)\n",
            "podcast unrest thailand iran nuclear summit dc climat chang confer sasc debat ballist missil defens  (topic: 0)\n",
            "internet date scream à à climat chang clinic trial collagen cliniqu clip art cloth clot  (topic: 8)\n",
            "said day ago start see much temper report global warm start w  (topic: 18)\n",
            "food lover fat loss system review scream à à climat chang clinic trial collagen cliniqu clip  (topic: 8)\n",
            "watchdog back dft climat chang advert clever televis advert claim car pollut worst  (topic: 0)\n",
            "global warm play decid info discuss game structur discuss three stage global  (topic: 2)\n",
            " (topic: 0)\n",
            "tension set wed ring found style fit everi climat chang clinic trial collagen  (topic: 8)\n",
            "state climat chang regul face opposit à new mexico turner argu issu address  (topic: 0)\n",
            "advantag use ellipt cross trainer go climat chang clinic trial collag  (topic: 8)\n",
            "edg tour kindl sleev yellow global warm advic  (topic: 2)\n",
            "advantag own commerci grade treadmil climat chang clinic trial collagen clini  (topic: 8)\n",
            "select proper music perfect valentin day climat chang clinic trial collagen  (topic: 8)\n",
            "key lesson marri women look marri scream à à climat chang clinic trial collagen  (topic: 8)\n",
            "book geoengin chang climat convers  (topic: 0)\n",
            "book geoengin chang climat convers  (topic: 0)\n",
            "peopl often find wait long line climat chang clinic trial collag  (topic: 8)\n",
            "basic rule think begin advertis campaign climat chang clinic trial collagen  (topic: 8)\n",
            "drill climat chang  (topic: 0)\n",
            "book geoengin chang climat convers  (topic: 0)\n",
            "book geoengin chang climat convers  (topic: 0)\n",
            "gather info whiten teeth scream à à climat chang clinic trial collagen cliniqu clip  (topic: 8)\n",
            "get ex back scream à à climat chang clinic trial collagen cliniqu clip art cloth  (topic: 8)\n",
            "ask minist climat chang energi elect debat polit guar  (topic: 0)\n",
            "usa climat chang polici updat april    (topic: 6)\n",
            "question climat chang stormfront answer  (topic: 0)\n",
            "matter believ global warm part live better save money resourc  (topic: 2)\n",
            "usa climat chang polici updat april    (topic: 6)\n",
            " best propaganda poster ever  (topic: 0)\n",
            "#update garp erp energi news energi headlin polic quiz climat chang sceptic à ft bp press  (topic: 0)\n",
            "matter believ global warm part live better save money resourc  (topic: 2)\n",
            "usa sec issu guidanc climat chang disclosur  (topic: 0)\n",
            "un agre host two round climat chang talk summit mexico  (topic: 0)\n",
            "matter believ global warm part live better save money resourc  (topic: 2)\n",
            "issu  wire climat chang avail free onlin  (topic: 0)\n",
            "crunch time climat chang bill hill e wire  (topic: 15)\n",
            "senat prepar compromis climat chang bill yahoo news  (topic: 15)\n",
            " press releas april  climat chang negoti agre intensifi  (topic: 6)\n",
            "matter believ global warm part live better save money resourc  (topic: 2)\n",
            " global warm clearli  (topic: 2)\n",
            " tornado global warm hurrican  (topic: 2)\n",
            "climat chang moral issu would god say green hous usatoday com  (topic: 13)\n",
            "aid news copenhagen brought chang climat sino india tie ramesh  (topic: 0)\n",
            "matter believ global warm part live better save money resourc  (topic: 2)\n",
            "npr scienc friday global warm  (topic: 2)\n",
            "visual climat chang  (topic: 0)\n",
            " address global warm skeptic th iccc link #agw #tcot #tlot #climate (topic: 2)\n",
            "green climat chang wyss fellow sierra nevada allianc  (topic: 13)\n",
            "green climat chang wyss fellow  (topic: 13)\n",
            "ezra klein sen lindsey graham care equal immigr climat chang  (topic: 15)\n",
            " climat scientist sue newspap poison global warm debat environ guardian co uk  (topic: 2)\n",
            "postpartisan harri reid hapless play immigr climat chang  (topic: 6)\n",
            "garp erp energi news energi headlin polic quiz climat chang sceptic ft bp press canada  (topic: 0)\n",
            "never smile sun come  combat global warm often refrain fun smile brighten day  (topic: 18)\n",
            "way difficult economi help peopl focu famili climat chang clinic trial collagen  (topic: 8)\n",
            "climat chang bill limbo follow white hous push immigr reform bill dead à e  (topic: 0)\n",
            "get dunkin workout plan tenther simpson macbeth wine countri climat chang censu   (topic: 0)\n",
            " made frank luntz talk point climat chang impot focu immigr reform great job  (topic: 6)\n",
            "lindsey gop sponsor jump ship obama climat chang bill  (topic: 15)\n",
            "veteran #climate activist ask name chang earth  (topic: 5)\n",
            "trigger number onlin roulett scam scream à à climat chang clinic trial collagen cliniqu cl  (topic: 8)\n",
            "climat scientist sue newspap à poison à global warm debat  (topic: 2)\n",
            "climat scientist sue newspap à poison à global warm debat  (topic: 2)\n",
            "climat scientist sue newspap à poison à global warm debat  (topic: 2)\n",
            "politico graham privat climat chang glenn thrush graham privat #climatechange  (topic: 15)\n",
            "democrat leader move immigr bill ahead climat chang senat prioriti washington ap à senat  (topic: 0)\n",
            "keep migrain bay scream à à climat chang clinic trial collagen cliniqu clip art clo  (topic: 8)\n",
            " climat scientist sue newspap poison global warm debat  (topic: 2)\n",
            " #climate scientist sue newspap poison global warm debat  (topic: 2)\n",
            "half hour carol browner assist presid energi climat chang answer question live  (topic: 16)\n",
            "earth day live chat carol browner director offic energi climat chang polici obama admin  (topic: 5)\n",
            "hedg climat chang read  (topic: 0)\n",
            "wind list call global warm fraud douchebag nuff said dilusion sic ho hate  (topic: 2)\n",
            "global warm fact myth daili green  (topic: 13)\n",
            "kerri releas #climate chang law week affect sector find read week green energi  (topic: 16)\n",
            "klein   chanc senat pass climat chang bill year  (topic: 15)\n",
            " link volcano lt gt global warm stori  (topic: 2)\n",
            " ye heard least one person make connect volcano global warm  (topic: 2)\n",
            " think man control global warm racist  (topic: 2)\n",
            "lean week global warm famin nuclear annihil threat human danger doubl  (topic: 2)\n",
            "calif truck assn join fight suspend state climat chang law e enewspm #climatechange (topic: 14)\n",
            " birther global warm denier young earth creationist neil armstrong complain obama à nasa budget  (topic: 18)\n",
            " nasa chang fact guess thought wouldnt notic #global warm #climate chang #eco  (topic: 0)\n",
            "hill crunch time climat chang bill  (topic: 15)\n",
            "suprem court nomin bump climat chang debat next year  (topic: 0)\n",
            " religi take climat chang  (topic: 17)\n",
            "great tom tole #climate chang cartoon  (topic: 0)\n",
            "religi take climat chang  (topic: 17)\n",
            "one hot topic k  web site global warm gail junion metz school librari journal     (topic: 2)\n",
            "religi spin climat chang  (topic: 0)\n",
            "lo angel religi spin climat chang  (topic: 0)\n",
            " initi campaign suspend global warm law ab report k rais k oil comp valero (topic: 1)\n",
            "panel debat busi cost calif global warm law san diego panelist debat econom merit  (topic: 2)\n",
            " realli wtf global warm  (topic: 2)\n",
            "northrop bob grumman mcdonnel believ global warm david swanson author page   pa  (topic: 2)\n",
            "saarc plan expert group climat chang  (topic: 0)\n",
            "libertarian may debat merit global warm worthi emiss market  (topic: 2)\n",
            "hide declin global warm video creator say mann backlash effort tri sweep problem  (topic: 13)\n",
            "advic avoid partner get involv climat chang clinic trial collagen c  (topic: 8)\n",
            "industri insid michaelangelo l acqua global warm michaelangelo l acqua first enter high stake  (topic: 2)\n",
            "save hollywood sign ballot initi iceland à volcano global warm  (topic: 2)\n",
            "save hollywood sign ballot initi iceland à volcano global warm  (topic: 2)\n",
            "save hollywood sign ballot initi iceland à volcano global warm  (topic: 2)\n",
            "letter global warm god hand à knoxvil news sentinel  (topic: 2)\n",
            "long term fortun favour brave climat chang  (topic: 0)\n",
            "dedic persist necessari homegrown hydropon climat chang clinic trial collag  (topic: 8)\n",
            "ew break stori reid set move climat chang bill ahead immigr  (topic: 6)\n",
            "global warm retreat à except california govern state air board wisdom continu advanc  (topic: 2)\n",
            " american worri global warm e p make case climat chang  (topic: 0)\n",
            "immigr reform climat chang tale two issu senat  (topic: 6)\n",
            "environment group prais basic meet climat chang environment group give qualifi prais  (topic: 0)\n",
            "environment group prais basic meet climat chang environment group give qualifi prais  (topic: 0)\n",
            " uiy kerri action climat bill remain like ap ap democrat sponsor climat chang legisl  (topic: 0)\n",
            "immigr reform climat chang tale two issu senat  (topic: 6)\n",
            "global warm jame cameron genocid maniac john nolt either jame cameron genocid maniac  (topic: 2)\n",
            "brook shield annoy global warm exist report  (topic: 1)\n",
            "q focu energi climat chang immigr via #goodasks (topic: 0)\n",
            "tale  issu immigr reform get traction climat chang senat  (topic: 0)\n",
            " immigr reform climat chang tale two issu senat  (topic: 6)\n",
            "immigr reform climat chang tale two issu senat  (topic: 6)\n",
            "climb dark social justic replac global warm climat chang hang fingernail  (topic: 0)\n",
            "like know give rat ass immigr come climat chang job regardless order #childrenactbetter (topic: 6)\n",
            "brook shield upset report global warm exist  (topic: 1)\n",
            "actual provid util automat global trade swap climat chang clinic trial collag  (topic: 8)\n",
            "brook shield upset report global warm exist foxnew holli mckay subject global  (topic: 1)\n",
            "environment econom note environmentalist part ii climat chang bill suppos unveil  (topic: 15)\n",
            "environment econom note environmentalist part ii climat chang bill suppos unveil  (topic: 15)\n",
            "third american believ global warm human caus bob elli april th  good news  (topic: 13)\n",
            "podcast climat chang immigr reform california  (topic: 6)\n",
            "geoff jenkin chairman unit nation intergovernment panel climat chang  (topic: 0)\n",
            "retun love scream à à climat chang clinic trial collagen cliniqu clip art cloth clo  (topic: 8)\n",
            "fox news watch cite media research center studi global warm coverag  (topic: 2)\n",
            "fox news watch cite media research center studi global warm coverag kyle drennen bio archiv sa  (topic: 2)\n",
            "graham exit put climat chang bill limbo  (topic: 15)\n",
            "soccer fever hit namibia global warm carlo kambaekwa new era omuthiya chairman nfa oshi  (topic: 13)\n",
            "via cnnbrk graham exit talk put climat chang bill limbo  (topic: 15)\n",
            "graham exit talk put climat chang bill limbo climat chang bill schedul unvei  (topic: 15)\n",
            "graham exit talk put climat chang bill limbo climat chang bill schedul unveil  (topic: 15)\n",
            "graham exit talk put climat chang bill limbo  (topic: 15)\n",
            "adventur epistem open mark levin vs jim manzi global warm fanci phrase à epistem closur à  (topic: 2)\n",
            "senat disput put climat legisl hold associ press washington long await climat chang  (topic: 6)\n",
            "global warm oxburgh inquiri offer refus lord oxburgh request chair  (topic: 2)\n",
            "gawker logic report lindsey graham climat chang bill flip flop polidick à  (topic: 0)\n",
            "simpl guid head shave scream à à climat chang clinic trial collagen cliniqu clip art  (topic: 8)\n",
            " uiy climat bill place hold senat disput ap ap long await climat chang legisl  (topic: 6)\n",
            " uiy climat bill place hold senat disput ap ap long await climat chang legisl  (topic: 6)\n",
            "climat bill place hold senat disput washington long await climat chang legisl put  (topic: 6)\n",
            "american dont give global warm survey say retail investor citi us fe  (topic: 13)\n",
            "indigen peopl includ un climat chang polici  (topic: 0)\n",
            "via cnnbrk sen graham move imperil dem push immigr climat chang bill  (topic: 15)\n",
            "thr climat bill give pollut nuclear break washington reuter u climat chang bill expect  (topic: 0)\n",
            "global warm new ombudsman eurasia review sonali huria ipc global warm purportedli put  (topic: 13)\n",
            " read blog  awesom  hold climat chang confer cancun  (topic: 0)\n",
            "brochur global warm  brochur global warm  ad neham  comment  (topic: 2)\n",
            "global warm heart earth day thousand perhap million consciou action  (topic: 18)\n",
            "thr climat bill give pollut nuclear break washington reuter u climat chang bill expect  (topic: 0)\n",
            "fat loss program scream à à climat chang clinic trial collagen cliniqu clip art cloth clo  (topic: 8)\n",
            "climat data suggest global warm assumpt  (topic: 13)\n",
            "washington term green movement yet vogu littl talk combat global warm  (topic: 13)\n",
            "tff  jessica alba brian hill talk climat chang  (topic: 0)\n",
            "nativ gather bolivia critic copenhagen club  (topic: 0)\n",
            "money graham kerri lieberman global warm bill face hostil climat world magazin ap photo har  (topic: 0)\n",
            "washington green movement yet littl talk global warm  (topic: 13)\n",
            "check video georg carlin global warm  (topic: 2)\n",
            "realclearpolit global warm panic attack senat begin long await debat energi  (topic: 0)\n",
            " guardian climat scientist sue newspap poison global warm debat  (topic: 2)\n",
            "live #chapmanu climat confer excit climat debat come   caus pf climat chang  (topic: 13)\n",
            "look like ppl gave fuel slow california global warm law #ab  (topic: 2)\n",
            "novemb  realli predict immigr reform might move climat chang legisl via  (topic: 6)\n",
            "global warm probabl poll updat ocregist blog favorit  time mani peopl believ bel  (topic: 2)\n",
            " photo protest take valero initi would chang california landmark climat bill  (topic: 0)\n",
            "laist protest take valero initi would chang california landmark climat bill à à à à à à à  (topic: 0)\n",
            "co host meredith vieira talk global warm nbc à today januari    (topic: 2)\n",
            "campaign asa dismiss complaint dft climat chang ad london advertis standard author  (topic: 0)\n"
          ],
          "name": "stdout"
        }
      ]
    },
    {
      "cell_type": "markdown",
      "metadata": {
        "id": "Kd-Q5np0fGT4"
      },
      "source": [
        "#**HMM-LDA ALGORITHMS**"
      ]
    },
    {
      "cell_type": "code",
      "metadata": {
        "id": "uUgv-aKo0H-1"
      },
      "source": [
        "import AlgorithmHMMLDA as HMMLDA"
      ],
      "execution_count": null,
      "outputs": []
    },
    {
      "cell_type": "code",
      "metadata": {
        "colab": {
          "base_uri": "https://localhost:8080/"
        },
        "id": "ty0iEgzw1J6J",
        "outputId": "617ae33f-cc2b-4aba-f634-8d3e13311d31"
      },
      "source": [
        " nltk.download('reuters')"
      ],
      "execution_count": null,
      "outputs": [
        {
          "output_type": "stream",
          "text": [
            "[nltk_data] Downloading package reuters to /root/nltk_data...\n"
          ],
          "name": "stdout"
        },
        {
          "output_type": "execute_result",
          "data": {
            "text/plain": [
              "True"
            ]
          },
          "metadata": {
            "tags": []
          },
          "execution_count": 132
        }
      ]
    },
    {
      "cell_type": "code",
      "metadata": {
        "id": "i6dxOmHY0Pea"
      },
      "source": [
        "def get_reuters_token_list_by_sentence(num_doc=100):\r\n",
        "    file_list = reuters.fileids()\r\n",
        "    corpus = [reuters.sents(file_list[i]) for i in xrange(num_doc)]\r\n",
        "\r\n",
        "    valid_voca = set(w.lower() for w in nltk.corpus.words.words())\r\n",
        "    stop = stopwords.words('english')\r\n",
        "    valid_voca = valid_voca.union(stop)\r\n",
        "\r\n",
        "    tmp_corpus = list()\r\n",
        "    voca_dic = dict()\r\n",
        "    voca = list()\r\n",
        "    for doc in corpus:\r\n",
        "        tmp_doc = list()\r\n",
        "        for sent in doc:\r\n",
        "            tmp_sent = list()\r\n",
        "            for word in sent:\r\n",
        "                if word in valid_voca:\r\n",
        "                    tmp_sent.append(word)\r\n",
        "                    if word not in voca_dic:\r\n",
        "                        voca_dic[word] = len(voca_dic)\r\n",
        "                        voca.append(word)\r\n",
        "            if len(tmp_sent) > 0:\r\n",
        "                tmp_doc.append(tmp_sent)\r\n",
        "        if len(tmp_doc) > 0:\r\n",
        "            tmp_corpus.append(tmp_doc)\r\n",
        "\r\n",
        "    # convert token list to word index list\r\n",
        "    corpus = list()\r\n",
        "    for doc in tmp_corpus:\r\n",
        "        new_doc = list()\r\n",
        "        for sent in doc:\r\n",
        "            new_sent = list()\r\n",
        "            for word in sent:\r\n",
        "                new_sent.append(voca_dic[word])\r\n",
        "            new_doc.append(new_sent)\r\n",
        "        corpus.append(new_doc)\r\n",
        "\r\n",
        "    return np.array(voca), corpus"
      ],
      "execution_count": null,
      "outputs": []
    },
    {
      "cell_type": "code",
      "metadata": {
        "id": "2WCugZqm1EGG"
      },
      "source": [
        "n_docs = 1000\r\n",
        "voca, corpus = get_reuters_token_list_by_sentence(num_doc=n_docs)"
      ],
      "execution_count": null,
      "outputs": []
    },
    {
      "cell_type": "code",
      "metadata": {
        "colab": {
          "base_uri": "https://localhost:8080/"
        },
        "id": "JNr0OE3I1fbB",
        "outputId": "706a3ff1-c3c6-4525-8087-cf7fe8a37795"
      },
      "source": [
        "len(corpus)"
      ],
      "execution_count": null,
      "outputs": [
        {
          "output_type": "execute_result",
          "data": {
            "text/plain": [
              "881"
            ]
          },
          "metadata": {
            "tags": []
          },
          "execution_count": 136
        }
      ]
    },
    {
      "cell_type": "code",
      "metadata": {
        "colab": {
          "background_save": true
        },
        "id": "o0vE9To01TfT"
      },
      "source": [
        "n_voca = len(voca)\r\n",
        "n_topic = 50\r\n",
        "n_class = 20\r\n",
        "max_iter = 100\r\n",
        "model = HMM_LDA(881, n_voca, n_topic, n_class, alpha=0.1, beta=0.1, gamma=0.1, eta=0.1, verbose=False)\r\n",
        "model.fit(corpus, max_iter=max_iter)"
      ],
      "execution_count": null,
      "outputs": []
    },
    {
      "cell_type": "code",
      "metadata": {
        "id": "9Ta11jN2Cney"
      },
      "source": [
        "def get_top_words(topic_word_matrix, vocab, topic, n_words=20):\r\n",
        "    if not isinstance(vocab, np.ndarray):\r\n",
        "        vocab = np.array(vocab)\r\n",
        "    top_words = vocab[topic_word_matrix[topic].argsort()[::-1][:n_words]]\r\n",
        "    return top_words"
      ],
      "execution_count": 140,
      "outputs": []
    },
    {
      "cell_type": "code",
      "metadata": {
        "colab": {
          "base_uri": "https://localhost:8080/"
        },
        "id": "gJO2CLGECcHm",
        "outputId": "b225a11e-67cf-4f3c-eb65-11da4826a351"
      },
      "source": [
        "for ti in range(n_topic):\r\n",
        "    top_words = get_top_words(model.TW, voca, ti, n_words=10)\r\n",
        "    print('Topic', ti ,': ', ','.join(top_words))"
      ],
      "execution_count": 141,
      "outputs": [
        {
          "output_type": "stream",
          "text": [
            "Topic 0 :  trade,because,higher,company,maturing,need,later,by,unchanged,billion\n",
            "Topic 1 :  institutional,unsold,loss,it,will,noted,for,interim,acquire,cash\n",
            "Topic 2 :  trade,seen,open,six,world,this,not,received,for,same\n",
            "Topic 3 :  then,it,potatoes,as,valid,sometimes,lieu,profit,marketing,due\n",
            "Topic 4 :  saw,it,on,keep,diplomatic,would,hurt,concentrate,pork,account\n",
            "Topic 5 :  struck,slightly,as,move,former,slide,occur,company,up,productive\n",
            "Topic 6 :  domestic,bank,unchanged,locally,closed,below,hurting,not,cash,aid\n",
            "Topic 7 :  trade,for,before,but,paying,were,kilowatt,its,due,half\n",
            "Topic 8 :  figure,subsidy,their,exchange,most,would,bank,market,century,had\n",
            "Topic 9 :  reduce,lire,gas,only,be,it,fair,good,not,at\n",
            "Topic 10 :  tough,they,related,an,non,into,by,future,return,billion\n",
            "Topic 11 :  trade,as,service,stock,better,shed,money,commercial,loading,billion\n",
            "Topic 12 :  unit,loss,subject,charge,later,test,spokesman,re,fell,meet\n",
            "Topic 13 :  trade,bought,quarter,this,for,cumulative,at,proposal,however,fell\n",
            "Topic 14 :  extremely,previous,up,over,amount,but,tax,debt,had,purse\n",
            "Topic 15 :  speculation,approximately,wheat,be,gain,it,will,agreed,for,central\n",
            "Topic 16 :  trade,which,union,effective,recession,increase,company,major,by,agreement\n",
            "Topic 17 :  agreement,table,disease,write,although,grain,billion,activity,at,under\n",
            "Topic 18 :  ruin,significance,is,from,vessel,year,stock,place,there,best\n",
            "Topic 19 :  he,last,buy,from,oil,disappointment,loss,much,was,after\n",
            "Topic 20 :  rate,grain,week,calendar,all,borrow,issue,not,strong,was\n",
            "Topic 21 :  would,their,were,stood,export,about,an,time,so,agree\n",
            "Topic 22 :  trade,board,date,rubber,earnings,semi,precursor,demand,blown,an\n",
            "Topic 23 :  merger,investment,placement,too,market,influx,be,what,it,stable\n",
            "Topic 24 :  offer,redeem,billion,unspecified,from,each,or,not,nil,commodity\n",
            "Topic 25 :  rate,bill,trading,billion,current,from,investment,however,at,alumina\n",
            "Topic 26 :  industry,trading,tax,broadly,be,only,it,report,petrochemical,social\n",
            "Topic 27 :  for,bank,cut,recession,billion,income,central,smelter,judgment,current\n",
            "Topic 28 :  following,x,transaction,billion,see,at,final,from,or,average\n",
            "Topic 29 :  other,dollar,output,nine,stocks,nil,shipped,it,was,steeply\n",
            "Topic 30 :  fiscal,from,week,annual,new,by,stake,during,may,billion\n",
            "Topic 31 :  investigation,mental,sale,early,objective,elaborate,only,loss,it,separatist\n",
            "Topic 32 :  bank,market,same,national,get,later,with,profit,be,sale\n",
            "Topic 33 :  competitive,prejudice,provision,due,this,at,month,for,nil,flour\n",
            "Topic 34 :  research,up,days,normally,need,were,profit,officer,marketing,re\n",
            "Topic 35 :  from,group,this,however,our,once,cut,stocks,for,orange\n",
            "Topic 36 :  trade,were,week,due,quarter,fully,sector,continued,billion,liquor\n",
            "Topic 37 :  offer,elaborate,profit,development,program,exploration,than,written,fell,major\n",
            "Topic 38 :  port,pulp,month,whether,specific,full,was,biggest,will,de\n",
            "Topic 39 :  circuit,common,year,consumption,as,steep,seeking,stock,subject,fiscal\n",
            "Topic 40 :  index,retail,be,will,for,issue,not,at,progress,billion\n",
            "Topic 41 :  two,governing,major,than,significant,unchanged,not,generally,price,trading\n",
            "Topic 42 :  industry,rice,take,were,until,rate,dividend,balance,stake,by\n",
            "Topic 43 :  fuel,saying,company,introduction,he,was,same,its,basis,be\n",
            "Topic 44 :  unit,competition,fixed,goes,gains,response,risen,number,beginning,exchange\n",
            "Topic 45 :  trade,with,was,he,cannot,inclusion,converted,sought,from,keep\n",
            "Topic 46 :  operating,was,debt,did,output,loss,latest,it,all,several\n",
            "Topic 47 :  prime,immediately,week,open,cut,at,revolution,expedite,for,due\n",
            "Topic 48 :  to,ministerial,debt,at,soft,liquidity,from,brokerage,would,vice\n",
            "Topic 49 :  ministry,its,several,this,for,minister,announcement,billion,company,by\n"
          ],
          "name": "stdout"
        }
      ]
    },
    {
      "cell_type": "markdown",
      "metadata": {
        "id": "-tEp4TIUiv8N"
      },
      "source": [
        "#**Supervised LDA Algorithm**"
      ]
    },
    {
      "cell_type": "code",
      "metadata": {
        "colab": {
          "base_uri": "https://localhost:8080/"
        },
        "id": "GIIcswuzlB2N",
        "outputId": "7680746f-1fa4-493a-a1d9-442462e2da25"
      },
      "source": [
        "!pip install pymc"
      ],
      "execution_count": null,
      "outputs": [
        {
          "output_type": "stream",
          "text": [
            "Collecting pymc\n",
            "\u001b[?25l  Downloading https://files.pythonhosted.org/packages/37/81/9a222c38c65019de9ad5a1ee2448cc4a9b5f7a64eeaf246c77f81c0e6f94/pymc-2.3.8.tar.gz (385kB)\n",
            "\r\u001b[K     |▉                               | 10kB 15.6MB/s eta 0:00:01\r\u001b[K     |█▊                              | 20kB 19.3MB/s eta 0:00:01\r\u001b[K     |██▌                             | 30kB 11.4MB/s eta 0:00:01\r\u001b[K     |███▍                            | 40kB 8.4MB/s eta 0:00:01\r\u001b[K     |████▎                           | 51kB 3.9MB/s eta 0:00:01\r\u001b[K     |█████                           | 61kB 4.4MB/s eta 0:00:01\r\u001b[K     |██████                          | 71kB 4.8MB/s eta 0:00:01\r\u001b[K     |██████▉                         | 81kB 5.0MB/s eta 0:00:01\r\u001b[K     |███████▋                        | 92kB 5.3MB/s eta 0:00:01\r\u001b[K     |████████▌                       | 102kB 5.6MB/s eta 0:00:01\r\u001b[K     |█████████▍                      | 112kB 5.6MB/s eta 0:00:01\r\u001b[K     |██████████▏                     | 122kB 5.6MB/s eta 0:00:01\r\u001b[K     |███████████                     | 133kB 5.6MB/s eta 0:00:01\r\u001b[K     |████████████                    | 143kB 5.6MB/s eta 0:00:01\r\u001b[K     |████████████▊                   | 153kB 5.6MB/s eta 0:00:01\r\u001b[K     |█████████████▋                  | 163kB 5.6MB/s eta 0:00:01\r\u001b[K     |██████████████▌                 | 174kB 5.6MB/s eta 0:00:01\r\u001b[K     |███████████████▎                | 184kB 5.6MB/s eta 0:00:01\r\u001b[K     |████████████████▏               | 194kB 5.6MB/s eta 0:00:01\r\u001b[K     |█████████████████               | 204kB 5.6MB/s eta 0:00:01\r\u001b[K     |█████████████████▉              | 215kB 5.6MB/s eta 0:00:01\r\u001b[K     |██████████████████▊             | 225kB 5.6MB/s eta 0:00:01\r\u001b[K     |███████████████████▋            | 235kB 5.6MB/s eta 0:00:01\r\u001b[K     |████████████████████▍           | 245kB 5.6MB/s eta 0:00:01\r\u001b[K     |█████████████████████▎          | 256kB 5.6MB/s eta 0:00:01\r\u001b[K     |██████████████████████          | 266kB 5.6MB/s eta 0:00:01\r\u001b[K     |███████████████████████         | 276kB 5.6MB/s eta 0:00:01\r\u001b[K     |███████████████████████▉        | 286kB 5.6MB/s eta 0:00:01\r\u001b[K     |████████████████████████▋       | 296kB 5.6MB/s eta 0:00:01\r\u001b[K     |█████████████████████████▌      | 307kB 5.6MB/s eta 0:00:01\r\u001b[K     |██████████████████████████▍     | 317kB 5.6MB/s eta 0:00:01\r\u001b[K     |███████████████████████████▏    | 327kB 5.6MB/s eta 0:00:01\r\u001b[K     |████████████████████████████    | 337kB 5.6MB/s eta 0:00:01\r\u001b[K     |█████████████████████████████   | 348kB 5.6MB/s eta 0:00:01\r\u001b[K     |█████████████████████████████▊  | 358kB 5.6MB/s eta 0:00:01\r\u001b[K     |██████████████████████████████▋ | 368kB 5.6MB/s eta 0:00:01\r\u001b[K     |███████████████████████████████▌| 378kB 5.6MB/s eta 0:00:01\r\u001b[K     |████████████████████████████████| 389kB 5.6MB/s \n",
            "\u001b[?25hBuilding wheels for collected packages: pymc\n",
            "  Building wheel for pymc (setup.py) ... \u001b[?25l\u001b[?25hdone\n",
            "  Created wheel for pymc: filename=pymc-2.3.8-cp36-cp36m-linux_x86_64.whl size=1275926 sha256=d53d0149022e2d8efcf24c28eb9cd4835ebd836f314da39da6b90c68a1f264f8\n",
            "  Stored in directory: /root/.cache/pip/wheels/0b/a8/e7/8f3ba91a39294d538a92db052fd1fcba1fca74a58c8b022026\n",
            "Successfully built pymc\n",
            "Installing collected packages: pymc\n",
            "Successfully installed pymc-2.3.8\n"
          ],
          "name": "stdout"
        }
      ]
    },
    {
      "cell_type": "code",
      "metadata": {
        "id": "E14NOFqNr_99"
      },
      "source": [
        "training_data = tweets_dataset[\"clean_tweet\"].values"
      ],
      "execution_count": null,
      "outputs": []
    },
    {
      "cell_type": "code",
      "metadata": {
        "colab": {
          "base_uri": "https://localhost:8080/"
        },
        "id": "fHGyR6NpJ6AU",
        "outputId": "e3a6249c-164c-4940-b38c-1cbbc2e9b420"
      },
      "source": [
        "nltk.download('words')"
      ],
      "execution_count": null,
      "outputs": [
        {
          "output_type": "stream",
          "text": [
            "[nltk_data] Downloading package words to /root/nltk_data...\n",
            "[nltk_data]   Package words is already up-to-date!\n"
          ],
          "name": "stdout"
        },
        {
          "output_type": "execute_result",
          "data": {
            "text/plain": [
              "True"
            ]
          },
          "metadata": {
            "tags": []
          },
          "execution_count": 107
        }
      ]
    },
    {
      "cell_type": "code",
      "metadata": {
        "colab": {
          "base_uri": "https://localhost:8080/"
        },
        "id": "_p9CGIr_KJBD",
        "outputId": "89a67343-f297-4e63-84d6-d71144a1629a"
      },
      "source": [
        "nltk.download('punkt')"
      ],
      "execution_count": null,
      "outputs": [
        {
          "output_type": "stream",
          "text": [
            "[nltk_data] Downloading package punkt to /root/nltk_data...\n",
            "[nltk_data]   Package punkt is already up-to-date!\n"
          ],
          "name": "stdout"
        },
        {
          "output_type": "execute_result",
          "data": {
            "text/plain": [
              "True"
            ]
          },
          "metadata": {
            "tags": []
          },
          "execution_count": 108
        }
      ]
    },
    {
      "cell_type": "code",
      "metadata": {
        "id": "IbtZsxSuI_D1"
      },
      "source": [
        "import nltk\n",
        "from nltk import word_tokenize\n",
        "from nltk.corpus import reuters, stopwords\n",
        "from six.moves import xrange\n",
        "from collections import Counter\n",
        "\n",
        "def get_ids_cnt(corpus, max_voca=9999999, remove_top_n=5):\n",
        "    voca = set(w.lower() for w in nltk.corpus.words.words())\n",
        "    stop = stopwords.words('english')\n",
        "\n",
        "    docs = list()\n",
        "    freq = Counter()\n",
        "\n",
        "    for doc in corpus:\n",
        "        if isinstance(doc, str):\n",
        "            doc = word_tokenize(doc)\n",
        "        elif not hasattr(doc, '__iter__'):\n",
        "            raise Exception('Corpus is not a list of string or token list')\n",
        "\n",
        "        # remove word using stopword list or single character word\n",
        "        doc = [word.lower() for word in doc if word.lower() in voca and word.lower() not in stop and len(word) != 1]\n",
        "        freq.update(doc)\n",
        "        docs.append(doc)\n",
        "\n",
        "    voca = [key for iter, (key, val) in enumerate(freq.most_common(max_voca)) if iter >= remove_top_n]\n",
        "\n",
        "    voca_dic = dict()\n",
        "    voca_list = list()\n",
        "    for word in voca:\n",
        "        voca_dic[word] = len(voca_dic)\n",
        "        voca_list.append(word)\n",
        "\n",
        "    doc_ids = list()\n",
        "    doc_cnt = list()\n",
        "\n",
        "    for doc in docs:\n",
        "        words = set(doc)\n",
        "        ids = np.array([int(voca_dic[word]) for word in words if word in voca_dic])\n",
        "        cnt = np.array([int(doc.count(word)) for word in words if word in voca_dic])\n",
        "\n",
        "        doc_ids.append(ids)\n",
        "        doc_cnt.append(cnt)\n",
        "\n",
        "    return np.array(voca_list), doc_ids, doc_cnt\n"
      ],
      "execution_count": null,
      "outputs": []
    },
    {
      "cell_type": "code",
      "metadata": {
        "id": "6qJny8RDJw1g"
      },
      "source": [
        "voca, word_ids, word_cnt = get_ids_cnt(training_data)"
      ],
      "execution_count": null,
      "outputs": []
    },
    {
      "cell_type": "code",
      "metadata": {
        "id": "YdxW6PO-u3O2"
      },
      "source": [
        "def convert_cnt_to_list(word_ids, word_cnt):\r\n",
        "    corpus = list()\r\n",
        "\r\n",
        "    for di in xrange(len(word_ids)):\r\n",
        "        doc = list()\r\n",
        "        doc_ids = word_ids[di]\r\n",
        "        doc_cnt = word_cnt[di]\r\n",
        "        for wi in xrange(len(doc_ids)):\r\n",
        "            word_id = doc_ids[wi]\r\n",
        "            for si in xrange(doc_cnt[wi]):\r\n",
        "                doc.append(word_id)\r\n",
        "        corpus.append(doc)\r\n",
        "    return corpus\r\n"
      ],
      "execution_count": null,
      "outputs": []
    },
    {
      "cell_type": "code",
      "metadata": {
        "id": "BoL9fzbjKPF1"
      },
      "source": [
        "corpus = convert_cnt_to_list(word_ids, word_cnt)"
      ],
      "execution_count": null,
      "outputs": []
    },
    {
      "cell_type": "code",
      "metadata": {
        "id": "7CzEaISQH3X5"
      },
      "source": [
        "import AlgorithmsupervisedLDA as slda"
      ],
      "execution_count": null,
      "outputs": []
    },
    {
      "cell_type": "code",
      "metadata": {
        "id": "j40IEbcBInFk"
      },
      "source": [
        "n_doc = len(corpus)\n",
        "n_voca = voca.size"
      ],
      "execution_count": null,
      "outputs": []
    },
    {
      "cell_type": "code",
      "metadata": {
        "colab": {
          "base_uri": "https://localhost:8080/"
        },
        "id": "0N83BedxL6IM",
        "outputId": "59ea515b-9e68-471a-d3ed-69428ab184f0"
      },
      "source": [
        "n_doc"
      ],
      "execution_count": null,
      "outputs": [
        {
          "output_type": "execute_result",
          "data": {
            "text/plain": [
              "999"
            ]
          },
          "metadata": {
            "tags": []
          },
          "execution_count": 116
        }
      ]
    },
    {
      "cell_type": "code",
      "metadata": {
        "id": "k0BU_NhOu6_p"
      },
      "source": [
        "import random"
      ],
      "execution_count": null,
      "outputs": []
    },
    {
      "cell_type": "code",
      "metadata": {
        "id": "a9x5ocXiLz7D"
      },
      "source": [
        "#fit artificial sevearity\n",
        "sevearity = [random.randint(0,5) for i in range(0,999)]"
      ],
      "execution_count": null,
      "outputs": []
    },
    {
      "cell_type": "code",
      "metadata": {
        "id": "p8eZR-UoKl_Y"
      },
      "source": [
        "model = slda.SupervisedLDA(n_doc, n_voca, 10, sigma=0.01)\n",
        "model.fit(corpus, sevearity)"
      ],
      "execution_count": null,
      "outputs": []
    },
    {
      "cell_type": "code",
      "metadata": {
        "colab": {
          "base_uri": "https://localhost:8080/"
        },
        "id": "_4ZJ-4i3NG-r",
        "outputId": "f7ddc5a9-0171-403b-c759-2d6ff9760a69"
      },
      "source": [
        "for ti in model.eta.argsort():\n",
        "    top_words = get_top_words(model.TW, voca, ti, n_words=10)\n",
        "    print('Eta', model.eta[ti] ,'\\nTopic', ti ,':\\t', ','.join(top_words))"
      ],
      "execution_count": null,
      "outputs": [
        {
          "output_type": "stream",
          "text": [
            "Eta -5.108723255685097 \n",
            "Topic 9 :\t help,new,intern,fight,collagen,news,may,coal,carbon,melt\n",
            "Eta -2.45359608202027 \n",
            "Topic 8 :\t action,iceland,say,habitat,world,heart,volcano,us,affect,take\n",
            "Eta -0.9470921380492804 \n",
            "Topic 3 :\t one,plant,help,reform,sign,part,money,way,stop,air\n",
            "Eta 0.6547249601079373 \n",
            "Topic 2 :\t earth,climate,green,day,could,environment,mention,mani,million,live\n",
            "Eta 0.8506661660244543 \n",
            "Topic 6 :\t trial,clinic,fight,get,collagen,scream,news,place,ocean,april\n",
            "Eta 2.2411970577800715 \n",
            "Topic 5 :\t put,limbo,like,need,green,nation,unveil,talk,washington,graham\n",
            "Eta 2.8279544853757312 \n",
            "Topic 1 :\t carbon,effect,volcano,could,say,glacier,volcan,may,iceland,bird\n",
            "Eta 3.996729007983287 \n",
            "Topic 0 :\t new,air,expert,law,california,world,ocean,govern,wait,season\n",
            "Eta 4.843354666064804 \n",
            "Topic 7 :\t action,day,take,protect,see,forest,due,graham,come,heat\n",
            "Eta 7.059220179228235 \n",
            "Topic 4 :\t april,fight,could,give,blame,new,save,talk,green,us\n"
          ],
          "name": "stdout"
        }
      ]
    }
  ]
}