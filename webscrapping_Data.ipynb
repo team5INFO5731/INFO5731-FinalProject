{
  "nbformat": 4,
  "nbformat_minor": 0,
  "metadata": {
    "colab": {
      "name": "webscrapping_Data.ipynb",
      "provenance": [],
      "collapsed_sections": [],
      "include_colab_link": true
    },
    "kernelspec": {
      "name": "python3",
      "display_name": "Python 3"
    },
    "widgets": {
      "application/vnd.jupyter.widget-state+json": {
        "a28d28539b46469bb843c375f3cd77c7": {
          "model_module": "@jupyter-widgets/controls",
          "model_name": "HBoxModel",
          "state": {
            "_view_name": "HBoxView",
            "_dom_classes": [],
            "_model_name": "HBoxModel",
            "_view_module": "@jupyter-widgets/controls",
            "_model_module_version": "1.5.0",
            "_view_count": null,
            "_view_module_version": "1.5.0",
            "box_style": "",
            "layout": "IPY_MODEL_10338f0c1daf4c55860806ba3f34fec8",
            "_model_module": "@jupyter-widgets/controls",
            "children": [
              "IPY_MODEL_42622cd8e227446a8a5065c1325df605",
              "IPY_MODEL_11856b7533464f0481be60b26312f97f"
            ]
          }
        },
        "10338f0c1daf4c55860806ba3f34fec8": {
          "model_module": "@jupyter-widgets/base",
          "model_name": "LayoutModel",
          "state": {
            "_view_name": "LayoutView",
            "grid_template_rows": null,
            "right": null,
            "justify_content": null,
            "_view_module": "@jupyter-widgets/base",
            "overflow": null,
            "_model_module_version": "1.2.0",
            "_view_count": null,
            "flex_flow": null,
            "width": null,
            "min_width": null,
            "border": null,
            "align_items": null,
            "bottom": null,
            "_model_module": "@jupyter-widgets/base",
            "top": null,
            "grid_column": null,
            "overflow_y": null,
            "overflow_x": null,
            "grid_auto_flow": null,
            "grid_area": null,
            "grid_template_columns": null,
            "flex": null,
            "_model_name": "LayoutModel",
            "justify_items": null,
            "grid_row": null,
            "max_height": null,
            "align_content": null,
            "visibility": null,
            "align_self": null,
            "height": null,
            "min_height": null,
            "padding": null,
            "grid_auto_rows": null,
            "grid_gap": null,
            "max_width": null,
            "order": null,
            "_view_module_version": "1.2.0",
            "grid_template_areas": null,
            "object_position": null,
            "object_fit": null,
            "grid_auto_columns": null,
            "margin": null,
            "display": null,
            "left": null
          }
        },
        "42622cd8e227446a8a5065c1325df605": {
          "model_module": "@jupyter-widgets/controls",
          "model_name": "FloatProgressModel",
          "state": {
            "_view_name": "ProgressView",
            "style": "IPY_MODEL_c7e27ffdd99d4e7db880acb12476b00d",
            "_dom_classes": [],
            "description": "Batches: 100%",
            "_model_name": "FloatProgressModel",
            "bar_style": "success",
            "max": 35,
            "_view_module": "@jupyter-widgets/controls",
            "_model_module_version": "1.5.0",
            "value": 35,
            "_view_count": null,
            "_view_module_version": "1.5.0",
            "orientation": "horizontal",
            "min": 0,
            "description_tooltip": null,
            "_model_module": "@jupyter-widgets/controls",
            "layout": "IPY_MODEL_fdb50ebf9c6b4165b4b559da500df86d"
          }
        },
        "11856b7533464f0481be60b26312f97f": {
          "model_module": "@jupyter-widgets/controls",
          "model_name": "HTMLModel",
          "state": {
            "_view_name": "HTMLView",
            "style": "IPY_MODEL_3e2ac0b4885748728371d7711c204a59",
            "_dom_classes": [],
            "description": "",
            "_model_name": "HTMLModel",
            "placeholder": "​",
            "_view_module": "@jupyter-widgets/controls",
            "_model_module_version": "1.5.0",
            "value": " 35/35 [00:40&lt;00:00,  1.16s/it]",
            "_view_count": null,
            "_view_module_version": "1.5.0",
            "description_tooltip": null,
            "_model_module": "@jupyter-widgets/controls",
            "layout": "IPY_MODEL_8f6b80673c5942dbbfb9ad2b218adc31"
          }
        },
        "c7e27ffdd99d4e7db880acb12476b00d": {
          "model_module": "@jupyter-widgets/controls",
          "model_name": "ProgressStyleModel",
          "state": {
            "_view_name": "StyleView",
            "_model_name": "ProgressStyleModel",
            "description_width": "initial",
            "_view_module": "@jupyter-widgets/base",
            "_model_module_version": "1.5.0",
            "_view_count": null,
            "_view_module_version": "1.2.0",
            "bar_color": null,
            "_model_module": "@jupyter-widgets/controls"
          }
        },
        "fdb50ebf9c6b4165b4b559da500df86d": {
          "model_module": "@jupyter-widgets/base",
          "model_name": "LayoutModel",
          "state": {
            "_view_name": "LayoutView",
            "grid_template_rows": null,
            "right": null,
            "justify_content": null,
            "_view_module": "@jupyter-widgets/base",
            "overflow": null,
            "_model_module_version": "1.2.0",
            "_view_count": null,
            "flex_flow": null,
            "width": null,
            "min_width": null,
            "border": null,
            "align_items": null,
            "bottom": null,
            "_model_module": "@jupyter-widgets/base",
            "top": null,
            "grid_column": null,
            "overflow_y": null,
            "overflow_x": null,
            "grid_auto_flow": null,
            "grid_area": null,
            "grid_template_columns": null,
            "flex": null,
            "_model_name": "LayoutModel",
            "justify_items": null,
            "grid_row": null,
            "max_height": null,
            "align_content": null,
            "visibility": null,
            "align_self": null,
            "height": null,
            "min_height": null,
            "padding": null,
            "grid_auto_rows": null,
            "grid_gap": null,
            "max_width": null,
            "order": null,
            "_view_module_version": "1.2.0",
            "grid_template_areas": null,
            "object_position": null,
            "object_fit": null,
            "grid_auto_columns": null,
            "margin": null,
            "display": null,
            "left": null
          }
        },
        "3e2ac0b4885748728371d7711c204a59": {
          "model_module": "@jupyter-widgets/controls",
          "model_name": "DescriptionStyleModel",
          "state": {
            "_view_name": "StyleView",
            "_model_name": "DescriptionStyleModel",
            "description_width": "",
            "_view_module": "@jupyter-widgets/base",
            "_model_module_version": "1.5.0",
            "_view_count": null,
            "_view_module_version": "1.2.0",
            "_model_module": "@jupyter-widgets/controls"
          }
        },
        "8f6b80673c5942dbbfb9ad2b218adc31": {
          "model_module": "@jupyter-widgets/base",
          "model_name": "LayoutModel",
          "state": {
            "_view_name": "LayoutView",
            "grid_template_rows": null,
            "right": null,
            "justify_content": null,
            "_view_module": "@jupyter-widgets/base",
            "overflow": null,
            "_model_module_version": "1.2.0",
            "_view_count": null,
            "flex_flow": null,
            "width": null,
            "min_width": null,
            "border": null,
            "align_items": null,
            "bottom": null,
            "_model_module": "@jupyter-widgets/base",
            "top": null,
            "grid_column": null,
            "overflow_y": null,
            "overflow_x": null,
            "grid_auto_flow": null,
            "grid_area": null,
            "grid_template_columns": null,
            "flex": null,
            "_model_name": "LayoutModel",
            "justify_items": null,
            "grid_row": null,
            "max_height": null,
            "align_content": null,
            "visibility": null,
            "align_self": null,
            "height": null,
            "min_height": null,
            "padding": null,
            "grid_auto_rows": null,
            "grid_gap": null,
            "max_width": null,
            "order": null,
            "_view_module_version": "1.2.0",
            "grid_template_areas": null,
            "object_position": null,
            "object_fit": null,
            "grid_auto_columns": null,
            "margin": null,
            "display": null,
            "left": null
          }
        },
        "65df62ec50ba498f916cdb30961f0936": {
          "model_module": "@jupyter-widgets/controls",
          "model_name": "HBoxModel",
          "state": {
            "_view_name": "HBoxView",
            "_dom_classes": [],
            "_model_name": "HBoxModel",
            "_view_module": "@jupyter-widgets/controls",
            "_model_module_version": "1.5.0",
            "_view_count": null,
            "_view_module_version": "1.5.0",
            "box_style": "",
            "layout": "IPY_MODEL_cb906566f3b34522bd337951a3eb783a",
            "_model_module": "@jupyter-widgets/controls",
            "children": [
              "IPY_MODEL_c3440a5dfa67498a9b8148108f4d5e30",
              "IPY_MODEL_c5a26d63a8e646dbba6e3b43898f1be6"
            ]
          }
        },
        "cb906566f3b34522bd337951a3eb783a": {
          "model_module": "@jupyter-widgets/base",
          "model_name": "LayoutModel",
          "state": {
            "_view_name": "LayoutView",
            "grid_template_rows": null,
            "right": null,
            "justify_content": null,
            "_view_module": "@jupyter-widgets/base",
            "overflow": null,
            "_model_module_version": "1.2.0",
            "_view_count": null,
            "flex_flow": null,
            "width": null,
            "min_width": null,
            "border": null,
            "align_items": null,
            "bottom": null,
            "_model_module": "@jupyter-widgets/base",
            "top": null,
            "grid_column": null,
            "overflow_y": null,
            "overflow_x": null,
            "grid_auto_flow": null,
            "grid_area": null,
            "grid_template_columns": null,
            "flex": null,
            "_model_name": "LayoutModel",
            "justify_items": null,
            "grid_row": null,
            "max_height": null,
            "align_content": null,
            "visibility": null,
            "align_self": null,
            "height": null,
            "min_height": null,
            "padding": null,
            "grid_auto_rows": null,
            "grid_gap": null,
            "max_width": null,
            "order": null,
            "_view_module_version": "1.2.0",
            "grid_template_areas": null,
            "object_position": null,
            "object_fit": null,
            "grid_auto_columns": null,
            "margin": null,
            "display": null,
            "left": null
          }
        },
        "c3440a5dfa67498a9b8148108f4d5e30": {
          "model_module": "@jupyter-widgets/controls",
          "model_name": "FloatProgressModel",
          "state": {
            "_view_name": "ProgressView",
            "style": "IPY_MODEL_9b6f622980e94d2595805c5a03c5d3ac",
            "_dom_classes": [],
            "description": "Batches: 100%",
            "_model_name": "FloatProgressModel",
            "bar_style": "success",
            "max": 35,
            "_view_module": "@jupyter-widgets/controls",
            "_model_module_version": "1.5.0",
            "value": 35,
            "_view_count": null,
            "_view_module_version": "1.5.0",
            "orientation": "horizontal",
            "min": 0,
            "description_tooltip": null,
            "_model_module": "@jupyter-widgets/controls",
            "layout": "IPY_MODEL_85d8dc7226a247edb87752ff6717ae80"
          }
        },
        "c5a26d63a8e646dbba6e3b43898f1be6": {
          "model_module": "@jupyter-widgets/controls",
          "model_name": "HTMLModel",
          "state": {
            "_view_name": "HTMLView",
            "style": "IPY_MODEL_d3e8aeeed303497e8e8097c28ddb5d70",
            "_dom_classes": [],
            "description": "",
            "_model_name": "HTMLModel",
            "placeholder": "​",
            "_view_module": "@jupyter-widgets/controls",
            "_model_module_version": "1.5.0",
            "value": " 35/35 [02:14&lt;00:00,  3.84s/it]",
            "_view_count": null,
            "_view_module_version": "1.5.0",
            "description_tooltip": null,
            "_model_module": "@jupyter-widgets/controls",
            "layout": "IPY_MODEL_9d0ab876479340f7ba4b2ebe1b331046"
          }
        },
        "9b6f622980e94d2595805c5a03c5d3ac": {
          "model_module": "@jupyter-widgets/controls",
          "model_name": "ProgressStyleModel",
          "state": {
            "_view_name": "StyleView",
            "_model_name": "ProgressStyleModel",
            "description_width": "initial",
            "_view_module": "@jupyter-widgets/base",
            "_model_module_version": "1.5.0",
            "_view_count": null,
            "_view_module_version": "1.2.0",
            "bar_color": null,
            "_model_module": "@jupyter-widgets/controls"
          }
        },
        "85d8dc7226a247edb87752ff6717ae80": {
          "model_module": "@jupyter-widgets/base",
          "model_name": "LayoutModel",
          "state": {
            "_view_name": "LayoutView",
            "grid_template_rows": null,
            "right": null,
            "justify_content": null,
            "_view_module": "@jupyter-widgets/base",
            "overflow": null,
            "_model_module_version": "1.2.0",
            "_view_count": null,
            "flex_flow": null,
            "width": null,
            "min_width": null,
            "border": null,
            "align_items": null,
            "bottom": null,
            "_model_module": "@jupyter-widgets/base",
            "top": null,
            "grid_column": null,
            "overflow_y": null,
            "overflow_x": null,
            "grid_auto_flow": null,
            "grid_area": null,
            "grid_template_columns": null,
            "flex": null,
            "_model_name": "LayoutModel",
            "justify_items": null,
            "grid_row": null,
            "max_height": null,
            "align_content": null,
            "visibility": null,
            "align_self": null,
            "height": null,
            "min_height": null,
            "padding": null,
            "grid_auto_rows": null,
            "grid_gap": null,
            "max_width": null,
            "order": null,
            "_view_module_version": "1.2.0",
            "grid_template_areas": null,
            "object_position": null,
            "object_fit": null,
            "grid_auto_columns": null,
            "margin": null,
            "display": null,
            "left": null
          }
        },
        "d3e8aeeed303497e8e8097c28ddb5d70": {
          "model_module": "@jupyter-widgets/controls",
          "model_name": "DescriptionStyleModel",
          "state": {
            "_view_name": "StyleView",
            "_model_name": "DescriptionStyleModel",
            "description_width": "",
            "_view_module": "@jupyter-widgets/base",
            "_model_module_version": "1.5.0",
            "_view_count": null,
            "_view_module_version": "1.2.0",
            "_model_module": "@jupyter-widgets/controls"
          }
        },
        "9d0ab876479340f7ba4b2ebe1b331046": {
          "model_module": "@jupyter-widgets/base",
          "model_name": "LayoutModel",
          "state": {
            "_view_name": "LayoutView",
            "grid_template_rows": null,
            "right": null,
            "justify_content": null,
            "_view_module": "@jupyter-widgets/base",
            "overflow": null,
            "_model_module_version": "1.2.0",
            "_view_count": null,
            "flex_flow": null,
            "width": null,
            "min_width": null,
            "border": null,
            "align_items": null,
            "bottom": null,
            "_model_module": "@jupyter-widgets/base",
            "top": null,
            "grid_column": null,
            "overflow_y": null,
            "overflow_x": null,
            "grid_auto_flow": null,
            "grid_area": null,
            "grid_template_columns": null,
            "flex": null,
            "_model_name": "LayoutModel",
            "justify_items": null,
            "grid_row": null,
            "max_height": null,
            "align_content": null,
            "visibility": null,
            "align_self": null,
            "height": null,
            "min_height": null,
            "padding": null,
            "grid_auto_rows": null,
            "grid_gap": null,
            "max_width": null,
            "order": null,
            "_view_module_version": "1.2.0",
            "grid_template_areas": null,
            "object_position": null,
            "object_fit": null,
            "grid_auto_columns": null,
            "margin": null,
            "display": null,
            "left": null
          }
        },
        "2b972959656641bbbc529b2108b179cf": {
          "model_module": "@jupyter-widgets/controls",
          "model_name": "HBoxModel",
          "state": {
            "_view_name": "HBoxView",
            "_dom_classes": [],
            "_model_name": "HBoxModel",
            "_view_module": "@jupyter-widgets/controls",
            "_model_module_version": "1.5.0",
            "_view_count": null,
            "_view_module_version": "1.5.0",
            "box_style": "",
            "layout": "IPY_MODEL_7eec07c39ada47cc8799a500bfa76f91",
            "_model_module": "@jupyter-widgets/controls",
            "children": [
              "IPY_MODEL_1db49c7143d049c6aed700135e3aca34",
              "IPY_MODEL_5c32a93896be4eb0a6978e1daf075938"
            ]
          }
        },
        "7eec07c39ada47cc8799a500bfa76f91": {
          "model_module": "@jupyter-widgets/base",
          "model_name": "LayoutModel",
          "state": {
            "_view_name": "LayoutView",
            "grid_template_rows": null,
            "right": null,
            "justify_content": null,
            "_view_module": "@jupyter-widgets/base",
            "overflow": null,
            "_model_module_version": "1.2.0",
            "_view_count": null,
            "flex_flow": null,
            "width": null,
            "min_width": null,
            "border": null,
            "align_items": null,
            "bottom": null,
            "_model_module": "@jupyter-widgets/base",
            "top": null,
            "grid_column": null,
            "overflow_y": null,
            "overflow_x": null,
            "grid_auto_flow": null,
            "grid_area": null,
            "grid_template_columns": null,
            "flex": null,
            "_model_name": "LayoutModel",
            "justify_items": null,
            "grid_row": null,
            "max_height": null,
            "align_content": null,
            "visibility": null,
            "align_self": null,
            "height": null,
            "min_height": null,
            "padding": null,
            "grid_auto_rows": null,
            "grid_gap": null,
            "max_width": null,
            "order": null,
            "_view_module_version": "1.2.0",
            "grid_template_areas": null,
            "object_position": null,
            "object_fit": null,
            "grid_auto_columns": null,
            "margin": null,
            "display": null,
            "left": null
          }
        },
        "1db49c7143d049c6aed700135e3aca34": {
          "model_module": "@jupyter-widgets/controls",
          "model_name": "FloatProgressModel",
          "state": {
            "_view_name": "ProgressView",
            "style": "IPY_MODEL_8da5877eefae441c965f30dfdeb018f5",
            "_dom_classes": [],
            "description": "Batches: 100%",
            "_model_name": "FloatProgressModel",
            "bar_style": "success",
            "max": 16,
            "_view_module": "@jupyter-widgets/controls",
            "_model_module_version": "1.5.0",
            "value": 16,
            "_view_count": null,
            "_view_module_version": "1.5.0",
            "orientation": "horizontal",
            "min": 0,
            "description_tooltip": null,
            "_model_module": "@jupyter-widgets/controls",
            "layout": "IPY_MODEL_47f225a98e544724a68184f92aa1b141"
          }
        },
        "5c32a93896be4eb0a6978e1daf075938": {
          "model_module": "@jupyter-widgets/controls",
          "model_name": "HTMLModel",
          "state": {
            "_view_name": "HTMLView",
            "style": "IPY_MODEL_c4a9f5ee0e4649a99e1aa01c25be7148",
            "_dom_classes": [],
            "description": "",
            "_model_name": "HTMLModel",
            "placeholder": "​",
            "_view_module": "@jupyter-widgets/controls",
            "_model_module_version": "1.5.0",
            "value": " 16/16 [01:01&lt;00:00,  3.86s/it]",
            "_view_count": null,
            "_view_module_version": "1.5.0",
            "description_tooltip": null,
            "_model_module": "@jupyter-widgets/controls",
            "layout": "IPY_MODEL_41d8014422464e2798c453a75cf1304c"
          }
        },
        "8da5877eefae441c965f30dfdeb018f5": {
          "model_module": "@jupyter-widgets/controls",
          "model_name": "ProgressStyleModel",
          "state": {
            "_view_name": "StyleView",
            "_model_name": "ProgressStyleModel",
            "description_width": "initial",
            "_view_module": "@jupyter-widgets/base",
            "_model_module_version": "1.5.0",
            "_view_count": null,
            "_view_module_version": "1.2.0",
            "bar_color": null,
            "_model_module": "@jupyter-widgets/controls"
          }
        },
        "47f225a98e544724a68184f92aa1b141": {
          "model_module": "@jupyter-widgets/base",
          "model_name": "LayoutModel",
          "state": {
            "_view_name": "LayoutView",
            "grid_template_rows": null,
            "right": null,
            "justify_content": null,
            "_view_module": "@jupyter-widgets/base",
            "overflow": null,
            "_model_module_version": "1.2.0",
            "_view_count": null,
            "flex_flow": null,
            "width": null,
            "min_width": null,
            "border": null,
            "align_items": null,
            "bottom": null,
            "_model_module": "@jupyter-widgets/base",
            "top": null,
            "grid_column": null,
            "overflow_y": null,
            "overflow_x": null,
            "grid_auto_flow": null,
            "grid_area": null,
            "grid_template_columns": null,
            "flex": null,
            "_model_name": "LayoutModel",
            "justify_items": null,
            "grid_row": null,
            "max_height": null,
            "align_content": null,
            "visibility": null,
            "align_self": null,
            "height": null,
            "min_height": null,
            "padding": null,
            "grid_auto_rows": null,
            "grid_gap": null,
            "max_width": null,
            "order": null,
            "_view_module_version": "1.2.0",
            "grid_template_areas": null,
            "object_position": null,
            "object_fit": null,
            "grid_auto_columns": null,
            "margin": null,
            "display": null,
            "left": null
          }
        },
        "c4a9f5ee0e4649a99e1aa01c25be7148": {
          "model_module": "@jupyter-widgets/controls",
          "model_name": "DescriptionStyleModel",
          "state": {
            "_view_name": "StyleView",
            "_model_name": "DescriptionStyleModel",
            "description_width": "",
            "_view_module": "@jupyter-widgets/base",
            "_model_module_version": "1.5.0",
            "_view_count": null,
            "_view_module_version": "1.2.0",
            "_model_module": "@jupyter-widgets/controls"
          }
        },
        "41d8014422464e2798c453a75cf1304c": {
          "model_module": "@jupyter-widgets/base",
          "model_name": "LayoutModel",
          "state": {
            "_view_name": "LayoutView",
            "grid_template_rows": null,
            "right": null,
            "justify_content": null,
            "_view_module": "@jupyter-widgets/base",
            "overflow": null,
            "_model_module_version": "1.2.0",
            "_view_count": null,
            "flex_flow": null,
            "width": null,
            "min_width": null,
            "border": null,
            "align_items": null,
            "bottom": null,
            "_model_module": "@jupyter-widgets/base",
            "top": null,
            "grid_column": null,
            "overflow_y": null,
            "overflow_x": null,
            "grid_auto_flow": null,
            "grid_area": null,
            "grid_template_columns": null,
            "flex": null,
            "_model_name": "LayoutModel",
            "justify_items": null,
            "grid_row": null,
            "max_height": null,
            "align_content": null,
            "visibility": null,
            "align_self": null,
            "height": null,
            "min_height": null,
            "padding": null,
            "grid_auto_rows": null,
            "grid_gap": null,
            "max_width": null,
            "order": null,
            "_view_module_version": "1.2.0",
            "grid_template_areas": null,
            "object_position": null,
            "object_fit": null,
            "grid_auto_columns": null,
            "margin": null,
            "display": null,
            "left": null
          }
        },
        "76451ef3ddb147688c5c4283148fe903": {
          "model_module": "@jupyter-widgets/controls",
          "model_name": "HBoxModel",
          "state": {
            "_view_name": "HBoxView",
            "_dom_classes": [],
            "_model_name": "HBoxModel",
            "_view_module": "@jupyter-widgets/controls",
            "_model_module_version": "1.5.0",
            "_view_count": null,
            "_view_module_version": "1.5.0",
            "box_style": "",
            "layout": "IPY_MODEL_a1409ab7da984ef0aab1c384a8444695",
            "_model_module": "@jupyter-widgets/controls",
            "children": [
              "IPY_MODEL_6e2d2e377a5a4ee7bb93492b3ae65201",
              "IPY_MODEL_d1882ec4e80d4056a0da545c40bdbd33"
            ]
          }
        },
        "a1409ab7da984ef0aab1c384a8444695": {
          "model_module": "@jupyter-widgets/base",
          "model_name": "LayoutModel",
          "state": {
            "_view_name": "LayoutView",
            "grid_template_rows": null,
            "right": null,
            "justify_content": null,
            "_view_module": "@jupyter-widgets/base",
            "overflow": null,
            "_model_module_version": "1.2.0",
            "_view_count": null,
            "flex_flow": null,
            "width": null,
            "min_width": null,
            "border": null,
            "align_items": null,
            "bottom": null,
            "_model_module": "@jupyter-widgets/base",
            "top": null,
            "grid_column": null,
            "overflow_y": null,
            "overflow_x": null,
            "grid_auto_flow": null,
            "grid_area": null,
            "grid_template_columns": null,
            "flex": null,
            "_model_name": "LayoutModel",
            "justify_items": null,
            "grid_row": null,
            "max_height": null,
            "align_content": null,
            "visibility": null,
            "align_self": null,
            "height": null,
            "min_height": null,
            "padding": null,
            "grid_auto_rows": null,
            "grid_gap": null,
            "max_width": null,
            "order": null,
            "_view_module_version": "1.2.0",
            "grid_template_areas": null,
            "object_position": null,
            "object_fit": null,
            "grid_auto_columns": null,
            "margin": null,
            "display": null,
            "left": null
          }
        },
        "6e2d2e377a5a4ee7bb93492b3ae65201": {
          "model_module": "@jupyter-widgets/controls",
          "model_name": "FloatProgressModel",
          "state": {
            "_view_name": "ProgressView",
            "style": "IPY_MODEL_a40e7c6c262a4c498fcb63497514f43e",
            "_dom_classes": [],
            "description": "Batches: 100%",
            "_model_name": "FloatProgressModel",
            "bar_style": "success",
            "max": 32,
            "_view_module": "@jupyter-widgets/controls",
            "_model_module_version": "1.5.0",
            "value": 32,
            "_view_count": null,
            "_view_module_version": "1.5.0",
            "orientation": "horizontal",
            "min": 0,
            "description_tooltip": null,
            "_model_module": "@jupyter-widgets/controls",
            "layout": "IPY_MODEL_7101a7ff31b3419bba53a84548c98c84"
          }
        },
        "d1882ec4e80d4056a0da545c40bdbd33": {
          "model_module": "@jupyter-widgets/controls",
          "model_name": "HTMLModel",
          "state": {
            "_view_name": "HTMLView",
            "style": "IPY_MODEL_a83038b2225846618b37c67b96f592f7",
            "_dom_classes": [],
            "description": "",
            "_model_name": "HTMLModel",
            "placeholder": "​",
            "_view_module": "@jupyter-widgets/controls",
            "_model_module_version": "1.5.0",
            "value": " 32/32 [01:10&lt;00:00,  2.20s/it]",
            "_view_count": null,
            "_view_module_version": "1.5.0",
            "description_tooltip": null,
            "_model_module": "@jupyter-widgets/controls",
            "layout": "IPY_MODEL_e1cda18d358e45839210ea191c1bf717"
          }
        },
        "a40e7c6c262a4c498fcb63497514f43e": {
          "model_module": "@jupyter-widgets/controls",
          "model_name": "ProgressStyleModel",
          "state": {
            "_view_name": "StyleView",
            "_model_name": "ProgressStyleModel",
            "description_width": "initial",
            "_view_module": "@jupyter-widgets/base",
            "_model_module_version": "1.5.0",
            "_view_count": null,
            "_view_module_version": "1.2.0",
            "bar_color": null,
            "_model_module": "@jupyter-widgets/controls"
          }
        },
        "7101a7ff31b3419bba53a84548c98c84": {
          "model_module": "@jupyter-widgets/base",
          "model_name": "LayoutModel",
          "state": {
            "_view_name": "LayoutView",
            "grid_template_rows": null,
            "right": null,
            "justify_content": null,
            "_view_module": "@jupyter-widgets/base",
            "overflow": null,
            "_model_module_version": "1.2.0",
            "_view_count": null,
            "flex_flow": null,
            "width": null,
            "min_width": null,
            "border": null,
            "align_items": null,
            "bottom": null,
            "_model_module": "@jupyter-widgets/base",
            "top": null,
            "grid_column": null,
            "overflow_y": null,
            "overflow_x": null,
            "grid_auto_flow": null,
            "grid_area": null,
            "grid_template_columns": null,
            "flex": null,
            "_model_name": "LayoutModel",
            "justify_items": null,
            "grid_row": null,
            "max_height": null,
            "align_content": null,
            "visibility": null,
            "align_self": null,
            "height": null,
            "min_height": null,
            "padding": null,
            "grid_auto_rows": null,
            "grid_gap": null,
            "max_width": null,
            "order": null,
            "_view_module_version": "1.2.0",
            "grid_template_areas": null,
            "object_position": null,
            "object_fit": null,
            "grid_auto_columns": null,
            "margin": null,
            "display": null,
            "left": null
          }
        },
        "a83038b2225846618b37c67b96f592f7": {
          "model_module": "@jupyter-widgets/controls",
          "model_name": "DescriptionStyleModel",
          "state": {
            "_view_name": "StyleView",
            "_model_name": "DescriptionStyleModel",
            "description_width": "",
            "_view_module": "@jupyter-widgets/base",
            "_model_module_version": "1.5.0",
            "_view_count": null,
            "_view_module_version": "1.2.0",
            "_model_module": "@jupyter-widgets/controls"
          }
        },
        "e1cda18d358e45839210ea191c1bf717": {
          "model_module": "@jupyter-widgets/base",
          "model_name": "LayoutModel",
          "state": {
            "_view_name": "LayoutView",
            "grid_template_rows": null,
            "right": null,
            "justify_content": null,
            "_view_module": "@jupyter-widgets/base",
            "overflow": null,
            "_model_module_version": "1.2.0",
            "_view_count": null,
            "flex_flow": null,
            "width": null,
            "min_width": null,
            "border": null,
            "align_items": null,
            "bottom": null,
            "_model_module": "@jupyter-widgets/base",
            "top": null,
            "grid_column": null,
            "overflow_y": null,
            "overflow_x": null,
            "grid_auto_flow": null,
            "grid_area": null,
            "grid_template_columns": null,
            "flex": null,
            "_model_name": "LayoutModel",
            "justify_items": null,
            "grid_row": null,
            "max_height": null,
            "align_content": null,
            "visibility": null,
            "align_self": null,
            "height": null,
            "min_height": null,
            "padding": null,
            "grid_auto_rows": null,
            "grid_gap": null,
            "max_width": null,
            "order": null,
            "_view_module_version": "1.2.0",
            "grid_template_areas": null,
            "object_position": null,
            "object_fit": null,
            "grid_auto_columns": null,
            "margin": null,
            "display": null,
            "left": null
          }
        },
        "3ae54973dbfa41e0bfab3dee332bcd2e": {
          "model_module": "@jupyter-widgets/controls",
          "model_name": "HBoxModel",
          "state": {
            "_view_name": "HBoxView",
            "_dom_classes": [],
            "_model_name": "HBoxModel",
            "_view_module": "@jupyter-widgets/controls",
            "_model_module_version": "1.5.0",
            "_view_count": null,
            "_view_module_version": "1.5.0",
            "box_style": "",
            "layout": "IPY_MODEL_76b3692821b5460bb299a6b45570f9c0",
            "_model_module": "@jupyter-widgets/controls",
            "children": [
              "IPY_MODEL_3b5f71f47841423089b4411b5571b8a0",
              "IPY_MODEL_23ad26d73f104505b89cd1473ee2da55"
            ]
          }
        },
        "76b3692821b5460bb299a6b45570f9c0": {
          "model_module": "@jupyter-widgets/base",
          "model_name": "LayoutModel",
          "state": {
            "_view_name": "LayoutView",
            "grid_template_rows": null,
            "right": null,
            "justify_content": null,
            "_view_module": "@jupyter-widgets/base",
            "overflow": null,
            "_model_module_version": "1.2.0",
            "_view_count": null,
            "flex_flow": null,
            "width": null,
            "min_width": null,
            "border": null,
            "align_items": null,
            "bottom": null,
            "_model_module": "@jupyter-widgets/base",
            "top": null,
            "grid_column": null,
            "overflow_y": null,
            "overflow_x": null,
            "grid_auto_flow": null,
            "grid_area": null,
            "grid_template_columns": null,
            "flex": null,
            "_model_name": "LayoutModel",
            "justify_items": null,
            "grid_row": null,
            "max_height": null,
            "align_content": null,
            "visibility": null,
            "align_self": null,
            "height": null,
            "min_height": null,
            "padding": null,
            "grid_auto_rows": null,
            "grid_gap": null,
            "max_width": null,
            "order": null,
            "_view_module_version": "1.2.0",
            "grid_template_areas": null,
            "object_position": null,
            "object_fit": null,
            "grid_auto_columns": null,
            "margin": null,
            "display": null,
            "left": null
          }
        },
        "3b5f71f47841423089b4411b5571b8a0": {
          "model_module": "@jupyter-widgets/controls",
          "model_name": "FloatProgressModel",
          "state": {
            "_view_name": "ProgressView",
            "style": "IPY_MODEL_1f2923f2a7e4483ca65673db2e6deb10",
            "_dom_classes": [],
            "description": "Batches: 100%",
            "_model_name": "FloatProgressModel",
            "bar_style": "success",
            "max": 102,
            "_view_module": "@jupyter-widgets/controls",
            "_model_module_version": "1.5.0",
            "value": 102,
            "_view_count": null,
            "_view_module_version": "1.5.0",
            "orientation": "horizontal",
            "min": 0,
            "description_tooltip": null,
            "_model_module": "@jupyter-widgets/controls",
            "layout": "IPY_MODEL_33825d21da8642489f67f523c3647125"
          }
        },
        "23ad26d73f104505b89cd1473ee2da55": {
          "model_module": "@jupyter-widgets/controls",
          "model_name": "HTMLModel",
          "state": {
            "_view_name": "HTMLView",
            "style": "IPY_MODEL_587ea3f5e3224141b668442f40fb2702",
            "_dom_classes": [],
            "description": "",
            "_model_name": "HTMLModel",
            "placeholder": "​",
            "_view_module": "@jupyter-widgets/controls",
            "_model_module_version": "1.5.0",
            "value": " 102/102 [07:12&lt;00:00,  4.24s/it]",
            "_view_count": null,
            "_view_module_version": "1.5.0",
            "description_tooltip": null,
            "_model_module": "@jupyter-widgets/controls",
            "layout": "IPY_MODEL_3249744ac0fc45bca8e52975a0954603"
          }
        },
        "1f2923f2a7e4483ca65673db2e6deb10": {
          "model_module": "@jupyter-widgets/controls",
          "model_name": "ProgressStyleModel",
          "state": {
            "_view_name": "StyleView",
            "_model_name": "ProgressStyleModel",
            "description_width": "initial",
            "_view_module": "@jupyter-widgets/base",
            "_model_module_version": "1.5.0",
            "_view_count": null,
            "_view_module_version": "1.2.0",
            "bar_color": null,
            "_model_module": "@jupyter-widgets/controls"
          }
        },
        "33825d21da8642489f67f523c3647125": {
          "model_module": "@jupyter-widgets/base",
          "model_name": "LayoutModel",
          "state": {
            "_view_name": "LayoutView",
            "grid_template_rows": null,
            "right": null,
            "justify_content": null,
            "_view_module": "@jupyter-widgets/base",
            "overflow": null,
            "_model_module_version": "1.2.0",
            "_view_count": null,
            "flex_flow": null,
            "width": null,
            "min_width": null,
            "border": null,
            "align_items": null,
            "bottom": null,
            "_model_module": "@jupyter-widgets/base",
            "top": null,
            "grid_column": null,
            "overflow_y": null,
            "overflow_x": null,
            "grid_auto_flow": null,
            "grid_area": null,
            "grid_template_columns": null,
            "flex": null,
            "_model_name": "LayoutModel",
            "justify_items": null,
            "grid_row": null,
            "max_height": null,
            "align_content": null,
            "visibility": null,
            "align_self": null,
            "height": null,
            "min_height": null,
            "padding": null,
            "grid_auto_rows": null,
            "grid_gap": null,
            "max_width": null,
            "order": null,
            "_view_module_version": "1.2.0",
            "grid_template_areas": null,
            "object_position": null,
            "object_fit": null,
            "grid_auto_columns": null,
            "margin": null,
            "display": null,
            "left": null
          }
        },
        "587ea3f5e3224141b668442f40fb2702": {
          "model_module": "@jupyter-widgets/controls",
          "model_name": "DescriptionStyleModel",
          "state": {
            "_view_name": "StyleView",
            "_model_name": "DescriptionStyleModel",
            "description_width": "",
            "_view_module": "@jupyter-widgets/base",
            "_model_module_version": "1.5.0",
            "_view_count": null,
            "_view_module_version": "1.2.0",
            "_model_module": "@jupyter-widgets/controls"
          }
        },
        "3249744ac0fc45bca8e52975a0954603": {
          "model_module": "@jupyter-widgets/base",
          "model_name": "LayoutModel",
          "state": {
            "_view_name": "LayoutView",
            "grid_template_rows": null,
            "right": null,
            "justify_content": null,
            "_view_module": "@jupyter-widgets/base",
            "overflow": null,
            "_model_module_version": "1.2.0",
            "_view_count": null,
            "flex_flow": null,
            "width": null,
            "min_width": null,
            "border": null,
            "align_items": null,
            "bottom": null,
            "_model_module": "@jupyter-widgets/base",
            "top": null,
            "grid_column": null,
            "overflow_y": null,
            "overflow_x": null,
            "grid_auto_flow": null,
            "grid_area": null,
            "grid_template_columns": null,
            "flex": null,
            "_model_name": "LayoutModel",
            "justify_items": null,
            "grid_row": null,
            "max_height": null,
            "align_content": null,
            "visibility": null,
            "align_self": null,
            "height": null,
            "min_height": null,
            "padding": null,
            "grid_auto_rows": null,
            "grid_gap": null,
            "max_width": null,
            "order": null,
            "_view_module_version": "1.2.0",
            "grid_template_areas": null,
            "object_position": null,
            "object_fit": null,
            "grid_auto_columns": null,
            "margin": null,
            "display": null,
            "left": null
          }
        }
      }
    }
  },
  "cells": [
    {
      "cell_type": "markdown",
      "metadata": {
        "id": "view-in-github",
        "colab_type": "text"
      },
      "source": [
        "<a href=\"https://colab.research.google.com/github/team5INFO5731/INFO5731-FinalProject/blob/main/webscrapping_Data.ipynb\" target=\"_parent\"><img src=\"https://colab.research.google.com/assets/colab-badge.svg\" alt=\"Open In Colab\"/></a>"
      ]
    },
    {
      "cell_type": "code",
      "metadata": {
        "colab": {
          "base_uri": "https://localhost:8080/"
        },
        "id": "R6zN3qQihBYw",
        "outputId": "5d650284-b4f6-4d56-d368-90d83dd8992a"
      },
      "source": [
        "!pip install selenium\n",
        "!pip install BeautifulSoup\n",
        "!apt-get update # to update ubuntu to correctly run apt install\n",
        "!apt install chromium-chromedriver\n",
        "!cp /usr/lib/chromium-browser/chromedriver /usr/bin\n",
        "import sys\n",
        "sys.path.insert(0,'/usr/lib/chromium-browser/chromedriver')\n",
        "from selenium import webdriver\n",
        "chrome_options = webdriver.ChromeOptions()\n",
        "chrome_options.add_argument('--headless')\n",
        "chrome_options.add_argument('--no-sandbox')\n",
        "chrome_options.add_argument('--disable-dev-shm-usage')\n",
        "wd = webdriver.Chrome('chromedriver',chrome_options=chrome_options)"
      ],
      "execution_count": null,
      "outputs": [
        {
          "output_type": "stream",
          "text": [
            "Requirement already satisfied: selenium in /usr/local/lib/python3.6/dist-packages (3.141.0)\n",
            "Requirement already satisfied: urllib3 in /usr/local/lib/python3.6/dist-packages (from selenium) (1.24.3)\n",
            "Collecting BeautifulSoup\n",
            "  Using cached https://files.pythonhosted.org/packages/40/f2/6c9f2f3e696ee6a1fb0e4d7850617e224ed2b0b1e872110abffeca2a09d4/BeautifulSoup-3.2.2.tar.gz\n",
            "\u001b[31mERROR: Command errored out with exit status 1: python setup.py egg_info Check the logs for full command output.\u001b[0m\n",
            "Ign:1 https://developer.download.nvidia.com/compute/cuda/repos/ubuntu1804/x86_64  InRelease\n",
            "Hit:2 https://cloud.r-project.org/bin/linux/ubuntu bionic-cran40/ InRelease\n",
            "Get:3 http://security.ubuntu.com/ubuntu bionic-security InRelease [88.7 kB]\n",
            "Hit:4 http://ppa.launchpad.net/c2d4u.team/c2d4u4.0+/ubuntu bionic InRelease\n",
            "Hit:5 http://archive.ubuntu.com/ubuntu bionic InRelease\n",
            "Ign:6 https://developer.download.nvidia.com/compute/machine-learning/repos/ubuntu1804/x86_64  InRelease\n",
            "Hit:7 https://developer.download.nvidia.com/compute/cuda/repos/ubuntu1804/x86_64  Release\n",
            "Hit:8 https://developer.download.nvidia.com/compute/machine-learning/repos/ubuntu1804/x86_64  Release\n",
            "Get:9 http://archive.ubuntu.com/ubuntu bionic-updates InRelease [88.7 kB]\n",
            "Hit:10 http://ppa.launchpad.net/graphics-drivers/ppa/ubuntu bionic InRelease\n",
            "Get:11 http://archive.ubuntu.com/ubuntu bionic-backports InRelease [74.6 kB]\n",
            "Fetched 252 kB in 2s (150 kB/s)\n",
            "Reading package lists... Done\n",
            "Reading package lists... Done\n",
            "Building dependency tree       \n",
            "Reading state information... Done\n",
            "chromium-chromedriver is already the newest version (87.0.4280.66-0ubuntu0.18.04.1).\n",
            "0 upgraded, 0 newly installed, 0 to remove and 16 not upgraded.\n",
            "cp: '/usr/lib/chromium-browser/chromedriver' and '/usr/bin/chromedriver' are the same file\n"
          ],
          "name": "stdout"
        },
        {
          "output_type": "stream",
          "text": [
            "/usr/local/lib/python3.6/dist-packages/ipykernel_launcher.py:13: DeprecationWarning: use options instead of chrome_options\n",
            "  del sys.path[0]\n"
          ],
          "name": "stderr"
        }
      ]
    },
    {
      "cell_type": "code",
      "metadata": {
        "colab": {
          "base_uri": "https://localhost:8080/"
        },
        "id": "Ok0TOz-ShnAP",
        "outputId": "25744ae2-0a63-4509-b46b-7e1b317336d4"
      },
      "source": [
        "!pip install beautifulsoup4"
      ],
      "execution_count": null,
      "outputs": [
        {
          "output_type": "stream",
          "text": [
            "Requirement already satisfied: beautifulsoup4 in /usr/local/lib/python3.6/dist-packages (4.6.3)\n"
          ],
          "name": "stdout"
        }
      ]
    },
    {
      "cell_type": "code",
      "metadata": {
        "id": "u9WTU5y4OAT-"
      },
      "source": [
        "## short, news data\n",
        "\n",
        "def get_html_loadmore(url,num_pages):\n",
        "  import requests\n",
        "  from bs4 import BeautifulSoup\n",
        "  import pandas as pd\n",
        "  from selenium import webdriver\n",
        "  import time\n",
        "  from selenium.webdriver.support.ui import WebDriverWait\n",
        "  from selenium.webdriver.common.by import By\n",
        "  from selenium.webdriver.support import expected_conditions as EC\n",
        "  from selenium import webdriver\n",
        "  chrome_options = webdriver.ChromeOptions()\n",
        "  chrome_options.add_argument('--headless')\n",
        "  chrome_options.add_argument('--no-sandbox')\n",
        "  chrome_options.add_argument('--disable-dev-shm-usage')\n",
        "  wd = webdriver.Chrome('chromedriver',chrome_options=chrome_options)\n",
        "\n",
        "  url = url\n",
        "  wd.get(url)\n",
        "  html = wd.page_source.encode('utf-8')\n",
        "  page_num = 0\n",
        "  while (wd.find_elements_by_id('load-more-btn') and page_num<num_pages):\n",
        "    wd.find_element_by_id('load-more-btn').click()\n",
        "    time.sleep(2)\n",
        "    page_num+=1\n",
        "  html = wd.page_source.encode('utf-8')\n",
        "  return html\n",
        "  \n",
        "\n"
      ],
      "execution_count": null,
      "outputs": []
    },
    {
      "cell_type": "code",
      "metadata": {
        "colab": {
          "base_uri": "https://localhost:8080/"
        },
        "id": "rVo78nr_wqMi",
        "outputId": "8a673c01-c21f-4cbd-be11-073adc2eb80e"
      },
      "source": [
        "from bs4 import BeautifulSoup\n",
        "short_text=[]\n",
        "news=[]\n",
        "html =get_html_loadmore(\"https://inshorts.com/en/read\",40)\n",
        "soup = BeautifulSoup(html, \"lxml\")\n",
        "short_text_soup=soup.find_all('div', class_=[\"news-card-title news-right-box\"])\n",
        "news_soup=soup.find_all('div', class_=[\"news-card-content news-right-box\"])\n",
        "\n",
        "for i in short_text_soup:\n",
        "  short_text.append(i.find('span',attrs={'itemprop':\"headline\"}).string)\n",
        "\n",
        "for j in news_soup:\n",
        "  news.append(j.find('div',attrs={'itemprop':\"articleBody\"}).string)\n"
      ],
      "execution_count": null,
      "outputs": [
        {
          "output_type": "stream",
          "text": [
            "/usr/local/lib/python3.6/dist-packages/ipykernel_launcher.py:17: DeprecationWarning: use options instead of chrome_options\n"
          ],
          "name": "stderr"
        }
      ]
    },
    {
      "cell_type": "code",
      "metadata": {
        "id": "Qa7KaF6GEG_q"
      },
      "source": [
        "import pandas as pd\n",
        "short_text_df=(pd.DataFrame(short_text)).to_csv(\"short_text.csv\")\n",
        "news_text_df=(pd.DataFrame(news)).to_csv(\"news.csv\")"
      ],
      "execution_count": null,
      "outputs": []
    },
    {
      "cell_type": "code",
      "metadata": {
        "id": "SggbHL4VtTXG"
      },
      "source": [
        "## social media tweet data\n",
        "import tweepy\n",
        "consumer_key = \"v6DkFAg34mL5bnQa6HgUycOoZ\"\n",
        "consumer_secret = \"KNqZqEa2FWx0cnLZ7aLwqo01Q12oYSxeb3khK21lbNibULQAEn\"\n",
        "access_token = \"3992308705-oEgS72kYOAPPr7mLBVmDTXWzKgvIe50VEwJNm6P\"\n",
        "access_token_secret = \"o1lILiDx3MhFO47Es91Xjt2zxwPH7S04Hml2nvqbfb8i0\"\n",
        "auth = tweepy.OAuthHandler(consumer_key, consumer_secret)\n",
        "auth.set_access_token(access_token, access_token_secret)\n",
        "api = tweepy.API(auth,wait_on_rate_limit=True)"
      ],
      "execution_count": null,
      "outputs": []
    },
    {
      "cell_type": "code",
      "metadata": {
        "id": "fcS2TbI--xcy",
        "colab": {
          "base_uri": "https://localhost:8080/"
        },
        "outputId": "99a7979b-a059-46e1-f472-5e2d958b6555"
      },
      "source": [
        "pip install tweepy"
      ],
      "execution_count": null,
      "outputs": [
        {
          "output_type": "stream",
          "text": [
            "Requirement already satisfied: tweepy in /usr/local/lib/python3.6/dist-packages (3.6.0)\n",
            "Requirement already satisfied: requests>=2.11.1 in /usr/local/lib/python3.6/dist-packages (from tweepy) (2.23.0)\n",
            "Requirement already satisfied: PySocks>=1.5.7 in /usr/local/lib/python3.6/dist-packages (from tweepy) (1.7.1)\n",
            "Requirement already satisfied: six>=1.10.0 in /usr/local/lib/python3.6/dist-packages (from tweepy) (1.15.0)\n",
            "Requirement already satisfied: requests-oauthlib>=0.7.0 in /usr/local/lib/python3.6/dist-packages (from tweepy) (1.3.0)\n",
            "Requirement already satisfied: chardet<4,>=3.0.2 in /usr/local/lib/python3.6/dist-packages (from requests>=2.11.1->tweepy) (3.0.4)\n",
            "Requirement already satisfied: idna<3,>=2.5 in /usr/local/lib/python3.6/dist-packages (from requests>=2.11.1->tweepy) (2.10)\n",
            "Requirement already satisfied: urllib3!=1.25.0,!=1.25.1,<1.26,>=1.21.1 in /usr/local/lib/python3.6/dist-packages (from requests>=2.11.1->tweepy) (1.24.3)\n",
            "Requirement already satisfied: certifi>=2017.4.17 in /usr/local/lib/python3.6/dist-packages (from requests>=2.11.1->tweepy) (2020.11.8)\n",
            "Requirement already satisfied: oauthlib>=3.0.0 in /usr/local/lib/python3.6/dist-packages (from requests-oauthlib>=0.7.0->tweepy) (3.1.0)\n"
          ],
          "name": "stdout"
        }
      ]
    },
    {
      "cell_type": "code",
      "metadata": {
        "id": "HxfgtniY-vX2"
      },
      "source": [
        "text_query = 'Joe biden'\n",
        "count = 1000\n",
        "try:\n",
        " # Creation of query method using parameters\n",
        " tweets = tweepy.Cursor(api.search,q=text_query).items(count)\n",
        " \n",
        " # Pulling information from tweets iterable object\n",
        " tweets_list = [[tweet.created_at, tweet.id, tweet.text] for tweet in tweets]\n",
        " \n",
        " # Creation of dataframe from tweets list\n",
        " # Add or remove columns as you remove tweet information\n",
        " social_media = pd.DataFrame(tweets_list)\n",
        " \n",
        "except BaseException as e:\n",
        "    print('failed on_status,',str(e))\n",
        "    time.sleep(3)\n",
        "social_media.to_csv(\"social_media.csv\")"
      ],
      "execution_count": null,
      "outputs": []
    },
    {
      "cell_type": "code",
      "metadata": {
        "id": "3je0lj5U_Cb1"
      },
      "source": [
        "#scientifc_articles\n",
        "\n",
        "import pandas as pd\n",
        "import requests\n",
        "from bs4 import BeautifulSoup\n",
        "abstracts=[]\n",
        "def insert_into_array(values,ref_array):\n",
        "  for i in values:\n",
        "    ref_array.append(i.text)\n",
        "titles=[]\n",
        "for i in range(0,5000,10):\n",
        "  URL=\"http://citeseerx.ist.psu.edu/search?q=lda&t=doc&sort=rlv&start=\"+str(i)\n",
        "  page=requests.get(URL,headers={'User-Agent':'Chrome/85.0.4183.121'})\n",
        "  soup = BeautifulSoup(page.content, 'html.parser')\n",
        "  insert_into_array(soup.find_all('a', class_='remove doc_details'),titles)\n",
        "  insert_into_array(soup.find_all('div', class_='snippet'),abstracts)\n"
      ],
      "execution_count": null,
      "outputs": []
    },
    {
      "cell_type": "code",
      "metadata": {
        "id": "k0IN9gOGISml"
      },
      "source": [
        "scientific_df = pd.DataFrame({\"titles\":titles,\"abstarcts\":abstracts})\n",
        "scientific_df.to_csv(\"scientific_articles.csv\")"
      ],
      "execution_count": null,
      "outputs": []
    },
    {
      "cell_type": "markdown",
      "metadata": {
        "id": "DzxAS0wiV2-b"
      },
      "source": [
        "# Text cleaning( removing punctuations, stop words, lower casing, stemming, lemmatization)"
      ]
    },
    {
      "cell_type": "code",
      "metadata": {
        "id": "RuIN_ErsVHL_"
      },
      "source": [
        "def clean_text(listt):\n",
        "  from nltk.stem import PorterStemmer\n",
        "  import pandas as pd\n",
        "  import nltk\n",
        "  nltk.download('punkt')\n",
        "  from nltk.corpus import stopwords\n",
        "  nltk.download('stopwords')\n",
        "  from textblob import Word\n",
        "  nltk.download('wordnet')\n",
        "  stop = stopwords.words('english')\n",
        "  imdb_df=pd.DataFrame()\n",
        "  imdb_df['comment']=listt\n",
        "  imdb_df['after_punct_less'] = imdb_df['comment'].str.replace('[^\\w\\s].#','') \n",
        "  imdb_df['after_rm_stopwords'] =imdb_df['after_punct_less'].apply(lambda x: \" \".join(x for x in x.split() if x not in stop))\n",
        "  imdb_df['after_numerics']=imdb_df['after_rm_stopwords'].str.replace('[0-9]','')\n",
        "  imdb_df['after_lowercasing'] =imdb_df['after_numerics'].apply(lambda x: \" \".join(x.lower() for x in x.split()))\n",
        "  from nltk.stem import PorterStemmer\n",
        "  st = PorterStemmer()\n",
        "  #imdb_df['after_stemming']=imdb_df['after_lowercasing'].apply(lambda x: \" \".join([st.stem(word) for word in x.split()]))\n",
        "  #imdb_df['after_lemmatization'] = imdb_df['after_stemming'].apply(lambda x: \" \".join([Word(word).lemmatize() for word in x.split()]))\n",
        "  return (imdb_df['after_lowercasing']).tolist()"
      ],
      "execution_count": null,
      "outputs": []
    },
    {
      "cell_type": "markdown",
      "metadata": {
        "id": "CXurcjZkPJNW"
      },
      "source": [
        "# BERT"
      ]
    },
    {
      "cell_type": "markdown",
      "metadata": {
        "id": "IwQ071zBQFIH"
      },
      "source": [
        "#1 short text data of 10days(Approx) from inshorts\n"
      ]
    },
    {
      "cell_type": "code",
      "metadata": {
        "colab": {
          "base_uri": "https://localhost:8080/"
        },
        "id": "SkLmDweljkgS",
        "outputId": "025024ca-18e1-4967-8125-a667810ddcb8"
      },
      "source": [
        "!pip install hdbscan\n",
        "!pip install sentence_transformers"
      ],
      "execution_count": null,
      "outputs": [
        {
          "output_type": "stream",
          "text": [
            "Requirement already satisfied: hdbscan in /usr/local/lib/python3.6/dist-packages (0.8.26)\n",
            "Requirement already satisfied: joblib in /usr/local/lib/python3.6/dist-packages (from hdbscan) (0.17.0)\n",
            "Requirement already satisfied: numpy>=1.16.0 in /usr/local/lib/python3.6/dist-packages (from hdbscan) (1.18.5)\n",
            "Requirement already satisfied: scipy>=0.9 in /usr/local/lib/python3.6/dist-packages (from hdbscan) (1.4.1)\n",
            "Requirement already satisfied: scikit-learn>=0.17 in /usr/local/lib/python3.6/dist-packages (from hdbscan) (0.22.2.post1)\n",
            "Requirement already satisfied: six in /usr/local/lib/python3.6/dist-packages (from hdbscan) (1.15.0)\n",
            "Requirement already satisfied: cython>=0.27 in /usr/local/lib/python3.6/dist-packages (from hdbscan) (0.29.21)\n",
            "Requirement already satisfied: sentence_transformers in /usr/local/lib/python3.6/dist-packages (0.3.9)\n",
            "Requirement already satisfied: scipy in /usr/local/lib/python3.6/dist-packages (from sentence_transformers) (1.4.1)\n",
            "Requirement already satisfied: nltk in /usr/local/lib/python3.6/dist-packages (from sentence_transformers) (3.2.5)\n",
            "Requirement already satisfied: tqdm in /usr/local/lib/python3.6/dist-packages (from sentence_transformers) (4.41.1)\n",
            "Requirement already satisfied: scikit-learn in /usr/local/lib/python3.6/dist-packages (from sentence_transformers) (0.22.2.post1)\n",
            "Requirement already satisfied: numpy in /usr/local/lib/python3.6/dist-packages (from sentence_transformers) (1.18.5)\n",
            "Requirement already satisfied: torch>=1.6.0 in /usr/local/lib/python3.6/dist-packages (from sentence_transformers) (1.7.0+cu101)\n",
            "Requirement already satisfied: transformers<3.6.0,>=3.1.0 in /usr/local/lib/python3.6/dist-packages (from sentence_transformers) (3.5.1)\n",
            "Requirement already satisfied: six in /usr/local/lib/python3.6/dist-packages (from nltk->sentence_transformers) (1.15.0)\n",
            "Requirement already satisfied: joblib>=0.11 in /usr/local/lib/python3.6/dist-packages (from scikit-learn->sentence_transformers) (0.17.0)\n",
            "Requirement already satisfied: dataclasses in /usr/local/lib/python3.6/dist-packages (from torch>=1.6.0->sentence_transformers) (0.8)\n",
            "Requirement already satisfied: future in /usr/local/lib/python3.6/dist-packages (from torch>=1.6.0->sentence_transformers) (0.16.0)\n",
            "Requirement already satisfied: typing-extensions in /usr/local/lib/python3.6/dist-packages (from torch>=1.6.0->sentence_transformers) (3.7.4.3)\n",
            "Requirement already satisfied: sacremoses in /usr/local/lib/python3.6/dist-packages (from transformers<3.6.0,>=3.1.0->sentence_transformers) (0.0.43)\n",
            "Requirement already satisfied: requests in /usr/local/lib/python3.6/dist-packages (from transformers<3.6.0,>=3.1.0->sentence_transformers) (2.23.0)\n",
            "Requirement already satisfied: tokenizers==0.9.3 in /usr/local/lib/python3.6/dist-packages (from transformers<3.6.0,>=3.1.0->sentence_transformers) (0.9.3)\n",
            "Requirement already satisfied: packaging in /usr/local/lib/python3.6/dist-packages (from transformers<3.6.0,>=3.1.0->sentence_transformers) (20.4)\n",
            "Requirement already satisfied: filelock in /usr/local/lib/python3.6/dist-packages (from transformers<3.6.0,>=3.1.0->sentence_transformers) (3.0.12)\n",
            "Requirement already satisfied: regex!=2019.12.17 in /usr/local/lib/python3.6/dist-packages (from transformers<3.6.0,>=3.1.0->sentence_transformers) (2019.12.20)\n",
            "Requirement already satisfied: sentencepiece==0.1.91 in /usr/local/lib/python3.6/dist-packages (from transformers<3.6.0,>=3.1.0->sentence_transformers) (0.1.91)\n",
            "Requirement already satisfied: protobuf in /usr/local/lib/python3.6/dist-packages (from transformers<3.6.0,>=3.1.0->sentence_transformers) (3.12.4)\n",
            "Requirement already satisfied: click in /usr/local/lib/python3.6/dist-packages (from sacremoses->transformers<3.6.0,>=3.1.0->sentence_transformers) (7.1.2)\n",
            "Requirement already satisfied: idna<3,>=2.5 in /usr/local/lib/python3.6/dist-packages (from requests->transformers<3.6.0,>=3.1.0->sentence_transformers) (2.10)\n",
            "Requirement already satisfied: certifi>=2017.4.17 in /usr/local/lib/python3.6/dist-packages (from requests->transformers<3.6.0,>=3.1.0->sentence_transformers) (2020.11.8)\n",
            "Requirement already satisfied: urllib3!=1.25.0,!=1.25.1,<1.26,>=1.21.1 in /usr/local/lib/python3.6/dist-packages (from requests->transformers<3.6.0,>=3.1.0->sentence_transformers) (1.24.3)\n",
            "Requirement already satisfied: chardet<4,>=3.0.2 in /usr/local/lib/python3.6/dist-packages (from requests->transformers<3.6.0,>=3.1.0->sentence_transformers) (3.0.4)\n",
            "Requirement already satisfied: pyparsing>=2.0.2 in /usr/local/lib/python3.6/dist-packages (from packaging->transformers<3.6.0,>=3.1.0->sentence_transformers) (2.4.7)\n",
            "Requirement already satisfied: setuptools in /usr/local/lib/python3.6/dist-packages (from protobuf->transformers<3.6.0,>=3.1.0->sentence_transformers) (50.3.2)\n"
          ],
          "name": "stdout"
        }
      ]
    },
    {
      "cell_type": "code",
      "metadata": {
        "id": "SMCfvo0yQYxj"
      },
      "source": [
        "def bertt(documents):\n",
        "  import pandas as pd\n",
        "  import umap\n",
        "  import hdbscan\n",
        "  import matplotlib.pyplot as plt\n",
        "  from sentence_transformers import SentenceTransformer\n",
        "  import numpy as np\n",
        "  from sklearn.feature_extraction.text import CountVectorizer\n",
        "\n",
        "  model = SentenceTransformer('distilbert-base-nli-mean-tokens')\n",
        "  embeddings = model.encode(documents, show_progress_bar=True)\n",
        "  umap_embeddings = umap.UMAP(n_neighbors=15, n_components=5, metric='cosine').fit_transform(embeddings)\n",
        "  cluster = hdbscan.HDBSCAN(min_cluster_size=15, metric='euclidean',cluster_selection_method='eom').fit(umap_embeddings)\n",
        "  # Prepare data\n",
        "  umap_data = umap.UMAP(n_neighbors=10, n_components=2, min_dist=0.0, metric='cosine').fit_transform(embeddings)\n",
        "  result = pd.DataFrame(umap_data, columns=['x', 'y'])\n",
        "  result['labels'] = cluster.labels_\n",
        "\n",
        "  # Visualize clusters\n",
        "  fig, ax = plt.subplots(figsize=(5, 5))\n",
        "  outliers = result.loc[result.labels == -1, :]\n",
        "  clustered = result.loc[result.labels != -1, :]\n",
        "  plt.scatter(outliers.x, outliers.y, color='#BDBDBD', s=0.5)\n",
        "  plt.scatter(clustered.x, clustered.y, c=clustered.labels, s=0.5, cmap='hsv_r')\n",
        "  plt.colorbar()\n",
        "\n",
        "  docs_df = pd.DataFrame(documents, columns=[\"Doc\"])\n",
        "  docs_df['Topic'] = cluster.labels_\n",
        "  docs_df['Doc_ID'] = range(len(docs_df))\n",
        "  docs_per_topic = docs_df.groupby(['Topic'], as_index = False).agg({'Doc': ' '.join})\n",
        "  pass\n",
        "\n",
        "  def c_tf_idf(documents, m, ngram_range=(1, 1)):\n",
        "    count = CountVectorizer(ngram_range=ngram_range, stop_words=\"english\").fit(documents)\n",
        "    t = count.transform(documents).toarray()\n",
        "    w = t.sum(axis=1)\n",
        "    tf = np.divide(t.T, w)\n",
        "    sum_t = t.sum(axis=0)\n",
        "    idf = np.log(np.divide(m, sum_t)).reshape(-1, 1)\n",
        "    tf_idf = np.multiply(tf, idf)\n",
        "\n",
        "    return tf_idf, count\n",
        "  tf_idf, count = c_tf_idf(docs_per_topic.Doc.values, m=len(documents))\n",
        "  pass\n",
        "  def extract_top_n_words_per_topic(tf_idf, count, docs_per_topic, n=20):\n",
        "    words = count.get_feature_names()\n",
        "    labels = list(docs_per_topic.Topic)\n",
        "    tf_idf_transposed = tf_idf.T\n",
        "    indices = tf_idf_transposed.argsort()[:, -n:]\n",
        "    top_n_words = {label: [(words[j], tf_idf_transposed[i][j]) for j in indices[i]][::-1] for i, label in enumerate(labels)}\n",
        "    return top_n_words\n",
        "  pass\n",
        "  def extract_topic_sizes(df):\n",
        "    topic_sizes = (df.groupby(['Topic']).Doc.count().reset_index().rename({\"Topic\": \"Topic\", \"Doc\": \"Size\"}, axis='columns').sort_values(\"Size\", ascending=False))\n",
        "    return topic_sizes\n",
        "  \n",
        "\n",
        "  top_n_words = extract_top_n_words_per_topic(tf_idf, count, docs_per_topic, n=20)\n",
        "  topic_sizes = extract_topic_sizes(docs_df); topic_sizes.head(10)\n",
        "  print(topic_sizes)\n",
        "  return tf_idf,top_n_words,topic_sizes,docs_df\n",
        "\n",
        "\n",
        "def c_tf_idf(documents, m, ngram_range=(1, 1)):\n",
        "  import numpy as np\n",
        "  from sklearn.feature_extraction.text import CountVectorizer\n",
        "  count = CountVectorizer(ngram_range=ngram_range, stop_words=\"english\").fit(documents)\n",
        "  t = count.transform(documents).toarray()\n",
        "  w = t.sum(axis=1)\n",
        "  tf = np.divide(t.T, w)\n",
        "  sum_t = t.sum(axis=0)\n",
        "  idf = np.log(np.divide(m, sum_t)).reshape(-1, 1)\n",
        "  tf_idf = np.multiply(tf, idf)\n",
        "\n",
        "  return tf_idf, count\n",
        "\n",
        "def extract_top_n_words_per_topic(tf_idf, count, docs_per_topic, n=20):\n",
        "    words = count.get_feature_names()\n",
        "    labels = list(docs_per_topic.Topic)\n",
        "    tf_idf_transposed = tf_idf.T\n",
        "    indices = tf_idf_transposed.argsort()[:, -n:]\n",
        "    top_n_words = {label: [(words[j], tf_idf_transposed[i][j]) for j in indices[i]][::-1] for i, label in enumerate(labels)}\n",
        "    return top_n_words\n",
        "  \n",
        "def extract_topic_sizes(df):\n",
        "  topic_sizes = (df.groupby(['Topic']).Doc.count().reset_index().rename({\"Topic\": \"Topic\", \"Doc\": \"Size\"}, axis='columns').sort_values(\"Size\", ascending=False))\n",
        "  return topic_sizes\n",
        "  "
      ],
      "execution_count": null,
      "outputs": []
    },
    {
      "cell_type": "code",
      "metadata": {
        "id": "Yck4XzD1R9C0",
        "colab": {
          "base_uri": "https://localhost:8080/",
          "height": 819,
          "referenced_widgets": [
            "a28d28539b46469bb843c375f3cd77c7",
            "10338f0c1daf4c55860806ba3f34fec8",
            "42622cd8e227446a8a5065c1325df605",
            "11856b7533464f0481be60b26312f97f",
            "c7e27ffdd99d4e7db880acb12476b00d",
            "fdb50ebf9c6b4165b4b559da500df86d",
            "3e2ac0b4885748728371d7711c204a59",
            "8f6b80673c5942dbbfb9ad2b218adc31"
          ]
        },
        "outputId": "a365832f-a166-42ab-93ca-94ac0094578a"
      },
      "source": [
        "short_text=clean_text(short_text)\n",
        "tf_idf,top_n_words,topic_sizes,docs_df=bertt(short_text)"
      ],
      "execution_count": null,
      "outputs": [
        {
          "output_type": "stream",
          "text": [
            "[nltk_data] Downloading package punkt to /root/nltk_data...\n",
            "[nltk_data]   Package punkt is already up-to-date!\n",
            "[nltk_data] Downloading package stopwords to /root/nltk_data...\n",
            "[nltk_data]   Package stopwords is already up-to-date!\n",
            "[nltk_data] Downloading package wordnet to /root/nltk_data...\n",
            "[nltk_data]   Package wordnet is already up-to-date!\n"
          ],
          "name": "stdout"
        },
        {
          "output_type": "display_data",
          "data": {
            "application/vnd.jupyter.widget-view+json": {
              "model_id": "a28d28539b46469bb843c375f3cd77c7",
              "version_minor": 0,
              "version_major": 2
            },
            "text/plain": [
              "HBox(children=(FloatProgress(value=0.0, description='Batches', max=35.0, style=ProgressStyle(description_width…"
            ]
          },
          "metadata": {
            "tags": []
          }
        },
        {
          "output_type": "stream",
          "text": [
            "\n",
            "    Topic  Size\n",
            "0      -1   515\n",
            "13     12    61\n",
            "8       7    58\n",
            "17     16    46\n",
            "16     15    44\n",
            "5       4    37\n",
            "15     14    37\n",
            "6       5    34\n",
            "11     10    31\n",
            "1       0    30\n",
            "12     11    30\n",
            "2       1    29\n",
            "3       2    28\n",
            "4       3    25\n",
            "7       6    24\n",
            "10      9    24\n",
            "14     13    24\n",
            "9       8    20\n"
          ],
          "name": "stdout"
        },
        {
          "output_type": "display_data",
          "data": {
            "image/png": "[encoded data removed]",
            "text/plain": [
              "<Figure size 360x360 with 2 Axes>"
            ]
          },
          "metadata": {
            "tags": [],
            "needs_background": "light"
          }
        }
      ]
    },
    {
      "cell_type": "code",
      "metadata": {
        "colab": {
          "base_uri": "https://localhost:8080/",
          "height": 899
        },
        "id": "ExmZNFNCozvA",
        "outputId": "8cdfb93c-4431-471a-87c4-eed6ddc4853a"
      },
      "source": [
        "df=pd.DataFrame.from_dict(top_n_words,orient='index')\n",
        "df[df.columns[0:10]] #Top 10 topics with their term frequencies"
      ],
      "execution_count": null,
      "outputs": [
        {
          "output_type": "execute_result",
          "data": {
            "text/html": [
              "<div>\n",
              "<style scoped>\n",
              "    .dataframe tbody tr th:only-of-type {\n",
              "        vertical-align: middle;\n",
              "    }\n",
              "\n",
              "    .dataframe tbody tr th {\n",
              "        vertical-align: top;\n",
              "    }\n",
              "\n",
              "    .dataframe thead th {\n",
              "        text-align: right;\n",
              "    }\n",
              "</style>\n",
              "<table border=\"1\" class=\"dataframe\">\n",
              "  <thead>\n",
              "    <tr style=\"text-align: right;\">\n",
              "      <th></th>\n",
              "      <th>0</th>\n",
              "      <th>1</th>\n",
              "      <th>2</th>\n",
              "      <th>3</th>\n",
              "      <th>4</th>\n",
              "      <th>5</th>\n",
              "      <th>6</th>\n",
              "      <th>7</th>\n",
              "      <th>8</th>\n",
              "      <th>9</th>\n",
              "    </tr>\n",
              "  </thead>\n",
              "  <tbody>\n",
              "    <tr>\n",
              "      <th>-1</th>\n",
              "      <td>(covid, 0.03285187211397282)</td>\n",
              "      <td>(india, 0.018812989833361823)</td>\n",
              "      <td>(delhi, 0.018416202775306173)</td>\n",
              "      <td>(new, 0.015725379697373382)</td>\n",
              "      <td>(govt, 0.015390482609368261)</td>\n",
              "      <td>(man, 0.013680428986105119)</td>\n",
              "      <td>(video, 0.013630659196585111)</td>\n",
              "      <td>(kohli, 0.012657040682543317)</td>\n",
              "      <td>(trump, 0.012224884547221149)</td>\n",
              "      <td>(vaccine, 0.011679013454795491)</td>\n",
              "    </tr>\n",
              "    <tr>\n",
              "      <th>0</th>\n",
              "      <td>(moon, 0.13186265800119432)</td>\n",
              "      <td>(rocket, 0.1137319946801926)</td>\n",
              "      <td>(space, 0.1137319946801926)</td>\n",
              "      <td>(nasa, 0.09475173163131373)</td>\n",
              "      <td>(china, 0.09111739439526773)</td>\n",
              "      <td>(st, 0.080638831855006)</td>\n",
              "      <td>(musk, 0.0776782985228162)</td>\n",
              "      <td>(rocks, 0.07470534394439393)</td>\n",
              "      <td>(spacex, 0.07470534394439393)</td>\n",
              "      <td>(isro, 0.07470534394439393)</td>\n",
              "    </tr>\n",
              "    <tr>\n",
              "      <th>1</th>\n",
              "      <td>(china, 0.2637298721397512)</td>\n",
              "      <td>(chinese, 0.22558329986172268)</td>\n",
              "      <td>(soldier, 0.06970986915311805)</td>\n",
              "      <td>(fake, 0.05735411770879776)</td>\n",
              "      <td>(info, 0.050876915272475176)</td>\n",
              "      <td>(india, 0.05068778361601398)</td>\n",
              "      <td>(photo, 0.04839689740651154)</td>\n",
              "      <td>(intel, 0.0464732461020787)</td>\n",
              "      <td>(ties, 0.0464732461020787)</td>\n",
              "      <td>(charge, 0.04490150854351013)</td>\n",
              "    </tr>\n",
              "    <tr>\n",
              "      <th>2</th>\n",
              "      <td>(quality, 0.20229542729918978)</td>\n",
              "      <td>(air, 0.1848352073328095)</td>\n",
              "      <td>(poor, 0.1798181575992798)</td>\n",
              "      <td>(severe, 0.16928693865329866)</td>\n",
              "      <td>(ghaziabad, 0.145103090274256)</td>\n",
              "      <td>(noida, 0.1296295065211645)</td>\n",
              "      <td>(delhi, 0.1002440618435374)</td>\n",
              "      <td>(lakh, 0.09832446656409248)</td>\n",
              "      <td>(global, 0.08488775316389845)</td>\n",
              "      <td>(category, 0.08058430764337808)</td>\n",
              "    </tr>\n",
              "    <tr>\n",
              "      <th>3</th>\n",
              "      <td>(dec, 0.11067397219988087)</td>\n",
              "      <td>(till, 0.10908010452454818)</td>\n",
              "      <td>(extends, 0.10908010452454818)</td>\n",
              "      <td>(covid, 0.0916502661739398)</td>\n",
              "      <td>(likely, 0.0881786403008692)</td>\n",
              "      <td>(december, 0.0881786403008692)</td>\n",
              "      <td>(bandh, 0.07544151648595304)</td>\n",
              "      <td>(bharat, 0.07092294990294078)</td>\n",
              "      <td>(literature, 0.06604384586089304)</td>\n",
              "      <td>(deadline, 0.06604384586089304)</td>\n",
              "    </tr>\n",
              "    <tr>\n",
              "      <th>4</th>\n",
              "      <td>(ti, 0.11553052001748271)</td>\n",
              "      <td>(record, 0.11133036152507642)</td>\n",
              "      <td>(australia, 0.09949003249738789)</td>\n",
              "      <td>(highest, 0.08623468528223802)</td>\n",
              "      <td>(runs, 0.08623468528223802)</td>\n",
              "      <td>(win, 0.08368252170893904)</td>\n",
              "      <td>(kohli, 0.07859229183877764)</td>\n",
              "      <td>(world, 0.0722065750109267)</td>\n",
              "      <td>(hardik, 0.0689877482257904)</td>\n",
              "      <td>(india, 0.06814317929834993)</td>\n",
              "    </tr>\n",
              "    <tr>\n",
              "      <th>5</th>\n",
              "      <td>(raises, 0.15377790370610608)</td>\n",
              "      <td>(crore, 0.1258479465325704)</td>\n",
              "      <td>(mn, 0.09871922482851402)</td>\n",
              "      <td>(bn, 0.08423275856001765)</td>\n",
              "      <td>(led, 0.07504859192092204)</td>\n",
              "      <td>(valuation, 0.06916080669852095)</td>\n",
              "      <td>(stake, 0.06578953241197663)</td>\n",
              "      <td>(cr, 0.06108268760807679)</td>\n",
              "      <td>(reports, 0.06108268760807679)</td>\n",
              "      <td>(worth, 0.05393483422824445)</td>\n",
              "    </tr>\n",
              "    <tr>\n",
              "      <th>6</th>\n",
              "      <td>(polls, 0.2940215869174835)</td>\n",
              "      <td>(bjp, 0.2926233645776479)</td>\n",
              "      <td>(ghmc, 0.22011714149605233)</td>\n",
              "      <td>(seats, 0.13355320489864553)</td>\n",
              "      <td>(turnout, 0.11515979690575055)</td>\n",
              "      <td>(trs, 0.11515979690575055)</td>\n",
              "      <td>(voter, 0.11058249328904882)</td>\n",
              "      <td>(cm, 0.10428973992710787)</td>\n",
              "      <td>(wins, 0.10368049869169062)</td>\n",
              "      <td>(votes, 0.09079572571703264)</td>\n",
              "    </tr>\n",
              "    <tr>\n",
              "      <th>7</th>\n",
              "      <td>(farmers, 0.27950077999123013)</td>\n",
              "      <td>(protest, 0.19993999728008527)</td>\n",
              "      <td>(laws, 0.08863198612233647)</td>\n",
              "      <td>(farm, 0.08683847523541245)</td>\n",
              "      <td>(support, 0.06400197047090106)</td>\n",
              "      <td>(cm, 0.06395125561567935)</td>\n",
              "      <td>(delhi, 0.0564717221706181)</td>\n",
              "      <td>(punjab, 0.05034706376246343)</td>\n",
              "      <td>(amid, 0.04659745401598618)</td>\n",
              "      <td>(govt, 0.04369778535420213)</td>\n",
              "    </tr>\n",
              "    <tr>\n",
              "      <th>8</th>\n",
              "      <td>(online, 0.11149204470338839)</td>\n",
              "      <td>(startup, 0.09112764664065545)</td>\n",
              "      <td>(founder, 0.09112764664065545)</td>\n",
              "      <td>(ceo, 0.0836190335275413)</td>\n",
              "      <td>(manipal, 0.07786650962611462)</td>\n",
              "      <td>(gaming, 0.07786650962611462)</td>\n",
              "      <td>(recognised, 0.07786650962611462)</td>\n",
              "      <td>(jaipur, 0.07786650962611462)</td>\n",
              "      <td>(ugc, 0.07786650962611462)</td>\n",
              "      <td>(grab, 0.07786650962611462)</td>\n",
              "    </tr>\n",
              "    <tr>\n",
              "      <th>9</th>\n",
              "      <td>(woman, 0.19759436069130124)</td>\n",
              "      <td>(rape, 0.10367108745848326)</td>\n",
              "      <td>(held, 0.07799799002132288)</td>\n",
              "      <td>(gets, 0.07701158051387)</td>\n",
              "      <td>(daughter, 0.07290035064259497)</td>\n",
              "      <td>(girl, 0.07290035064259497)</td>\n",
              "      <td>(filming, 0.0567473285731454)</td>\n",
              "      <td>(elderly, 0.0567473285731454)</td>\n",
              "      <td>(raping, 0.0567473285731454)</td>\n",
              "      <td>(friend, 0.05398115479957057)</td>\n",
              "    </tr>\n",
              "    <tr>\n",
              "      <th>10</th>\n",
              "      <td>(married, 0.09098559574415407)</td>\n",
              "      <td>(page, 0.07470534394439393)</td>\n",
              "      <td>(transgender, 0.07470534394439393)</td>\n",
              "      <td>(elliot, 0.07106379872348531)</td>\n",
              "      <td>(wife, 0.05715731405680038)</td>\n",
              "      <td>(covid, 0.05539620518741297)</td>\n",
              "      <td>(girls, 0.053225209111521385)</td>\n",
              "      <td>(comes, 0.053225209111521385)</td>\n",
              "      <td>(sanon, 0.053225209111521385)</td>\n",
              "      <td>(woman, 0.05202484433391222)</td>\n",
              "    </tr>\n",
              "    <tr>\n",
              "      <th>11</th>\n",
              "      <td>(vaccine, 0.2585148214294835)</td>\n",
              "      <td>(covid, 0.1576209821328297)</td>\n",
              "      <td>(use, 0.11943430594782674)</td>\n",
              "      <td>(covaxin, 0.09515322201958203)</td>\n",
              "      <td>(trial, 0.09515322201958203)</td>\n",
              "      <td>(emergency, 0.08340496472195584)</td>\n",
              "      <td>(sii, 0.07502189201195493)</td>\n",
              "      <td>(pfizer, 0.07136491651468652)</td>\n",
              "      <td>(vaccines, 0.06425115649855828)</td>\n",
              "      <td>(uk, 0.05638201401881814)</td>\n",
              "    </tr>\n",
              "    <tr>\n",
              "      <th>12</th>\n",
              "      <td>(india, 0.04121343153825436)</td>\n",
              "      <td>(covid, 0.0357875017157002)</td>\n",
              "      <td>(pune, 0.03572224887782509)</td>\n",
              "      <td>(captain, 0.03542820778892465)</td>\n",
              "      <td>(trolled, 0.03542820778892465)</td>\n",
              "      <td>(hyderabad, 0.03449224008361258)</td>\n",
              "      <td>(rahul, 0.03226008776268827)</td>\n",
              "      <td>(shoulder, 0.029472837755678896)</td>\n",
              "      <td>(happy, 0.029472837755678896)</td>\n",
              "      <td>(people, 0.028808149783030833)</td>\n",
              "    </tr>\n",
              "    <tr>\n",
              "      <th>13</th>\n",
              "      <td>(orders, 0.07418431535570946)</td>\n",
              "      <td>(law, 0.07082034222031937)</td>\n",
              "      <td>(cancelled, 0.06338881688156064)</td>\n",
              "      <td>(stopped, 0.059313790669418304)</td>\n",
              "      <td>(police, 0.05762232105418017)</td>\n",
              "      <td>(mamata, 0.05642251355935014)</td>\n",
              "      <td>(amid, 0.05584669740106886)</td>\n",
              "      <td>(project, 0.054179864802423414)</td>\n",
              "      <td>(stop, 0.052347487347207795)</td>\n",
              "      <td>(traffic, 0.052347487347207795)</td>\n",
              "    </tr>\n",
              "    <tr>\n",
              "      <th>14</th>\n",
              "      <td>(don, 0.059458417807071284)</td>\n",
              "      <td>(dwarf, 0.046376377056730034)</td>\n",
              "      <td>(lacks, 0.046376377056730034)</td>\n",
              "      <td>(build, 0.046376377056730034)</td>\n",
              "      <td>(lilliput, 0.046376377056730034)</td>\n",
              "      <td>(zero, 0.046376377056730034)</td>\n",
              "      <td>(refuses, 0.043395015967699416)</td>\n",
              "      <td>(leave, 0.043395015967699416)</td>\n",
              "      <td>(sisodia, 0.043395015967699416)</td>\n",
              "      <td>(india, 0.043233697790129574)</td>\n",
              "    </tr>\n",
              "    <tr>\n",
              "      <th>15</th>\n",
              "      <td>(held, 0.06797590191802441)</td>\n",
              "      <td>(cr, 0.06551886045112147)</td>\n",
              "      <td>(worth, 0.06427987692006788)</td>\n",
              "      <td>(pune, 0.0640605692166584)</td>\n",
              "      <td>(busted, 0.06272670501849541)</td>\n",
              "      <td>(seized, 0.06272670501849541)</td>\n",
              "      <td>(arrested, 0.06194671931304041)</td>\n",
              "      <td>(man, 0.05822302685462127)</td>\n",
              "      <td>(men, 0.052488819746158495)</td>\n",
              "      <td>(racket, 0.049455772387769166)</td>\n",
              "    </tr>\n",
              "    <tr>\n",
              "      <th>16</th>\n",
              "      <td>(old, 0.14157478351174588)</td>\n",
              "      <td>(dies, 0.13366914008479625)</td>\n",
              "      <td>(killed, 0.10936566006937874)</td>\n",
              "      <td>(yr, 0.0952974306825061)</td>\n",
              "      <td>(man, 0.07614189448019877)</td>\n",
              "      <td>(year, 0.0650270469460571)</td>\n",
              "      <td>(boy, 0.05539095135583471)</td>\n",
              "      <td>(greater, 0.048507305520058525)</td>\n",
              "      <td>(death, 0.04779481787024627)</td>\n",
              "      <td>(boat, 0.04614279533552333)</td>\n",
              "    </tr>\n",
              "  </tbody>\n",
              "</table>\n",
              "</div>"
            ],
            "text/plain": [
              "                                  0  ...                                9\n",
              "-1     (covid, 0.03285187211397282)  ...  (vaccine, 0.011679013454795491)\n",
              " 0      (moon, 0.13186265800119432)  ...      (isro, 0.07470534394439393)\n",
              " 1      (china, 0.2637298721397512)  ...    (charge, 0.04490150854351013)\n",
              " 2   (quality, 0.20229542729918978)  ...  (category, 0.08058430764337808)\n",
              " 3       (dec, 0.11067397219988087)  ...  (deadline, 0.06604384586089304)\n",
              " 4        (ti, 0.11553052001748271)  ...     (india, 0.06814317929834993)\n",
              " 5    (raises, 0.15377790370610608)  ...     (worth, 0.05393483422824445)\n",
              " 6      (polls, 0.2940215869174835)  ...     (votes, 0.09079572571703264)\n",
              " 7   (farmers, 0.27950077999123013)  ...      (govt, 0.04369778535420213)\n",
              " 8    (online, 0.11149204470338839)  ...      (grab, 0.07786650962611462)\n",
              " 9     (woman, 0.19759436069130124)  ...    (friend, 0.05398115479957057)\n",
              " 10  (married, 0.09098559574415407)  ...     (woman, 0.05202484433391222)\n",
              " 11   (vaccine, 0.2585148214294835)  ...        (uk, 0.05638201401881814)\n",
              " 12    (india, 0.04121343153825436)  ...   (people, 0.028808149783030833)\n",
              " 13   (orders, 0.07418431535570946)  ...  (traffic, 0.052347487347207795)\n",
              " 14     (don, 0.059458417807071284)  ...    (india, 0.043233697790129574)\n",
              " 15     (held, 0.06797590191802441)  ...   (racket, 0.049455772387769166)\n",
              " 16      (old, 0.14157478351174588)  ...      (boat, 0.04614279533552333)\n",
              "\n",
              "[18 rows x 10 columns]"
            ]
          },
          "metadata": {
            "tags": []
          },
          "execution_count": 15
        }
      ]
    },
    {
      "cell_type": "code",
      "metadata": {
        "id": "ZNYBWf7o9Xtm"
      },
      "source": [
        "#Topic reduction\n",
        "def topic_reduction(documents,tf_idf,docs_df):\n",
        "  import numpy as np\n",
        "  from sklearn.metrics.pairwise import cosine_similarity\n",
        "  import numpy as np\n",
        "  for i in range(20):\n",
        "    # Calculate cosine similarity\n",
        "    similarities = cosine_similarity(tf_idf.T)\n",
        "    np.fill_diagonal(similarities, 0)\n",
        "\n",
        "    # Extract label to merge into and from where\n",
        "    topic_sizes = docs_df.groupby(['Topic']).count().sort_values(\"Doc\", ascending=False).reset_index()\n",
        "    topic_to_merge = topic_sizes.iloc[-1].Topic\n",
        "    topic_to_merge_into = np.argmax(similarities[topic_to_merge + 1]) - 1\n",
        "\n",
        "    # Adjust topics\n",
        "    docs_df.loc[docs_df.Topic == topic_to_merge, \"Topic\"] = topic_to_merge_into\n",
        "    old_topics = docs_df.sort_values(\"Topic\").Topic.unique()\n",
        "    map_topics = {old_topic: index - 1 for index, old_topic in enumerate(old_topics)}\n",
        "    docs_df.Topic = docs_df.Topic.map(map_topics)\n",
        "    docs_per_topic = docs_df.groupby(['Topic'], as_index = False).agg({'Doc': ' '.join})\n",
        "\n",
        "    # Calculate new topic words\n",
        "    m = len(documents)\n",
        "    tf_idf, count = c_tf_idf(docs_per_topic.Doc.values, m)\n",
        "    top_n_words = extract_top_n_words_per_topic(tf_idf, count, docs_per_topic, n=20)\n",
        "    topic_sizes = extract_topic_sizes(docs_df)\n",
        "  print(topic_sizes.head(10))"
      ],
      "execution_count": null,
      "outputs": []
    },
    {
      "cell_type": "markdown",
      "metadata": {
        "id": "2JfM013lzdb4"
      },
      "source": [
        "# 2. News Data extracted from inshorts"
      ]
    },
    {
      "cell_type": "code",
      "metadata": {
        "id": "OqiConx1eDUZ",
        "colab": {
          "base_uri": "https://localhost:8080/",
          "height": 712,
          "referenced_widgets": [
            "65df62ec50ba498f916cdb30961f0936",
            "cb906566f3b34522bd337951a3eb783a",
            "c3440a5dfa67498a9b8148108f4d5e30",
            "c5a26d63a8e646dbba6e3b43898f1be6",
            "9b6f622980e94d2595805c5a03c5d3ac",
            "85d8dc7226a247edb87752ff6717ae80",
            "d3e8aeeed303497e8e8097c28ddb5d70",
            "9d0ab876479340f7ba4b2ebe1b331046"
          ]
        },
        "outputId": "c8812754-4b3e-4135-c107-ad55a2aa26e8"
      },
      "source": [
        "news=clean_text(news)\n",
        "tf_idf,top_n_words,topic_sizes,docs_df=bertt(news)"
      ],
      "execution_count": null,
      "outputs": [
        {
          "output_type": "stream",
          "text": [
            "[nltk_data] Downloading package punkt to /root/nltk_data...\n",
            "[nltk_data]   Package punkt is already up-to-date!\n",
            "[nltk_data] Downloading package stopwords to /root/nltk_data...\n",
            "[nltk_data]   Package stopwords is already up-to-date!\n",
            "[nltk_data] Downloading package wordnet to /root/nltk_data...\n",
            "[nltk_data]   Package wordnet is already up-to-date!\n"
          ],
          "name": "stdout"
        },
        {
          "output_type": "display_data",
          "data": {
            "application/vnd.jupyter.widget-view+json": {
              "model_id": "65df62ec50ba498f916cdb30961f0936",
              "version_minor": 0,
              "version_major": 2
            },
            "text/plain": [
              "HBox(children=(FloatProgress(value=0.0, description='Batches', max=35.0, style=ProgressStyle(description_width…"
            ]
          },
          "metadata": {
            "tags": []
          }
        },
        {
          "output_type": "stream",
          "text": [
            "\n",
            "    Topic  Size\n",
            "0      -1   474\n",
            "5       4   156\n",
            "9       8   113\n",
            "2       1    92\n",
            "6       5    55\n",
            "10      9    54\n",
            "3       2    41\n",
            "7       6    36\n",
            "8       7    22\n",
            "4       3    20\n",
            "11     10    19\n",
            "1       0    15\n"
          ],
          "name": "stdout"
        },
        {
          "output_type": "display_data",
          "data": {
            "image/png": "[encoded data removed]",
            "text/plain": [
              "<Figure size 360x360 with 2 Axes>"
            ]
          },
          "metadata": {
            "tags": [],
            "needs_background": "light"
          }
        }
      ]
    },
    {
      "cell_type": "code",
      "metadata": {
        "colab": {
          "base_uri": "https://localhost:8080/",
          "height": 622
        },
        "id": "7-hvuD5wl92j",
        "outputId": "6deacf8d-8d44-4f90-b2ec-d58cc3eeecd1"
      },
      "source": [
        "df=pd.DataFrame.from_dict(top_n_words,orient='index')\n",
        "df[df.columns[0:10]] #Top 10 topics with their term frequencies"
      ],
      "execution_count": null,
      "outputs": [
        {
          "output_type": "execute_result",
          "data": {
            "text/html": [
              "<div>\n",
              "<style scoped>\n",
              "    .dataframe tbody tr th:only-of-type {\n",
              "        vertical-align: middle;\n",
              "    }\n",
              "\n",
              "    .dataframe tbody tr th {\n",
              "        vertical-align: top;\n",
              "    }\n",
              "\n",
              "    .dataframe thead th {\n",
              "        text-align: right;\n",
              "    }\n",
              "</style>\n",
              "<table border=\"1\" class=\"dataframe\">\n",
              "  <thead>\n",
              "    <tr style=\"text-align: right;\">\n",
              "      <th></th>\n",
              "      <th>0</th>\n",
              "      <th>1</th>\n",
              "      <th>2</th>\n",
              "      <th>3</th>\n",
              "      <th>4</th>\n",
              "      <th>5</th>\n",
              "      <th>6</th>\n",
              "      <th>7</th>\n",
              "      <th>8</th>\n",
              "      <th>9</th>\n",
              "    </tr>\n",
              "  </thead>\n",
              "  <tbody>\n",
              "    <tr>\n",
              "      <th>-1</th>\n",
              "      <td>(china, 0.010074498494993518)</td>\n",
              "      <td>(covid, 0.009931150543747597)</td>\n",
              "      <td>(added, 0.009674748893133741)</td>\n",
              "      <td>(year, 0.009332444760370442)</td>\n",
              "      <td>(new, 0.008273325158455584)</td>\n",
              "      <td>(state, 0.008094575276029966)</td>\n",
              "      <td>(world, 0.007989801688207444)</td>\n",
              "      <td>(government, 0.007964554346017694)</td>\n",
              "      <td>(president, 0.007939414324186453)</td>\n",
              "      <td>(chinese, 0.007695095290364238)</td>\n",
              "    </tr>\n",
              "    <tr>\n",
              "      <th>0</th>\n",
              "      <td>(quality, 0.16739997323096314)</td>\n",
              "      <td>(poor, 0.1560114542827463)</td>\n",
              "      <td>(air, 0.15029430992086062)</td>\n",
              "      <td>(noida, 0.12052562633919219)</td>\n",
              "      <td>(aqi, 0.11570735244608088)</td>\n",
              "      <td>(category, 0.10495011488402754)</td>\n",
              "      <td>(index, 0.08453459732100356)</td>\n",
              "      <td>(ghaziabad, 0.08146625699045561)</td>\n",
              "      <td>(faridabad, 0.07841812053777977)</td>\n",
              "      <td>(severe, 0.07669794885357037)</td>\n",
              "    </tr>\n",
              "    <tr>\n",
              "      <th>1</th>\n",
              "      <td>(australia, 0.06475037194936144)</td>\n",
              "      <td>(ti, 0.05243145455293576)</td>\n",
              "      <td>(india, 0.05212037225386452)</td>\n",
              "      <td>(kohli, 0.04270725702390558)</td>\n",
              "      <td>(odi, 0.03804123140707086)</td>\n",
              "      <td>(captain, 0.03676561255770338)</td>\n",
              "      <td>(jadeja, 0.03570572498624082)</td>\n",
              "      <td>(virat, 0.03243784491329246)</td>\n",
              "      <td>(runs, 0.0321753260511235)</td>\n",
              "      <td>(match, 0.03189802221097978)</td>\n",
              "    </tr>\n",
              "    <tr>\n",
              "      <th>2</th>\n",
              "      <td>(billion, 0.050487621672078986)</td>\n",
              "      <td>(funding, 0.041312952407715674)</td>\n",
              "      <td>(million, 0.04027838292940776)</td>\n",
              "      <td>(raised, 0.032472576926343345)</td>\n",
              "      <td>(crore, 0.030439922483388948)</td>\n",
              "      <td>(capital, 0.0302961650989915)</td>\n",
              "      <td>(round, 0.029076655694879293)</td>\n",
              "      <td>(startup, 0.028659705063404494)</td>\n",
              "      <td>(platform, 0.028266593551437864)</td>\n",
              "      <td>(phonepe, 0.02707506420135018)</td>\n",
              "    </tr>\n",
              "    <tr>\n",
              "      <th>3</th>\n",
              "      <td>(space, 0.11166472616088195)</td>\n",
              "      <td>(moon, 0.08697453246524359)</td>\n",
              "      <td>(nasa, 0.0693868201387658)</td>\n",
              "      <td>(spacex, 0.06786475811481647)</td>\n",
              "      <td>(musk, 0.05859239057781558)</td>\n",
              "      <td>(rocket, 0.04867824376776806)</td>\n",
              "      <td>(elon, 0.04432525702224905)</td>\n",
              "      <td>(mars, 0.04326562237432688)</td>\n",
              "      <td>(iss, 0.03604520127868597)</td>\n",
              "      <td>(years, 0.0342805922309971)</td>\n",
              "    </tr>\n",
              "    <tr>\n",
              "      <th>4</th>\n",
              "      <td>(police, 0.04597481457116583)</td>\n",
              "      <td>(allegedly, 0.027161735976601573)</td>\n",
              "      <td>(arrested, 0.02527245469152299)</td>\n",
              "      <td>(accused, 0.02259098145584585)</td>\n",
              "      <td>(old, 0.022039815152683155)</td>\n",
              "      <td>(year, 0.018590114288265142)</td>\n",
              "      <td>(incident, 0.017923989435324077)</td>\n",
              "      <td>(man, 0.01739624740988401)</td>\n",
              "      <td>(case, 0.015654732470486005)</td>\n",
              "      <td>(died, 0.01509754995483824)</td>\n",
              "    </tr>\n",
              "    <tr>\n",
              "      <th>5</th>\n",
              "      <td>(film, 0.05370983548776097)</td>\n",
              "      <td>(actor, 0.041174675107567026)</td>\n",
              "      <td>(actress, 0.03797584617099231)</td>\n",
              "      <td>(upcoming, 0.035906241165712185)</td>\n",
              "      <td>(films, 0.03155034132862276)</td>\n",
              "      <td>(khan, 0.02413658024437715)</td>\n",
              "      <td>(love, 0.024136100418599385)</td>\n",
              "      <td>(like, 0.021349831537256975)</td>\n",
              "      <td>(added, 0.020117093731441486)</td>\n",
              "      <td>(speaking, 0.019137180786310052)</td>\n",
              "    </tr>\n",
              "    <tr>\n",
              "      <th>6</th>\n",
              "      <td>(google, 0.03388262738976971)</td>\n",
              "      <td>(gebru, 0.02916815348601766)</td>\n",
              "      <td>(comments, 0.02516812853637247)</td>\n",
              "      <td>(actress, 0.023373191860747357)</td>\n",
              "      <td>(email, 0.022221337789946945)</td>\n",
              "      <td>(twitter, 0.02121117775008718)</td>\n",
              "      <td>(instagram, 0.020965598031344842)</td>\n",
              "      <td>(coronavirus, 0.018552945679723567)</td>\n",
              "      <td>(himanshi, 0.018512910467123955)</td>\n",
              "      <td>(user, 0.017977234668837477)</td>\n",
              "    </tr>\n",
              "    <tr>\n",
              "      <th>7</th>\n",
              "      <td>(cases, 0.10670090827555093)</td>\n",
              "      <td>(deaths, 0.07098260892268077)</td>\n",
              "      <td>(coronavirus, 0.07017720976211866)</td>\n",
              "      <td>(toll, 0.0677080240449175)</td>\n",
              "      <td>(reported, 0.06672120562136534)</td>\n",
              "      <td>(country, 0.06261330554755376)</td>\n",
              "      <td>(number, 0.0617575815991737)</td>\n",
              "      <td>(taking, 0.05644566217466729)</td>\n",
              "      <td>(death, 0.055516943485982746)</td>\n",
              "      <td>(hours, 0.05391884686850681)</td>\n",
              "    </tr>\n",
              "    <tr>\n",
              "      <th>8</th>\n",
              "      <td>(farmers, 0.06648204459523538)</td>\n",
              "      <td>(laws, 0.0418324475060226)</td>\n",
              "      <td>(protest, 0.03215710264171969)</td>\n",
              "      <td>(farm, 0.03151213261229755)</td>\n",
              "      <td>(government, 0.029685869445968474)</td>\n",
              "      <td>(delhi, 0.028911524971483738)</td>\n",
              "      <td>(border, 0.024928412718797432)</td>\n",
              "      <td>(protesting, 0.021386467755274755)</td>\n",
              "      <td>(centre, 0.0209162237530113)</td>\n",
              "      <td>(protests, 0.019572212946356093)</td>\n",
              "    </tr>\n",
              "    <tr>\n",
              "      <th>9</th>\n",
              "      <td>(vaccine, 0.09281115197234498)</td>\n",
              "      <td>(covid, 0.050878856854117575)</td>\n",
              "      <td>(dose, 0.03874222898543367)</td>\n",
              "      <td>(coronavirus, 0.03150718521121949)</td>\n",
              "      <td>(health, 0.02962061933226947)</td>\n",
              "      <td>(pfizer, 0.028447712437204772)</td>\n",
              "      <td>(vaccination, 0.024758298365665003)</td>\n",
              "      <td>(trials, 0.02421520292412982)</td>\n",
              "      <td>(trial, 0.02327540108498572)</td>\n",
              "      <td>(administered, 0.02327540108498572)</td>\n",
              "    </tr>\n",
              "    <tr>\n",
              "      <th>10</th>\n",
              "      <td>(seats, 0.12493958087015694)</td>\n",
              "      <td>(bjp, 0.09084895815210484)</td>\n",
              "      <td>(elections, 0.0644816451686612)</td>\n",
              "      <td>(votes, 0.06049238734867893)</td>\n",
              "      <td>(polls, 0.050312394563457014)</td>\n",
              "      <td>(hyderabad, 0.04811563546095326)</td>\n",
              "      <td>(trs, 0.046940155026347165)</td>\n",
              "      <td>(ghmc, 0.04350563441719936)</td>\n",
              "      <td>(telangana, 0.04253730430761684)</td>\n",
              "      <td>(candidate, 0.04140361678097913)</td>\n",
              "    </tr>\n",
              "  </tbody>\n",
              "</table>\n",
              "</div>"
            ],
            "text/plain": [
              "                                    0  ...                                    9\n",
              "-1      (china, 0.010074498494993518)  ...      (chinese, 0.007695095290364238)\n",
              " 0     (quality, 0.16739997323096314)  ...        (severe, 0.07669794885357037)\n",
              " 1   (australia, 0.06475037194936144)  ...         (match, 0.03189802221097978)\n",
              " 2    (billion, 0.050487621672078986)  ...       (phonepe, 0.02707506420135018)\n",
              " 3       (space, 0.11166472616088195)  ...          (years, 0.0342805922309971)\n",
              " 4      (police, 0.04597481457116583)  ...          (died, 0.01509754995483824)\n",
              " 5        (film, 0.05370983548776097)  ...     (speaking, 0.019137180786310052)\n",
              " 6      (google, 0.03388262738976971)  ...         (user, 0.017977234668837477)\n",
              " 7       (cases, 0.10670090827555093)  ...         (hours, 0.05391884686850681)\n",
              " 8     (farmers, 0.06648204459523538)  ...     (protests, 0.019572212946356093)\n",
              " 9     (vaccine, 0.09281115197234498)  ...  (administered, 0.02327540108498572)\n",
              " 10      (seats, 0.12493958087015694)  ...     (candidate, 0.04140361678097913)\n",
              "\n",
              "[12 rows x 10 columns]"
            ]
          },
          "metadata": {
            "tags": []
          },
          "execution_count": 18
        }
      ]
    },
    {
      "cell_type": "code",
      "metadata": {
        "colab": {
          "base_uri": "https://localhost:8080/"
        },
        "id": "09mVoiTYm0VV",
        "outputId": "6a0f9c41-67cf-4c74-c8e0-a15600590e9c"
      },
      "source": [
        "topic_reduction(news,tf_idf,docs_df) #after reduction"
      ],
      "execution_count": null,
      "outputs": [
        {
          "output_type": "stream",
          "text": [
            "   Topic  Size\n",
            "0     -1  1097\n"
          ],
          "name": "stdout"
        }
      ]
    },
    {
      "cell_type": "markdown",
      "metadata": {
        "id": "jp5J7VIX0JAg"
      },
      "source": [
        "# 3.Abstracts from scientific articles on LDA extracted from citeseerx"
      ]
    },
    {
      "cell_type": "code",
      "metadata": {
        "id": "3G5urRYmyPbk"
      },
      "source": [
        "abstracts=(scientific_df['abstarcts']).tolist()"
      ],
      "execution_count": null,
      "outputs": []
    },
    {
      "cell_type": "code",
      "metadata": {
        "colab": {
          "base_uri": "https://localhost:8080/",
          "height": 463,
          "referenced_widgets": [
            "2b972959656641bbbc529b2108b179cf",
            "7eec07c39ada47cc8799a500bfa76f91",
            "1db49c7143d049c6aed700135e3aca34",
            "5c32a93896be4eb0a6978e1daf075938",
            "8da5877eefae441c965f30dfdeb018f5",
            "47f225a98e544724a68184f92aa1b141",
            "c4a9f5ee0e4649a99e1aa01c25be7148",
            "41d8014422464e2798c453a75cf1304c"
          ]
        },
        "id": "fRt7TT3OznD2",
        "outputId": "93144d80-e211-4ab0-d716-d1d7bd21c3e7"
      },
      "source": [
        "#abstracts=clean_text(abstracts)\n",
        "tf_idf,top_n_words,topic_sizes,docs_df=bertt(abstracts)"
      ],
      "execution_count": null,
      "outputs": [
        {
          "output_type": "display_data",
          "data": {
            "application/vnd.jupyter.widget-view+json": {
              "model_id": "2b972959656641bbbc529b2108b179cf",
              "version_minor": 0,
              "version_major": 2
            },
            "text/plain": [
              "HBox(children=(FloatProgress(value=0.0, description='Batches', max=16.0, style=ProgressStyle(description_width…"
            ]
          },
          "metadata": {
            "tags": []
          }
        },
        {
          "output_type": "stream",
          "text": [
            "\n",
            "   Topic  Size\n",
            "3      2   407\n",
            "2      1    44\n",
            "1      0    37\n",
            "0     -1    12\n"
          ],
          "name": "stdout"
        },
        {
          "output_type": "display_data",
          "data": {
            "image/png": "[encoded data removed]",
            "text/plain": [
              "<Figure size 360x360 with 2 Axes>"
            ]
          },
          "metadata": {
            "tags": [],
            "needs_background": "light"
          }
        }
      ]
    },
    {
      "cell_type": "code",
      "metadata": {
        "colab": {
          "base_uri": "https://localhost:8080/",
          "height": 252
        },
        "id": "kK2TrqUU2Hh3",
        "outputId": "4231e49c-2630-4b73-bfe7-7512ce143990"
      },
      "source": [
        "df=pd.DataFrame.from_dict(top_n_words,orient='index')\n",
        "df[df.columns[0:10]] #Top 10 topics with their term frequencies"
      ],
      "execution_count": null,
      "outputs": [
        {
          "output_type": "execute_result",
          "data": {
            "text/html": [
              "<div>\n",
              "<style scoped>\n",
              "    .dataframe tbody tr th:only-of-type {\n",
              "        vertical-align: middle;\n",
              "    }\n",
              "\n",
              "    .dataframe tbody tr th {\n",
              "        vertical-align: top;\n",
              "    }\n",
              "\n",
              "    .dataframe thead th {\n",
              "        text-align: right;\n",
              "    }\n",
              "</style>\n",
              "<table border=\"1\" class=\"dataframe\">\n",
              "  <thead>\n",
              "    <tr style=\"text-align: right;\">\n",
              "      <th></th>\n",
              "      <th>0</th>\n",
              "      <th>1</th>\n",
              "      <th>2</th>\n",
              "      <th>3</th>\n",
              "      <th>4</th>\n",
              "      <th>5</th>\n",
              "      <th>6</th>\n",
              "      <th>7</th>\n",
              "      <th>8</th>\n",
              "      <th>9</th>\n",
              "    </tr>\n",
              "  </thead>\n",
              "  <tbody>\n",
              "    <tr>\n",
              "      <th>-1</th>\n",
              "      <td>(implementation, 0.16926579869737501)</td>\n",
              "      <td>(note, 0.1654577966665483)</td>\n",
              "      <td>(bold, 0.13754490519499743)</td>\n",
              "      <td>(italicised, 0.13754490519499743)</td>\n",
              "      <td>(terms, 0.13321027452566017)</td>\n",
              "      <td>(interpretation, 0.132171784350715)</td>\n",
              "      <td>(routine, 0.12818141331056887)</td>\n",
              "      <td>(details, 0.12818141331056887)</td>\n",
              "      <td>(read, 0.12722220040182824)</td>\n",
              "      <td>(dependent, 0.12722220040182824)</td>\n",
              "    </tr>\n",
              "    <tr>\n",
              "      <th>0</th>\n",
              "      <td>(secre, 0.1623959093488896)</td>\n",
              "      <td>(lication, 0.1623959093488896)</td>\n",
              "      <td>(submitted, 0.1623959093488896)</td>\n",
              "      <td>(accepted, 0.1623959093488896)</td>\n",
              "      <td>(ar, 0.1623959093488896)</td>\n",
              "      <td>(pub, 0.1623959093488896)</td>\n",
              "      <td>(mail, 0.1623959093488896)</td>\n",
              "      <td>(following, 0.13544618194082622)</td>\n",
              "      <td>(source, 0.13008378321159225)</td>\n",
              "      <td>(author, 0.12554993968726114)</td>\n",
              "    </tr>\n",
              "    <tr>\n",
              "      <th>1</th>\n",
              "      <td>(implementation, 0.10398463247461547)</td>\n",
              "      <td>(note, 0.10164527216269532)</td>\n",
              "      <td>(purpose, 0.0881073934129001)</td>\n",
              "      <td>(bold, 0.08449761573528937)</td>\n",
              "      <td>(italicised, 0.08449761573528937)</td>\n",
              "      <td>(terms, 0.08183473297614387)</td>\n",
              "      <td>(interpretation, 0.08119675991837785)</td>\n",
              "      <td>(details, 0.07874536531155124)</td>\n",
              "      <td>(routine, 0.07874536531155124)</td>\n",
              "      <td>(dependent, 0.07815609445738045)</td>\n",
              "    </tr>\n",
              "    <tr>\n",
              "      <th>2</th>\n",
              "      <td>(analysis, 0.016773196238394267)</td>\n",
              "      <td>(recognition, 0.016185573190679557)</td>\n",
              "      <td>(face, 0.016041859982806866)</td>\n",
              "      <td>(paper, 0.015965490922708037)</td>\n",
              "      <td>(abstract, 0.015569652304789655)</td>\n",
              "      <td>(discriminant, 0.015341800543453042)</td>\n",
              "      <td>(linear, 0.01517122703799936)</td>\n",
              "      <td>(lda, 0.014898024112953408)</td>\n",
              "      <td>(based, 0.013634010703977012)</td>\n",
              "      <td>(data, 0.013634010703977012)</td>\n",
              "    </tr>\n",
              "  </tbody>\n",
              "</table>\n",
              "</div>"
            ],
            "text/plain": [
              "                                        0  ...                                 9\n",
              "-1  (implementation, 0.16926579869737501)  ...  (dependent, 0.12722220040182824)\n",
              " 0            (secre, 0.1623959093488896)  ...     (author, 0.12554993968726114)\n",
              " 1  (implementation, 0.10398463247461547)  ...  (dependent, 0.07815609445738045)\n",
              " 2       (analysis, 0.016773196238394267)  ...      (data, 0.013634010703977012)\n",
              "\n",
              "[4 rows x 10 columns]"
            ]
          },
          "metadata": {
            "tags": []
          },
          "execution_count": 22
        }
      ]
    },
    {
      "cell_type": "code",
      "metadata": {
        "colab": {
          "base_uri": "https://localhost:8080/"
        },
        "id": "A4ZLXCl86AHl",
        "outputId": "eee0c235-a412-4edd-d797-0e86e039064e"
      },
      "source": [
        "topic_reduction(abstracts,tf_idf,docs_df) #after reduction"
      ],
      "execution_count": null,
      "outputs": [
        {
          "output_type": "stream",
          "text": [
            "   Topic  Size\n",
            "0     -1   500\n"
          ],
          "name": "stdout"
        }
      ]
    },
    {
      "cell_type": "markdown",
      "metadata": {
        "id": "Iy1tcIbo7yV-"
      },
      "source": [
        "#4 Tweets from twitter about 'Joe Biden'"
      ]
    },
    {
      "cell_type": "code",
      "metadata": {
        "colab": {
          "base_uri": "https://localhost:8080/"
        },
        "id": "BifScMeJ7JO4",
        "outputId": "40387238-8394-47db-9364-eb88794a0858"
      },
      "source": [
        "social_media.head(5)\n",
        "social_data=(social_media[2]).tolist()\n",
        "social_data=clean_text(social_data)"
      ],
      "execution_count": null,
      "outputs": [
        {
          "output_type": "stream",
          "text": [
            "[nltk_data] Downloading package punkt to /root/nltk_data...\n",
            "[nltk_data]   Package punkt is already up-to-date!\n",
            "[nltk_data] Downloading package stopwords to /root/nltk_data...\n",
            "[nltk_data]   Package stopwords is already up-to-date!\n",
            "[nltk_data] Downloading package wordnet to /root/nltk_data...\n",
            "[nltk_data]   Package wordnet is already up-to-date!\n"
          ],
          "name": "stdout"
        }
      ]
    },
    {
      "cell_type": "code",
      "metadata": {
        "colab": {
          "base_uri": "https://localhost:8080/"
        },
        "id": "5Vhn_zrT7ghJ",
        "outputId": "934e689f-9e27-4b48-da4a-49ded7243269"
      },
      "source": [
        "social_data[:5]"
      ],
      "execution_count": null,
      "outputs": [
        {
          "output_type": "execute_result",
          "data": {
            "text/plain": [
              "['let infrastructure week week week... roads, airports, subways, broadband networks, windmills, sol… https://t.co/zetgidp',\n",
              " 'rt @altnoaa: sidney powell trump literally got asses handed today georgia courtroom. \"they want substitute ju…',\n",
              " 'rt @waynedupreeshow: hillary clinton told joe biden lost, not to give up, media said nothing except wouldn’t project w…',\n",
              " 'rt @weinsteinlaw: joe biden received greater percentage vote incumbent president anyone since . he’s also curr…',\n",
              " 'rt @marceelias: 🚨new: declaring \"this election still over\" trump files motion immediate consideration michigan supreme…']"
            ]
          },
          "metadata": {
            "tags": []
          },
          "execution_count": 25
        }
      ]
    },
    {
      "cell_type": "code",
      "metadata": {
        "colab": {
          "base_uri": "https://localhost:8080/",
          "height": 676,
          "referenced_widgets": [
            "76451ef3ddb147688c5c4283148fe903",
            "a1409ab7da984ef0aab1c384a8444695",
            "6e2d2e377a5a4ee7bb93492b3ae65201",
            "d1882ec4e80d4056a0da545c40bdbd33",
            "a40e7c6c262a4c498fcb63497514f43e",
            "7101a7ff31b3419bba53a84548c98c84",
            "a83038b2225846618b37c67b96f592f7",
            "e1cda18d358e45839210ea191c1bf717"
          ]
        },
        "id": "3_IWdpQa7szv",
        "outputId": "896dc0cb-d663-461a-d5dd-31874a519bbf"
      },
      "source": [
        "tf_idf,top_n_words,topic_sizes,docs_df=bertt(social_data)"
      ],
      "execution_count": null,
      "outputs": [
        {
          "output_type": "display_data",
          "data": {
            "application/vnd.jupyter.widget-view+json": {
              "model_id": "76451ef3ddb147688c5c4283148fe903",
              "version_minor": 0,
              "version_major": 2
            },
            "text/plain": [
              "HBox(children=(FloatProgress(value=0.0, description='Batches', max=32.0, style=ProgressStyle(description_width…"
            ]
          },
          "metadata": {
            "tags": []
          }
        },
        {
          "output_type": "stream",
          "text": [
            "\n",
            "    Topic  Size\n",
            "15     14   442\n",
            "10      9    71\n",
            "11     10    63\n",
            "2       1    51\n",
            "1       0    48\n",
            "9       8    43\n",
            "4       3    40\n",
            "0      -1    35\n",
            "5       4    35\n",
            "14     13    31\n",
            "7       6    28\n",
            "12     11    25\n",
            "8       7    24\n",
            "13     12    23\n",
            "6       5    21\n",
            "3       2    20\n"
          ],
          "name": "stdout"
        },
        {
          "output_type": "display_data",
          "data": {
            "image/png": "[encoded data removed]",
            "text/plain": [
              "<Figure size 360x360 with 2 Axes>"
            ]
          },
          "metadata": {
            "tags": [],
            "needs_background": "light"
          }
        }
      ]
    },
    {
      "cell_type": "code",
      "metadata": {
        "colab": {
          "base_uri": "https://localhost:8080/",
          "height": 807
        },
        "id": "q2p5TEk18DS6",
        "outputId": "6808afa5-d5f7-4cd1-81c8-6aeae2a69e12"
      },
      "source": [
        "df=pd.DataFrame.from_dict(top_n_words,orient='index')\n",
        "df[df.columns[0:10]] #Top 10 topics with their term frequencies"
      ],
      "execution_count": null,
      "outputs": [
        {
          "output_type": "execute_result",
          "data": {
            "text/html": [
              "<div>\n",
              "<style scoped>\n",
              "    .dataframe tbody tr th:only-of-type {\n",
              "        vertical-align: middle;\n",
              "    }\n",
              "\n",
              "    .dataframe tbody tr th {\n",
              "        vertical-align: top;\n",
              "    }\n",
              "\n",
              "    .dataframe thead th {\n",
              "        text-align: right;\n",
              "    }\n",
              "</style>\n",
              "<table border=\"1\" class=\"dataframe\">\n",
              "  <thead>\n",
              "    <tr style=\"text-align: right;\">\n",
              "      <th></th>\n",
              "      <th>0</th>\n",
              "      <th>1</th>\n",
              "      <th>2</th>\n",
              "      <th>3</th>\n",
              "      <th>4</th>\n",
              "      <th>5</th>\n",
              "      <th>6</th>\n",
              "      <th>7</th>\n",
              "      <th>8</th>\n",
              "      <th>9</th>\n",
              "    </tr>\n",
              "  </thead>\n",
              "  <tbody>\n",
              "    <tr>\n",
              "      <th>-1</th>\n",
              "      <td>(insistence, 0.11811538111433674)</td>\n",
              "      <td>(appointing, 0.11811538111433674)</td>\n",
              "      <td>(complaining, 0.11811538111433674)</td>\n",
              "      <td>(competent, 0.11811538111433674)</td>\n",
              "      <td>(positions, 0.11811538111433674)</td>\n",
              "      <td>(middleageriot, 0.10964690919019265)</td>\n",
              "      <td>(administratio, 0.10964690919019265)</td>\n",
              "      <td>(republicans, 0.09768265698803835)</td>\n",
              "      <td>(govwhitmer, 0.09196788071052003)</td>\n",
              "      <td>(beschlossdc, 0.09196788071052003)</td>\n",
              "    </tr>\n",
              "    <tr>\n",
              "      <th>0</th>\n",
              "      <td>(second, 0.24964435612949923)</td>\n",
              "      <td>(breaking, 0.23727602236964312)</td>\n",
              "      <td>(final, 0.22042295016173513)</td>\n",
              "      <td>(recount, 0.21152561887625965)</td>\n",
              "      <td>(winner, 0.19974131437210724)</td>\n",
              "      <td>(votes, 0.1979296488190734)</td>\n",
              "      <td>(marceelias, 0.19703837472601107)</td>\n",
              "      <td>(certified, 0.18318542313915023)</td>\n",
              "      <td>(georgia, 0.096265220013042)</td>\n",
              "      <td>(joe, 0.027144178340775905)</td>\n",
              "    </tr>\n",
              "    <tr>\n",
              "      <th>1</th>\n",
              "      <td>(michigan, 0.23076675770658311)</td>\n",
              "      <td>(immediate, 0.22881944845667193)</td>\n",
              "      <td>(declaring, 0.22881944845667193)</td>\n",
              "      <td>(consideration, 0.22881944845667193)</td>\n",
              "      <td>(files, 0.22881944845667193)</td>\n",
              "      <td>(motion, 0.22881944845667193)</td>\n",
              "      <td>(supreme, 0.22722124903798965)</td>\n",
              "      <td>(marceelias, 0.1757111193033249)</td>\n",
              "      <td>(new, 0.15161576431699758)</td>\n",
              "      <td>(election, 0.13604888021849626)</td>\n",
              "    </tr>\n",
              "    <tr>\n",
              "      <th>2</th>\n",
              "      <td>(associations, 0.32600191711901216)</td>\n",
              "      <td>(penalize, 0.32600191711901216)</td>\n",
              "      <td>(bar, 0.32600191711901216)</td>\n",
              "      <td>(needed, 0.32193607010489284)</td>\n",
              "      <td>(investigate, 0.31435508858774897)</td>\n",
              "      <td>(lawyers, 0.3108084540528493)</td>\n",
              "      <td>(members, 0.27701969504383556)</td>\n",
              "      <td>(presid, 0.2490073803797346)</td>\n",
              "      <td>(nearly, 0.2490073803797346)</td>\n",
              "      <td>(called, 0.24498279620966243)</td>\n",
              "    </tr>\n",
              "    <tr>\n",
              "      <th>3</th>\n",
              "      <td>(worldwide, 0.23033100714620397)</td>\n",
              "      <td>(tweeted, 0.22856409390181245)</td>\n",
              "      <td>(floyd, 0.22683976105179024)</td>\n",
              "      <td>(twitter, 0.22633909066412725)</td>\n",
              "      <td>(george, 0.2251560045286994)</td>\n",
              "      <td>(kobe, 0.22457273196754887)</td>\n",
              "      <td>(nbcnews, 0.22230129969895984)</td>\n",
              "      <td>(brya, 0.22230129969895984)</td>\n",
              "      <td>(people, 0.18927194289379762)</td>\n",
              "      <td>(donald, 0.18254357440375996)</td>\n",
              "    </tr>\n",
              "    <tr>\n",
              "      <th>4</th>\n",
              "      <td>(kirkacevedo, 0.23462739111927178)</td>\n",
              "      <td>(handcuffed, 0.23462739111927178)</td>\n",
              "      <td>(seats, 0.23462739111927178)</td>\n",
              "      <td>(better, 0.23261601100969917)</td>\n",
              "      <td>(help, 0.23261601100969917)</td>\n",
              "      <td>(don, 0.21689673343387472)</td>\n",
              "      <td>(senate, 0.21517786700653424)</td>\n",
              "      <td>(want, 0.2106996839071926)</td>\n",
              "      <td>(win, 0.15908077941385682)</td>\n",
              "      <td>(president, 0.1160393964460106)</td>\n",
              "    </tr>\n",
              "    <tr>\n",
              "      <th>5</th>\n",
              "      <td>(completed, 0.35120298556897406)</td>\n",
              "      <td>(briantylercohen, 0.34697389323852923)</td>\n",
              "      <td>(final, 0.24046140017643836)</td>\n",
              "      <td>(recount, 0.23075522059228326)</td>\n",
              "      <td>(winner, 0.21789961567866248)</td>\n",
              "      <td>(certified, 0.19983864342452753)</td>\n",
              "      <td>(new, 0.18547462077514135)</td>\n",
              "      <td>(georgia, 0.10501660365059128)</td>\n",
              "      <td>(joe, 0.02961183091721008)</td>\n",
              "      <td>(biden, 0.028237234281407782)</td>\n",
              "    </tr>\n",
              "    <tr>\n",
              "      <th>6</th>\n",
              "      <td>(gafollowers, 0.22493167403133757)</td>\n",
              "      <td>(recounting, 0.22493167403133757)</td>\n",
              "      <td>(announced, 0.22493167403133757)</td>\n",
              "      <td>(htt, 0.22254016713174726)</td>\n",
              "      <td>(rd, 0.20987923025502503)</td>\n",
              "      <td>(officials, 0.20412383279652005)</td>\n",
              "      <td>(time, 0.18748609895224014)</td>\n",
              "      <td>(today, 0.17575631635652367)</td>\n",
              "      <td>(georgia, 0.1493284876299871)</td>\n",
              "      <td>(votes, 0.1448265723066391)</td>\n",
              "    </tr>\n",
              "    <tr>\n",
              "      <th>7</th>\n",
              "      <td>(violated, 0.20865462649701771)</td>\n",
              "      <td>(peter, 0.20865462649701771)</td>\n",
              "      <td>(trade, 0.2063708785518286)</td>\n",
              "      <td>(coiunsel, 0.18910929992175524)</td>\n",
              "      <td>(macfarlanenews, 0.18910929992175524)</td>\n",
              "      <td>(narvarro, 0.18910929992175524)</td>\n",
              "      <td>(atta, 0.18910929992175524)</td>\n",
              "      <td>(advisor, 0.18910929992175524)</td>\n",
              "      <td>(hatch, 0.18910929992175524)</td>\n",
              "      <td>(special, 0.18683209635920803)</td>\n",
              "    </tr>\n",
              "    <tr>\n",
              "      <th>8</th>\n",
              "      <td>(cmclymer, 0.2017157642846252)</td>\n",
              "      <td>(congratulations, 0.20105585761388942)</td>\n",
              "      <td>(candidate, 0.1961071943208053)</td>\n",
              "      <td>(year, 0.1848361794748963)</td>\n",
              "      <td>(times, 0.17202973864938287)</td>\n",
              "      <td>(presidential, 0.1523296944148555)</td>\n",
              "      <td>(win, 0.13062162691961776)</td>\n",
              "      <td>(georgia, 0.08624153305687063)</td>\n",
              "      <td>(blow, 0.052046339553517056)</td>\n",
              "      <td>(reaffirms, 0.052046339553517056)</td>\n",
              "    </tr>\n",
              "    <tr>\n",
              "      <th>9</th>\n",
              "      <td>(georgia, 0.09949748287479378)</td>\n",
              "      <td>(certified, 0.08985445572956859)</td>\n",
              "      <td>(times, 0.08095861812545897)</td>\n",
              "      <td>(election, 0.07683782559785511)</td>\n",
              "      <td>(won, 0.07331682764432595)</td>\n",
              "      <td>(kylegriffin, 0.07244087398672741)</td>\n",
              "      <td>(surprised, 0.07242110958835245)</td>\n",
              "      <td>(knew, 0.07242110958835245)</td>\n",
              "      <td>(guess, 0.07242110958835245)</td>\n",
              "      <td>(amyathatcher, 0.06722876183924222)</td>\n",
              "    </tr>\n",
              "    <tr>\n",
              "      <th>10</th>\n",
              "      <td>(compartilhem, 0.16538682744025665)</td>\n",
              "      <td>(que, 0.11096398661383564)</td>\n",
              "      <td>(peguei, 0.10233137161637022)</td>\n",
              "      <td>(uma, 0.10233137161637022)</td>\n",
              "      <td>(nova, 0.10233137161637022)</td>\n",
              "      <td>(liderar, 0.10233137161637022)</td>\n",
              "      <td>(ordem, 0.10233137161637022)</td>\n",
              "      <td>(mundial, 0.10233137161637022)</td>\n",
              "      <td>(criar, 0.10233137161637022)</td>\n",
              "      <td>(vamos, 0.10233137161637022)</td>\n",
              "    </tr>\n",
              "    <tr>\n",
              "      <th>11</th>\n",
              "      <td>(janet, 0.20756460394789167)</td>\n",
              "      <td>(kudlow, 0.20756460394789167)</td>\n",
              "      <td>(economic, 0.20756460394789167)</td>\n",
              "      <td>(larry, 0.20756460394789167)</td>\n",
              "      <td>(yellen, 0.20756460394789167)</td>\n",
              "      <td>(adviser, 0.1987419222451904)</td>\n",
              "      <td>(praised, 0.13506334205686077)</td>\n",
              "      <td>(te, 0.13275854866452017)</td>\n",
              "      <td>(treasury, 0.11017153554995435)</td>\n",
              "      <td>(nomination, 0.11017153554995435)</td>\n",
              "    </tr>\n",
              "    <tr>\n",
              "      <th>12</th>\n",
              "      <td>(vp, 0.2854562400111296)</td>\n",
              "      <td>(elect, 0.20486915958524762)</td>\n",
              "      <td>(outgoing, 0.181510469561127)</td>\n",
              "      <td>(sue, 0.181510469561127)</td>\n",
              "      <td>(mike, 0.17946262200541088)</td>\n",
              "      <td>(kamala, 0.17749838377535676)</td>\n",
              "      <td>(duck, 0.17566460703707965)</td>\n",
              "      <td>(harri, 0.17566460703707965)</td>\n",
              "      <td>(lame, 0.17566460703707965)</td>\n",
              "      <td>(potus, 0.17361871001499107)</td>\n",
              "    </tr>\n",
              "    <tr>\n",
              "      <th>13</th>\n",
              "      <td>(million, 0.0863692561003584)</td>\n",
              "      <td>(market, 0.07890996107589844)</td>\n",
              "      <td>(carried, 0.07890996107589844)</td>\n",
              "      <td>(counties, 0.07890996107589844)</td>\n",
              "      <td>(foods, 0.07653231562869137)</td>\n",
              "      <td>(redistrict, 0.07653231562869137)</td>\n",
              "      <td>(fact, 0.06821874492330288)</td>\n",
              "      <td>(popular, 0.06810176563686422)</td>\n",
              "      <td>(vote, 0.06584109947609582)</td>\n",
              "      <td>(hillary, 0.06196478438693016)</td>\n",
              "    </tr>\n",
              "    <tr>\n",
              "      <th>14</th>\n",
              "      <td>(https, 0.04613483011137348)</td>\n",
              "      <td>(president, 0.025289534881487857)</td>\n",
              "      <td>(election, 0.020809057784840424)</td>\n",
              "      <td>(secretary, 0.02044154624110168)</td>\n",
              "      <td>(trump, 0.020286569262635338)</td>\n",
              "      <td>(results, 0.018751224605775683)</td>\n",
              "      <td>(joe, 0.01841135891905853)</td>\n",
              "      <td>(presidential, 0.018333025324729517)</td>\n",
              "      <td>(biden, 0.018074760416601644)</td>\n",
              "      <td>(says, 0.018072979457079467)</td>\n",
              "    </tr>\n",
              "  </tbody>\n",
              "</table>\n",
              "</div>"
            ],
            "text/plain": [
              "                                       0  ...                                    9\n",
              "-1     (insistence, 0.11811538111433674)  ...   (beschlossdc, 0.09196788071052003)\n",
              " 0         (second, 0.24964435612949923)  ...          (joe, 0.027144178340775905)\n",
              " 1       (michigan, 0.23076675770658311)  ...      (election, 0.13604888021849626)\n",
              " 2   (associations, 0.32600191711901216)  ...        (called, 0.24498279620966243)\n",
              " 3      (worldwide, 0.23033100714620397)  ...        (donald, 0.18254357440375996)\n",
              " 4    (kirkacevedo, 0.23462739111927178)  ...      (president, 0.1160393964460106)\n",
              " 5      (completed, 0.35120298556897406)  ...        (biden, 0.028237234281407782)\n",
              " 6    (gafollowers, 0.22493167403133757)  ...          (votes, 0.1448265723066391)\n",
              " 7       (violated, 0.20865462649701771)  ...       (special, 0.18683209635920803)\n",
              " 8        (cmclymer, 0.2017157642846252)  ...    (reaffirms, 0.052046339553517056)\n",
              " 9        (georgia, 0.09949748287479378)  ...  (amyathatcher, 0.06722876183924222)\n",
              " 10  (compartilhem, 0.16538682744025665)  ...         (vamos, 0.10233137161637022)\n",
              " 11         (janet, 0.20756460394789167)  ...    (nomination, 0.11017153554995435)\n",
              " 12             (vp, 0.2854562400111296)  ...         (potus, 0.17361871001499107)\n",
              " 13        (million, 0.0863692561003584)  ...       (hillary, 0.06196478438693016)\n",
              " 14         (https, 0.04613483011137348)  ...         (says, 0.018072979457079467)\n",
              "\n",
              "[16 rows x 10 columns]"
            ]
          },
          "metadata": {
            "tags": []
          },
          "execution_count": 27
        }
      ]
    },
    {
      "cell_type": "code",
      "metadata": {
        "colab": {
          "base_uri": "https://localhost:8080/"
        },
        "id": "trdC8naO8hQH",
        "outputId": "2d6fdf10-8e0b-4b8a-df59-849c6a404d03"
      },
      "source": [
        "topic_reduction(social_data,tf_idf,docs_df) #after reduction"
      ],
      "execution_count": null,
      "outputs": [
        {
          "output_type": "stream",
          "text": [
            "   Topic  Size\n",
            "0     -1  1000\n"
          ],
          "name": "stdout"
        }
      ]
    },
    {
      "cell_type": "markdown",
      "metadata": {
        "id": "dsCsFYD69d4c"
      },
      "source": [
        "#5 Legal data taken from maryland legislation public cases\n"
      ]
    },
    {
      "cell_type": "code",
      "metadata": {
        "id": "g6tHZA608uXt"
      },
      "source": [
        "legal=pd.read_csv('/content/legal.csv')\n",
        "legal=legal.dropna()"
      ],
      "execution_count": null,
      "outputs": []
    },
    {
      "cell_type": "code",
      "metadata": {
        "colab": {
          "base_uri": "https://localhost:8080/"
        },
        "id": "v7TJRoSj-zW-",
        "outputId": "83d8dbe2-29c7-4478-83f1-d9febb51a1b7"
      },
      "source": [
        "legal_text=legal['purpose'].tolist()\n",
        "legal_text=clean_text(legal_text)\n",
        "legal_text[:10]"
      ],
      "execution_count": null,
      "outputs": [
        {
          "output_type": "stream",
          "text": [
            "[nltk_data] Downloading package punkt to /root/nltk_data...\n",
            "[nltk_data]   Package punkt is already up-to-date!\n",
            "[nltk_data] Downloading package stopwords to /root/nltk_data...\n",
            "[nltk_data]   Package stopwords is already up-to-date!\n",
            "[nltk_data] Downloading package wordnet to /root/nltk_data...\n",
            "[nltk_data]   Package wordnet is already up-to-date!\n"
          ],
          "name": "stdout"
        },
        {
          "output_type": "execute_result",
          "data": {
            "text/plain": [
              "['for purpose providing certain deputy sheriffs correctional officers office sheriff harford county right organize negotiate harford county executive harford county sheriff regard certain wages employee health care premium share; requiring right organize negotiate conducted accordance certain provisions harford county code unless otherwise provided act; requiring terms agreement regard certain wages employee health care premium share set forth memorandum agreement entered sheriff, county executive, employee organization; providing agreement regard certain wages employee health care premium share effective agreement ratified sheriff, county executive, employee organization; providing modification existing memorandum agreement valid except certain circumstances; requiring certain procedures set forth harford county code apply certain parties unable reach certain agreement; providing construction act; generally relating salaries negotiation rights sworn law enforcement officers correctional officers harford county sheriff’s office.',\n",
              " 'for purpose authorizing creation state debt exceed $,, proceeds used grant county executive county council howard county certain development improvement purposes; providing disbursement loan proceeds, subject requirement grantee provide expend matching fund; establishing deadline encumbrance expenditure loan proceeds; providing generally issuance sale bonds evidencing loan. () section . be it enacted',\n",
              " 'for purpose authorizing creation state debt exceed $,,, proceeds used grant board education anne arundel county certain development improvement purposes; providing disbursement loan proceeds, subject requirement grantee provide expend matching fund; establishing deadline encumbrance expenditure loan proceeds; providing generally issuance sale bonds evidencing loan. () section . be it enacted',\n",
              " 'for purpose authorizing creation state debt amount $,, proceeds used grant board education anne arundel county certain development improvement purposes; providing disbursement loan proceeds; establishing deadline encumbrance expenditure loan proceeds; providing generally issuance sale bonds evidencing loan. () section . be it enacted',\n",
              " 'for purpose altering formula used apportion certain income state certain corporations carry trade business within outside state; authorizing certain corporations elect use certain formula apportion certain income; requiring certain corporations apportion certain income certain intangible investments certain manner; repealing obsolete provisions; making stylistic conforming changes; providing application act; generally relating apportionment formula maryland income tax corporations.',\n",
              " 'for purpose increasing fee county license sell cigarettes retail charles county; requiring clerk circuit court charles county distribute certain amount license fee comptroller distribute certain amount license fee used certain purpose; prohibiting use certain funds supplant certain existing funding certain purpose; generally relating cigarette retailer licenses charles county.',\n",
              " 'for purpose establishing offshore drilling activity ultrahazardous abnormally dangerous activity; establishing person causes spill oil gas engaged offshore drilling activity strictly liable certain damages; voiding public policy provision contract agreement attempts purports waive certain rights reduce certain liability injury, death, loss person property caused oil gas spill result offshore drilling activity; establishing certain provisions concerning certain bond apply judgment civil action damages relating offshore drilling activity; defining certain terms; providing application act; generally relating civil liability oil gas spills related offshore drilling activities. explanation: capitals indicate matter added to existing law. [brackets] indicate matter deleted existing law. underlining indicates amendments bill. strike indicates matter stricken bill amendment deleted law amendment. italics indicate opposite chamber/conference committee amendments. *sb* senate bill',\n",
              " 'for purpose altering conditions newborn considered substance–exposed; repealing altering certain conditions health care practitioner required make certain report concerning substance–exposed newborn local department social services; requiring report made health care practitioner local department include certain information; requiring local department provide copy report made health care practitioner certain local health department certain circumstances; requiring local department local health department take certain actions receiving report; requiring maryland department health report certain information secretary human services annually; requiring secretary health adopt certain regulations; generally relating substance–exposed newborns.',\n",
              " 'for purpose requiring county boards education county health departments provide brain injury screenings certain students; requiring county health departments fund brain injury screenings certain students; requiring brain injury screenings given students certain years; authorizing certain screenings accordance certain policies; requiring county board county health department report maryland department health results certain brain injury screenings number students receiving certain services; requiring certain brain injury screening developed department, consultation state traumatic brain injury advisory board include certain minimum number questions; generally relating student health screenings brain injuries schools requiring maryland department health, state department education, state traumatic brain injury advisory board jointly study under–identification traumatic brain injuries among school–aged children recommend process identify certain children; requiring maryland department health, state department education, state traumatic brain injury advisory board consult interested stakeholders; requiring maryland department health, state department education, state traumatic brain injury advisory board report findings recommendations governor general assembly certain date; providing termination act; generally relating identification students traumatic brain injuries. explanation: capitals indicate matter added to existing law. [brackets] indicate matter deleted existing law. underlining indicates amendments bill. strike indicates matter stricken bill amendment deleted law amendment. *hb* house bill',\n",
              " 'for purpose supporting people iran engaged legitimate peaceful protests; condemning iranian regime’s serious human rights abuses iranian people, significant corruption, destabilizing activities abroad; noting certain statements support certain protesters certain calls support iranian people’s right live free society; demanding iranian regime abide international obligations respect human rights civil liberties; urging president united states united states congress take certain actions; calling companies reject certain requests iranian regime; respecting proud history rich culture iranian nation fully supporting efforts people iran promote establishment basic freedoms build foundation freely elected, open, democratic political system; providing copy resolution sent department legislative services certain individuals; generally relating support people iran. whereas, on december , , popular protests iranian regime began city mashhad rapidly spread throughout country significant antigovernment protests iran since june ; whereas, the protesters expressed numerous economic grievances, including regime’s widespread corruption revolutionary guard corps’ control country’s economy; whereas, protesters decried regime’s costly destabilizing activities abroad, including support terrorist groups hezbollah murderous assad regime syria; whereas, reports indicate , iranians arrested *hj* house joint resolution almost two dozen killed connection protests; whereas, the iranian regime shut mobile internet access blocked pressured companies cut social media applications used activists organize publicize protests; whereas, the united states congress provided authority license provision communications technology iran improve ability iranian people speak freely; whereas, on january , , iranian regime officials threatened crack protesters, brigadier general esmaeil kowsari iran’s revolutionary guard corps stating, “if situation continues, officials definitely make decisions point business finished.”; whereas, the united states congress provided authority designate sanction elements iranian regime involved significant corruption serious human rights abuses; whereas, iran’s revolutionary guard corps basij militia sanctioned united states planning carrying serious human rights abuses iranian people, including cruel prolonged torture political dissidents; whereas, the regime routinely violated human rights iranian citizens, including ongoing, systematic, serious restrictions freedom peaceful assembly association freedom opinion expression, including continuing closures media outlets, arrests journalists, censorship expression online forums blogs websites; whereas, the united states department state’s human rights report iran noted “severe restrictions civil liberties, including freedoms assembly, association, speech, religion, press. other human rights problems included abuse due process combined use capital punishment crimes meet requirements due process, well cruel, inhuman, degrading treatment punishment; disregard physical integrity persons, authorities arbitrarily unlawfully detained, tortured, killed.”; whereas, on december , , united states department state strongly condemned arrest peaceful protesters noted “iran’s leaders turned wealthy country rich history culture economically depleted rogue state whose chief exports violence, bloodshed, chaos.”; whereas, on january , , secretary state foreign commonwealth affairs united kingdom, boris johnson, stated “the uk watching events iran closely. we believe meaningful debate legitimate important issues protesters raising look iranian house joint resolution resolved']"
            ]
          },
          "metadata": {
            "tags": []
          },
          "execution_count": 30
        }
      ]
    },
    {
      "cell_type": "code",
      "metadata": {
        "colab": {
          "base_uri": "https://localhost:8080/",
          "height": 765,
          "referenced_widgets": [
            "3ae54973dbfa41e0bfab3dee332bcd2e",
            "76b3692821b5460bb299a6b45570f9c0",
            "3b5f71f47841423089b4411b5571b8a0",
            "23ad26d73f104505b89cd1473ee2da55",
            "1f2923f2a7e4483ca65673db2e6deb10",
            "33825d21da8642489f67f523c3647125",
            "587ea3f5e3224141b668442f40fb2702",
            "3249744ac0fc45bca8e52975a0954603"
          ]
        },
        "id": "endWfjV-FHgD",
        "outputId": "bf0ac5f7-a763-4b08-9a17-13806f27f31e"
      },
      "source": [
        "tf_idf,top_n_words,topic_sizes,docs_df=bertt(legal_text)\n",
        "print(topic_sizes)"
      ],
      "execution_count": null,
      "outputs": [
        {
          "output_type": "display_data",
          "data": {
            "application/vnd.jupyter.widget-view+json": {
              "model_id": "3ae54973dbfa41e0bfab3dee332bcd2e",
              "version_minor": 0,
              "version_major": 2
            },
            "text/plain": [
              "HBox(children=(FloatProgress(value=0.0, description='Batches', max=102.0, style=ProgressStyle(description_widt…"
            ]
          },
          "metadata": {
            "tags": []
          }
        },
        {
          "output_type": "stream",
          "text": [
            "\n",
            "   Topic  Size\n",
            "9      8  2617\n",
            "7      6   226\n",
            "5      4   143\n",
            "3      2    94\n",
            "1      0    45\n",
            "4      3    38\n",
            "2      1    32\n",
            "6      5    27\n",
            "8      7    16\n",
            "0     -1    12\n",
            "   Topic  Size\n",
            "9      8  2617\n",
            "7      6   226\n",
            "5      4   143\n",
            "3      2    94\n",
            "1      0    45\n",
            "4      3    38\n",
            "2      1    32\n",
            "6      5    27\n",
            "8      7    16\n",
            "0     -1    12\n"
          ],
          "name": "stdout"
        },
        {
          "output_type": "display_data",
          "data": {
            "image/png": "[encoded data removed]",
            "text/plain": [
              "<Figure size 360x360 with 2 Axes>"
            ]
          },
          "metadata": {
            "tags": [],
            "needs_background": "light"
          }
        }
      ]
    },
    {
      "cell_type": "code",
      "metadata": {
        "colab": {
          "base_uri": "https://localhost:8080/",
          "height": 529
        },
        "id": "0cwBFbCPMXVc",
        "outputId": "fe456964-c3d8-4ac9-b25a-e598bb479387"
      },
      "source": [
        "df=pd.DataFrame.from_dict(top_n_words,orient='index')\n",
        "df[df.columns[0:10]] #Top 10 topics with their term frequencies"
      ],
      "execution_count": null,
      "outputs": [
        {
          "output_type": "execute_result",
          "data": {
            "text/html": [
              "<div>\n",
              "<style scoped>\n",
              "    .dataframe tbody tr th:only-of-type {\n",
              "        vertical-align: middle;\n",
              "    }\n",
              "\n",
              "    .dataframe tbody tr th {\n",
              "        vertical-align: top;\n",
              "    }\n",
              "\n",
              "    .dataframe thead th {\n",
              "        text-align: right;\n",
              "    }\n",
              "</style>\n",
              "<table border=\"1\" class=\"dataframe\">\n",
              "  <thead>\n",
              "    <tr style=\"text-align: right;\">\n",
              "      <th></th>\n",
              "      <th>0</th>\n",
              "      <th>1</th>\n",
              "      <th>2</th>\n",
              "      <th>3</th>\n",
              "      <th>4</th>\n",
              "      <th>5</th>\n",
              "      <th>6</th>\n",
              "      <th>7</th>\n",
              "      <th>8</th>\n",
              "      <th>9</th>\n",
              "    </tr>\n",
              "  </thead>\n",
              "  <tbody>\n",
              "    <tr>\n",
              "      <th>-1</th>\n",
              "      <td>(drilling, 0.14394873362743307)</td>\n",
              "      <td>(offshore, 0.12794450980019667)</td>\n",
              "      <td>(activity, 0.11919256716356819)</td>\n",
              "      <td>(oil, 0.08308463544578387)</td>\n",
              "      <td>(gas, 0.07539093907033353)</td>\n",
              "      <td>(spill, 0.06656386230472244)</td>\n",
              "      <td>(indicate, 0.05256439357430171)</td>\n",
              "      <td>(matter, 0.05079263336184232)</td>\n",
              "      <td>(damages, 0.04860800980153603)</td>\n",
              "      <td>(liability, 0.04715029896420456)</td>\n",
              "    </tr>\n",
              "    <tr>\n",
              "      <th>0</th>\n",
              "      <td>(sectarian, 0.07783119093121317)</td>\n",
              "      <td>(matching, 0.07553093419321441)</td>\n",
              "      <td>(religious, 0.07223232422505804)</td>\n",
              "      <td>(proceeds, 0.06516727762457372)</td>\n",
              "      <td>(loan, 0.06385399517677429)</td>\n",
              "      <td>(purposes, 0.05062118418074892)</td>\n",
              "      <td>(expend, 0.04113320102945095)</td>\n",
              "      <td>(grantee, 0.041032595827203734)</td>\n",
              "      <td>(exceed, 0.04039122784029802)</td>\n",
              "      <td>(encumbrance, 0.03894322479022512)</td>\n",
              "    </tr>\n",
              "    <tr>\n",
              "      <th>1</th>\n",
              "      <td>(mayor, 0.08401018565559766)</td>\n",
              "      <td>(city, 0.0637597941597486)</td>\n",
              "      <td>(proceeds, 0.058415754850870576)</td>\n",
              "      <td>(council, 0.058022517090938315)</td>\n",
              "      <td>(loan, 0.057238532350299604)</td>\n",
              "      <td>(expend, 0.04916223960150841)</td>\n",
              "      <td>(grantee, 0.04904199666066618)</td>\n",
              "      <td>(exceed, 0.048275436172888445)</td>\n",
              "      <td>(encumbrance, 0.04654478863975749)</td>\n",
              "      <td>(evidencing, 0.046491081164670774)</td>\n",
              "    </tr>\n",
              "    <tr>\n",
              "      <th>2</th>\n",
              "      <td>(appropriation, 0.08440086297651009)</td>\n",
              "      <td>(proceeds, 0.04430990876270053)</td>\n",
              "      <td>(loan, 0.043416954084174786)</td>\n",
              "      <td>(special, 0.04157369359190867)</td>\n",
              "      <td>(fund, 0.03418038817813512)</td>\n",
              "      <td>(encumbrance, 0.0339522930390494)</td>\n",
              "      <td>(evidencing, 0.033913115894070936)</td>\n",
              "      <td>(disbursement, 0.03387403039162055)</td>\n",
              "      <td>(expenditure, 0.033602962308323485)</td>\n",
              "      <td>(creation, 0.033602962308323485)</td>\n",
              "    </tr>\n",
              "    <tr>\n",
              "      <th>3</th>\n",
              "      <td>(lottery, 0.10429624264063746)</td>\n",
              "      <td>(racing, 0.08096566060475165)</td>\n",
              "      <td>(instant, 0.06330535258251169)</td>\n",
              "      <td>(gaming, 0.061145372753836)</td>\n",
              "      <td>(race, 0.04728162183913433)</td>\n",
              "      <td>(video, 0.046600448839433754)</td>\n",
              "      <td>(bingo, 0.044429475485230505)</td>\n",
              "      <td>(licensee, 0.039595105488085806)</td>\n",
              "      <td>(downs, 0.03872007114425656)</td>\n",
              "      <td>(machines, 0.03673148538998158)</td>\n",
              "    </tr>\n",
              "    <tr>\n",
              "      <th>4</th>\n",
              "      <td>(license, 0.07872656879633881)</td>\n",
              "      <td>(beer, 0.06930193965776228)</td>\n",
              "      <td>(class, 0.06400298226141066)</td>\n",
              "      <td>(beverages, 0.05974970737268952)</td>\n",
              "      <td>(alcoholic, 0.059749045550832415)</td>\n",
              "      <td>(holder, 0.05452806546700266)</td>\n",
              "      <td>(wine, 0.051122187316921044)</td>\n",
              "      <td>(licenses, 0.0412366430059333)</td>\n",
              "      <td>(premises, 0.03984460731704166)</td>\n",
              "      <td>(liquor, 0.036754205184868896)</td>\n",
              "    </tr>\n",
              "    <tr>\n",
              "      <th>5</th>\n",
              "      <td>(proceeds, 0.05695264312499966)</td>\n",
              "      <td>(loan, 0.05580490595846129)</td>\n",
              "      <td>(arundel, 0.05117488926580879)</td>\n",
              "      <td>(anne, 0.05079126594904118)</td>\n",
              "      <td>(expend, 0.04793089628642721)</td>\n",
              "      <td>(grantee, 0.04781366501353566)</td>\n",
              "      <td>(exceed, 0.04706630420298747)</td>\n",
              "      <td>(executive, 0.04705811844936544)</td>\n",
              "      <td>(encumbrance, 0.045379003378386386)</td>\n",
              "      <td>(evidencing, 0.04532664108897376)</td>\n",
              "    </tr>\n",
              "    <tr>\n",
              "      <th>6</th>\n",
              "      <td>(proceeds, 0.05778271224232422)</td>\n",
              "      <td>(loan, 0.05661824712209531)</td>\n",
              "      <td>(expend, 0.04841140652488763)</td>\n",
              "      <td>(grantee, 0.04829300000114003)</td>\n",
              "      <td>(exceed, 0.047966418444896984)</td>\n",
              "      <td>(evidencing, 0.04619348533929237)</td>\n",
              "      <td>(creation, 0.045975356122017606)</td>\n",
              "      <td>(encumbrance, 0.045833930730550664)</td>\n",
              "      <td>(disbursement, 0.04572827999418014)</td>\n",
              "      <td>(debt, 0.04570944636389882)</td>\n",
              "    </tr>\n",
              "    <tr>\n",
              "      <th>7</th>\n",
              "      <td>(charles, 0.15179205825354858)</td>\n",
              "      <td>(user, 0.10778180078931526)</td>\n",
              "      <td>(fee, 0.10177446534695136)</td>\n",
              "      <td>(distribute, 0.09203373508431326)</td>\n",
              "      <td>(revenues, 0.08838459785803604)</td>\n",
              "      <td>(highway, 0.08477054951405699)</td>\n",
              "      <td>(retail, 0.08046177408821457)</td>\n",
              "      <td>(increasing, 0.07386293791655121)</td>\n",
              "      <td>(cigarette, 0.06769055257303824)</td>\n",
              "      <td>(cigarettes, 0.06621855296930335)</td>\n",
              "    </tr>\n",
              "    <tr>\n",
              "      <th>8</th>\n",
              "      <td>(tax, 0.006302131857599998)</td>\n",
              "      <td>(health, 0.006223548697391491)</td>\n",
              "      <td>(act, 0.006209357858523651)</td>\n",
              "      <td>(department, 0.006190077291288176)</td>\n",
              "      <td>(law, 0.00612836114491639)</td>\n",
              "      <td>(program, 0.0061167237692693905)</td>\n",
              "      <td>(public, 0.006052972219547082)</td>\n",
              "      <td>(information, 0.006038828023000442)</td>\n",
              "      <td>(maryland, 0.00603794786171818)</td>\n",
              "      <td>(application, 0.006011426514057885)</td>\n",
              "    </tr>\n",
              "  </tbody>\n",
              "</table>\n",
              "</div>"
            ],
            "text/plain": [
              "                                       0  ...                                    9\n",
              "-1       (drilling, 0.14394873362743307)  ...     (liability, 0.04715029896420456)\n",
              " 0      (sectarian, 0.07783119093121317)  ...   (encumbrance, 0.03894322479022512)\n",
              " 1          (mayor, 0.08401018565559766)  ...   (evidencing, 0.046491081164670774)\n",
              " 2  (appropriation, 0.08440086297651009)  ...     (creation, 0.033602962308323485)\n",
              " 3        (lottery, 0.10429624264063746)  ...      (machines, 0.03673148538998158)\n",
              " 4        (license, 0.07872656879633881)  ...       (liquor, 0.036754205184868896)\n",
              " 5       (proceeds, 0.05695264312499966)  ...    (evidencing, 0.04532664108897376)\n",
              " 6       (proceeds, 0.05778271224232422)  ...          (debt, 0.04570944636389882)\n",
              " 7        (charles, 0.15179205825354858)  ...    (cigarettes, 0.06621855296930335)\n",
              " 8           (tax, 0.006302131857599998)  ...  (application, 0.006011426514057885)\n",
              "\n",
              "[10 rows x 10 columns]"
            ]
          },
          "metadata": {
            "tags": []
          },
          "execution_count": 32
        }
      ]
    },
    {
      "cell_type": "code",
      "metadata": {
        "colab": {
          "base_uri": "https://localhost:8080/"
        },
        "id": "SRFdJO-3T2tf",
        "outputId": "8a0a8aef-6831-46ad-ed9e-2ccf93d9f223"
      },
      "source": [
        "topic_reduction(legal_text,tf_idf,docs_df) #after reduction"
      ],
      "execution_count": null,
      "outputs": [
        {
          "output_type": "stream",
          "text": [
            "   Topic  Size\n",
            "0     -1  3250\n"
          ],
          "name": "stdout"
        }
      ]
    },
    {
      "cell_type": "code",
      "metadata": {
        "id": "l3TU9UA0dg2-"
      },
      "source": [
        ""
      ],
      "execution_count": null,
      "outputs": []
    }
  ]
}