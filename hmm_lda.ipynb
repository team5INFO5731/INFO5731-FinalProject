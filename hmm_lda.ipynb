{
  "nbformat": 4,
  "nbformat_minor": 0,
  "metadata": {
    "colab": {
      "name": "hmm_lda.ipynb",
      "provenance": [],
      "collapsed_sections": [],
      "toc_visible": true,
      "include_colab_link": true
    },
    "kernelspec": {
      "name": "python3",
      "display_name": "Python 3"
    }
  },
  "cells": [
    {
      "cell_type": "markdown",
      "metadata": {
        "id": "view-in-github",
        "colab_type": "text"
      },
      "source": [
        "<a href=\"https://colab.research.google.com/github/team5INFO5731/INFO5731-FinalProject/blob/main/hmm_lda.ipynb\" target=\"_parent\"><img src=\"https://colab.research.google.com/assets/colab-badge.svg\" alt=\"Open In Colab\"/></a>"
      ]
    },
    {
      "cell_type": "code",
      "metadata": {
        "id": "R6zN3qQihBYw"
      },
      "source": [
        "!pip install selenium\n",
        "!pip install BeautifulSoup\n",
        "!apt-get update # to update ubuntu to correctly run apt install\n",
        "!apt install chromium-chromedriver\n",
        "!cp /usr/lib/chromium-browser/chromedriver /usr/bin\n",
        "import sys\n",
        "sys.path.insert(0,'/usr/lib/chromium-browser/chromedriver')\n",
        "from selenium import webdriver\n",
        "chrome_options = webdriver.ChromeOptions()\n",
        "chrome_options.add_argument('--headless')\n",
        "chrome_options.add_argument('--no-sandbox')\n",
        "chrome_options.add_argument('--disable-dev-shm-usage')\n",
        "wd = webdriver.Chrome('chromedriver',chrome_options=chrome_options)"
      ],
      "execution_count": null,
      "outputs": []
    },
    {
      "cell_type": "code",
      "metadata": {
        "colab": {
          "base_uri": "https://localhost:8080/"
        },
        "id": "Ok0TOz-ShnAP",
        "outputId": "37d41240-f405-43f8-d3ec-6c1314c69979"
      },
      "source": [
        "!pip install beautifulsoup4"
      ],
      "execution_count": null,
      "outputs": [
        {
          "output_type": "stream",
          "text": [
            "Requirement already satisfied: beautifulsoup4 in /usr/local/lib/python3.6/dist-packages (4.6.3)\n"
          ],
          "name": "stdout"
        }
      ]
    },
    {
      "cell_type": "code",
      "metadata": {
        "id": "u9WTU5y4OAT-"
      },
      "source": [
        "## short, news data\n",
        "\n",
        "def get_html_loadmore(url,num_pages):\n",
        "  import requests\n",
        "  from bs4 import BeautifulSoup\n",
        "  import pandas as pd\n",
        "  from selenium import webdriver\n",
        "  import time\n",
        "  from selenium.webdriver.support.ui import WebDriverWait\n",
        "  from selenium.webdriver.common.by import By\n",
        "  from selenium.webdriver.support import expected_conditions as EC\n",
        "  from selenium import webdriver\n",
        "  chrome_options = webdriver.ChromeOptions()\n",
        "  chrome_options.add_argument('--headless')\n",
        "  chrome_options.add_argument('--no-sandbox')\n",
        "  chrome_options.add_argument('--disable-dev-shm-usage')\n",
        "  wd = webdriver.Chrome('chromedriver',chrome_options=chrome_options)\n",
        "\n",
        "  url = url\n",
        "  wd.get(url)\n",
        "  html = wd.page_source.encode('utf-8')\n",
        "  page_num = 0\n",
        "  while (wd.find_elements_by_id('load-more-btn') and page_num<num_pages):\n",
        "    wd.find_element_by_id('load-more-btn').click()\n",
        "    time.sleep(3)\n",
        "    page_num+=1\n",
        "  html = wd.page_source.encode('utf-8')\n",
        "  return html\n",
        "  \n",
        "\n"
      ],
      "execution_count": null,
      "outputs": []
    },
    {
      "cell_type": "code",
      "metadata": {
        "colab": {
          "base_uri": "https://localhost:8080/"
        },
        "id": "rVo78nr_wqMi",
        "outputId": "b1e984f3-49ff-47e0-c74c-072b0ba40e6b"
      },
      "source": [
        "from bs4 import BeautifulSoup\n",
        "short_text=[]\n",
        "news=[]\n",
        "html =get_html_loadmore(\"https://inshorts.com/en/read\",40)\n",
        "soup = BeautifulSoup(html, \"lxml\")\n",
        "short_text_soup=soup.find_all('div', class_=[\"news-card-title news-right-box\"])\n",
        "news_soup=soup.find_all('div', class_=[\"news-card-content news-right-box\"])\n",
        "\n",
        "for i in short_text_soup:\n",
        "  short_text.append(i.find('span',attrs={'itemprop':\"headline\"}).string)\n",
        "\n",
        "for j in news_soup:\n",
        "  news.append(j.find('div',attrs={'itemprop':\"articleBody\"}).string)\n"
      ],
      "execution_count": null,
      "outputs": [
        {
          "output_type": "stream",
          "text": [
            "/usr/local/lib/python3.6/dist-packages/ipykernel_launcher.py:17: DeprecationWarning: use options instead of chrome_options\n"
          ],
          "name": "stderr"
        }
      ]
    },
    {
      "cell_type": "code",
      "metadata": {
        "id": "Qa7KaF6GEG_q"
      },
      "source": [
        "import pandas as pd\n",
        "short_text_df=(pd.DataFrame(short_text)).to_csv(\"short_text.csv\")\n",
        "news_text_df=(pd.DataFrame(news)).to_csv(\"news.csv\")"
      ],
      "execution_count": null,
      "outputs": []
    },
    {
      "cell_type": "code",
      "metadata": {
        "id": "SggbHL4VtTXG"
      },
      "source": [
        "## social media tweet data\n",
        "import tweepy\n",
        "consumer_key = \"v6DkFAg34mL5bnQa6HgUycOoZ\"\n",
        "consumer_secret = \"KNqZqEa2FWx0cnLZ7aLwqo01Q12oYSxeb3khK21lbNibULQAEn\"\n",
        "access_token = \"3992308705-oEgS72kYOAPPr7mLBVmDTXWzKgvIe50VEwJNm6P\"\n",
        "access_token_secret = \"o1lILiDx3MhFO47Es91Xjt2zxwPH7S04Hml2nvqbfb8i0\"\n",
        "auth = tweepy.OAuthHandler(consumer_key, consumer_secret)\n",
        "auth.set_access_token(access_token, access_token_secret)\n",
        "api = tweepy.API(auth,wait_on_rate_limit=True)"
      ],
      "execution_count": null,
      "outputs": []
    },
    {
      "cell_type": "code",
      "metadata": {
        "id": "fcS2TbI--xcy",
        "colab": {
          "base_uri": "https://localhost:8080/"
        },
        "outputId": "99a7979b-a059-46e1-f472-5e2d958b6555"
      },
      "source": [
        "pip install tweepy"
      ],
      "execution_count": null,
      "outputs": [
        {
          "output_type": "stream",
          "text": [
            "Requirement already satisfied: tweepy in /usr/local/lib/python3.6/dist-packages (3.6.0)\n",
            "Requirement already satisfied: requests>=2.11.1 in /usr/local/lib/python3.6/dist-packages (from tweepy) (2.23.0)\n",
            "Requirement already satisfied: PySocks>=1.5.7 in /usr/local/lib/python3.6/dist-packages (from tweepy) (1.7.1)\n",
            "Requirement already satisfied: six>=1.10.0 in /usr/local/lib/python3.6/dist-packages (from tweepy) (1.15.0)\n",
            "Requirement already satisfied: requests-oauthlib>=0.7.0 in /usr/local/lib/python3.6/dist-packages (from tweepy) (1.3.0)\n",
            "Requirement already satisfied: chardet<4,>=3.0.2 in /usr/local/lib/python3.6/dist-packages (from requests>=2.11.1->tweepy) (3.0.4)\n",
            "Requirement already satisfied: idna<3,>=2.5 in /usr/local/lib/python3.6/dist-packages (from requests>=2.11.1->tweepy) (2.10)\n",
            "Requirement already satisfied: urllib3!=1.25.0,!=1.25.1,<1.26,>=1.21.1 in /usr/local/lib/python3.6/dist-packages (from requests>=2.11.1->tweepy) (1.24.3)\n",
            "Requirement already satisfied: certifi>=2017.4.17 in /usr/local/lib/python3.6/dist-packages (from requests>=2.11.1->tweepy) (2020.11.8)\n",
            "Requirement already satisfied: oauthlib>=3.0.0 in /usr/local/lib/python3.6/dist-packages (from requests-oauthlib>=0.7.0->tweepy) (3.1.0)\n"
          ],
          "name": "stdout"
        }
      ]
    },
    {
      "cell_type": "code",
      "metadata": {
        "id": "HxfgtniY-vX2"
      },
      "source": [
        "text_query = 'Joe biden'\n",
        "count = 1000\n",
        "try:\n",
        " # Creation of query method using parameters\n",
        " tweets = tweepy.Cursor(api.search,q=text_query).items(count)\n",
        " \n",
        " # Pulling information from tweets iterable object\n",
        " tweets_list = [[tweet.created_at, tweet.id, tweet.text] for tweet in tweets]\n",
        " \n",
        " # Creation of dataframe from tweets list\n",
        " # Add or remove columns as you remove tweet information\n",
        " social_media = pd.DataFrame(tweets_list)\n",
        " \n",
        "except BaseException as e:\n",
        "    print('failed on_status,',str(e))\n",
        "    time.sleep(3)\n",
        "social_media.to_csv(\"social_media.csv\")"
      ],
      "execution_count": null,
      "outputs": []
    },
    {
      "cell_type": "code",
      "metadata": {
        "id": "3je0lj5U_Cb1"
      },
      "source": [
        "#scientifc_articles\n",
        "\n",
        "import pandas as pd\n",
        "import requests\n",
        "from bs4 import BeautifulSoup\n",
        "abstracts=[]\n",
        "def insert_into_array(values,ref_array):\n",
        "  for i in values:\n",
        "    ref_array.append(i.text)\n",
        "titles=[]\n",
        "for i in range(0,5000,10):\n",
        "  URL=\"http://citeseerx.ist.psu.edu/search?q=lda&t=doc&sort=rlv&start=\"+str(i)\n",
        "  page=requests.get(URL,headers={'User-Agent':'Chrome/85.0.4183.121'})\n",
        "  soup = BeautifulSoup(page.content, 'html.parser')\n",
        "  insert_into_array(soup.find_all('a', class_='remove doc_details'),titles)\n",
        "  insert_into_array(soup.find_all('div', class_='snippet'),abstracts)\n"
      ],
      "execution_count": null,
      "outputs": []
    },
    {
      "cell_type": "code",
      "metadata": {
        "id": "k0IN9gOGISml"
      },
      "source": [
        "scientific_df = pd.DataFrame({\"titles\":titles,\"abstarcts\":abstracts})\n",
        "scientific_df.to_csv(\"scientific_articles.csv\")"
      ],
      "execution_count": null,
      "outputs": []
    },
    {
      "cell_type": "markdown",
      "metadata": {
        "id": "DzxAS0wiV2-b"
      },
      "source": [
        "# Text cleaning( removing punctuations, stop words, lower casing, stemming, lemmatization)"
      ]
    },
    {
      "cell_type": "code",
      "metadata": {
        "id": "RuIN_ErsVHL_"
      },
      "source": [
        "def clean_text(listt):\n",
        "  from nltk.stem import PorterStemmer\n",
        "  import pandas as pd\n",
        "  import nltk\n",
        "  nltk.download('punkt')\n",
        "  from nltk.corpus import stopwords\n",
        "  nltk.download('stopwords')\n",
        "  from textblob import Word\n",
        "  nltk.download('wordnet')\n",
        "  stop = stopwords.words('english')\n",
        "  imdb_df=pd.DataFrame()\n",
        "  imdb_df['comment']=listt\n",
        "  imdb_df['after_punct_less'] = imdb_df['comment'].str.replace('[^\\w\\s].#','') \n",
        "  imdb_df['after_rm_stopwords'] =imdb_df['after_punct_less'].apply(lambda x: \" \".join(x for x in x.split() if x not in stop))\n",
        "  imdb_df['after_numerics']=imdb_df['after_rm_stopwords'].str.replace('[0-9]','')\n",
        "  imdb_df['after_lowercasing'] =imdb_df['after_numerics'].apply(lambda x: \" \".join(x.lower() for x in x.split()))\n",
        "  from nltk.stem import PorterStemmer\n",
        "  st = PorterStemmer()\n",
        "  #imdb_df['after_stemming']=imdb_df['after_lowercasing'].apply(lambda x: \" \".join([st.stem(word) for word in x.split()]))\n",
        "  #imdb_df['after_lemmatization'] = imdb_df['after_stemming'].apply(lambda x: \" \".join([Word(word).lemmatize() for word in x.split()]))\n",
        "  return (imdb_df['after_lowercasing']).tolist()"
      ],
      "execution_count": null,
      "outputs": []
    },
    {
      "cell_type": "markdown",
      "metadata": {
        "id": "KlA0WlBDVGzs"
      },
      "source": [
        "# HMM_LDA"
      ]
    },
    {
      "cell_type": "code",
      "metadata": {
        "colab": {
          "base_uri": "https://localhost:8080/"
        },
        "id": "rLWD4uN_VKS5",
        "outputId": "63943351-a800-465b-d077-581cbb642b11"
      },
      "source": [
        "!git clone \"https://github.com/dongwookim-ml/python-topic-model.git\""
      ],
      "execution_count": null,
      "outputs": [
        {
          "output_type": "stream",
          "text": [
            "Cloning into 'python-topic-model'...\n",
            "remote: Enumerating objects: 357, done.\u001b[K\n",
            "remote: Total 357 (delta 0), reused 0 (delta 0), pack-reused 357\u001b[K\n",
            "Receiving objects: 100% (357/357), 18.75 MiB | 12.76 MiB/s, done.\n",
            "Resolving deltas: 100% (181/181), done.\n"
          ],
          "name": "stdout"
        }
      ]
    },
    {
      "cell_type": "code",
      "metadata": {
        "id": "5ii8GO4fVjfR"
      },
      "source": [
        "import sys\n",
        "sys.path.insert(0, '/content/python-topic-model')"
      ],
      "execution_count": null,
      "outputs": []
    },
    {
      "cell_type": "code",
      "metadata": {
        "id": "O-1arJh5Vmcm"
      },
      "source": [
        "import os\n",
        "import logging\n",
        "\n",
        "import numpy as np\n",
        "import matplotlib.pyplot as plt\n",
        "\n",
        "from ptm import GibbsSupervisedLDA\n",
        "from ptm.nltk_corpus import get_ids_cnt\n",
        "from ptm.utils import convert_cnt_to_list, get_top_words\n",
        "from ptm.nltk_corpus import get_reuters_token_list_by_sentence\n",
        "from ptm import HMM_LDA\n",
        "from ptm.utils import get_top_words\n",
        "\n",
        "logger = logging.getLogger('HMM_LDA')\n",
        "logger.propagate=False\n",
        "\n",
        "%matplotlib inline  \n",
        "\n",
        "logger = logging.getLogger('GibbsSupervisedLDA')\n",
        "logger.propagate = False"
      ],
      "execution_count": null,
      "outputs": []
    },
    {
      "cell_type": "markdown",
      "metadata": {
        "id": "9d4mG-HYhTC7"
      },
      "source": [
        "#short text"
      ]
    },
    {
      "cell_type": "code",
      "metadata": {
        "colab": {
          "base_uri": "https://localhost:8080/"
        },
        "id": "5wBpczvrV7Z6",
        "outputId": "1d25714a-876e-4c98-d946-d360d764a6ee"
      },
      "source": [
        "import nltk\n",
        "nltk.download('words')\n",
        "nltk.download('stopwords')\n",
        "nltk.download('punkt')"
      ],
      "execution_count": null,
      "outputs": [
        {
          "output_type": "stream",
          "text": [
            "[nltk_data] Downloading package words to /root/nltk_data...\n",
            "[nltk_data]   Package words is already up-to-date!\n",
            "[nltk_data] Downloading package stopwords to /root/nltk_data...\n",
            "[nltk_data]   Package stopwords is already up-to-date!\n",
            "[nltk_data] Downloading package punkt to /root/nltk_data...\n",
            "[nltk_data]   Package punkt is already up-to-date!\n"
          ],
          "name": "stdout"
        }
      ]
    },
    {
      "cell_type": "code",
      "metadata": {
        "id": "jI93y4uIZj9N"
      },
      "source": [
        "def hmm_lda(documents):\n",
        "  voca, word_ids, word_cnt = get_ids_cnt(documents)\n",
        "  corpus = convert_cnt_to_list(word_ids, word_cnt)\n",
        "  corpus=[corpus]\n",
        "  n_docs = len(corpus)\n",
        "  n_voca = len(voca)\n",
        "  n_topic = 20\n",
        "  n_class = 15\n",
        "  max_iter = 100\n",
        "  alpha = 0.1\n",
        "  beta = 0.01\n",
        "  gamma = 0.1\n",
        "  eta = 0.1\n",
        "  model = HMM_LDA(n_docs, n_voca, n_topic, n_class, alpha=alpha, beta=beta, gamma=gamma, eta=eta, verbose=False)\n",
        "  model.fit(corpus, max_iter=max_iter)\n",
        "  for ti in range(n_topic):\n",
        "    top_words = get_top_words(model.TW, voca, ti, n_words=10)\n",
        "    print('Topic', ti ,': ', ','.join(top_words))"
      ],
      "execution_count": null,
      "outputs": []
    },
    {
      "cell_type": "code",
      "metadata": {
        "id": "_bQsIZ23f6U3"
      },
      "source": [
        "short_text[:10]"
      ],
      "execution_count": null,
      "outputs": []
    },
    {
      "cell_type": "code",
      "metadata": {
        "colab": {
          "base_uri": "https://localhost:8080/"
        },
        "id": "KH7Sa1Bwa4Z1",
        "outputId": "d4d13e42-3e1d-4a93-ed31-001aed1e07d6"
      },
      "source": [
        "# HMM LDA for short text:\n",
        "cleaned_short_text=clean_text(short_text)\n",
        "hmm_lda(cleaned_short_text)"
      ],
      "execution_count": null,
      "outputs": [
        {
          "output_type": "stream",
          "text": [
            "[nltk_data] Downloading package punkt to /root/nltk_data...\n",
            "[nltk_data]   Package punkt is already up-to-date!\n",
            "[nltk_data] Downloading package stopwords to /root/nltk_data...\n",
            "[nltk_data]   Package stopwords is already up-to-date!\n",
            "[nltk_data] Downloading package wordnet to /root/nltk_data...\n",
            "[nltk_data]   Package wordnet is already up-to-date!\n",
            "Topic 0 :  becoming,post,must,score,begin,due,panel,van,bill,clash\n",
            "Topic 1 :  heart,sexually,dev,play,dhoni,country,quick,next,skip,comeback\n",
            "Topic 2 :  index,paul,converted,fatima,bar,solar,people,game,case,becomes\n",
            "Topic 3 :  japan,implicate,busted,necessary,airport,world,air,year,deal,sex\n",
            "Topic 4 :  musk,stone,billie,past,never,trade,early,christmas,analytics,initial\n",
            "Topic 5 :  data,first,lost,every,amid,exchange,return,choice,sale,ca\n",
            "Topic 6 :  sanjay,gift,award,poor,jan,elon,industry,working,deadlock,bulb\n",
            "Topic 7 :  yemen,enhanced,board,role,road,poor,catch,trader,iceland,test\n",
            "Topic 8 :  man,express,temp,self,safe,matchbox,use,film,batsman,musk\n",
            "Topic 9 :  capital,call,near,killing,sale,sent,treatment,apply,led,enterprise\n",
            "Topic 10 :  angioplasty,video,australian,decision,driving,consult,lot,fuel,family,run\n",
            "Topic 11 :  funds,ahead,mother,case,done,removing,global,parade,road,internal\n",
            "Topic 12 :  join,final,management,jan,island,group,surface,scientist,killing,adar\n",
            "Topic 13 :  social,video,carbon,taken,national,sad,hindi,becomes,law,stay\n",
            "Topic 14 :  dislike,test,late,president,want,member,country,remark,allegedly,sovereign\n",
            "Topic 15 :  director,become,exchange,men,photo,rare,lawmaker,drinking,record,within\n",
            "Topic 16 :  race,likely,personal,team,pic,urge,shameful,support,cannabis,ti\n",
            "Topic 17 :  given,slipper,ai,film,revised,free,double,viral,state,dangerous\n",
            "Topic 18 :  chinese,without,country,touch,reef,gesture,flight,member,use,worrying\n",
            "Topic 19 :  eat,business,first,dhoni,year,trillion,inside,married,race,ahead\n"
          ],
          "name": "stdout"
        }
      ]
    },
    {
      "cell_type": "markdown",
      "metadata": {
        "id": "NW_Wx8AQfYEX"
      },
      "source": [
        "# News Data"
      ]
    },
    {
      "cell_type": "code",
      "metadata": {
        "colab": {
          "base_uri": "https://localhost:8080/"
        },
        "id": "5a9BjVnggVc7",
        "outputId": "539ac5c1-5abe-4ae5-809c-71d74059b9ca"
      },
      "source": [
        "cleaned_news=clean_text(news)\n",
        "cleaned_news[:10]"
      ],
      "execution_count": null,
      "outputs": [
        {
          "output_type": "stream",
          "text": [
            "[nltk_data] Downloading package punkt to /root/nltk_data...\n",
            "[nltk_data]   Package punkt is already up-to-date!\n",
            "[nltk_data] Downloading package stopwords to /root/nltk_data...\n",
            "[nltk_data]   Package stopwords is already up-to-date!\n",
            "[nltk_data] Downloading package wordnet to /root/nltk_data...\n",
            "[nltk_data]   Package wordnet is already up-to-date!\n"
          ],
          "name": "stdout"
        },
        {
          "output_type": "execute_result",
          "data": {
            "text/plain": [
              "[\"virender sehwag captaining india hit runs west indies december , , becoming second cricketer sachin tendulkar score double hundred odis. sehwag's () highest individual score captain odi cricket history. sehwag's knock helped india pile highest odi total /.\",\n",
              " 'after actor varun dhawan revealed instagram covid-, troll asked, \"do really covid-? or overacting normal cough covid-?\" varun responded, \"what amazing sense humour have...hope family don’t suffer though need suffer sad excuse humour.\"',\n",
              " 'actor fardeen khan said feels like he\\'s losing kilograms six months, target feel like he\\'s . the -year-old actor told toi, \"it year i feeling anymore...i wanted physically feel .\" he added, \"i started eating right healthy...and coupled correct workouts.\"',\n",
              " 't natarajan, made ti debut ongoing series australia, took twitter shared pictures second ti india clinched series. \"first series win country\\u200b. memorable special,\" wrote. natarajan took five wickets first two ti matches conceded runs balls.',\n",
              " 'psg forward jese rodriguez sacked club sex scandal involving wife\\'s model-friend came light. rodriguez, also played real madrid, accused cheating wife aurah ruiz model-friend rocio amar. rocio revealed \"sexual encounters\" jese madrid nightclub.',\n",
              " 'boby chemmanur, kerala-born jeweller, announced building museum memory diego maradona, life-size gold sculpture football legend main attraction. the life-size sculpture represent ‘the hand god’ goal. the museum, showcase maradona’s professional personal life, set built kolkata south india.',\n",
              " 'olympian anju bobby george, indian win medal world athletics championships, revealed one kidney. she tweeted, \"believe not, i\\'m one fortunate, among reached world top single kidney, allergic even painkiller, dead takeoff leg...many limitations...still made it.\"',\n",
              " 'late australian cricketing great don bradman\\'s \\'baggy green\\' cap test debut england put auction week, pickles auctions said. \"the baggy green loan state library south australia since ,\" pickles said statement. bradman retired test batting average ..',\n",
              " \"an air india crew member catering staff member arrested delhi airport customs officials allegedly trying smuggle . kg gold valuing ₹. lakh country. the crew member, come flight london, hid four silver-coated gold 'kadas' overhead bin aircraft, delhi customs said.\",\n",
              " 'taiwanese authorities slapped ₹. lakh fine filipino migrant worker broke coronavirus quarantine regulations eight seconds. the man mandatory -day quarantine hotel briefly stepped room hallway. he caught cctv hotel staff, contacted health authorities.']"
            ]
          },
          "metadata": {
            "tags": []
          },
          "execution_count": 36
        }
      ]
    },
    {
      "cell_type": "code",
      "metadata": {
        "colab": {
          "base_uri": "https://localhost:8080/"
        },
        "id": "LrZPlTJLcrcp",
        "outputId": "f2be4f1d-da71-4d42-c25f-b4fe5fa0c335"
      },
      "source": [
        "hmm_lda(news)"
      ],
      "execution_count": null,
      "outputs": [
        {
          "output_type": "stream",
          "text": [
            "Topic 0 :  unexpected,wade,rahul,senior,quash,church,agreement,corporation,upper,death\n",
            "Topic 1 :  sanjay,later,cook,third,mistakenly,phase,best,set,donald,testing\n",
            "Topic 2 :  shooting,residence,worth,amid,executive,posted,senior,old,needs,comedy\n",
            "Topic 3 :  road,short,tough,director,nuclear,panic,collection,subject,fourth,clique\n",
            "Topic 4 :  land,top,brought,banking,east,luckily,total,speech,titled,gotten\n",
            "Topic 5 :  top,given,gal,ed,link,overall,israel,compulsory,sports,receive\n",
            "Topic 6 :  wilson,loss,anas,record,franchise,pilot,wrote,plain,protest,felt\n",
            "Topic 7 :  also,much,falling,singer,national,bitten,paul,inaugural,burden,media\n",
            "Topic 8 :  huge,positive,decided,turki,statement,move,way,company,deliver,man\n",
            "Topic 9 :  son,nine,striker,ever,upcoming,bagged,order,international,need,group\n",
            "Topic 10 :  steve,instead,political,medal,fact,war,made,travelled,john,might\n",
            "Topic 11 :  defamation,reportedly,family,evening,hospital,reception,akali,access,billion,temperature\n",
            "Topic 12 :  union,ahead,score,gas,help,concussion,suffering,company,amid,round\n",
            "Topic 13 :  also,revealed,seriously,agitation,may,space,tore,statement,talking,came\n",
            "Topic 14 :  also,moon,highway,amar,person,despite,patient,interview,body,issue\n",
            "Topic 15 :  affecting,appear,cook,corporate,storage,king,punjabi,suspected,possible,gill\n",
            "Topic 16 :  enhanced,vaccination,net,incident,set,director,home,farmer,child,pay\n",
            "Topic 17 :  also,ministry,deliberate,probably,picture,global,declare,digital,green,go\n",
            "Topic 18 :  space,counting,emergency,level,taken,woman,day,business,cultured,lewis\n",
            "Topic 19 :  guest,credit,million,following,congress,workplace,institute,death,siesta,nepal\n"
          ],
          "name": "stdout"
        }
      ]
    },
    {
      "cell_type": "markdown",
      "metadata": {
        "id": "TJR3HbqBgjyi"
      },
      "source": [
        "#Scientific journals data"
      ]
    },
    {
      "cell_type": "code",
      "metadata": {
        "colab": {
          "base_uri": "https://localhost:8080/"
        },
        "id": "8AbEZ2SFdKwr",
        "outputId": "6debadfd-09ef-4405-9b22-560bb5a4cb2d"
      },
      "source": [
        "abstracts_cleaned=clean_text((scientific_df[\"abstarcts\"]).tolist())"
      ],
      "execution_count": null,
      "outputs": [
        {
          "output_type": "stream",
          "text": [
            "[nltk_data] Downloading package punkt to /root/nltk_data...\n",
            "[nltk_data]   Package punkt is already up-to-date!\n",
            "[nltk_data] Downloading package stopwords to /root/nltk_data...\n",
            "[nltk_data]   Package stopwords is already up-to-date!\n",
            "[nltk_data] Downloading package wordnet to /root/nltk_data...\n",
            "[nltk_data]   Package wordnet is already up-to-date!\n"
          ],
          "name": "stdout"
        }
      ]
    },
    {
      "cell_type": "code",
      "metadata": {
        "colab": {
          "base_uri": "https://localhost:8080/"
        },
        "id": "kYYgDGkhh9Iq",
        "outputId": "d642f36f-7037-4e69-b8fd-11325a88cc9e"
      },
      "source": [
        "abstracts_cleaned[:10]"
      ],
      "execution_count": null,
      "outputs": [
        {
          "output_type": "execute_result",
          "data": {
            "text/plain": [
              "['\"... in context appearance-based paradigm object recognition, generally believed algorithms based lda (linear discriminant analysis) superior based pca (principal components analysis) . in communication show always case. we present ...\"',\n",
              " '\"... we describe latent dirichlet allocation (lda), generative probabilistic model collections discrete data text corpora. lda three-level hierarchical bayesian model, item collection modeled finite mixture underlying set topics. each topic is, ...\"',\n",
              " '\"... improvement tailoring near-wall turbulence ...\"',\n",
              " '\"... we consider problem modeling annotated data—data multiple types instance one type (such caption) serves description type (such image). we describe three hierarchical probabilistic mixture models aimed data, culminating cor ...\"',\n",
              " '\"... linear discriminant analysis (lda) successfully used dimensionality reduction technique ...\"',\n",
              " '\"... abstract—we propose appearance-based face recognition method called laplacianface approach. by using locality preserving projections (lpp), face images mapped face subspace analysis. different principal component analysis (pca) linear discriminant analysis (lda) wh ...\"',\n",
              " '\"... we introduce author-topic model, generative model documents extends latent dirichlet allocation (lda; blei, ng, & jordan, ) include authorship information. each author associated multinomial distribution topics topic associated multinomial ...\"',\n",
              " '\"... we present new method call generalized discriminant analysis (gda) deal nonlinear discriminant analysis using kernel function operator. the underlying theory close support vector machines (svm) insofar gda method provides mapping input vectors high di ...\"',\n",
              " '\"... in paper, present counterarguments direct lda algorithm (d-lda), previously claimed equivalent linear discriminant analysis (lda). we show bayesian decision theory d-lda actually special case lda directly taking linear space class ...\"',\n",
              " '\"... implementations topic models typically use symmetric dirichlet priors fixed concentration parameters, implicit assumption “smoothing parameters ” little practical effect. in paper, explore several classes structured priors topic models. we find ...\"']"
            ]
          },
          "metadata": {
            "tags": []
          },
          "execution_count": 49
        }
      ]
    },
    {
      "cell_type": "code",
      "metadata": {
        "colab": {
          "base_uri": "https://localhost:8080/"
        },
        "id": "tVlOrDPugpDH",
        "outputId": "9a33ebdf-705c-4498-998a-654f1c4f70bf"
      },
      "source": [
        "hmm_lda(abstracts_cleaned)"
      ],
      "execution_count": null,
      "outputs": [
        {
          "output_type": "stream",
          "text": [
            "Topic 0 :  even,show,behaviour,useful,different,risk,physics,full,belief,showing\n",
            "Topic 1 :  subset,ionization,mixture,structure,vector,unlike,however,technique,place,measure\n",
            "Topic 2 :  task,walk,many,skew,overview,search,resource,work,segmentation,number\n",
            "Topic 3 :  linear,maximum,covered,generalized,issue,large,mobile,onset,statistical,operator\n",
            "Topic 4 :  linear,limited,reliable,al,kind,news,resonance,mental,advertisement,training\n",
            "Topic 5 :  linear,visual,specific,technique,many,still,set,class,work,large\n",
            "Topic 6 :  technique,rapidly,unrestricted,grasp,combined,efficacy,categorization,walking,plus,matching\n",
            "Topic 7 :  broken,successful,many,geometry,class,mode,sample,normal,improving,generate\n",
            "Topic 8 :  dealing,technical,conventional,elaborate,proven,diagnosis,project,mainly,understanding,component\n",
            "Topic 9 :  linear,student,fixed,useful,without,firstly,task,known,dimensionality,herbal\n",
            "Topic 10 :  size,extended,issue,class,present,quotation,many,include,fringe,learning\n",
            "Topic 11 :  high,appearance,different,text,discrimination,spectrum,widely,system,real,sentence\n",
            "Topic 12 :  technique,merit,mixture,shown,document,important,background,speech,margin,real\n",
            "Topic 13 :  exact,visual,estimator,matrix,unrestricted,classes,gradient,work,important,class\n",
            "Topic 14 :  namely,extensible,consider,transmission,theory,multiple,author,sample,visual,informative\n",
            "Topic 15 :  removing,interpretation,classes,algorithm,velocity,separation,essentially,due,access,bold\n",
            "Topic 16 :  statistical,develop,making,affective,ref,document,introduce,side,bias,provided\n",
            "Topic 17 :  linear,range,sample,image,set,copy,speaker,retrieval,news,swarm\n",
            "Topic 18 :  description,smaller,image,classifier,size,numerical,open,local,false,small\n",
            "Topic 19 :  performance,modeling,component,generally,portion,low,density,principal,given,retention\n"
          ],
          "name": "stdout"
        }
      ]
    },
    {
      "cell_type": "markdown",
      "metadata": {
        "id": "dYug6fQwh0Hw"
      },
      "source": [
        "# Social media data( Twitter data)"
      ]
    },
    {
      "cell_type": "code",
      "metadata": {
        "colab": {
          "base_uri": "https://localhost:8080/"
        },
        "id": "5J-0Ag7Wgz8n",
        "outputId": "267474dd-5e29-40b6-f3ca-017c4bed8203"
      },
      "source": [
        "tweets=clean_text(social_media[2].tolist())"
      ],
      "execution_count": null,
      "outputs": [
        {
          "output_type": "stream",
          "text": [
            "[nltk_data] Downloading package punkt to /root/nltk_data...\n",
            "[nltk_data]   Package punkt is already up-to-date!\n",
            "[nltk_data] Downloading package stopwords to /root/nltk_data...\n",
            "[nltk_data]   Package stopwords is already up-to-date!\n",
            "[nltk_data] Downloading package wordnet to /root/nltk_data...\n",
            "[nltk_data]   Package wordnet is already up-to-date!\n"
          ],
          "name": "stdout"
        }
      ]
    },
    {
      "cell_type": "code",
      "metadata": {
        "colab": {
          "base_uri": "https://localhost:8080/"
        },
        "id": "Pn0zfi7-hoey",
        "outputId": "23daf8d3-ea19-4bf3-f216-3998a9d3177e"
      },
      "source": [
        "tweets[:10]"
      ],
      "execution_count": null,
      "outputs": [
        {
          "output_type": "execute_result",
          "data": {
            "text/plain": [
              "['rt @proudsocialist: joe biden, nancy pelosi, democratic party refusing support medicare all pandemic, gre…',\n",
              " 'rt @macfarlanenews: new: office special coiunsel finds white house trade advisor peter narvarro violated federal hatch act atta…',\n",
              " 'rt @cmclymer: congratulations joe biden becoming first presidential candidate win georgia four times one year.',\n",
              " \"rt @joncoopertweets: michigan gov. gretchen whitmer serve one five co-chairs president-elect joe biden's inauguration, b…\",\n",
              " 'rt @nytimes: breaking news: joe biden plans tap retired gen. lloyd austin defense secretary. he would first african-ame…',\n",
              " '@robreiner crystal clear: isn’t asking anyone lie. he simply asking validation. crystal clear: while… https://t.co/eqfjatkgk',\n",
              " 'abp. aquila backs call pro-abortion ‘catholic’ joe biden denied holy communion | news | lifesite https://t.co/cvuokbvkzh',\n",
              " 'atlanta — georgia’s top elections official monday recertified state’s election results recount reque… https://t.co/rynoin',\n",
              " 'rt @fairfightaction: it unacceptable cobb county - ga’s third-largest already site longest early voting lines …',\n",
              " 'rt @nytimes: nearly , lawyers called bar associations across u.s. investigate and, needed, penalize members presid…']"
            ]
          },
          "metadata": {
            "tags": []
          },
          "execution_count": 48
        }
      ]
    },
    {
      "cell_type": "code",
      "metadata": {
        "colab": {
          "base_uri": "https://localhost:8080/"
        },
        "id": "Cw5RyTfkhs0W",
        "outputId": "5f9ac246-fc4b-46e6-89a3-39981c508703"
      },
      "source": [
        "hmm_lda(tweets)"
      ],
      "execution_count": null,
      "outputs": [
        {
          "output_type": "stream",
          "text": [
            "Topic 0 :  lead,year,thank,slipped,gable,one,evidently,funds,broke,pure\n",
            "Topic 1 :  daily,series,recount,cast,voting,ga,early,house,de,man\n",
            "Topic 2 :  shooting,presidency,china,help,office,tell,roundly,kids,monday,early\n",
            "Topic 3 :  austin,already,heavily,certified,utter,finding,meet,china,use,important\n",
            "Topic 4 :  tide,official,second,morning,chosen,candidate,delaware,poll,record,legally\n",
            "Topic 5 :  austin,voting,go,corps,plan,summer,force,could,nominate,electoral\n",
            "Topic 6 :  legal,news,ga,finding,bill,wide,today,electoral,one,lawyer\n",
            "Topic 7 :  austin,candidate,finding,twitter,us,host,office,mass,times,hear\n",
            "Topic 8 :  elaborate,pandemic,rudy,oh,county,please,parade,crack,today,emergency\n",
            "Topic 9 :  four,speaker,time,happy,communism,house,series,funds,per,health\n",
            "Topic 10 :  praising,discord,voting,donald,popular,bice,refuse,sure,afraid,time\n",
            "Topic 11 :  swung,trust,speaker,unacceptable,second,general,las,larry,presidente,finale\n",
            "Topic 12 :  many,wrote,house,general,time,operate,army,becoming,elect,con\n",
            "Topic 13 :  chose,taxpayer,district,nearly,spoken,like,record,read,site,county\n",
            "Topic 14 :  firearm,taxpayer,second,chris,year,governor,source,sir,record,floyd\n",
            "Topic 15 :  preference,blah,mostly,maybe,foot,carried,strength,floyd,reversal,acknowledge\n",
            "Topic 16 :  hear,de,excelsior,ask,since,becoming,help,blah,winner,administrative\n",
            "Topic 17 :  already,given,de,roundly,site,carefully,record,people,sure,refuse\n",
            "Topic 18 :  austin,funds,refusing,corruption,day,chuck,make,rid,landslide,reportedly\n",
            "Topic 19 :  two,fund,estado,tap,army,need,twitter,chris,overlord,today\n"
          ],
          "name": "stdout"
        }
      ]
    },
    {
      "cell_type": "markdown",
      "metadata": {
        "id": "_r_ihawDiDAZ"
      },
      "source": [
        "# Legal data"
      ]
    },
    {
      "cell_type": "code",
      "metadata": {
        "id": "hXC0IwhKiVYc"
      },
      "source": [
        "legal_df=pd.read_csv(\"/content/legal.csv\")"
      ],
      "execution_count": null,
      "outputs": []
    },
    {
      "cell_type": "code",
      "metadata": {
        "colab": {
          "base_uri": "https://localhost:8080/",
          "height": 716
        },
        "id": "RyJUUIdTidPZ",
        "outputId": "6136546c-b7fa-4b8a-ed70-5597dd29d9ba"
      },
      "source": [
        "legal_df[:10]"
      ],
      "execution_count": null,
      "outputs": [
        {
          "output_type": "execute_result",
          "data": {
            "text/html": [
              "<div>\n",
              "<style scoped>\n",
              "    .dataframe tbody tr th:only-of-type {\n",
              "        vertical-align: middle;\n",
              "    }\n",
              "\n",
              "    .dataframe tbody tr th {\n",
              "        vertical-align: top;\n",
              "    }\n",
              "\n",
              "    .dataframe thead th {\n",
              "        text-align: right;\n",
              "    }\n",
              "</style>\n",
              "<table border=\"1\" class=\"dataframe\">\n",
              "  <thead>\n",
              "    <tr style=\"text-align: right;\">\n",
              "      <th></th>\n",
              "      <th>bill_name</th>\n",
              "      <th>bill_number</th>\n",
              "      <th>broad_subjects</th>\n",
              "      <th>committee</th>\n",
              "      <th>narrow_subjects</th>\n",
              "      <th>purpose</th>\n",
              "      <th>sponsor</th>\n",
              "      <th>status</th>\n",
              "      <th>url</th>\n",
              "    </tr>\n",
              "  </thead>\n",
              "  <tbody>\n",
              "    <tr>\n",
              "      <th>0</th>\n",
              "      <td>Harford County Sheriff - Deputy Sheriffs and C...</td>\n",
              "      <td>HB0015</td>\n",
              "      <td>Courts and Court Personnel - Local</td>\n",
              "      <td>Appropriations</td>\n",
              "      <td>Collective Bargaining,Contracts -see also- Lan...</td>\n",
              "      <td>FOR the purpose of providing that certain depu...</td>\n",
              "      <td>Delegate Lisanti</td>\n",
              "      <td>In the House - Unfavorable Report by Appropria...</td>\n",
              "      <td>http://mgaleg.maryland.gov/2018RS/bills/hb/hb0...</td>\n",
              "    </tr>\n",
              "    <tr>\n",
              "      <th>1</th>\n",
              "      <td>Creation of a State Debt - Howard County - Har...</td>\n",
              "      <td>HB0061</td>\n",
              "      <td>State Debt (Bond Bills)</td>\n",
              "      <td>Appropriations</td>\n",
              "      <td>Community Facilities and Services,Howard Count...</td>\n",
              "      <td>FOR the purpose of authorizing the creation of...</td>\n",
              "      <td>Delegate Turner</td>\n",
              "      <td>In the House - Unfavorable Report by Appropria...</td>\n",
              "      <td>http://mgaleg.maryland.gov/2018RS/bills/hb/hb0...</td>\n",
              "    </tr>\n",
              "    <tr>\n",
              "      <th>2</th>\n",
              "      <td>Creation of a State Debt – Anne Arundel County...</td>\n",
              "      <td>HB0051</td>\n",
              "      <td>State Debt (Bond Bills)</td>\n",
              "      <td>Appropriations</td>\n",
              "      <td>Anne Arundel County,Public Schools,Sports and ...</td>\n",
              "      <td>FOR the purpose of authorizing the creation of...</td>\n",
              "      <td>Delegate Beidle</td>\n",
              "      <td>In the House - Unfavorable Report by Appropria...</td>\n",
              "      <td>http://mgaleg.maryland.gov/2018RS/bills/hb/hb0...</td>\n",
              "    </tr>\n",
              "    <tr>\n",
              "      <th>3</th>\n",
              "      <td>Creation of a State Debt - Anne Arundel County...</td>\n",
              "      <td>HB0045</td>\n",
              "      <td>State Debt (Bond Bills)</td>\n",
              "      <td>Appropriations</td>\n",
              "      <td>Anne Arundel County,Public Schools,Sports and ...</td>\n",
              "      <td>FOR the purpose of authorizing the creation of...</td>\n",
              "      <td>Delegate Carey</td>\n",
              "      <td>In the House - Unfavorable Report by Appropria...</td>\n",
              "      <td>http://mgaleg.maryland.gov/2018RS/bills/hb/hb0...</td>\n",
              "    </tr>\n",
              "    <tr>\n",
              "      <th>4</th>\n",
              "      <td>Employees' and Teachers' Retirement and Pensio...</td>\n",
              "      <td>SB1252,(CH0469)</td>\n",
              "      <td>State Pensions and Retirement</td>\n",
              "      <td>Budget and Taxation,Appropriations</td>\n",
              "      <td>Administrative Agencies -see also- Electronic ...</td>\n",
              "      <td>NaN</td>\n",
              "      <td>Senator Peters</td>\n",
              "      <td>Approved by the Governor - Chapter 469</td>\n",
              "      <td>http://mgaleg.maryland.gov/2018RS/bills/sb/sb1...</td>\n",
              "    </tr>\n",
              "    <tr>\n",
              "      <th>5</th>\n",
              "      <td>Corporate Income Tax - Single Sales Factor App...</td>\n",
              "      <td>HB1794,(CH0342)</td>\n",
              "      <td>Taxes - Income</td>\n",
              "      <td>Ways and Means,Budget and Taxation</td>\n",
              "      <td>Corporations -see also- Municipal Corps; Publi...</td>\n",
              "      <td>FOR the purpose of altering the formula used t...</td>\n",
              "      <td>Delegate Kaiser</td>\n",
              "      <td>Approved by the Governor - Chapter 342</td>\n",
              "      <td>http://mgaleg.maryland.gov/2018RS/bills/hb/hb1...</td>\n",
              "    </tr>\n",
              "    <tr>\n",
              "      <th>6</th>\n",
              "      <td>Charles County - Cigarette Retailers - County ...</td>\n",
              "      <td>SB1266</td>\n",
              "      <td>Counties - Local Laws,Business Regulation and ...</td>\n",
              "      <td>Education, Health, and Environmental Affairs,E...</td>\n",
              "      <td>Charles County,Cigarettes -see also- Smoking,C...</td>\n",
              "      <td>FOR  the  purpose  of  increasing  the  fee  f...</td>\n",
              "      <td>Senator Middleton</td>\n",
              "      <td>In the House - Rereferred to Economic Matters</td>\n",
              "      <td>http://mgaleg.maryland.gov/2018RS/bills/sb/sb1...</td>\n",
              "    </tr>\n",
              "    <tr>\n",
              "      <th>7</th>\n",
              "      <td>Offshore Drilling Liability Act</td>\n",
              "      <td>SB1128</td>\n",
              "      <td>Civil Actions and Procedures</td>\n",
              "      <td>Judicial Proceedings,Judiciary,Environment and...</td>\n",
              "      <td>Bonds -see also- County &amp; Baltimore City Bonds...</td>\n",
              "      <td>FOR the purpose of establishing that an offsho...</td>\n",
              "      <td>Senator Mathias</td>\n",
              "      <td>Vetoed by the Governor (Duplicative)</td>\n",
              "      <td>http://mgaleg.maryland.gov/2018RS/bills/sb/sb1...</td>\n",
              "    </tr>\n",
              "    <tr>\n",
              "      <th>8</th>\n",
              "      <td>Child Abuse and Neglect - Substance-Exposed Ne...</td>\n",
              "      <td>HB1744,(CH0410)</td>\n",
              "      <td>Family Law</td>\n",
              "      <td>Judiciary,Judicial Proceedings</td>\n",
              "      <td>Child Abuse and Neglect,Controlled Dangerous S...</td>\n",
              "      <td>FOR  the  purpose  of  altering  the  conditio...</td>\n",
              "      <td>Delegate Wilson</td>\n",
              "      <td>Approved by the Governor - Chapter 410</td>\n",
              "      <td>http://mgaleg.maryland.gov/2018RS/bills/hb/hb1...</td>\n",
              "    </tr>\n",
              "    <tr>\n",
              "      <th>9</th>\n",
              "      <td>Education – Identification of Students With Tr...</td>\n",
              "      <td>HB1530</td>\n",
              "      <td>Primary and Secondary Education,Public Health</td>\n",
              "      <td>Ways and Means,Rules</td>\n",
              "      <td>Administrative Agencies -see also- Electronic ...</td>\n",
              "      <td>FOR the purpose of requiring county boards of ...</td>\n",
              "      <td>Delegate Flanagan</td>\n",
              "      <td>In the Senate - First Reading Senate Rules</td>\n",
              "      <td>http://mgaleg.maryland.gov/2018RS/bills/hb/hb1...</td>\n",
              "    </tr>\n",
              "  </tbody>\n",
              "</table>\n",
              "</div>"
            ],
            "text/plain": [
              "                                           bill_name  ...                                                url\n",
              "0  Harford County Sheriff - Deputy Sheriffs and C...  ...  http://mgaleg.maryland.gov/2018RS/bills/hb/hb0...\n",
              "1  Creation of a State Debt - Howard County - Har...  ...  http://mgaleg.maryland.gov/2018RS/bills/hb/hb0...\n",
              "2  Creation of a State Debt – Anne Arundel County...  ...  http://mgaleg.maryland.gov/2018RS/bills/hb/hb0...\n",
              "3  Creation of a State Debt - Anne Arundel County...  ...  http://mgaleg.maryland.gov/2018RS/bills/hb/hb0...\n",
              "4  Employees' and Teachers' Retirement and Pensio...  ...  http://mgaleg.maryland.gov/2018RS/bills/sb/sb1...\n",
              "5  Corporate Income Tax - Single Sales Factor App...  ...  http://mgaleg.maryland.gov/2018RS/bills/hb/hb1...\n",
              "6  Charles County - Cigarette Retailers - County ...  ...  http://mgaleg.maryland.gov/2018RS/bills/sb/sb1...\n",
              "7                    Offshore Drilling Liability Act  ...  http://mgaleg.maryland.gov/2018RS/bills/sb/sb1...\n",
              "8  Child Abuse and Neglect - Substance-Exposed Ne...  ...  http://mgaleg.maryland.gov/2018RS/bills/hb/hb1...\n",
              "9  Education – Identification of Students With Tr...  ...  http://mgaleg.maryland.gov/2018RS/bills/hb/hb1...\n",
              "\n",
              "[10 rows x 9 columns]"
            ]
          },
          "metadata": {
            "tags": []
          },
          "execution_count": 57
        }
      ]
    },
    {
      "cell_type": "code",
      "metadata": {
        "colab": {
          "base_uri": "https://localhost:8080/"
        },
        "id": "iuaZWR5LiQAP",
        "outputId": "d6fb2a9b-1ff8-40df-b345-041a7932c03f"
      },
      "source": [
        "legal_data=clean_text(legal_df['purpose'].dropna().tolist())"
      ],
      "execution_count": null,
      "outputs": [
        {
          "output_type": "stream",
          "text": [
            "[nltk_data] Downloading package punkt to /root/nltk_data...\n",
            "[nltk_data]   Package punkt is already up-to-date!\n",
            "[nltk_data] Downloading package stopwords to /root/nltk_data...\n",
            "[nltk_data]   Package stopwords is already up-to-date!\n",
            "[nltk_data] Downloading package wordnet to /root/nltk_data...\n",
            "[nltk_data]   Package wordnet is already up-to-date!\n"
          ],
          "name": "stdout"
        }
      ]
    },
    {
      "cell_type": "code",
      "metadata": {
        "colab": {
          "base_uri": "https://localhost:8080/"
        },
        "id": "AH5nx0wDikgX",
        "outputId": "cfe6f062-ca6b-425f-dc36-bcb71d996b28"
      },
      "source": [
        "hmm_lda(legal_data)"
      ],
      "execution_count": null,
      "outputs": [
        {
          "output_type": "stream",
          "text": [
            "Topic 0 :  actual,form,surviving,revoke,minimum,control,neurological,endowment,patient,prohibition\n",
            "Topic 1 :  industrial,benefit,common,design,physical,living,address,uninsured,district,parent\n",
            "Topic 2 :  area,pipe,pending,zone,percentage,solicit,river,meet,university,organization\n",
            "Topic 3 :  deed,safety,youth,revert,high,overhead,ultimately,intentionally,finding,pornography\n",
            "Topic 4 :  abandoned,district,vacate,course,address,ecumenical,opening,authorize,appoint,missing\n",
            "Topic 5 :  annually,misconduct,related,level,contain,washington,industrial,damages,affect,crisis\n",
            "Topic 6 :  spouse,appointment,determination,congressional,proceeding,ordinary,available,foundation,standard,inspector\n",
            "Topic 7 :  platform,supplement,technology,course,gather,ad,liquor,peaceful,aggregate,month\n",
            "Topic 8 :  loss,thoroughbred,supplemental,certified,seek,another,continue,wind,reasonable,link\n",
            "Topic 9 :  appropriate,stylistic,voting,respectively,available,late,increasing,administrative,fill,cash\n",
            "Topic 10 :  campaign,framework,transport,injury,whereas,article,congress,sanitary,percentage,authorize\n",
            "Topic 11 :  lodging,teacher,must,seat,unlawful,asset,composition,implement,analyses,hold\n",
            "Topic 12 :  supervision,treatment,superintendent,complete,natural,anne,several,entering,pilot,selling\n",
            "Topic 13 :  accrue,course,employer,consumer,proclaim,company,evidence,historical,area,support\n",
            "Topic 14 :  approach,owner,wagering,severable,previously,trade,foreclosure,university,exception,correction\n",
            "Topic 15 :  polling,constitution,concerning,volume,partial,announce,religious,carry,brand,cannabis\n",
            "Topic 16 :  military,wagering,cast,submission,form,healthy,wind,collector,tourism,historical\n",
            "Topic 17 :  removal,inspector,related,human,safety,excess,machine,optometrist,institution,increasing\n",
            "Topic 18 :  length,cash,priority,participation,expire,assess,encouraging,session,enter,card\n",
            "Topic 19 :  covered,coverage,labor,assess,staff,treatment,judge,old,fraudulent,intent\n"
          ],
          "name": "stdout"
        }
      ]
    }
  ]
}