{
  "nbformat": 4,
  "nbformat_minor": 0,
  "metadata": {
    "colab": {
      "name": "relational_topic_model.ipynb",
      "provenance": [],
      "collapsed_sections": []
    },
    "kernelspec": {
      "name": "python3",
      "display_name": "Python 3"
    }
  },
  "cells": [
    {
      "cell_type": "code",
      "metadata": {
        "id": "SRjfDLjXMsQO"
      },
      "source": [
        "import pickle\n",
        "import logging\n",
        " \n",
        "import numpy as np\n",
        "import matplotlib\n",
        "import matplotlib.pyplot as plt\n",
        " \n"
      ],
      "execution_count": 1,
      "outputs": []
    },
    {
      "cell_type": "code",
      "metadata": {
        "id": "7NF1vjusNC_e",
        "colab": {
          "base_uri": "https://localhost:8080/",
          "height": 35
        },
        "outputId": "a2e2a638-72c1-4e29-e9b9-c0729a6b981e"
      },
      "source": [
        "import os\n",
        "os.getcwd()"
      ],
      "execution_count": 2,
      "outputs": [
        {
          "output_type": "execute_result",
          "data": {
            "application/vnd.google.colaboratory.intrinsic+json": {
              "type": "string"
            },
            "text/plain": [
              "'/content'"
            ]
          },
          "metadata": {
            "tags": []
          },
          "execution_count": 2
        }
      ]
    },
    {
      "cell_type": "code",
      "metadata": {
        "id": "0ws5gkGYhgJ0",
        "colab": {
          "base_uri": "https://localhost:8080/"
        },
        "outputId": "88814729-f5bc-4b3d-bd8c-c459f42b1b2c"
      },
      "source": [
        "!git clone https://github.com/dongwookim-ml/python-topic-model.git"
      ],
      "execution_count": 6,
      "outputs": [
        {
          "output_type": "stream",
          "text": [
            "Cloning into 'python-topic-model'...\n",
            "remote: Enumerating objects: 357, done.\u001b[K\n",
            "remote: Total 357 (delta 0), reused 0 (delta 0), pack-reused 357\u001b[K\n",
            "Receiving objects: 100% (357/357), 18.75 MiB | 20.00 MiB/s, done.\n",
            "Resolving deltas: 100% (181/181), done.\n"
          ],
          "name": "stdout"
        }
      ]
    },
    {
      "cell_type": "code",
      "metadata": {
        "id": "QevjXUUOh1Zj"
      },
      "source": [
        "import ptm"
      ],
      "execution_count": null,
      "outputs": []
    },
    {
      "cell_type": "code",
      "metadata": {
        "id": "t2WkQns-h4z9",
        "colab": {
          "base_uri": "https://localhost:8080/"
        },
        "outputId": "bdac2173-de74-406a-c49e-33d012633349"
      },
      "source": [
        "os.listdir()"
      ],
      "execution_count": null,
      "outputs": [
        {
          "output_type": "execute_result",
          "data": {
            "text/plain": [
              "['.config', 'python-topic-model', 'drive', 'sample_data']"
            ]
          },
          "metadata": {
            "tags": []
          },
          "execution_count": 11
        }
      ]
    },
    {
      "cell_type": "code",
      "metadata": {
        "id": "7Ko_9YeUiEZu",
        "colab": {
          "base_uri": "https://localhost:8080/"
        },
        "outputId": "c8bb6f5d-ea4a-478f-dcb2-745944c9472f"
      },
      "source": [
        "os.listdir('python-topic-model')"
      ],
      "execution_count": null,
      "outputs": [
        {
          "output_type": "execute_result",
          "data": {
            "text/plain": [
              "['.git',\n",
              " 'LICENSE',\n",
              " 'setup.py',\n",
              " 'data',\n",
              " 'notebook',\n",
              " '.gitignore',\n",
              " 'ptm',\n",
              " 'README.md']"
            ]
          },
          "metadata": {
            "tags": []
          },
          "execution_count": 13
        }
      ]
    },
    {
      "cell_type": "code",
      "metadata": {
        "id": "MVrOu5_liakK"
      },
      "source": [
        "from pythontopicmodel import ptm"
      ],
      "execution_count": null,
      "outputs": []
    },
    {
      "cell_type": "code",
      "metadata": {
        "id": "JzULEuR5esqW"
      },
      "source": [
        "from pythontopicmodel.ptm import RelationalTopicModel\n",
        "from pythontopicmodel.ptm.utils import convert_cnt_to_list, get_top_words"
      ],
      "execution_count": null,
      "outputs": []
    },
    {
      "cell_type": "code",
      "metadata": {
        "id": "xsiIBV_qzmEY"
      },
      "source": [
        "#     def fit(self, doc_ids, doc_cnt, doc_links, max_iter=100):\n",
        "#         for di in xrange(self.n_doc):\n",
        "#             unique_word = len(doc_ids[di])\n",
        "#             cnt = doc_cnt[di]\n",
        "#             self.phi.append(np.random.dirichlet([10] * self.n_topic, unique_word).T)  # list of KxW\n",
        "#             self.pi[di, :] = np.sum(cnt * self.phi[di], 1) / np.sum(cnt * self.phi[di])\n",
        "\n",
        "#         for iter in xrange(max_iter):\n",
        "#             tic = time.time()\n",
        "#             self.variation_update(doc_ids, doc_cnt, doc_links)\n",
        "#             self.parameter_estimation(doc_links)\n",
        "#             if self.verbose:\n",
        "#                 elbo = self.compute_elbo(doc_ids, doc_cnt, doc_links)\n",
        "#                 logger.info('[ITER] %3d,\\tElapsed time: %.3f\\tELBO: %.3f', iter, time.time()-tic, elbo)"
      ],
      "execution_count": null,
      "outputs": []
    },
    {
      "cell_type": "code",
      "metadata": {
        "id": "YX9IE1Aszj_1"
      },
      "source": [
        "#     def compute_elbo(self, doc_ids, doc_cnt, doc_links):\n",
        "#         \"\"\" compute evidence lower bound for trained model\n",
        "#         \"\"\"\n",
        "#         elbo = 0\n",
        "\n",
        "#         e_log_theta = psi(self.gamma) - psi(np.sum(self.gamma, 1))[:, np.newaxis]  # D x K\n",
        "#         log_beta = np.log(self.beta + eps)\n",
        "\n",
        "#         for di in xrange(self.n_doc):\n",
        "#             words = doc_ids[di]\n",
        "#             cnt = doc_cnt[di]\n",
        "\n",
        "#             elbo += np.sum(cnt * (self.phi[di] * log_beta[:, words]))  # E_q[log p(w_{d,n}|\\beta,z_{d,n})]\n",
        "#             elbo += np.sum((self.alpha - 1.) * e_log_theta[di, :])  # E_q[log p(\\theta_d | alpha)]\n",
        "#             elbo += np.sum(self.phi[di].T * e_log_theta[di, :])  # E_q[log p(z_{d,n}|\\theta_d)]\n",
        "\n",
        "#             elbo += -gammaln(np.sum(self.gamma[di, :])) + np.sum(gammaln(self.gamma[di, :])) \\\n",
        "#                     - np.sum((self.gamma[di, :] - 1.) * (e_log_theta[di, :]))  # - E_q[log q(theta|gamma)]\n",
        "#             elbo += - np.sum(cnt * self.phi[di] * np.log(self.phi[di]))  # - E_q[log q(z|phi)]\n",
        "\n",
        "#             for adi in doc_links[di]:\n",
        "#                 elbo += np.dot(self.eta,\n",
        "#                                self.pi[di] * self.pi[adi]) + self.nu  # E_q[log p(y_{d1,d2}|z_{d1},z_{d2},\\eta,\\nu)]\n",
        "\n",
        "#         return elbo"
      ],
      "execution_count": null,
      "outputs": []
    },
    {
      "cell_type": "code",
      "metadata": {
        "id": "LC9Kz7L0zh5_"
      },
      "source": [
        "#     def variation_update(self, doc_ids, doc_cnt, doc_links):\n",
        "#         # update phi, gamma\n",
        "#         e_log_theta = psi(self.gamma) - psi(np.sum(self.gamma, 1))[:, np.newaxis]\n",
        "\n",
        "#         new_beta = np.zeros([self.n_topic, self.n_voca])\n",
        "\n",
        "#         for di in xrange(self.n_doc):\n",
        "#             words = doc_ids[di]\n",
        "#             cnt = doc_cnt[di]\n",
        "#             doc_len = np.sum(cnt)\n",
        "\n",
        "#             new_phi = np.log(self.beta[:, words] + eps) + e_log_theta[di, :][:, np.newaxis]\n",
        "\n",
        "#             gradient = np.zeros(self.n_topic)\n",
        "#             for ai in doc_links[di]:\n",
        "#                 gradient += self.eta * self.pi[ai, :] / doc_len\n",
        "\n",
        "#             new_phi += gradient[:, np.newaxis]\n",
        "#             new_phi = np.exp(new_phi)\n",
        "#             new_phi = new_phi / np.sum(new_phi, 0)\n",
        "\n",
        "#             self.phi[di] = new_phi\n",
        "\n",
        "#             self.pi[di, :] = np.sum(cnt * self.phi[di], 1) / np.sum(cnt * self.phi[di])\n",
        "#             self.gamma[di, :] = np.sum(cnt * self.phi[di], 1) + self.alpha\n",
        "#             new_beta[:, words] += (cnt * self.phi[di])\n",
        "\n",
        "#         self.beta = new_beta / np.sum(new_beta, 1)[:, np.newaxis]\n"
      ],
      "execution_count": null,
      "outputs": []
    },
    {
      "cell_type": "code",
      "metadata": {
        "id": "6-i-q1ETzelb"
      },
      "source": [
        "#     def parameter_estimation(self, doc_links):\n",
        "#         # update eta, nu\n",
        "#         pi_sum = np.zeros(self.n_topic)\n",
        "\n",
        "#         num_links = 0.\n",
        "\n",
        "#         for di in xrange(self.n_doc):\n",
        "#             for adi in doc_links[di]:\n",
        "#                 pi_sum += self.pi[di, :] * self.pi[adi, :]\n",
        "#                 num_links += 1\n",
        "\n",
        "#         num_links /= 2.  # divide by 2 for bidirectional edge\n",
        "#         pi_sum /= 2.\n",
        "\n",
        "#         pi_alpha = np.zeros(self.n_topic) + self.alpha / (self.alpha * self.n_topic) * self.alpha / (self.alpha * self.n_topic)\n",
        "\n",
        "#         self.nu = np.log(num_links - np.sum(pi_sum)) - np.log(\n",
        "#             self.rho * (self.n_topic - 1) / self.n_topic + num_links - np.sum(pi_sum))\n",
        "#         self.eta = np.log(pi_sum) - np.log(pi_sum + self.rho * pi_alpha) - self.nu"
      ],
      "execution_count": null,
      "outputs": []
    },
    {
      "cell_type": "code",
      "metadata": {
        "id": "u8AiFF-0zckI"
      },
      "source": [
        "#     def save_model(self, output_directory, vocab=None):\n",
        "#         import os\n",
        "#         if not os.path.exists(output_directory):\n",
        "#             os.mkdir(output_directory)\n",
        "\n",
        "#         np.savetxt(output_directory + '/eta.txt', self.eta, delimiter='\\t')\n",
        "#         np.savetxt(output_directory + '/beta.txt', self.beta, delimiter='\\t')\n",
        "#         np.savetxt(output_directory + '/gamma.txt', self.gamma, delimiter='\\t')\n",
        "#         with open(output_directory + '/nu.txt', 'w') as f:\n",
        "#             f.write('%f\\n' % self.nu)\n",
        "\n",
        "#         if vocab is not None:\n",
        "#             write_top_words(self.beta, vocab, output_directory + '/top_words.csv')\n"
      ],
      "execution_count": null,
      "outputs": []
    },
    {
      "cell_type": "code",
      "metadata": {
        "id": "VcVH-Ua7fq-c"
      },
      "source": [
        "logger = logging.getLogger('RelationalTopicModel')\n",
        "logger.propagate=False\n",
        "\n",
        "%matplotlib inline"
      ],
      "execution_count": null,
      "outputs": []
    },
    {
      "cell_type": "code",
      "metadata": {
        "id": "J9bDwo64gAZ-"
      },
      "source": [
        "doc_ids = pickle.load(open('/content/python-topic-model/data/cora/doc_ids.pkl', 'rb'))\n",
        "doc_cnt = pickle.load(open('/content/python-topic-model/data/cora/doc_cnt.pkl', 'rb'))\n",
        "doc_links = pickle.load(open('/content/python-topic-model/data/cora/doc_links_sym.pkl', 'rb'))\n",
        "voca = pickle.load(open('/content/python-topic-model/data/cora/voca.pkl', 'rb'))"
      ],
      "execution_count": 9,
      "outputs": []
    },
    {
      "cell_type": "code",
      "metadata": {
        "colab": {
          "base_uri": "https://localhost:8080/"
        },
        "id": "bzms_6Z2xV9g",
        "outputId": "905b70da-e884-42fa-f569-39682d77c5aa"
      },
      "source": [
        "len(doc_links)"
      ],
      "execution_count": 14,
      "outputs": [
        {
          "output_type": "execute_result",
          "data": {
            "text/plain": [
              "13147"
            ]
          },
          "metadata": {
            "tags": []
          },
          "execution_count": 14
        }
      ]
    },
    {
      "cell_type": "code",
      "metadata": {
        "id": "mW4szGGgv307"
      },
      "source": [
        "n_doc = len(doc_ids)\n",
        "n_topic = 10\n",
        "n_voca = len(voca)\n",
        "max_iter = 50"
      ],
      "execution_count": null,
      "outputs": []
    },
    {
      "cell_type": "code",
      "metadata": {
        "id": "uvUroUhnwLn0",
        "colab": {
          "base_uri": "https://localhost:8080/"
        },
        "outputId": "0dc6a7b2-8d7c-43e9-bfe9-966530d35adc"
      },
      "source": [
        "model = RelationalTopicModel(n_topic, n_doc, n_voca, verbose=True)\n",
        "model.fit(doc_ids, doc_cnt, doc_links, max_iter=max_iter)"
      ],
      "execution_count": null,
      "outputs": [
        {
          "output_type": "stream",
          "text": [
            "2020-11-08 02:52:13 INFO:RelationalTopicModel:Initialize RTM: num_voca:17059, num_topic:10, num_doc:13147\n",
            "2020-11-08 02:52:18 INFO:RelationalTopicModel:[ITER]   0,\tElapsed time: 4.510\tELBO: -7558288.201\n",
            "2020-11-08 02:52:23 INFO:RelationalTopicModel:[ITER]   1,\tElapsed time: 4.514\tELBO: -7556048.516\n",
            "2020-11-08 02:52:27 INFO:RelationalTopicModel:[ITER]   2,\tElapsed time: 4.492\tELBO: -7554126.601\n",
            "2020-11-08 02:52:32 INFO:RelationalTopicModel:[ITER]   3,\tElapsed time: 4.527\tELBO: -7551822.870\n",
            "2020-11-08 02:52:37 INFO:RelationalTopicModel:[ITER]   4,\tElapsed time: 4.506\tELBO: -7548381.234\n",
            "2020-11-08 02:52:41 INFO:RelationalTopicModel:[ITER]   5,\tElapsed time: 4.498\tELBO: -7543005.584\n",
            "2020-11-08 02:52:46 INFO:RelationalTopicModel:[ITER]   6,\tElapsed time: 4.500\tELBO: -7535108.203\n",
            "2020-11-08 02:52:50 INFO:RelationalTopicModel:[ITER]   7,\tElapsed time: 4.454\tELBO: -7524580.960\n",
            "2020-11-08 02:52:55 INFO:RelationalTopicModel:[ITER]   8,\tElapsed time: 4.581\tELBO: -7511770.503\n",
            "2020-11-08 02:52:59 INFO:RelationalTopicModel:[ITER]   9,\tElapsed time: 4.521\tELBO: -7497331.144\n",
            "2020-11-08 02:53:04 INFO:RelationalTopicModel:[ITER]  10,\tElapsed time: 4.489\tELBO: -7482032.767\n",
            "2020-11-08 02:53:08 INFO:RelationalTopicModel:[ITER]  11,\tElapsed time: 4.531\tELBO: -7466734.724\n",
            "2020-11-08 02:53:13 INFO:RelationalTopicModel:[ITER]  12,\tElapsed time: 4.447\tELBO: -7452180.140\n",
            "2020-11-08 02:53:17 INFO:RelationalTopicModel:[ITER]  13,\tElapsed time: 4.474\tELBO: -7438899.444\n",
            "2020-11-08 02:53:21 INFO:RelationalTopicModel:[ITER]  14,\tElapsed time: 4.461\tELBO: -7427185.345\n",
            "2020-11-08 02:53:26 INFO:RelationalTopicModel:[ITER]  15,\tElapsed time: 4.476\tELBO: -7417171.644\n",
            "2020-11-08 02:53:31 INFO:RelationalTopicModel:[ITER]  16,\tElapsed time: 4.595\tELBO: -7408865.708\n",
            "2020-11-08 02:53:35 INFO:RelationalTopicModel:[ITER]  17,\tElapsed time: 4.454\tELBO: -7402108.702\n",
            "2020-11-08 02:53:40 INFO:RelationalTopicModel:[ITER]  18,\tElapsed time: 4.589\tELBO: -7396683.508\n",
            "2020-11-08 02:53:44 INFO:RelationalTopicModel:[ITER]  19,\tElapsed time: 4.483\tELBO: -7392396.504\n",
            "2020-11-08 02:53:49 INFO:RelationalTopicModel:[ITER]  20,\tElapsed time: 4.530\tELBO: -7389070.913\n",
            "2020-11-08 02:53:53 INFO:RelationalTopicModel:[ITER]  21,\tElapsed time: 4.482\tELBO: -7386560.334\n",
            "2020-11-08 02:53:58 INFO:RelationalTopicModel:[ITER]  22,\tElapsed time: 4.509\tELBO: -7384733.454\n",
            "2020-11-08 02:54:02 INFO:RelationalTopicModel:[ITER]  23,\tElapsed time: 4.512\tELBO: -7383448.496\n",
            "2020-11-08 02:54:07 INFO:RelationalTopicModel:[ITER]  24,\tElapsed time: 4.561\tELBO: -7382568.574\n",
            "2020-11-08 02:54:11 INFO:RelationalTopicModel:[ITER]  25,\tElapsed time: 4.589\tELBO: -7382041.753\n",
            "2020-11-08 02:54:16 INFO:RelationalTopicModel:[ITER]  26,\tElapsed time: 4.499\tELBO: -7381795.257\n",
            "2020-11-08 02:54:20 INFO:RelationalTopicModel:[ITER]  27,\tElapsed time: 4.472\tELBO: -7381770.378\n",
            "2020-11-08 02:54:25 INFO:RelationalTopicModel:[ITER]  28,\tElapsed time: 4.495\tELBO: -7381910.597\n",
            "2020-11-08 02:54:29 INFO:RelationalTopicModel:[ITER]  29,\tElapsed time: 4.523\tELBO: -7382175.345\n",
            "2020-11-08 02:54:34 INFO:RelationalTopicModel:[ITER]  30,\tElapsed time: 4.509\tELBO: -7382526.896\n",
            "2020-11-08 02:54:38 INFO:RelationalTopicModel:[ITER]  31,\tElapsed time: 4.567\tELBO: -7382960.082\n",
            "2020-11-08 02:54:43 INFO:RelationalTopicModel:[ITER]  32,\tElapsed time: 4.599\tELBO: -7383451.806\n",
            "2020-11-08 02:54:48 INFO:RelationalTopicModel:[ITER]  33,\tElapsed time: 4.799\tELBO: -7383973.992\n",
            "2020-11-08 02:54:52 INFO:RelationalTopicModel:[ITER]  34,\tElapsed time: 4.537\tELBO: -7384538.931\n",
            "2020-11-08 02:54:57 INFO:RelationalTopicModel:[ITER]  35,\tElapsed time: 4.569\tELBO: -7385130.769\n",
            "2020-11-08 02:55:01 INFO:RelationalTopicModel:[ITER]  36,\tElapsed time: 4.480\tELBO: -7385751.961\n",
            "2020-11-08 02:55:06 INFO:RelationalTopicModel:[ITER]  37,\tElapsed time: 4.551\tELBO: -7386399.420\n",
            "2020-11-08 02:55:10 INFO:RelationalTopicModel:[ITER]  38,\tElapsed time: 4.474\tELBO: -7387047.961\n",
            "2020-11-08 02:55:15 INFO:RelationalTopicModel:[ITER]  39,\tElapsed time: 4.523\tELBO: -7387695.575\n",
            "2020-11-08 02:55:19 INFO:RelationalTopicModel:[ITER]  40,\tElapsed time: 4.561\tELBO: -7388339.906\n",
            "2020-11-08 02:55:24 INFO:RelationalTopicModel:[ITER]  41,\tElapsed time: 4.751\tELBO: -7388971.835\n",
            "2020-11-08 02:55:29 INFO:RelationalTopicModel:[ITER]  42,\tElapsed time: 4.684\tELBO: -7389584.895\n",
            "2020-11-08 02:55:34 INFO:RelationalTopicModel:[ITER]  43,\tElapsed time: 4.608\tELBO: -7390181.417\n",
            "2020-11-08 02:55:38 INFO:RelationalTopicModel:[ITER]  44,\tElapsed time: 4.570\tELBO: -7390759.935\n",
            "2020-11-08 02:55:43 INFO:RelationalTopicModel:[ITER]  45,\tElapsed time: 4.494\tELBO: -7391317.681\n",
            "2020-11-08 02:55:47 INFO:RelationalTopicModel:[ITER]  46,\tElapsed time: 4.596\tELBO: -7391864.751\n",
            "2020-11-08 02:55:52 INFO:RelationalTopicModel:[ITER]  47,\tElapsed time: 4.466\tELBO: -7392402.125\n",
            "2020-11-08 02:55:56 INFO:RelationalTopicModel:[ITER]  48,\tElapsed time: 4.501\tELBO: -7392919.472\n",
            "2020-11-08 02:56:01 INFO:RelationalTopicModel:[ITER]  49,\tElapsed time: 4.516\tELBO: -7393427.794\n"
          ],
          "name": "stderr"
        }
      ]
    },
    {
      "cell_type": "code",
      "metadata": {
        "id": "4GxSiGl2wODo",
        "colab": {
          "base_uri": "https://localhost:8080/"
        },
        "outputId": "17a8f327-cf55-4f0f-e009-a00fdfbd9a45"
      },
      "source": [
        "for k in range(n_topic):\n",
        "    top_words = get_top_words(model.beta, voca, k, 10)\n",
        "    print('Topic', k, ':', ','.join(top_words))"
      ],
      "execution_count": null,
      "outputs": [
        {
          "output_type": "stream",
          "text": [
            "Topic 0 : algorithm,time,problem,graph,tree,show,bound,result,class,network\n",
            "Topic 1 : model,system,simulation,time,paper,performance,using,speech,result,dynamic\n",
            "Topic 2 : image,robot,object,system,research,model,control,paper,part,motion\n",
            "Topic 3 : system,language,design,software,agent,paper,application,model,information,user\n",
            "Topic 4 : constraint,problem,paper,research,method,type,theory,science,document,reasoning\n",
            "Topic 5 : learning,algorithm,network,problem,method,approach,rule,paper,data,task\n",
            "Topic 6 : performance,data,parallel,memory,system,program,application,communication,paper,network\n",
            "Topic 7 : query,program,system,database,logic,model,language,technique,data,paper\n",
            "Topic 8 : algorithm,problem,method,solution,function,result,paper,matrix,using,space\n",
            "Topic 9 : network,protocol,service,application,control,system,resource,packet,paper,traffic\n"
          ],
          "name": "stdout"
        }
      ]
    }
  ]
}